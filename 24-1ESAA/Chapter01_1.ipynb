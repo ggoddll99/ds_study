{
  "nbformat": 4,
  "nbformat_minor": 0,
  "metadata": {
    "colab": {
      "provenance": [],
      "include_colab_link": true
    },
    "kernelspec": {
      "name": "python3",
      "display_name": "Python 3"
    },
    "language_info": {
      "name": "python"
    }
  },
  "cells": [
    {
      "cell_type": "markdown",
      "metadata": {
        "id": "view-in-github",
        "colab_type": "text"
      },
      "source": [
        "<a href=\"https://colab.research.google.com/github/ggoddll99/ds_study/blob/main/Chapter01_1.ipynb\" target=\"_parent\"><img src=\"https://colab.research.google.com/assets/colab-badge.svg\" alt=\"Open In Colab\"/></a>"
      ]
    },
    {
      "cell_type": "markdown",
      "source": [
        "**마크다운**\n",
        "* '#' : CHAPTER\n",
        "* '##' : 소제목 (01.~)\n",
        "* '###' 볼드체\n",
        "* '####' 갈색 글씨"
      ],
      "metadata": {
        "id": "w0GxKkICkjBJ"
      }
    },
    {
      "cell_type": "markdown",
      "source": [
        "# CHAPTER 01. 파이썬 기반의 머신러닝과 생태계 이해"
      ],
      "metadata": {
        "id": "2WYCPblgjjpy"
      }
    },
    {
      "cell_type": "markdown",
      "source": [
        "## 01. 머신러닝의 개념"
      ],
      "metadata": {
        "id": "b7PqH3RLjpC6"
      }
    },
    {
      "cell_type": "markdown",
      "source": [
        "### 머신러닝의 분류\n",
        "일반적으로 머신러닝은 지도학습과 비지도학습, 강화학습으로 나뉜다. 지도학습의 대표적인 머신러닝은 분류와 회귀로 나눌 수 있다."
      ],
      "metadata": {
        "id": "76P64VqUkEpw"
      }
    },
    {
      "cell_type": "markdown",
      "source": [
        "#### 지도학습\n",
        "* 분류\n",
        "* 회귀\n",
        "* 추천 시스템\n",
        "* 시각/음성 감지/인지\n",
        "* 텍스트 분석, NLP\n",
        "\n",
        "#### 비지도학습\n",
        "* 클러스터링\n",
        "* 차원 축소\n",
        "* 강화학습"
      ],
      "metadata": {
        "id": "FNvk77VLkOEG"
      }
    },
    {
      "cell_type": "markdown",
      "source": [
        "### 데이터 전쟁\n",
        "**머신러닝의 가장 큰 단점은 데이터에 매우 의존적이라는 것이다.** 좋은 품질의 데이터를 갖추지 못한다면 머신러닝의 수행 결과도 좋을 수 없다. 머신러닝을 이용해 데이터만 집어넣으면 자동으로 최적화된 결과를 도출할 거라는 믿음은 환상이다. 특정 경우에는 개발자가 직접 만든 코드보다 정확도가 떨어질 수도 있다.\n",
        "\n",
        "머신러닝 모델을 개선하기 위해서는 많은 노력이 필요하다. 이를 위해서 최적의 머신러닝 알고리즘과 모델 파라미터를 구축하는 능력도 중요하지만 데이터를 이해하고 효율적으로 가공, 처리, 추출해 최적의 데이터를 기반으로 알고리즘을 구동할 수 있도록 준비하는 능력에 더 중요할 수 있다."
      ],
      "metadata": {
        "id": "HQxFj_9Bkg2n"
      }
    },
    {
      "cell_type": "markdown",
      "source": [
        "## 02. 파이썬 머신러닝 생태계를 구성하는 주요 패키지"
      ],
      "metadata": {
        "id": "-TkKVDaKlUhm"
      }
    },
    {
      "cell_type": "markdown",
      "source": [
        "* 머신러닝 패키지 : 사이킷런(Scikit-Learn)\n",
        "* 행렬/선형대수/통계 패키지 : 넘파이(NumPy), 사이파이(SciPy)\n",
        "* 데이터 핸들링 : 판다스\n",
        "* 시각화 : 맷플롯립, 시본(Seaborn)"
      ],
      "metadata": {
        "id": "sT9gtWixltfG"
      }
    },
    {
      "cell_type": "markdown",
      "source": [
        "### 파이썬 머신러닝을 위한 S/W 설치\n",
        "머신러닝 애플리케이션을 파이썬으로 개발한다면 대부분의 코드는 **사이킷런의 머신러닝 알고리즘에 입력하기 위한 데이터의 추출/가공/변형, 원하는 차원 배열로의 변환을 포함해 머신러닝 알고리즘 처리 결과에 대한 다양한 가공 등**으로 구성될 것이다. 이 같은 데이터 처리 부분은 대부분 **넘파이와 판다스**의 몫이다. 의외로 사이킷런의 API 코드는 전체 코드에서 차지하는 부분이 크지 않은 경우가 많다. 뿐만 아니라 사이킷런이 넘파이 기반에서 작성됐기 때문에 넘파이의 기본 프레임워크를 이해하지 못하면 사이킷런 역시 실제 구현에서 많은 벽에 부딪힐 수 있다."
      ],
      "metadata": {
        "id": "s7b6ezAnpiRc"
      }
    },
    {
      "cell_type": "markdown",
      "source": [
        "## 03. 넘파이"
      ],
      "metadata": {
        "id": "NhG1ZyJRqI8r"
      }
    },
    {
      "cell_type": "markdown",
      "source": [
        "**머신러닝의 주요 알고리즘은 선형대수와 통계 등에 기반한다.** 특히 선형대수는 수학뿐만 아니라 다른 영역의 자연과학, 공학에서 널리 사용되고 있다. 넘파이는 파이썬에서 선형대수 기반의 프로그램을 쉽게 만들 수 있도록 지원하는 대표적인 패키지이다. 루프를 사용하지 않고 대량 데이터의 배열 연산을 가능하게 하므로 빠른 배열 연산 속도를 보장한다. 대량 데이터 기반의 과학과 공학 프로그램은 빠른 계산 능력이 매우 중요하다. 때문에 파이썬 기반의 많은 과학과 공학 패키지는 넘파이에 의존하고 있다.\n",
        "\n",
        "넘파이는 또한 C/C++과 같은 저수준 언어 기반의 호환 API를 제공한다. 기존 C/C++ 기반의 타프로그램과 데이터를 주고받거나 API를 호출해 쉽게 통합할 수 있는 기능을 제공한다. 넘파이는 매우 빠른 배열 연산을 보장해 주지만, 파이썬 언어 자체가 가지는 수행 성능의 제약이 있으므로 수행 성능이 매우 중요한 부분은 C/C++ 기반의 코드로 작성하고 이를 넘파이에서 호출하는 방식으로 쉽게 통합할 수 있다. 구글의 대표적인 딥러닝 프레임워크인 텐서플로는 이러한 방식으로 배열 연산 수행 속도를 개선하고 넘파이와도 호환될 수 있게 작성됐다.\n",
        "\n",
        "**넘파이를 이해하는 것은 파이썬 기반의 머신러닝에서 매우 중요하다.** 많은 머신러닝 알고리즘이 넘파이 기반으로 작성돼 있음은 물론이고, 이들 알고리즘의 입력 데이터와 출력 데이터를 넘파이 배열 타입으로 사용하기 때문이다. 또한 넘파이가 배열을 다루는 기본 방식을 이해하는 것은 다른 데이터 핸들링 패키지, 예를 들어 판다스를 이해하는 데도 많은 도움이 된다."
      ],
      "metadata": {
        "id": "6J0pYMSjtqjn"
      }
    },
    {
      "cell_type": "markdown",
      "source": [
        "### 넘파이 ndarray 개요"
      ],
      "metadata": {
        "id": "02wN2ELku-lZ"
      }
    },
    {
      "cell_type": "code",
      "source": [
        "import numpy as np"
      ],
      "metadata": {
        "id": "Hy-kSqAPqIVi"
      },
      "execution_count": null,
      "outputs": []
    },
    {
      "cell_type": "markdown",
      "source": [
        "넘파이의 기반 데이터 타입은 **ndarray**이다.\n",
        "\n",
        "ndarray를 이용해 넘파이에서 다차원 배열을 쉽게 생성하고 다양한 연산을 수행할 수 있다."
      ],
      "metadata": {
        "id": "wbU0CdIUvJeb"
      }
    },
    {
      "cell_type": "markdown",
      "source": [
        "넘파이 array() 함수는 파이썬의 리스트와 같은 다양한 인자를 입력 받아서 ndarray로 변환하는 기능을 수행한다.\n",
        "\n",
        "생성된 ndarray 배열의 **shap** 변수는 ndarray의 크기, 즉 행과 열의 수를 튜플 형태로 가지고 있으며 이를 통해 ndarray 배열의 차원까지 알 수 있다."
      ],
      "metadata": {
        "id": "cXqKJUv8vYFd"
      }
    },
    {
      "cell_type": "code",
      "execution_count": null,
      "metadata": {
        "colab": {
          "base_uri": "https://localhost:8080/"
        },
        "id": "2xSISQVDjDeU",
        "outputId": "1317b002-a6b1-43a1-b3a6-27bb9c64b917"
      },
      "outputs": [
        {
          "output_type": "stream",
          "name": "stdout",
          "text": [
            "array1 type: <class 'numpy.ndarray'>\n",
            "array1 array 형태: (3,)\n",
            "array2 type: <class 'numpy.ndarray'>\n",
            "array2 array 형태: (2, 3)\n",
            "array3 type: <class 'numpy.ndarray'>\n",
            "array3 array 형태: (1, 3)\n"
          ]
        }
      ],
      "source": [
        "array1=np.array([1, 2, 3])\n",
        "print('array1 type:', type(array1))\n",
        "print('array1 array 형태:', array1.shape)\n",
        "\n",
        "array2=np.array([[1, 2, 3],\n",
        "                 [2, 3, 4]])\n",
        "print('array2 type:', type(array2))\n",
        "print('array2 array 형태:', array2.shape)\n",
        "\n",
        "array3=np.array([[1, 2, 3]])\n",
        "print('array3 type:', type(array3))\n",
        "print('array3 array 형태:', array3.shape)"
      ]
    },
    {
      "cell_type": "markdown",
      "source": [
        "**np.array() 사용법**\n",
        "\n",
        "ndarray로 변환을 원하는 객체를 인자로 입력하면 ndarray를 반환한다. ndarray.shape은 ndarray의 차원과 크기를 튜플 형태로 나타내 준다.\n",
        "\n",
        "[1, 2, 3]인 array1의 shape은 (3,)이다. 이는 1차원 array로 3개의 데이터를 가지고 있음을 뜻한다.\n",
        "\n",
        "[[1, 2, 3], [2, 3, 4]]인 array2의 shape은 (2,3)이다. 이는 2차원 array로, 2개의 로우와 3개의 칼럼으로 구성되어 2*3=6개의 데이터를 가지고 있음을 뜻한다.\n",
        "\n",
        "[[1, 2, 3]]인 array3의 shape은 (1,3)이다. 이는 1개의 로우와 3개의 칼럼으로 구성된 2차원 데이터를 의미한다.\n",
        "\n",
        "**주의**   \n",
        "array3은 array1과 동일한 데이터 건수를 가지고 있지만, array1은 명확하게 1차원임을 (3,) 형태로 표현한 것이며, array3 역시 명확하게 로우와 칼럼으로 이뤄진 2차원 데이터임을 (1,3)으로 표현한 것이다."
      ],
      "metadata": {
        "id": "6KEMk9oBweu6"
      }
    },
    {
      "cell_type": "code",
      "source": [
        "print('array1: {:0}차원, array2: {:1}차원, array3: {:2}차원'.format(array1.ndim,\n",
        "                                                              array2.ndim, array3.ndim))"
      ],
      "metadata": {
        "colab": {
          "base_uri": "https://localhost:8080/"
        },
        "id": "I2Hh9DuS1ivR",
        "outputId": "5eb6c4b9-5c37-4645-ee47-bd9312aaa343"
      },
      "execution_count": null,
      "outputs": [
        {
          "output_type": "stream",
          "name": "stdout",
          "text": [
            "array1: 1차원, array2: 2차원, array3:  2차원\n"
          ]
        }
      ]
    },
    {
      "cell_type": "markdown",
      "source": [
        "array1은 1차원, array3은 2차원임을 알 수 있다.\n",
        "\n",
        "array() 함수의 인자로는 파이썬의 리스트 객체가 주로 사용된다. 리스트 []는 1차원이고, 리스트의 리스트 [[]]는 2차원과 같은 형태로 배열의 차원과 크기를 쉽게 표현할 수 있기 때문이다."
      ],
      "metadata": {
        "id": "QYl4e_Aj2Ky5"
      }
    },
    {
      "cell_type": "markdown",
      "source": [
        "### ndarray의 데이터 타입"
      ],
      "metadata": {
        "id": "7OawJrH-2eJU"
      }
    },
    {
      "cell_type": "markdown",
      "source": [
        "ndarray 내의 데이터값은 **숫자 값, 문자열 값, 불 값 등이 모두 가능**하다. 숫자형의 경우 int형(8bit, 16bit, 32bit), unsigned int형(8bit, 16bit, 32bit), float형(16bit, 32bit, 64bit, 128bit), 그리고 이보다 더 큰 숫자 값이나 정밀도를 위해 complex 타입도 제공한다.\n",
        "\n",
        "ndarray 내의 데이터 타입은 **그 연산의 특성상 같은 데이터 타입만 가능**하다. 즉, 한 개의 ndarray 객체에 int와 float이 함께 있을 수 없다. ndarray 내의 데이터 타입은 dtype 속성으로 확인할 수 있다."
      ],
      "metadata": {
        "id": "4BtcSRDc2_dy"
      }
    },
    {
      "cell_type": "code",
      "source": [
        "list1=[1, 2, 3]\n",
        "print(type(list1))\n",
        "array1=np.array(list1)\n",
        "print(type(array1))\n",
        "print(array1, array1.dtype)"
      ],
      "metadata": {
        "colab": {
          "base_uri": "https://localhost:8080/"
        },
        "id": "JHicYlrN2-dH",
        "outputId": "50f0f999-33fd-4acc-e0f8-4417f35f11a1"
      },
      "execution_count": null,
      "outputs": [
        {
          "output_type": "stream",
          "name": "stdout",
          "text": [
            "<class 'list'>\n",
            "<class 'numpy.ndarray'>\n",
            "[1 2 3] int64\n"
          ]
        }
      ]
    },
    {
      "cell_type": "markdown",
      "source": [
        "리스트 자료형인 list1은 integer 숫자인 1, 2, 3을 값으로 가지고 있으며, 이를 ndarray로 쉽게 변경할 수 있다. 이렇게 변경된 ndarray 내의 데이터 값은 모두 int32형이다.\n",
        "\n",
        "만약 다른 데이터 유형이 섞여 있는 리스트를 ndarray로 변경하면 **데이터 크기가 더 큰 데이터 타입으로 형 변환을 일괄 적용**한다."
      ],
      "metadata": {
        "id": "TAgtdzz-3ph1"
      }
    },
    {
      "cell_type": "markdown",
      "source": [
        "* int형과 string형이 섞여 있는 리스트와 int형과 float형이 섞여 있는 리스트를 ndarray로 변경했을 때"
      ],
      "metadata": {
        "id": "hiXrqjx-5ouW"
      }
    },
    {
      "cell_type": "code",
      "source": [
        "list2=[1, 2, 'test']\n",
        "array2=np.array(list2)\n",
        "print(array2, array2.dtype)\n",
        "\n",
        "list3=[1, 2, 3.0]\n",
        "array3=np.array(list3)\n",
        "print(array3, array3.dtype)"
      ],
      "metadata": {
        "colab": {
          "base_uri": "https://localhost:8080/"
        },
        "id": "33J5vTDt4DfZ",
        "outputId": "9c347f53-8509-4c26-9fc6-f1e5e5782b66"
      },
      "execution_count": null,
      "outputs": [
        {
          "output_type": "stream",
          "name": "stdout",
          "text": [
            "['1' '2' 'test'] <U21\n",
            "[1. 2. 3.] float64\n"
          ]
        }
      ]
    },
    {
      "cell_type": "markdown",
      "source": [
        "int형 값과 문자열이 섞여 있는 list2를 ndarray로 변환한 array2는 숫자형 값 1, 2가 모두 문자열 값인 '1', '2'로 변환됐다. 이처럼 ndarray는 데이터 값이 모두 같은 데이터 타입이어야 하므로 서로 다른 데이터 타입이 섞여 있을 경우 데이터 타입이 더 큰 데이터 타입으로 변환되어 int형이 유니코드 문자열 값으로 변환됐다. int형과 float형이 섞여 있는 list3의 경우도 int 1, 2가 모두 1., 2.인 float64형으로 변환됐다."
      ],
      "metadata": {
        "id": "1Dwd6IK54dh2"
      }
    },
    {
      "cell_type": "markdown",
      "source": [
        "ndarray 내 데이터값의 타입 변경도 astype() 메서드를 이용해 할 수 있다. astype()에 인자로 원하는 타입을 문자열로 지정하면 된다. 이렇게 데이터 타입을 변경하는 경우는 대용량 데이터의 ndarray를 만들 때 많은 메모리가 사용되는데, **메모리를 더 절약해야 할 때 보통 이용된다.** 가령 int형으로 충분한 경우인데, 데이터 타입이 float이라면 int형으로 바꿔서 메모리를 절약할 수 있다."
      ],
      "metadata": {
        "id": "8k5_yG1e5DC0"
      }
    },
    {
      "cell_type": "markdown",
      "source": [
        "* int32형 데이터를 float64로 변환하고, 다시 float64를 int32로 변경한다. float을 int형으로 변경할 때 소수점 이하는 당연히 모두 없어진다."
      ],
      "metadata": {
        "id": "CogH1stM5aOY"
      }
    },
    {
      "cell_type": "code",
      "source": [
        "array_int=np.array([1, 2, 3])\n",
        "array_float=array_int.astype('float64')\n",
        "print(array_float, array_float.dtype)\n",
        "\n",
        "array_int1=array_float.astype('int32')\n",
        "print(array_int1, array_int1.dtype)\n",
        "\n",
        "array_float1=np.array([1.1, 2.1, 3.1])\n",
        "array_int2=array_float1.astype('int32')\n",
        "print(array_int2, array_int.dtype)"
      ],
      "metadata": {
        "colab": {
          "base_uri": "https://localhost:8080/"
        },
        "id": "sNarpw7Y5m0b",
        "outputId": "7796d9bb-82c5-457f-c631-bb43b6be87b4"
      },
      "execution_count": null,
      "outputs": [
        {
          "output_type": "stream",
          "name": "stdout",
          "text": [
            "[1. 2. 3.] float64\n",
            "[1 2 3] int32\n",
            "[1 2 3] int64\n"
          ]
        }
      ]
    },
    {
      "cell_type": "markdown",
      "source": [
        "### ndarray를 편리하게 생성하기 - arange, zeros, ones"
      ],
      "metadata": {
        "id": "y6Kmwq1n6PLK"
      }
    },
    {
      "cell_type": "markdown",
      "source": [
        "특정 크기와 차원을 가진 ndarray를 연속값이나 0 또는 1로 초기화해 쉽게 생성해야 할 필요가 있는 경우가 발생할 수 있다. 이 경우 arange(), zeros(), ones()를 이용해 쉽게 ndarray를 생성할 수 있다. 주로 테스트용 데이터를 만들거나 대규모의 데이터를 일괄적으로 초기화해야 할 경우 사용된다."
      ],
      "metadata": {
        "id": "be-8mq2o6Uq8"
      }
    },
    {
      "cell_type": "markdown",
      "source": [
        "* arange() : 함수 이름에서 알 수 있듯이 파이썬 표준 함수인 range()와 유사한 기능을 한다. 쉽게 생각하면 array를 range()로 표현하는 것이다. 0부터 함수 인자 값 -1까지의 값을 순차적으로 ndarray의 데이터 값으로 변환해준다."
      ],
      "metadata": {
        "id": "6s6U8itp6kMO"
      }
    },
    {
      "cell_type": "code",
      "source": [
        "sequence_array=np.arange(10)\n",
        "print(sequence_array)\n",
        "print(sequence_array.dtype, sequence_array.shape)"
      ],
      "metadata": {
        "colab": {
          "base_uri": "https://localhost:8080/"
        },
        "id": "tzFRPYc-6Tnq",
        "outputId": "f6d325d6-1057-436a-81ac-e9f242badd14"
      },
      "execution_count": null,
      "outputs": [
        {
          "output_type": "stream",
          "name": "stdout",
          "text": [
            "[0 1 2 3 4 5 6 7 8 9]\n",
            "int64 (10,)\n"
          ]
        }
      ]
    },
    {
      "cell_type": "markdown",
      "source": [
        "default 함수 인자는 stop값이며, 0부터 stop 값인 10에서 -1을 더한 9까지의 연속 숫자 값으로 구성된 1차원 ndarray를 만들어준다. 여기서는 stop값만 부여했으나 range와 유사하게 start 값도 부여해 0이 아닌 다른 값부터 시작한 연속 값을 부여할 수도 있다."
      ],
      "metadata": {
        "id": "oEmCGqu57BFu"
      }
    },
    {
      "cell_type": "markdown",
      "source": [
        "* zeros() : 함수 인자로 튜플 형태의 shape 값을 입력하면 모든 값을 0으로 채운 해당 shape을 가진 ndarray를 반환한다.\n",
        "* ones() : 함수 인자로 튜플 형태의 shape 값을 입력하면 모든 값을 1로 채운 해당 shape을 가진 ndarray를 반환한다. 함수 인자로 dtype을 정해주지 않으면 default로 float64 형의 데이터로 ndarray를 채운다."
      ],
      "metadata": {
        "id": "exUE-9oV7Png"
      }
    },
    {
      "cell_type": "code",
      "source": [
        "zero_array=np.zeros((3, 2), dtype='int32')\n",
        "print(zero_array)\n",
        "print(zero_array.dtype, zero_array.shape)\n",
        "\n",
        "one_array=np.ones((3, 2))\n",
        "print(one_array)\n",
        "print(one_array.dtype, one_array.shape)"
      ],
      "metadata": {
        "colab": {
          "base_uri": "https://localhost:8080/"
        },
        "id": "jd2MkG2w5CTT",
        "outputId": "b1427fd6-77eb-49cd-efea-f2b62db3a1da"
      },
      "execution_count": null,
      "outputs": [
        {
          "output_type": "stream",
          "name": "stdout",
          "text": [
            "[[0 0]\n",
            " [0 0]\n",
            " [0 0]]\n",
            "int32 (3, 2)\n",
            "[[1. 1.]\n",
            " [1. 1.]\n",
            " [1. 1.]]\n",
            "float64 (3, 2)\n"
          ]
        }
      ]
    },
    {
      "cell_type": "markdown",
      "source": [
        "### ndarray의 차원과 크기를 변경하는 reshape()"
      ],
      "metadata": {
        "id": "T8zWogb5ItSO"
      }
    },
    {
      "cell_type": "markdown",
      "source": [
        "reshape() 메서드는 ndarray를 특정 차원 및 크기로 변환한다. 변환을 원하는 크기를 함수 인자로 부여하면 된다."
      ],
      "metadata": {
        "id": "6_HOa6g3Iyrn"
      }
    },
    {
      "cell_type": "markdown",
      "source": [
        "* 0~9까지의 1차원 ndarray를 2로우x5칼럼과 5로우x2칼럼 형태로 2차원 ndarray로 변환해 준다."
      ],
      "metadata": {
        "id": "fnsKtYTMI54o"
      }
    },
    {
      "cell_type": "code",
      "source": [
        "array1=np.arange(10)\n",
        "print('array1:\\n', array1)\n",
        "\n",
        "array2=array1.reshape(2, 5)\n",
        "print('array2:\\n', array2)\n",
        "\n",
        "array3=array1.reshape(5, 2)\n",
        "print('array3:\\n', array3)"
      ],
      "metadata": {
        "id": "HxzRgv1O7O-c",
        "colab": {
          "base_uri": "https://localhost:8080/"
        },
        "outputId": "79e93eab-8e82-4900-be73-200cfe53f0df"
      },
      "execution_count": null,
      "outputs": [
        {
          "output_type": "stream",
          "name": "stdout",
          "text": [
            "array1:\n",
            " [0 1 2 3 4 5 6 7 8 9]\n",
            "array2:\n",
            " [[0 1 2 3 4]\n",
            " [5 6 7 8 9]]\n",
            "array3:\n",
            " [[0 1]\n",
            " [2 3]\n",
            " [4 5]\n",
            " [6 7]\n",
            " [8 9]]\n"
          ]
        }
      ]
    },
    {
      "cell_type": "markdown",
      "source": [
        "지정된 사이즈로 변경이 불가능하면 오류를 발생한다."
      ],
      "metadata": {
        "id": "13yXVvj3J6xr"
      }
    },
    {
      "cell_type": "markdown",
      "source": [
        "* (10,) 데이터를 (4,3) Shape 형태로 변경할 수는 없다."
      ],
      "metadata": {
        "id": "dxGM9gVsJzbf"
      }
    },
    {
      "cell_type": "code",
      "source": [
        "# array1.reshape(4,3)"
      ],
      "metadata": {
        "id": "OMG9DudgKJcb"
      },
      "execution_count": null,
      "outputs": []
    },
    {
      "cell_type": "markdown",
      "source": [
        "reshape()을 실전에서 더욱 효율적으로 사용하는 경우는 인자로 -1을 적용하는 경우이다. -1을 인자로 사용하면 원래 ndarray와 호환되는 새로운 shape로 변환해준다."
      ],
      "metadata": {
        "id": "FjPcmRw2KMnV"
      }
    },
    {
      "cell_type": "code",
      "source": [
        "array1=np.arange(10)\n",
        "print(array1)\n",
        "array2=array1.reshape(-1, 5)\n",
        "print('array2 shape:', array2.shape)\n",
        "array3=array1.reshape(5,-1)\n",
        "print('array3 shape:', array3.shape)"
      ],
      "metadata": {
        "id": "SWeP487gKYq2",
        "colab": {
          "base_uri": "https://localhost:8080/"
        },
        "outputId": "d9b31707-4990-4be9-df3b-1d13d5eb81bb"
      },
      "execution_count": null,
      "outputs": [
        {
          "output_type": "stream",
          "name": "stdout",
          "text": [
            "[0 1 2 3 4 5 6 7 8 9]\n",
            "array2 shape: (2, 5)\n",
            "array3 shape: (5, 2)\n"
          ]
        }
      ]
    },
    {
      "cell_type": "markdown",
      "source": [
        "array1은 1차원 ndarray로 0~9까지의 데이터를 가지고 있다. array2는 array1.reshape(-1,5)로, 로우 인자가 -1, 칼럼 인자가 5이다. 이것은 array1과 호환될 수 있는 2차원 ndarray로 변환하되, 고정된 5개의 칼럼에 맞는 로우를 자동으로 새롭게 생성해 변환하라는 의미이다. 즉, 10개의 1차원 데이터와 호환될 수 있는 고정된 5개 칼럼에 맞는 로우 개수는 2이므로 2x5의 2차원 ndarray로 변환하는 것이다."
      ],
      "metadata": {
        "id": "8mcCf0O1Kxt3"
      }
    },
    {
      "cell_type": "markdown",
      "source": [
        "array1.reshape(5,-1) 또한 10개의 1차원 데이터와 호환될 수 있는 고정된 5개의 로우에 맞는 칼럼은 2이므로 5x2의 2차원 ndarray로 변환하는 것이다."
      ],
      "metadata": {
        "id": "ISyx1_NALKBa"
      }
    },
    {
      "cell_type": "markdown",
      "source": [
        "물론 -1을 사용하더라도 호환될 수 없는 형태는 변환할 수 없다.\n",
        "\n",
        "* 10개의 1차원 데이터를 고정된 4개의 칼럼을 가진 로우로는 변경할 수 없다."
      ],
      "metadata": {
        "id": "qolDDFmZLiZg"
      }
    },
    {
      "cell_type": "code",
      "source": [
        "# array1=np.arange(10)\n",
        "# array4=array1.reshape(-1,4)"
      ],
      "metadata": {
        "id": "FPjmBTgALlwi"
      },
      "execution_count": null,
      "outputs": []
    },
    {
      "cell_type": "markdown",
      "source": [
        "-1 인자는 reshape(-1,1)와 같은 형태로 자주 사용된다. reshape(-1,1)은 원본 ndarray가 어떤 형태라도 2차원이고, 여러 개의 로우를 가지되 반드시 1개의 칼럼을 가진 ndarray로 변환됨을 보장한다. 여러 개의 넘파이 ndarray는 stack이나 concat으로 결합할 때 각각의 ndarray의 형태를 통일해 유용하게 사용된다."
      ],
      "metadata": {
        "id": "sJxwBaPOLlWQ"
      }
    },
    {
      "cell_type": "markdown",
      "source": [
        "* reshape(-1,1)을 이용해 3차원을 2차원으로, 1차원을 2차원으로 변경한다(ndarray는 tolist() 메서드를 이용해 리스트 자료형으로 변환할 수 있다. 때로는 리스트 자료형을 print를 이용해 출력할 때 시각적으로 더 이해하기 쉬울 수 있어서 ndarray를 리스트로 변환해 출력했다)."
      ],
      "metadata": {
        "id": "TlCB3HSiMV8A"
      }
    },
    {
      "cell_type": "code",
      "source": [
        "array1=np.arange(8)\n",
        "array3d=array1.reshape((2, 2, 2))\n",
        "print('array3d:\\n', array3d.tolist())\n",
        "\n",
        "# 3차원 ndarray를 2차원 ndarray로 변환\n",
        "array5=array3d.reshape(-1,1)\n",
        "print('array5:\\n', array5.tolist())\n",
        "print('array5 shape:', array5.shape)\n",
        "\n",
        "# 1차원 ndarray를 2차원 ndarray로 변환\n",
        "array6=array1.reshape(-1, 1)\n",
        "print('array6:\\n', array6.tolist())\n",
        "print('array6 shape:', array6.shape)"
      ],
      "metadata": {
        "id": "ISr0u92GNFr2",
        "colab": {
          "base_uri": "https://localhost:8080/"
        },
        "outputId": "e0778f7a-8dda-4594-bdf9-4fd36e478259"
      },
      "execution_count": null,
      "outputs": [
        {
          "output_type": "stream",
          "name": "stdout",
          "text": [
            "array3d:\n",
            " [[[0, 1], [2, 3]], [[4, 5], [6, 7]]]\n",
            "array5:\n",
            " [[0], [1], [2], [3], [4], [5], [6], [7]]\n",
            "array5 shape: (8, 1)\n",
            "array6:\n",
            " [[0], [1], [2], [3], [4], [5], [6], [7]]\n",
            "array6 shape: (8, 1)\n"
          ]
        }
      ]
    },
    {
      "cell_type": "markdown",
      "source": [
        "### 넘파이의 ndarray의 데이터 세트 선택하기 - 인덱싱(Indexing)"
      ],
      "metadata": {
        "id": "aeOkn8xyj1R0"
      }
    },
    {
      "cell_type": "markdown",
      "source": [
        "1. 특정한 데이터만 추출 : 원하는 위치의 인덱스 값을 지정하면 해당 위치의 데이터가 반환된다.\n",
        "\n",
        "2. 슬라이싱(Slicing) : 슬라이싱은 연속된 인덱스상의 ndarray를 추출하는 방식이다. ':' 기호 사이에 시작 인덱스와 종료 인덱스를 표시하면 시작 인덱스에서 종료 인덱스-1 위치에 있는 데이터의 ndarray를 반환한다. 예를 들어 1:5라고 하면 시작 인덱스 1과 종료 인덱스 4까지에 해당하는 ndarray를 반환한다.\n",
        "\n",
        "3. 팬시 인덱싱(Fancy Indexing) : 일정한 인덱싱 집합을 리스트 또는 ndarray 형태로 지정해 해당 위치에 있는 데이터의 ndarray를 반환한다.\n",
        "\n",
        "4. 불린 인덱싱(Boolean Indexing) : 특정 조건에 해당하는지 여부인 True/False 값 인덱싱 집합을 기반으로 True에 해당하는 인덱스 위치에 있는 데이터의 ndarray를 반환한다."
      ],
      "metadata": {
        "id": "xplqe8Nbj538"
      }
    },
    {
      "cell_type": "markdown",
      "source": [
        "#### 단일 값 추출"
      ],
      "metadata": {
        "id": "hGGaQjvvkgoT"
      }
    },
    {
      "cell_type": "markdown",
      "source": [
        "**한 개의 데이터만**을 추출하는 방법\n",
        "\n",
        "1개의 데이터값을 선택하려면 ndarray 객체에 해당하는 위치의 인덱스 값을 [] 안에 입력하면 된다.\n",
        "\n",
        "* 간단한 1차원 ndarray에서 한 개의 데이터를 추출하기 위해 데이터값이 1부터 9까지인 9개의 1차원 ndarray를 생성해보자."
      ],
      "metadata": {
        "id": "om4L4EtAkjNP"
      }
    },
    {
      "cell_type": "code",
      "source": [
        "# 1부터 9까지의 1차원 ndarray 생성\n",
        "array1=np.arange(start=1, stop=10)\n",
        "print('array1:', array1)\n",
        "\n",
        "# index는 0부터 시작하므로 array1[2]는 3번째 index 위치의 데이터값을 의미\n",
        "value=array1[2]\n",
        "print('value:', value)\n",
        "print(type(value))"
      ],
      "metadata": {
        "id": "cWGsmkuYkyfI",
        "colab": {
          "base_uri": "https://localhost:8080/"
        },
        "outputId": "7dcf433e-46b2-43fd-ff45-d7b87f40fe05"
      },
      "execution_count": null,
      "outputs": [
        {
          "output_type": "stream",
          "name": "stdout",
          "text": [
            "array1: [1 2 3 4 5 6 7 8 9]\n",
            "value: 3\n",
            "<class 'numpy.int64'>\n"
          ]
        }
      ]
    },
    {
      "cell_type": "markdown",
      "source": [
        "**인덱스는 0부터 시작하므로** array1[2]는 3번째 인덱스 위치의 데이터값을 의미하므로 데이터값 3을 의미한다. array1[2]의 타입은 더 이상 ndarray 타입이 아니고 ndarray 내의 데이터값을 의미한다.\n",
        "\n",
        "**인덱스에 마이너스 기호를 이용하면 맨 뒤에서부터 데이터를 추출할 수 있다.** 인덱스 -1은 맨 뒤의 데이터값을 의미한다. -2는 맨 뒤에서 두 번째에 있는 데이터값이다."
      ],
      "metadata": {
        "id": "IfwUucVQlD8D"
      }
    },
    {
      "cell_type": "code",
      "source": [
        "print('맨 뒤의 값:', array1[-1], '맨 뒤에서 두 번째 값:', array1[-2])"
      ],
      "metadata": {
        "id": "QEi1QTaOlV-x",
        "colab": {
          "base_uri": "https://localhost:8080/"
        },
        "outputId": "1e8bf1bc-3c8e-4fea-9d6c-8e59df5d28e1"
      },
      "execution_count": null,
      "outputs": [
        {
          "output_type": "stream",
          "name": "stdout",
          "text": [
            "맨 뒤의 값: 9 맨 뒤에서 두 번째 값: 8\n"
          ]
        }
      ]
    },
    {
      "cell_type": "markdown",
      "source": [
        "단일 인덱스를 이용해 ndarray 내의 데이터값도 간단히 수정 가능하다."
      ],
      "metadata": {
        "id": "RCqbKwcWlcm3"
      }
    },
    {
      "cell_type": "code",
      "source": [
        "array1[0]=9\n",
        "array1[8]=0\n",
        "print('array1:', array1)"
      ],
      "metadata": {
        "id": "P6qlqLpLliLc",
        "colab": {
          "base_uri": "https://localhost:8080/"
        },
        "outputId": "315cba8e-ceeb-4960-ceb1-fcf3e1ae5af3"
      },
      "execution_count": null,
      "outputs": [
        {
          "output_type": "stream",
          "name": "stdout",
          "text": [
            "array1: [9 2 3 4 5 6 7 8 0]\n"
          ]
        }
      ]
    },
    {
      "cell_type": "markdown",
      "source": [
        "**다차원 array**\n",
        "\n",
        "3차원 이상의 ndarray에서의 데이터 추출도 2차원 ndarray와 큰 차이가 없다. 1차원과 2차원 ndarray에서의 데이터 접근의 차이는 2차원의 경우 콤마(,)로 분리된 로우와 칼럼 위치의 인덱스를 통해 접근하는 것이다.\n",
        "\n",
        "* 2차원 ndarray에서 단일 값을 추출해보자. 앞 예제의 1차원 ndarray를 2차원의 3x3 ndarray로 변환한 후 [row, col]을 이용해 2차원 ndarray에서 데이터를 추출해 보자."
      ],
      "metadata": {
        "id": "UQG7MhOSlvAo"
      }
    },
    {
      "cell_type": "code",
      "source": [
        "array1d=np.arange(start=1, stop=10)\n",
        "array2d=array1d.reshape(3, 3)\n",
        "print(array2d)\n",
        "\n",
        "print('(row=0, col=0) index 가리키는 값:', array2d[0, 0])\n",
        "print('(row=0, col=1) index 가리키는 값:', array2d[0, 1])\n",
        "print('(row=1, col=0) index 가리키는 값:', array2d[1, 0])\n",
        "print('(row=2, col=2) index 가리키는 값:', array2d[2, 2])"
      ],
      "metadata": {
        "id": "Cq370PzHmiQe",
        "colab": {
          "base_uri": "https://localhost:8080/"
        },
        "outputId": "5f0cd1dc-578b-43e8-fed4-6210c28c40ea"
      },
      "execution_count": null,
      "outputs": [
        {
          "output_type": "stream",
          "name": "stdout",
          "text": [
            "[[1 2 3]\n",
            " [4 5 6]\n",
            " [7 8 9]]\n",
            "(row=0, col=0) index 가리키는 값: 1\n",
            "(row=0, col=1) index 가리키는 값: 2\n",
            "(row=1, col=0) index 가리키는 값: 4\n",
            "(row=2, col=2) index 가리키는 값: 9\n"
          ]
        }
      ]
    },
    {
      "cell_type": "markdown",
      "source": [
        "axis 0 : 로우 방향의 축\n",
        "axis 1 : 칼럼 방향의 축\n",
        "\n",
        "로우와 칼럼은 넘파이 ndarray에서는 사용되지 않는 방식이다. 이해를 돕기 위해 로우, 칼럼 형식으로 표현한 것일 뿐, 정확한 표현으로는 axis0, axis 1이 맞다. 즉, [row=0, col=1] 인덱싱은 [axis 0=0, axis 1=1]이 정확한 표현이다. 2차원이므로 axis 0, axis 1로 구분되며, 3차원 ndarray의 경우는 axis 0, axis 1, axis 2로 3개의 축을 가지게 된다(행, 열, 높이로 이해). 이런 식으로 넘파이의 다차원 ndarray는 axis 구분을 가진다.\n",
        "\n",
        "axis 0이 로우 방향 축, axis 1이 칼럼 방향 축임을 이해하는 것은 중요하다. 다차원 ndarray의 경우 축(axis)에 따른 연산을 지원하기 때문이다. 축 기반의 연산에서 axis가 생략되면 axis 0을 의미한다."
      ],
      "metadata": {
        "id": "vzmk9agkm-RF"
      }
    },
    {
      "cell_type": "markdown",
      "source": [
        "#### 슬라이싱"
      ],
      "metadata": {
        "id": "80p9PbW_oS7z"
      }
    },
    {
      "cell_type": "markdown",
      "source": [
        "':' 기호를 이용해 연속한 데이터를 슬라이싱해서 추출할 수 있다. 단일 데이터값 추출을 제외하고 슬라이싱, 팬시 인덱싱, 불린 인덱싱으로 추출된 데이터 세트는 모두 ndarray 타입이다. ':' 사이에 시작 인덱스와 종료 인덱스를 표시하면 시작 인덱스에서 종료 인덱스-1의 위치에 있는 데이터의 ndarray를 반환한다."
      ],
      "metadata": {
        "id": "JvuHC_S9oUuv"
      }
    },
    {
      "cell_type": "code",
      "source": [
        "array1=np.arange(start=1, stop=10)\n",
        "array3=array1[0:3]\n",
        "print(array3)\n",
        "print(type(array3))"
      ],
      "metadata": {
        "id": "nuynrg6zojI-",
        "colab": {
          "base_uri": "https://localhost:8080/"
        },
        "outputId": "b074769c-7cc2-47aa-c0c3-ac2e883e776a"
      },
      "execution_count": null,
      "outputs": [
        {
          "output_type": "stream",
          "name": "stdout",
          "text": [
            "[1 2 3]\n",
            "<class 'numpy.ndarray'>\n"
          ]
        }
      ]
    },
    {
      "cell_type": "markdown",
      "source": [
        "슬라이싱 기호인 ':' 사이의 시작, 종료 인덱스는 생략 가능하다.\n",
        "\n",
        "1. ':' 기호 앞에 시작 인덱스를 생략하면 자동으로 맨 처음 인덱스인 0으로 간주한다.\n",
        "\n",
        "2. ':' 기호 뒤에 종료 인덱스를 생략하면 자동으로 맨 마지막 인덱스로 간주한다.\n",
        "\n",
        "3. ':' 기호 앞/뒤에 시작/종료 인덱스를 생략하면 자동으로 맨 처음/맨 마지막 인덱스로 간주한다."
      ],
      "metadata": {
        "id": "CMtuKU9Vop2J"
      }
    },
    {
      "cell_type": "code",
      "source": [
        "array1=np.arange(start=1, stop=10)\n",
        "array4=array1[:3]\n",
        "print(array4)\n",
        "\n",
        "array5=array1[3:]\n",
        "print(array5)\n",
        "\n",
        "array6=array1[:]\n",
        "print(array6)"
      ],
      "metadata": {
        "id": "1eMQCsigo9Kf",
        "colab": {
          "base_uri": "https://localhost:8080/"
        },
        "outputId": "b89d4964-5407-4a0c-bc95-2f29ee54f19f"
      },
      "execution_count": null,
      "outputs": [
        {
          "output_type": "stream",
          "name": "stdout",
          "text": [
            "[1 2 3]\n",
            "[4 5 6 7 8 9]\n",
            "[1 2 3 4 5 6 7 8 9]\n"
          ]
        }
      ]
    },
    {
      "cell_type": "markdown",
      "source": [
        "이번에는 2차원 ndarray에서 슬라이싱으로 데이터에 접근해 보자. 2차원 ndarray에서의 슬라이싱도 1차원 ndarray에서의 슬라이싱과 유사하며, 단지 콤마(,)로 로우와 칼럼 인덱스를 지칭하는 부분만 다르다."
      ],
      "metadata": {
        "id": "uZ6mepxCpJsM"
      }
    },
    {
      "cell_type": "code",
      "source": [
        "array1d=np.arange(start=1, stop=10)\n",
        "array2d=array1d.reshape(3, 3)\n",
        "print('array2d:\\n', array2d)\n",
        "\n",
        "print('array2d[0:2, 0:2] \\n', array2d[0:2, 0:2])\n",
        "print('array2d[1:3, 0:3] \\n', array2d[1:3, 0:3])\n",
        "print('array2d[1:3, :] \\n', array2d[1:3, :])\n",
        "print('array2d[:, :] \\n', array2d[:, :])\n",
        "print('array2d[:2, 1:] \\n', array2d[:2, 1:])\n",
        "print('array2d[:2, 0] \\n', array2d[:2, 0])"
      ],
      "metadata": {
        "id": "7TzkpSbTpeEk",
        "colab": {
          "base_uri": "https://localhost:8080/"
        },
        "outputId": "2fb6bc3d-8706-457d-8825-5f85d0f75489"
      },
      "execution_count": null,
      "outputs": [
        {
          "output_type": "stream",
          "name": "stdout",
          "text": [
            "array2d:\n",
            " [[1 2 3]\n",
            " [4 5 6]\n",
            " [7 8 9]]\n",
            "array2d[0:2, 0:2] \n",
            " [[1 2]\n",
            " [4 5]]\n",
            "array2d[1:3, 0:3] \n",
            " [[4 5 6]\n",
            " [7 8 9]]\n",
            "array2d[1:3, :] \n",
            " [[4 5 6]\n",
            " [7 8 9]]\n",
            "array2d[:, :] \n",
            " [[1 2 3]\n",
            " [4 5 6]\n",
            " [7 8 9]]\n",
            "array2d[:2, 1:] \n",
            " [[2 3]\n",
            " [5 6]]\n",
            "array2d[:2, 0] \n",
            " [1 4]\n"
          ]
        }
      ]
    },
    {
      "cell_type": "markdown",
      "source": [
        "2차원 ndarray에서 뒤에 오는 인덱스를 없애면 1차원 ndarray를 반환한다. 즉, array2d[0]과 같이 2차원에서 뒤에 오는 인덱스를 없애면 로우 축(axis 0)의 첫 번째 로우 ndarray를 반환하게 된다. 반환되는 ndarray는 1차원이다. 3차원 ndarray에서 뒤에 오는 인덱스를 없애면 2차원 ndarray를 반환한다."
      ],
      "metadata": {
        "id": "HHb7j2O-qNOI"
      }
    },
    {
      "cell_type": "code",
      "source": [
        "print(array2d[0])\n",
        "print(array2d[1])\n",
        "print('array2d[0] shape:', array2d[0].shape, 'array2d[1] shape:', array2d[1].shape)"
      ],
      "metadata": {
        "id": "7fCcso9TqfRz",
        "colab": {
          "base_uri": "https://localhost:8080/"
        },
        "outputId": "1b156011-6736-4a4d-a30e-64d731b564db"
      },
      "execution_count": null,
      "outputs": [
        {
          "output_type": "stream",
          "name": "stdout",
          "text": [
            "[1 2 3]\n",
            "[4 5 6]\n",
            "array2d[0] shape: (3,) array2d[1] shape: (3,)\n"
          ]
        }
      ]
    },
    {
      "cell_type": "markdown",
      "source": [
        "#### 팬시 인덱싱"
      ],
      "metadata": {
        "id": "sjum2lxCqp63"
      }
    },
    {
      "cell_type": "markdown",
      "source": [
        "팬시 인덱싱(Fancy Indexing)은 리스트나 ndarray로 인덱스 집합을 지정하면 해당 위치의 인덱스에 해당하는 ndarray를 반환하는 인덱싱 방식이다."
      ],
      "metadata": {
        "id": "joCUCmONqsIB"
      }
    },
    {
      "cell_type": "markdown",
      "source": [
        "* 2차원 ndarray에 팬시 인덱싱을 적용하면서 어떻게 동작하는지 살펴보자."
      ],
      "metadata": {
        "id": "Ikzuau9xq1oQ"
      }
    },
    {
      "cell_type": "code",
      "source": [
        "array1d=np.arange(start=1, stop=10)\n",
        "array2d=array1d.reshape(3, 3)\n",
        "\n",
        "array3=array2d[[0, 1], 2]\n",
        "print('array2d[[0, 1], 2] => ', array3.tolist())\n",
        "\n",
        "array4=array2d[[0, 1], 0:2]\n",
        "print('array2d[[0, 1], 0:2] => ', array4.tolist())\n",
        "\n",
        "array5=array2d[[0, 1]]\n",
        "print('arra2d[[0, 1]] => ', array5.tolist())"
      ],
      "metadata": {
        "id": "HaimMzPrq_r6",
        "colab": {
          "base_uri": "https://localhost:8080/"
        },
        "outputId": "5a55e9ba-5254-4cfe-f0f7-639866249e5e"
      },
      "execution_count": null,
      "outputs": [
        {
          "output_type": "stream",
          "name": "stdout",
          "text": [
            "array2d[[0, 1], 2] =>  [3, 6]\n",
            "array2d[[0, 1], 0:2] =>  [[1, 2], [4, 5]]\n",
            "arra2d[[0, 1]] =>  [[1, 2, 3], [4, 5, 6]]\n"
          ]
        }
      ]
    },
    {
      "cell_type": "markdown",
      "source": [
        "array2d[[0, 1], 2] 로우 축에 팬시 인덱싱인 [0, 1]을, 칼럼 축에는 단일 값 인덱싱 2를 적용했다. 따라서 (row, col) 인덱스가 (0, 2), (1, 2)로 적용돼 [3, 6]을 반환한다.\n",
        "\n",
        "array2d[[0, 1], 0:2]는 ((0, 0), (0, 1)), ((1, 0), (1, 1)) 인덱싱이 적용돼 [[1, 2], [4, 5]]를 반환한다.\n",
        "\n",
        "array2d[[0, 1]]은 ((0, :), (1, :)) 인덱싱이 적용돼 [[1, 2, 3], [4, 5, 6]]을 반환한다."
      ],
      "metadata": {
        "id": "A_mwbITxraDt"
      }
    },
    {
      "cell_type": "markdown",
      "source": [
        "#### 불린 인덱싱"
      ],
      "metadata": {
        "id": "OHOswvLSHn0o"
      }
    },
    {
      "cell_type": "markdown",
      "source": [
        "불린 인덱싱(Boolean indexing)은 **조건 필터링과 검색을 동시에 할 수 있기 때문에** 매우 자주 사용되는 인덱싱 방식이다. 1차원 ndarray [1, 2, 3, 4, 5, 6, 7, 8, 9]에서 데이터값이 5보다 큰 데이터만 추출하려면 for loop를 사용하여 값을 하나씩 `if '추출값'>5` 비교를 통해서 해당하는 데이터만 추출해야 할 것이다. 불린 인덱싱을 이용하면 for loop/if else 문보다 훨씬 간단하게 이를 구현할 수 있다. 불린 인덱싱은 ndarray의 인덱스를 지정하는 [] 내에 조건문을 그대로 기재하기만 하면 된다."
      ],
      "metadata": {
        "id": "WOjNdaYLH23n"
      }
    },
    {
      "cell_type": "code",
      "source": [
        "array1d=np.arange(start=1, stop=10)\n",
        "\n",
        "# [] 안에 array1d > 5 Boolean indexing을 적용\n",
        "array3=array1d[array1d>5]\n",
        "print('array1d>5 불린 인덱싱 결과 값 :', array3)"
      ],
      "metadata": {
        "colab": {
          "base_uri": "https://localhost:8080/"
        },
        "id": "vZ6wzKzuIX4B",
        "outputId": "5995d3da-0a0a-443d-e997-9b5963127e09"
      },
      "execution_count": null,
      "outputs": [
        {
          "output_type": "stream",
          "name": "stdout",
          "text": [
            "array1d>5 불린 인덱싱 결과 값 : [6 7 8 9]\n"
          ]
        }
      ]
    },
    {
      "cell_type": "markdown",
      "source": [
        "먼저 넘파이 ndarray 객체에 조건식을 할당하면 어떻게 되는지 알아보자."
      ],
      "metadata": {
        "id": "dAiz_ZGoIlIA"
      }
    },
    {
      "cell_type": "code",
      "source": [
        "array1d>5"
      ],
      "metadata": {
        "colab": {
          "base_uri": "https://localhost:8080/"
        },
        "id": "fvC-V3HDIpeq",
        "outputId": "f634089d-3bcc-4d2c-ba43-56434cc1c618"
      },
      "execution_count": null,
      "outputs": [
        {
          "output_type": "execute_result",
          "data": {
            "text/plain": [
              "array([False, False, False, False, False,  True,  True,  True,  True])"
            ]
          },
          "metadata": {},
          "execution_count": 27
        }
      ]
    },
    {
      "cell_type": "markdown",
      "source": [
        "array1d>5와 같이 단지 ndarray 객체에 조건식만 붙였을 뿐인데 False, True로 이뤄진 ndarray 객체가 반환됐다. 반환된 array([False, False, False, False, False, True, True, True, Ture])를 자세히 살펴보면 5보다 큰 데이터가 있는 위치는 True 값이, 그렇지 않는 경우는 False 값이 반환됨을 확인할 수 있다. **조건으로 반환된 이 ndarray 객체를 인덱싱을 지정하는 [] 내에 입력하면 False값은 무시하고 True 값이 있는 위치 인덱스 값으로 자동 변환해 해당하는 인덱스 위치의 데이터만 반환하게 된다.** 즉, array([False, False, False, False, False, True, True, True, Ture])에서 False가 있는 인덱스 0~4는 무시하고 인덱스 [5, 6, 7, 8]이 만들어지고 이 위치 인덱스에 해당하는 데이터 세트 [6, 7, 8, 9]를 반환하게 된다."
      ],
      "metadata": {
        "id": "i3ECVRQvIq2o"
      }
    },
    {
      "cell_type": "markdown",
      "source": [
        "* 위와 동일한 불린 ndarray를 만들고 이를 array1d[] 내에 인덱스로 입려갛면 동일한 데이터 세트가 반환된다."
      ],
      "metadata": {
        "id": "Z6YpxiHXJdsx"
      }
    },
    {
      "cell_type": "code",
      "source": [
        "boolean_indexes=np.array([False, False, False, False, False, True, True, True, True])\n",
        "array3=array1d[boolean_indexes]\n",
        "print('불린 인덱스로 필터링 결과 :', array3)"
      ],
      "metadata": {
        "colab": {
          "base_uri": "https://localhost:8080/"
        },
        "id": "JMeJRh-oJkWZ",
        "outputId": "e065c74d-8402-4146-a095-5cb14dc1aa81"
      },
      "execution_count": null,
      "outputs": [
        {
          "output_type": "stream",
          "name": "stdout",
          "text": [
            "불린 인덱스로 필터링 결과 : [6 7 8 9]\n"
          ]
        }
      ]
    },
    {
      "cell_type": "markdown",
      "source": [
        "즉, 다음과 같이 직접 인덱스 집합을 만들어 대입한 것과 동일하다."
      ],
      "metadata": {
        "id": "kGN8bPksJxeA"
      }
    },
    {
      "cell_type": "code",
      "source": [
        "indexes=np.array([5, 6, 7, 8])\n",
        "array4=array1d[indexes]\n",
        "print('일반 인덱스로 필터링 결과 :', array4)"
      ],
      "metadata": {
        "colab": {
          "base_uri": "https://localhost:8080/"
        },
        "id": "RQ0LFGkNJ1No",
        "outputId": "cf888e64-a719-4a63-8af5-64378ed4a87f"
      },
      "execution_count": null,
      "outputs": [
        {
          "output_type": "stream",
          "name": "stdout",
          "text": [
            "일반 인덱스로 필터링 결과 : [6 7 8 9]\n"
          ]
        }
      ]
    },
    {
      "cell_type": "markdown",
      "source": [
        "Step 1 : array1d>5와 같이 ndarray의 필터링 조건을 [] 안에 기재\n",
        "\n",
        "Step 2 : False 값은 무시하고 True 값에 해당하는 인덱스값만 저장(유의해야 할 사항은 True값 자체인 1을 저장하는 것이 아니라 True값을 가진 인덱스를 저장한다는 것이다)\n",
        "\n",
        "Step 3 : 저장된 인덱스 데이터 세트로 ndarray 조회"
      ],
      "metadata": {
        "id": "L2mFWi5aJ9YV"
      }
    },
    {
      "cell_type": "markdown",
      "source": [
        "불린 인덱싱은 내부적으로 여러 단계를 거쳐서 동작하지만, 코드 자체는 단순히 [] 내에 원하는 필터링 조건만 넣으면 해당 조건을 만족하는 ndarray 데이터 세트를 반환하기 때문에 사용자는 내부 로직에 크게 신경 쓰지 않고 쉽게 코딩할 수 있다."
      ],
      "metadata": {
        "id": "7vqFJ0yoKas4"
      }
    },
    {
      "cell_type": "markdown",
      "source": [
        "### 행렬의 정렬 - sort()와 argsort()"
      ],
      "metadata": {
        "id": "1TxXzdkDKm_0"
      }
    },
    {
      "cell_type": "markdown",
      "source": [
        "넘파이에서 행렬을 정렬하는 대표적인 방법인 np.sort()와 ndarray.sort(), 그리고 정렬된 행렬의 인덱스를 반환하는 argsort()에 대해 알아보자."
      ],
      "metadata": {
        "id": "pAd_4iWQKqNm"
      }
    },
    {
      "cell_type": "markdown",
      "source": [
        "#### 행렬 정렬"
      ],
      "metadata": {
        "id": "KQuFzBMMKxwT"
      }
    },
    {
      "cell_type": "markdown",
      "source": [
        "**넘파이의 행렬 정렬**은 np.sort()와 같이 넘파이에서 sort()를 호출하는 방식과 ndarray.sort()와 같이 행렬 자체에서 sort()를 호출하는 방식이 있다.\n",
        "\n",
        "* np.sort() : 원 행렬은 그대로 유지한 채 원 행렬의 정렬된 행렬을 반환\n",
        "\n",
        "* ndarray.sort() : 원 행렬 자체를 정렬한 형태로 변환하며 반환 값은 None이다."
      ],
      "metadata": {
        "id": "fIDsaYybKzO0"
      }
    },
    {
      "cell_type": "code",
      "source": [
        "org_array=np.array([3, 1, 9, 5])\n",
        "print('원본 행렬:', org_array)\n",
        "\n",
        "# np.sort()로 정렬\n",
        "sort_array1=np.sort(org_array)\n",
        "print('np.sort() 호출 후 반환된 정렬 행렬:', sort_array1)\n",
        "print('np.sort() 호출 후 원본 행렬:', org_array)\n",
        "\n",
        "# ndarray.sort()로 정렬\n",
        "sort_array2=org_array.sort()\n",
        "print('org_array.sort() 호출 후 반환된 행렬:', sort_array2)\n",
        "print('org_array.sort() 호출 후 원본 행렬:', org_array)"
      ],
      "metadata": {
        "colab": {
          "base_uri": "https://localhost:8080/"
        },
        "id": "h4WgHbhOLLR0",
        "outputId": "bebd86f6-7b2b-44b5-949d-79be5cbdf637"
      },
      "execution_count": null,
      "outputs": [
        {
          "output_type": "stream",
          "name": "stdout",
          "text": [
            "원본 행렬: [3 1 9 5]\n",
            "np.sort() 호출 후 반환된 정렬 행렬: [1 3 5 9]\n",
            "np.sort() 호출 후 원본 행렬: [3 1 9 5]\n",
            "org_array.sort() 호출 후 반환된 행렬: None\n",
            "org_array.sort() 호출 후 원본 행렬: [1 3 5 9]\n"
          ]
        }
      ]
    },
    {
      "cell_type": "markdown",
      "source": [
        "np.sort()나 ndarray.sort() 모두 기본적으로 **오름차순**으로 행렬 내 원소를 정렬한다.\n",
        "\n",
        "**내림차순으로 정렬하기 위해서는 [::-1]을 적용**한다. np.sort()[::-1]과 같이 사용하면 된다."
      ],
      "metadata": {
        "id": "2vdYuaQILsQU"
      }
    },
    {
      "cell_type": "code",
      "source": [
        "sort_array1_desc=np.sort(org_array)[::-1]\n",
        "print('내림차순으로 정렬:', sort_array1_desc)"
      ],
      "metadata": {
        "colab": {
          "base_uri": "https://localhost:8080/"
        },
        "id": "Cp8qeZ17L9pX",
        "outputId": "8343ba85-4707-42bd-b67b-22557e7d555a"
      },
      "execution_count": null,
      "outputs": [
        {
          "output_type": "stream",
          "name": "stdout",
          "text": [
            "내림차순으로 정렬: [9 5 3 1]\n"
          ]
        }
      ]
    },
    {
      "cell_type": "markdown",
      "source": [
        "**행렬이 2차원 이상일 경우 axis 축 값 설정을 통해 로우 방향, 또는 칼럼 방향으로 정렬을 수행할 수 있다.**"
      ],
      "metadata": {
        "id": "OmpJ_Q14MFHl"
      }
    },
    {
      "cell_type": "code",
      "source": [
        "array2d=np.array([[8, 12],\n",
        "                  [7, 1]])\n",
        "\n",
        "sort_array2d_axis0=np.sort(array2d, axis=0)\n",
        "print('로우 방향으로 정렬:\\n', sort_array2d_axis0)\n",
        "\n",
        "sort_array2d_axis1=np.sort(array2d, axis=1)\n",
        "print('칼럼 방향으로 정렬:\\n', sort_array2d_axis1)"
      ],
      "metadata": {
        "colab": {
          "base_uri": "https://localhost:8080/"
        },
        "id": "uKfPnRkwN-mv",
        "outputId": "3ed0c087-cc3a-43d1-be50-0c809d4032d2"
      },
      "execution_count": null,
      "outputs": [
        {
          "output_type": "stream",
          "name": "stdout",
          "text": [
            "로우 방향으로 정렬:\n",
            " [[ 7  1]\n",
            " [ 8 12]]\n",
            "칼럼 방향으로 정렬:\n",
            " [[ 8 12]\n",
            " [ 1  7]]\n"
          ]
        }
      ]
    },
    {
      "cell_type": "markdown",
      "source": [
        "#### 정렬된 행렬의 인덱스 반환"
      ],
      "metadata": {
        "id": "W18hUvp1OV4H"
      }
    },
    {
      "cell_type": "markdown",
      "source": [
        "원본 행렬이 정렬되었을 때 기존 원본 행렬의 원소에 대한 인덱스를 필요로 할 때 np.argsort()를 이용한다.\n",
        "\n",
        "**np.argsort()** : 정렬 행렬의 원본 행렬 인덱스를 ndarray 형으로 반환한다."
      ],
      "metadata": {
        "id": "Slrd82XEObDD"
      }
    },
    {
      "cell_type": "code",
      "source": [
        "org_array=np.array([3, 1, 9, 5])\n",
        "sort_indices=np.argsort(org_array)\n",
        "print(type(sort_indices))\n",
        "print('행렬 정렬 시 원본 행렬의 인덱스:', sort_indices)"
      ],
      "metadata": {
        "colab": {
          "base_uri": "https://localhost:8080/"
        },
        "id": "jWI4pR4KPFCt",
        "outputId": "8c9ad794-9fca-4e74-8888-5bcef7419cad"
      },
      "execution_count": null,
      "outputs": [
        {
          "output_type": "stream",
          "name": "stdout",
          "text": [
            "<class 'numpy.ndarray'>\n",
            "행렬 정렬 시 원본 행렬의 인덱스: [1 0 3 2]\n"
          ]
        }
      ]
    },
    {
      "cell_type": "markdown",
      "source": [
        "오름차순이 아닌 내림차순으로 정렬 시 원본 행렬의 인덱스를 구하는 것도 np.argsort()[::-1]과 같이 [::-1]을 적용하면 된다."
      ],
      "metadata": {
        "id": "NvKzXHu9PQ62"
      }
    },
    {
      "cell_type": "code",
      "source": [
        "org_array=np.array([3, 1, 9, 5])\n",
        "sort_indices_desc=np.argsort(org_array)[::-1]\n",
        "print('행렬 내림차순 정렬 시 원본 행렬의 인덱스:', sort_indices_desc)"
      ],
      "metadata": {
        "colab": {
          "base_uri": "https://localhost:8080/"
        },
        "id": "BtKHjpMQPYvo",
        "outputId": "982988cb-86b2-4b94-ba4c-8da6426eb6b9"
      },
      "execution_count": null,
      "outputs": [
        {
          "output_type": "stream",
          "name": "stdout",
          "text": [
            "행렬 내림차순 정렬 시 원본 행렬의 인덱스: [2 3 0 1]\n"
          ]
        }
      ]
    },
    {
      "cell_type": "markdown",
      "source": [
        "argsort()는 넘파이에서 매우 활용도가 높다. 넘파이의 ndarray는 RDBMS의 TABLE 칼럼이나 뒤에 소개할 판다스 DataFrame 칼럼과 같은 메타 데이터를 가질 수 없다. 따라서 실제 값과 그 값이 뜻하는 메타 데이터를 별도의 ndarray로 각각 가져야만 한다.\n",
        "\n",
        "예를 들어 학생별 시험 성적을 데이터로 표현하기 위해서는 학생의 이름과 시험 성적을 각각 ndarray로 가져야 한다. 즉 John=78, Mike=95, Sarah=84, Kate=98, Samuel=88을 ndarray로 활용하고자 한다면 name_array=['John', 'Mike', 'Sarah', 'Kate', 'Samuel']과 score_aray=[78, 95, 84, 98, 88]과 같이 2개의 ndarray를 만들어야 한다. 이 때 시험 성적순으로 학생 이름을 출력하고자 한다면 np.argsort(score_array)를 이용해 반환된 인덱스를 name_array에 팬시 인덱스로 적용해 추출할 수 있으며, 이러한 방식은 넘파이의 데이터 추출에서 많이 사용된다."
      ],
      "metadata": {
        "id": "rQ7DDtSiPriI"
      }
    },
    {
      "cell_type": "code",
      "source": [
        "import numpy as np\n",
        "\n",
        "name_array=np.array(['John', 'Mike', 'Sarah', 'Kate', 'Samuel'])\n",
        "score_array=np.array([78, 95, 84, 98, 88])\n",
        "\n",
        "sort_indices_asc=np.argsort(score_array)\n",
        "print('성적 오름차순 정렬 시 score_array의 인덱스:', sort_indices_asc)\n",
        "print('성적 오름차순으로 name_array의 이름 출력:', name_array[sort_indices_asc])"
      ],
      "metadata": {
        "colab": {
          "base_uri": "https://localhost:8080/"
        },
        "id": "6XgrEJ3eQpeP",
        "outputId": "9e10982a-c0fc-4e4a-dc21-a91dbe42267a"
      },
      "execution_count": null,
      "outputs": [
        {
          "output_type": "stream",
          "name": "stdout",
          "text": [
            "성적 오름차순 정렬 시 score_array의 인덱스: [0 2 4 1 3]\n",
            "성적 오름차순으로 name_array의 이름 출력: ['John' 'Sarah' 'Samuel' 'Mike' 'Kate']\n"
          ]
        }
      ]
    },
    {
      "cell_type": "markdown",
      "source": [
        "### 선형대수 연산 - 행렬 내적과 전치 행렬 구하기"
      ],
      "metadata": {
        "id": "JmI64073RGiM"
      }
    },
    {
      "cell_type": "markdown",
      "source": [
        "넘파이는 매우 다양한 선형대수 연산을 지원한다. 그중 가장 많이 사용되면서도 기본 연산인 행렬 내적과 전치 행렬을 구하는 방법을 알아보자."
      ],
      "metadata": {
        "id": "v3oEAGdKRMy5"
      }
    },
    {
      "cell_type": "markdown",
      "source": [
        "#### 행렬 내적(행렬 곱)"
      ],
      "metadata": {
        "id": "x8zlYYJCRTmS"
      }
    },
    {
      "cell_type": "markdown",
      "source": [
        "행렬 내적은 행렬 곱이며, 두 행렬 A와 B의 내적은 np.dot()을 이용해 계산이 가능하다. 두 행렬 A와 B의 내적은 왼쪽 행렬의 로우(행)와 오른쪽 행렬의 칼럼(열)의 원소들을 순차적으로 곱한 뒤 그 결과를 모두 더한 값이다."
      ],
      "metadata": {
        "id": "dC_owtDqRVoG"
      }
    },
    {
      "cell_type": "markdown",
      "source": [
        "왼쪽 행렬의 열 개수와 오른쪽 행렬의 행 개수가 동일해야 내적 연산이 가능하다."
      ],
      "metadata": {
        "id": "8kwHuS0-RmNE"
      }
    },
    {
      "cell_type": "code",
      "source": [
        "A=np.array([[1, 2, 3],\n",
        "            [4, 5, 6]])\n",
        "B=np.array([[7, 8],\n",
        "            [9, 10],\n",
        "            [11, 12]])\n",
        "\n",
        "dot_product=np.dot(A, B)\n",
        "print('행렬 내적 결과:\\n', dot_product)"
      ],
      "metadata": {
        "colab": {
          "base_uri": "https://localhost:8080/"
        },
        "id": "v_AKInCQRtis",
        "outputId": "bd55712f-2f61-4550-cd4f-810c7bfdba7d"
      },
      "execution_count": null,
      "outputs": [
        {
          "output_type": "stream",
          "name": "stdout",
          "text": [
            "행렬 내적 결과:\n",
            " [[ 58  64]\n",
            " [139 154]]\n"
          ]
        }
      ]
    },
    {
      "cell_type": "markdown",
      "source": [
        "#### 전치 행렬"
      ],
      "metadata": {
        "id": "SoU3WZNvSBk6"
      }
    },
    {
      "cell_type": "markdown",
      "source": [
        "원 행렬에서 행과 열 위치를 교환한 원소로 구성한 행렬을 그 행렬의 전치 행렬이라고 한다. 즉 2x2 행렬 A가 있을 경우 A 행렬의 1행 2열의 원소를 2행 1열의 원소로, 2행 1열의 원소를 1행 2열의 원소로 교환하는 것이다. 이때 행렬 A의 전치 행렬은 $A^T$와 같이 표기한다."
      ],
      "metadata": {
        "id": "fCMYgcEBSDfS"
      }
    },
    {
      "cell_type": "markdown",
      "source": [
        "넘파이의 transpose()를 이용해 전치 행렬을 쉽게 구할 수 있다."
      ],
      "metadata": {
        "id": "utJ-0JGwSf1H"
      }
    },
    {
      "cell_type": "code",
      "source": [
        "A=np.array([[1, 2],\n",
        "            [3, 4]])\n",
        "transpose_mat=np.transpose(A)\n",
        "print('A의 전치 행렬:\\n', transpose_mat)"
      ],
      "metadata": {
        "colab": {
          "base_uri": "https://localhost:8080/"
        },
        "id": "hDxvUh5SSj4K",
        "outputId": "8203b114-3d79-4b3e-b751-027f1200e56a"
      },
      "execution_count": null,
      "outputs": [
        {
          "output_type": "stream",
          "name": "stdout",
          "text": [
            "A의 전치 행렬:\n",
            " [[1 3]\n",
            " [2 4]]\n"
          ]
        }
      ]
    }
  ]
}
