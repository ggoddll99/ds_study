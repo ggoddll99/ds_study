{
  "cells": [
    {
      "cell_type": "markdown",
      "metadata": {
        "id": "view-in-github",
        "colab_type": "text"
      },
      "source": [
        "<a href=\"https://colab.research.google.com/github/ggoddll99/ds_study/blob/main/24-1ESAA/Chapter04_2.ipynb\" target=\"_parent\"><img src=\"https://colab.research.google.com/assets/colab-badge.svg\" alt=\"Open In Colab\"/></a>"
      ]
    },
    {
      "cell_type": "markdown",
      "metadata": {
        "id": "u5DXwtxwNofv"
      },
      "source": [
        "# 03. 앙상블 학습"
      ]
    },
    {
      "cell_type": "markdown",
      "metadata": {
        "id": "T9TbJcWtNvlW"
      },
      "source": [
        "## 앙상블 학습 개요"
      ]
    },
    {
      "cell_type": "markdown",
      "metadata": {
        "id": "jRDM-YMONxaW"
      },
      "source": [
        "앙상블 학습(Ensemble Learning)을 통한 분류는 여러 개의 분류기(Classifier)를 생성하고 그 예측을 결합함으로써 보다 정확한 최종 예측을 도출하는 기법을 말한다. 어려운 문제의 결론을 내기 위해 여러 명의 전문가로 위원회를 구성해 다양한 의견을 수렴하고 결정하듯이 앙상블 학습의 목표는 다양한 분류기의 예측 결과를 결합함으로써 단일 분류기보다 신뢰성이 높은 예측값을 얻는 것이다.\n",
        "\n",
        "이미지, 영상, 음성 등의 비정형 데이터의 분류는 딥러닝이 뛰어난 성능을 보이고 있지만, 대부분의 정형 데이터 분류 시에는 앙상블이 뛰어난 성능을 나타내고 있다. 앙상블 알고리즘의 대표격인 랜덤포레스트와 그래디언트 부스팅 알고리즘은 뛰어난 성능과 쉬운 사용, 다양한 활용도로 인해 그간 분석가 및 데이터 과학자들 사이에서 많이 애용됐다. 부스팅 계열의 앙상블 알고리즘의 인기와 강세가 계속 이어져 기존의 그래디언트 부스팅을 뛰어넘는 새로운 알고리즘의 개발이 가속화됐다. 데이터 과학자들이 기량을 겨루는 오픈 플랫폼인 캐글(Kaggle)에서 '매력적인 솔루션'으로 불리는 XGBoost, 그리고 XGBoost와 유사한 예측 성능을 가지면서도 훨씬 빠른 수행 속도를 가진 LightGBM, 여러 가지 모델의 결과를 기반으로 메타 모델을 수립하는 스태킹(Stacking)을 포함해 다양한 유형의 앙상블 알고리즘이 머신러닝의 선도 알고리즘으로 인기를 모으고 있다. XGBoost, LightGBM과 같은 최신의 앙상블 모델 한 두 개만 잘 알고 있어도 정형 데이터의 분류나 회귀 분야에서 예측 성능이 매우 뛰어난 모델을 쉽게 만들 수 있다. 그만큼 쉽고 편하면서도 강력한 성능을 보유하고 있는 것이 바로 앙상블 학습의 특징이다.\n",
        "\n",
        "앙상블 학습의 유형은 전통적으로 보팅(Voting), 배깅(Bagging), 부스팅(Boosting)의 세 가지로 나눌 수 있으며, 이외에도 스태킹을 포함한 다양한 앙상블 방법이 있다. 보팅과 배깅은 여러 개의 분류기가 투표를 통해 최종 예측 결과를 결정하는 방식이다. 보팅과 배깅의 다른 점은 보팅의 경우 일반적으로 서로 다른 알고리즘을 가진 분류기를 결합하는 것이고, 배깅의 경우 각각의 분류기가 모두 같은 유형의 알고리즘 기반이지만, 데이터 샘플링을 서로 다르게 가져가면서 학습을 수행해 보팅을 수행하는 것이다. 대표적인 배깅 방식이 바로 랜덤 포레스트 알고리즘이다.\n",
        "\n",
        "예를 들어 보팅 분류기는 선형 회귀, K 최근접 이웃, 서포트 벡터 머신이라는 3개의 ML 알고리즘이 같은 데이터 세트에 대해 학습하고 예측한 결과를 가지고 보팅을 통해 최종 예측 결과를 선정하는 방식이다.\n",
        "\n",
        "배깅 분류기는 단일 ML 알고리즘(결정 트리)으로 여러 분류기가 학습으로 개별 예측을 하는데, 학습하는 데이터 세트가 보팅 방식과는 다르다. 개별 분류기에 할당된 학습 데이터는 원본 학습 데이터를 샘플링해 추출하는데, 이렇게 개별 Classifier에게 데이터를 샘플링해서 추출하는 방식을 부트스트래핑(Bootstrapping) 분할 방식이라고 부른다. 개별 분류기가 부트스트래핑 방식으로 샘플링된 데이터 세트에 대해서 학습을 통해 개별적인 예측을 수행한 결과를 보팅을 통해서 최종 예측 결과를 선정하는 방식이 바로 **배깅 앙상블 방식**이다. 교차 검증이 데이터 세트 간에 중첩을 허용하지 않는 것과 다르게 배깅 방식은 중첩을 허용한다. 따라서 10000개의 데이터를 10개의 분류기가 배깅 방식으로 나누더라도 각 1000개의 데이터 내에는 중복된 데이터가 있다.\n",
        "\n",
        "부스팅은 여러 개의 분류기가 순차적으로 학습을 수행하되, 앞에서 학습한 분류기가 예측이 틀린 데이터에 대해서는 올바르게 예측할 수 있도록 다음 분류기에게는 가중치(weight)를 부여하면서 학습과 예측을 진행하는 것이다. 계속해서 분류기에게 가중치를 부스팅하면서 학습을 진행하기에 부스팅 방식으로 불린다. 예측 성능이 뛰어나 앙상블 학습을 주도하고 있으며 대표적인 부스팅 모듈로 그래디언트 부스트, XGBoost(eXtra Gradient Boost), LightGBM(Light Gradient Boost)이 있다.\n",
        "\n",
        "스태킹은 여러 가지 다른 모델의 예측 결괏값을 다시 학습 데이터로 만들어서 다른 모델(메타 모델)로 재학습시켜 결과를 에측하는 방법이다."
      ]
    },
    {
      "cell_type": "markdown",
      "metadata": {
        "id": "tXgN1i4EjUS2"
      },
      "source": [
        "## 보팅 유형 - 하드 보팅(Hard Voting)과 소프트 보팅(Soft Voting)"
      ]
    },
    {
      "cell_type": "markdown",
      "metadata": {
        "id": "00hdP16-jZZe"
      },
      "source": [
        "보팅 방법에는 두 가지가 있다. 하드 보팅과 소프트 보팅이다. 하드 보팅을 이용한 분류(Classification)는 다수결 원칙과 비슷하다. 예측한 결괏값들 중 다수의 분류기가 결정한 예측값을 최종 보팅 결괏값으로 선정하는 것이다. 소프트 보팅은 분류기들의 레이블 값 결정 확률을 모두 더하고 이를 평균해서 이들 중 확률이 가장 높은 레이블 값을 최종 보팅 결괏값으로 선정한다. 일반적으로 소프트 보팅이 보팅 방법으로 적용된다.\n",
        "\n",
        "예를 들어 하드 보팅은 Classifier 1번, 2번, 3번, 4번인 4개로 구성한 보팅 앙상블 기법에서 분류기 1번, 3번, 4번이 1로 레이블 값을 예측하고 분류기 2번이 2로 레이블 값을 예측하면 다수결 원칙에 따라서 최종 예측은 레이블 값 1이 된다.\n",
        "\n",
        "소프트 보팅은 각 분류기의 레이블 값 예측 확률을 평균 내어 최종 결정한다. 가령 분류기 1번의 레이블 값 1과 2의 예측 확률이 각각 0.7/0.3이고 분류기 2번은 0.2/0.8, 분류기 3번은 0.8/0.2, 분류기 4번은 0.9/0.1이라면 레이블 값 1의 평균 예측 확률은 분류기 1번, 2번, 3번, 4번의 확률을 모두 더하여 평균하면 (0.7+0.2+0.8+0.9)/4=0.65가 된다. 레이블 값 2의 평균 예측 확률도 같은 방법으로 계산하면 (0.3+0.8+0.2+0.2)/4=0.35가 된다. 따라서 레이블 값 1의 확률이 0.65로 레이블 값 2인 확률 0.35보다 크므로 레이블 값 1로 최종 보팅하는 것이 소프트 보팅이다. 일반적으로 하드 보팅보다는 소프트 보팅이 예측 성능이 좋아서 더 많이 사용된다."
      ]
    },
    {
      "cell_type": "markdown",
      "metadata": {
        "id": "uGsyPVWkkZ5E"
      },
      "source": [
        "## 보팅 분류기(Voting Classifier)"
      ]
    },
    {
      "cell_type": "markdown",
      "metadata": {
        "id": "qJD7nmwckcL_"
      },
      "source": [
        "사이킷런은 보팅 방식의 앙상블을 구현한 VotingClassifier 클래스를 제공하고 있다.\n",
        "\n",
        "보팅 방식의 앙상블을 이용해 위스콘신 유방암 데이터 세트를 예측 분석해 보겠다. 위스콘신 유방암 데이터 세트는 유방암의 악성종양, 양성종양 여부를 결정하는 이진 분류 데이터 세트이며 종양의 크기, 모양 등의 형태와 관련한 많은 피처를 가지고 있다. 사이킷런은 load_breast_cancer() 함수를 통해 자체에서 위스콘신 유방암 데이터 세트를 생성할 수 있다.\n",
        "\n",
        "로지스틱 회귀와 KNN을 기반으로 보팅 분류기를 만들어 보겠다. 먼저 필요한 모듈과 데이터를 로딩한 후 위스콘신 데이터 세트를 간략히 살펴보겠다."
      ]
    },
    {
      "cell_type": "code",
      "execution_count": null,
      "metadata": {
        "colab": {
          "base_uri": "https://localhost:8080/",
          "height": 227
        },
        "id": "Zj_NxplxM3pB",
        "outputId": "bb6babbd-28fc-412c-9251-e1e967d103f7"
      },
      "outputs": [
        {
          "output_type": "execute_result",
          "data": {
            "text/plain": [
              "   mean radius  mean texture  mean perimeter  mean area  mean smoothness  \\\n",
              "0        17.99         10.38           122.8     1001.0          0.11840   \n",
              "1        20.57         17.77           132.9     1326.0          0.08474   \n",
              "2        19.69         21.25           130.0     1203.0          0.10960   \n",
              "\n",
              "   mean compactness  mean concavity  mean concave points  mean symmetry  \\\n",
              "0           0.27760          0.3001              0.14710         0.2419   \n",
              "1           0.07864          0.0869              0.07017         0.1812   \n",
              "2           0.15990          0.1974              0.12790         0.2069   \n",
              "\n",
              "   mean fractal dimension  ...  worst radius  worst texture  worst perimeter  \\\n",
              "0                 0.07871  ...         25.38          17.33            184.6   \n",
              "1                 0.05667  ...         24.99          23.41            158.8   \n",
              "2                 0.05999  ...         23.57          25.53            152.5   \n",
              "\n",
              "   worst area  worst smoothness  worst compactness  worst concavity  \\\n",
              "0      2019.0            0.1622             0.6656           0.7119   \n",
              "1      1956.0            0.1238             0.1866           0.2416   \n",
              "2      1709.0            0.1444             0.4245           0.4504   \n",
              "\n",
              "   worst concave points  worst symmetry  worst fractal dimension  \n",
              "0                0.2654          0.4601                  0.11890  \n",
              "1                0.1860          0.2750                  0.08902  \n",
              "2                0.2430          0.3613                  0.08758  \n",
              "\n",
              "[3 rows x 30 columns]"
            ],
            "text/html": [
              "\n",
              "  <div id=\"df-c94ab87c-b800-46b4-8a0e-4cc6375766e6\" class=\"colab-df-container\">\n",
              "    <div>\n",
              "<style scoped>\n",
              "    .dataframe tbody tr th:only-of-type {\n",
              "        vertical-align: middle;\n",
              "    }\n",
              "\n",
              "    .dataframe tbody tr th {\n",
              "        vertical-align: top;\n",
              "    }\n",
              "\n",
              "    .dataframe thead th {\n",
              "        text-align: right;\n",
              "    }\n",
              "</style>\n",
              "<table border=\"1\" class=\"dataframe\">\n",
              "  <thead>\n",
              "    <tr style=\"text-align: right;\">\n",
              "      <th></th>\n",
              "      <th>mean radius</th>\n",
              "      <th>mean texture</th>\n",
              "      <th>mean perimeter</th>\n",
              "      <th>mean area</th>\n",
              "      <th>mean smoothness</th>\n",
              "      <th>mean compactness</th>\n",
              "      <th>mean concavity</th>\n",
              "      <th>mean concave points</th>\n",
              "      <th>mean symmetry</th>\n",
              "      <th>mean fractal dimension</th>\n",
              "      <th>...</th>\n",
              "      <th>worst radius</th>\n",
              "      <th>worst texture</th>\n",
              "      <th>worst perimeter</th>\n",
              "      <th>worst area</th>\n",
              "      <th>worst smoothness</th>\n",
              "      <th>worst compactness</th>\n",
              "      <th>worst concavity</th>\n",
              "      <th>worst concave points</th>\n",
              "      <th>worst symmetry</th>\n",
              "      <th>worst fractal dimension</th>\n",
              "    </tr>\n",
              "  </thead>\n",
              "  <tbody>\n",
              "    <tr>\n",
              "      <th>0</th>\n",
              "      <td>17.99</td>\n",
              "      <td>10.38</td>\n",
              "      <td>122.8</td>\n",
              "      <td>1001.0</td>\n",
              "      <td>0.11840</td>\n",
              "      <td>0.27760</td>\n",
              "      <td>0.3001</td>\n",
              "      <td>0.14710</td>\n",
              "      <td>0.2419</td>\n",
              "      <td>0.07871</td>\n",
              "      <td>...</td>\n",
              "      <td>25.38</td>\n",
              "      <td>17.33</td>\n",
              "      <td>184.6</td>\n",
              "      <td>2019.0</td>\n",
              "      <td>0.1622</td>\n",
              "      <td>0.6656</td>\n",
              "      <td>0.7119</td>\n",
              "      <td>0.2654</td>\n",
              "      <td>0.4601</td>\n",
              "      <td>0.11890</td>\n",
              "    </tr>\n",
              "    <tr>\n",
              "      <th>1</th>\n",
              "      <td>20.57</td>\n",
              "      <td>17.77</td>\n",
              "      <td>132.9</td>\n",
              "      <td>1326.0</td>\n",
              "      <td>0.08474</td>\n",
              "      <td>0.07864</td>\n",
              "      <td>0.0869</td>\n",
              "      <td>0.07017</td>\n",
              "      <td>0.1812</td>\n",
              "      <td>0.05667</td>\n",
              "      <td>...</td>\n",
              "      <td>24.99</td>\n",
              "      <td>23.41</td>\n",
              "      <td>158.8</td>\n",
              "      <td>1956.0</td>\n",
              "      <td>0.1238</td>\n",
              "      <td>0.1866</td>\n",
              "      <td>0.2416</td>\n",
              "      <td>0.1860</td>\n",
              "      <td>0.2750</td>\n",
              "      <td>0.08902</td>\n",
              "    </tr>\n",
              "    <tr>\n",
              "      <th>2</th>\n",
              "      <td>19.69</td>\n",
              "      <td>21.25</td>\n",
              "      <td>130.0</td>\n",
              "      <td>1203.0</td>\n",
              "      <td>0.10960</td>\n",
              "      <td>0.15990</td>\n",
              "      <td>0.1974</td>\n",
              "      <td>0.12790</td>\n",
              "      <td>0.2069</td>\n",
              "      <td>0.05999</td>\n",
              "      <td>...</td>\n",
              "      <td>23.57</td>\n",
              "      <td>25.53</td>\n",
              "      <td>152.5</td>\n",
              "      <td>1709.0</td>\n",
              "      <td>0.1444</td>\n",
              "      <td>0.4245</td>\n",
              "      <td>0.4504</td>\n",
              "      <td>0.2430</td>\n",
              "      <td>0.3613</td>\n",
              "      <td>0.08758</td>\n",
              "    </tr>\n",
              "  </tbody>\n",
              "</table>\n",
              "<p>3 rows × 30 columns</p>\n",
              "</div>\n",
              "    <div class=\"colab-df-buttons\">\n",
              "\n",
              "  <div class=\"colab-df-container\">\n",
              "    <button class=\"colab-df-convert\" onclick=\"convertToInteractive('df-c94ab87c-b800-46b4-8a0e-4cc6375766e6')\"\n",
              "            title=\"Convert this dataframe to an interactive table.\"\n",
              "            style=\"display:none;\">\n",
              "\n",
              "  <svg xmlns=\"http://www.w3.org/2000/svg\" height=\"24px\" viewBox=\"0 -960 960 960\">\n",
              "    <path d=\"M120-120v-720h720v720H120Zm60-500h600v-160H180v160Zm220 220h160v-160H400v160Zm0 220h160v-160H400v160ZM180-400h160v-160H180v160Zm440 0h160v-160H620v160ZM180-180h160v-160H180v160Zm440 0h160v-160H620v160Z\"/>\n",
              "  </svg>\n",
              "    </button>\n",
              "\n",
              "  <style>\n",
              "    .colab-df-container {\n",
              "      display:flex;\n",
              "      gap: 12px;\n",
              "    }\n",
              "\n",
              "    .colab-df-convert {\n",
              "      background-color: #E8F0FE;\n",
              "      border: none;\n",
              "      border-radius: 50%;\n",
              "      cursor: pointer;\n",
              "      display: none;\n",
              "      fill: #1967D2;\n",
              "      height: 32px;\n",
              "      padding: 0 0 0 0;\n",
              "      width: 32px;\n",
              "    }\n",
              "\n",
              "    .colab-df-convert:hover {\n",
              "      background-color: #E2EBFA;\n",
              "      box-shadow: 0px 1px 2px rgba(60, 64, 67, 0.3), 0px 1px 3px 1px rgba(60, 64, 67, 0.15);\n",
              "      fill: #174EA6;\n",
              "    }\n",
              "\n",
              "    .colab-df-buttons div {\n",
              "      margin-bottom: 4px;\n",
              "    }\n",
              "\n",
              "    [theme=dark] .colab-df-convert {\n",
              "      background-color: #3B4455;\n",
              "      fill: #D2E3FC;\n",
              "    }\n",
              "\n",
              "    [theme=dark] .colab-df-convert:hover {\n",
              "      background-color: #434B5C;\n",
              "      box-shadow: 0px 1px 3px 1px rgba(0, 0, 0, 0.15);\n",
              "      filter: drop-shadow(0px 1px 2px rgba(0, 0, 0, 0.3));\n",
              "      fill: #FFFFFF;\n",
              "    }\n",
              "  </style>\n",
              "\n",
              "    <script>\n",
              "      const buttonEl =\n",
              "        document.querySelector('#df-c94ab87c-b800-46b4-8a0e-4cc6375766e6 button.colab-df-convert');\n",
              "      buttonEl.style.display =\n",
              "        google.colab.kernel.accessAllowed ? 'block' : 'none';\n",
              "\n",
              "      async function convertToInteractive(key) {\n",
              "        const element = document.querySelector('#df-c94ab87c-b800-46b4-8a0e-4cc6375766e6');\n",
              "        const dataTable =\n",
              "          await google.colab.kernel.invokeFunction('convertToInteractive',\n",
              "                                                    [key], {});\n",
              "        if (!dataTable) return;\n",
              "\n",
              "        const docLinkHtml = 'Like what you see? Visit the ' +\n",
              "          '<a target=\"_blank\" href=https://colab.research.google.com/notebooks/data_table.ipynb>data table notebook</a>'\n",
              "          + ' to learn more about interactive tables.';\n",
              "        element.innerHTML = '';\n",
              "        dataTable['output_type'] = 'display_data';\n",
              "        await google.colab.output.renderOutput(dataTable, element);\n",
              "        const docLink = document.createElement('div');\n",
              "        docLink.innerHTML = docLinkHtml;\n",
              "        element.appendChild(docLink);\n",
              "      }\n",
              "    </script>\n",
              "  </div>\n",
              "\n",
              "\n",
              "<div id=\"df-c5453926-4343-411e-adbc-bf5595a91ebc\">\n",
              "  <button class=\"colab-df-quickchart\" onclick=\"quickchart('df-c5453926-4343-411e-adbc-bf5595a91ebc')\"\n",
              "            title=\"Suggest charts\"\n",
              "            style=\"display:none;\">\n",
              "\n",
              "<svg xmlns=\"http://www.w3.org/2000/svg\" height=\"24px\"viewBox=\"0 0 24 24\"\n",
              "     width=\"24px\">\n",
              "    <g>\n",
              "        <path d=\"M19 3H5c-1.1 0-2 .9-2 2v14c0 1.1.9 2 2 2h14c1.1 0 2-.9 2-2V5c0-1.1-.9-2-2-2zM9 17H7v-7h2v7zm4 0h-2V7h2v10zm4 0h-2v-4h2v4z\"/>\n",
              "    </g>\n",
              "</svg>\n",
              "  </button>\n",
              "\n",
              "<style>\n",
              "  .colab-df-quickchart {\n",
              "      --bg-color: #E8F0FE;\n",
              "      --fill-color: #1967D2;\n",
              "      --hover-bg-color: #E2EBFA;\n",
              "      --hover-fill-color: #174EA6;\n",
              "      --disabled-fill-color: #AAA;\n",
              "      --disabled-bg-color: #DDD;\n",
              "  }\n",
              "\n",
              "  [theme=dark] .colab-df-quickchart {\n",
              "      --bg-color: #3B4455;\n",
              "      --fill-color: #D2E3FC;\n",
              "      --hover-bg-color: #434B5C;\n",
              "      --hover-fill-color: #FFFFFF;\n",
              "      --disabled-bg-color: #3B4455;\n",
              "      --disabled-fill-color: #666;\n",
              "  }\n",
              "\n",
              "  .colab-df-quickchart {\n",
              "    background-color: var(--bg-color);\n",
              "    border: none;\n",
              "    border-radius: 50%;\n",
              "    cursor: pointer;\n",
              "    display: none;\n",
              "    fill: var(--fill-color);\n",
              "    height: 32px;\n",
              "    padding: 0;\n",
              "    width: 32px;\n",
              "  }\n",
              "\n",
              "  .colab-df-quickchart:hover {\n",
              "    background-color: var(--hover-bg-color);\n",
              "    box-shadow: 0 1px 2px rgba(60, 64, 67, 0.3), 0 1px 3px 1px rgba(60, 64, 67, 0.15);\n",
              "    fill: var(--button-hover-fill-color);\n",
              "  }\n",
              "\n",
              "  .colab-df-quickchart-complete:disabled,\n",
              "  .colab-df-quickchart-complete:disabled:hover {\n",
              "    background-color: var(--disabled-bg-color);\n",
              "    fill: var(--disabled-fill-color);\n",
              "    box-shadow: none;\n",
              "  }\n",
              "\n",
              "  .colab-df-spinner {\n",
              "    border: 2px solid var(--fill-color);\n",
              "    border-color: transparent;\n",
              "    border-bottom-color: var(--fill-color);\n",
              "    animation:\n",
              "      spin 1s steps(1) infinite;\n",
              "  }\n",
              "\n",
              "  @keyframes spin {\n",
              "    0% {\n",
              "      border-color: transparent;\n",
              "      border-bottom-color: var(--fill-color);\n",
              "      border-left-color: var(--fill-color);\n",
              "    }\n",
              "    20% {\n",
              "      border-color: transparent;\n",
              "      border-left-color: var(--fill-color);\n",
              "      border-top-color: var(--fill-color);\n",
              "    }\n",
              "    30% {\n",
              "      border-color: transparent;\n",
              "      border-left-color: var(--fill-color);\n",
              "      border-top-color: var(--fill-color);\n",
              "      border-right-color: var(--fill-color);\n",
              "    }\n",
              "    40% {\n",
              "      border-color: transparent;\n",
              "      border-right-color: var(--fill-color);\n",
              "      border-top-color: var(--fill-color);\n",
              "    }\n",
              "    60% {\n",
              "      border-color: transparent;\n",
              "      border-right-color: var(--fill-color);\n",
              "    }\n",
              "    80% {\n",
              "      border-color: transparent;\n",
              "      border-right-color: var(--fill-color);\n",
              "      border-bottom-color: var(--fill-color);\n",
              "    }\n",
              "    90% {\n",
              "      border-color: transparent;\n",
              "      border-bottom-color: var(--fill-color);\n",
              "    }\n",
              "  }\n",
              "</style>\n",
              "\n",
              "  <script>\n",
              "    async function quickchart(key) {\n",
              "      const quickchartButtonEl =\n",
              "        document.querySelector('#' + key + ' button');\n",
              "      quickchartButtonEl.disabled = true;  // To prevent multiple clicks.\n",
              "      quickchartButtonEl.classList.add('colab-df-spinner');\n",
              "      try {\n",
              "        const charts = await google.colab.kernel.invokeFunction(\n",
              "            'suggestCharts', [key], {});\n",
              "      } catch (error) {\n",
              "        console.error('Error during call to suggestCharts:', error);\n",
              "      }\n",
              "      quickchartButtonEl.classList.remove('colab-df-spinner');\n",
              "      quickchartButtonEl.classList.add('colab-df-quickchart-complete');\n",
              "    }\n",
              "    (() => {\n",
              "      let quickchartButtonEl =\n",
              "        document.querySelector('#df-c5453926-4343-411e-adbc-bf5595a91ebc button');\n",
              "      quickchartButtonEl.style.display =\n",
              "        google.colab.kernel.accessAllowed ? 'block' : 'none';\n",
              "    })();\n",
              "  </script>\n",
              "</div>\n",
              "\n",
              "    </div>\n",
              "  </div>\n"
            ],
            "application/vnd.google.colaboratory.intrinsic+json": {
              "type": "dataframe",
              "variable_name": "data_df"
            }
          },
          "metadata": {},
          "execution_count": 1
        }
      ],
      "source": [
        "import pandas as pd\n",
        "\n",
        "from sklearn.ensemble import VotingClassifier\n",
        "from sklearn.linear_model import LogisticRegression\n",
        "from sklearn.neighbors import KNeighborsClassifier\n",
        "from sklearn.datasets import load_breast_cancer\n",
        "from sklearn.model_selection import train_test_split\n",
        "from sklearn.metrics import accuracy_score\n",
        "\n",
        "cancer=load_breast_cancer()\n",
        "\n",
        "data_df=pd.DataFrame(cancer.data, columns=cancer.feature_names)\n",
        "data_df.head(3)"
      ]
    },
    {
      "cell_type": "markdown",
      "metadata": {
        "id": "r84hNTeklTGw"
      },
      "source": [
        "로지스틱 회귀와 KNN을 기반으로 하여 소프트 보팅 방식으로 새롭게 보팅 분류기를 만들어 보겠다. 사이킷런은 VotingClassifier 클래스를 이용해 보팅 분류기를 생성할 수 있다. VotingClassifier 클래스는 주요 생성 인자로 estimators와 voting 값을 입력 받는다. estimators는 리스트 값으로 보팅에 사용될 여러 개의 Classifier 객체들을 튜플 형식으로 입력 받으며 voting은 'hard' 시 하드 보팅, 'soft'시 소프트 보팅 방식을 적용하라는 의미이다(기본은 'hard'이다)."
      ]
    },
    {
      "cell_type": "code",
      "execution_count": null,
      "metadata": {
        "colab": {
          "base_uri": "https://localhost:8080/"
        },
        "id": "H9x6g2gVlp-P",
        "outputId": "58df7c8b-949f-4121-8a18-e802937482bb"
      },
      "outputs": [
        {
          "output_type": "stream",
          "name": "stderr",
          "text": [
            "/usr/local/lib/python3.10/dist-packages/sklearn/linear_model/_logistic.py:458: ConvergenceWarning: lbfgs failed to converge (status=1):\n",
            "STOP: TOTAL NO. of ITERATIONS REACHED LIMIT.\n",
            "\n",
            "Increase the number of iterations (max_iter) or scale the data as shown in:\n",
            "    https://scikit-learn.org/stable/modules/preprocessing.html\n",
            "Please also refer to the documentation for alternative solver options:\n",
            "    https://scikit-learn.org/stable/modules/linear_model.html#logistic-regression\n",
            "  n_iter_i = _check_optimize_result(\n"
          ]
        },
        {
          "output_type": "stream",
          "name": "stdout",
          "text": [
            "Voting 분류기 정확도 : 0.9474\n",
            "LogisticRegression 정확도 : 0.9386\n",
            "KNeighborsClassifier 정확도 : 0.9386\n"
          ]
        },
        {
          "output_type": "stream",
          "name": "stderr",
          "text": [
            "/usr/local/lib/python3.10/dist-packages/sklearn/linear_model/_logistic.py:458: ConvergenceWarning: lbfgs failed to converge (status=1):\n",
            "STOP: TOTAL NO. of ITERATIONS REACHED LIMIT.\n",
            "\n",
            "Increase the number of iterations (max_iter) or scale the data as shown in:\n",
            "    https://scikit-learn.org/stable/modules/preprocessing.html\n",
            "Please also refer to the documentation for alternative solver options:\n",
            "    https://scikit-learn.org/stable/modules/linear_model.html#logistic-regression\n",
            "  n_iter_i = _check_optimize_result(\n"
          ]
        }
      ],
      "source": [
        "# 개별 모델은 로지스틱 회귀와 KNN임\n",
        "lr_clf=LogisticRegression()\n",
        "knn_clf=KNeighborsClassifier(n_neighbors=8)\n",
        "\n",
        "# 개별 모델을 소프트 보팅 기반의 앙상블 모델로 구현한 분류기\n",
        "vo_clf=VotingClassifier(estimators=[('LR', lr_clf), ('KNN', knn_clf)], voting='soft')\n",
        "\n",
        "X_train, X_test, y_train, y_test=train_test_split(cancer.data, cancer.target,\n",
        "                                                  test_size=0.2, random_state=156)\n",
        "\n",
        "# VotingClassifier 학습/예측/평가\n",
        "vo_clf.fit(X_train, y_train)\n",
        "pred=vo_clf.predict(X_test)\n",
        "print('Voting 분류기 정확도 : {0:.4f}'.format(accuracy_score(y_test, pred)))\n",
        "\n",
        "# 개별 모델의 학습/예측/평가\n",
        "classifiers=[lr_clf, knn_clf]\n",
        "for classifier in classifiers:\n",
        "    classifier.fit(X_train, y_train)\n",
        "    pred=classifier.predict(X_test)\n",
        "    class_name=classifier.__class__.__name__\n",
        "    print('{0} 정확도 : {1:.4f}'.format(class_name, accuracy_score(y_test, pred)))"
      ]
    },
    {
      "cell_type": "markdown",
      "metadata": {
        "id": "YiEqKHnNmuIh"
      },
      "source": [
        "보팅 분류기가 정확도가 조금 높게 나타났는데, 보팅으로 여러 개의 기반 분류기를 결합한다고 해서 무조건 기반 분류기보다 예측 성능이 향상되지는 않는다. 데이터의 특성과 분포 등 다양한 요건에 따라 오히려 기반 분류기 중 가장 좋은 분류기의 성능이 보팅했을 때보다 나을 수도 있다.\n",
        "\n",
        "그럼에도 불구하고 지금 소개하는 보팅을 포함해 배깅과 부스팅 등의 앙상블 방법은 전반적으로 다른 단일 ML 알고리즘보다 뛰어난 예측 성능을 가지는 경우가 많다. 고정된 데이터 세트에서 단일 ML 알고리즘이 뛰어난 성능을 발휘하더라도 현실 세계는 다양한 변수와 예측이 어려운 규칙으로 구성돼있다. 다양한 관점을 가진 알고리즘이 서로 결합해 더 나은 성능을 실제 환경에서 끌어낼 수 있다. 약간 동떨어진 이야기일 수 있지만, 현실 세계의 프로젝트에서도 똑똑한 사람들로만 구성된 팀보다는 다양한 경험과 백그라운드를 가진 사람들로 구성된 팀이 오히려 프로젝트를 성공으로 이끌 가능성이 높다. 후자의 경우는 다양한 관점에서 문제에 접근하고 서로의 약점을 보완해서 높은 유연성을 가질 수 있기 때문이다. 높은 유연성은 그동안 경험해 보지 못한 새로운 문제에 대한 해결책을 좀 더 쉽게 제시할 수 있다. 반면에 전자의 경우 우수한 인재들이 자신이 잘 아는 분야에 대해서 고정된 관점을 가지는 경우가 많아 상대적으로 유연성이 떨어질 수 있다.\n",
        "\n",
        "ML 모델의 성능은 이렇게 다양한 테스트 데이터에 의해 검증되므로 어떻게 높은 유연성을 가지고 현실에 대처할 수 있는가가 중요한 ML 모델의 평가요소가 된다. 이런 관점에서 편향-분산 트레이드오프는 ML 모델이 극복해야 할 중요 과제이다. 보팅과 스태킹 등은 서로 다른 알고리즘을 기반으로 하고 있지만, 배깅과 부스팅은 대부분 결정 트리 알고리즘을 기반으로 한다. 결정 트리 알고리즘은 쉽고 직관적인 분류 기준을 가지고 있지만 정확한 예측을 위해 학습 데이터의 예외 상황에 집착한 나머지 오히려 과적합이 발생해 실제 테스트 데이터에서 예측 성능이 떨어지는 현상이 발생하기 쉽다고 앞에서 말했다. 하지만 앙상블 학습에서는 이 같은 결정 트리 알고리즘의 단점을 수십~수천 개의 매우 많은 분류기를 결합해 다양한 상황을 학습하게 함으로써 극복하고 있다. 결정 트리 알고리즘의 장점은 그대로 취하고 단점은 보완하면서 편향-분산 트레이드오프의 효과를 극대화할 수 있다는 것이다."
      ]
    },
    {
      "cell_type": "markdown",
      "metadata": {
        "id": "a9HP2kHGoSyJ"
      },
      "source": [
        "# 04. 랜덤 포레스트"
      ]
    },
    {
      "cell_type": "markdown",
      "metadata": {
        "id": "ADL9ZkfXoUtR"
      },
      "source": [
        "## 랜덤 포레스트의 개요 및 실습"
      ]
    },
    {
      "cell_type": "markdown",
      "metadata": {
        "id": "Wbf2FTLwoWTn"
      },
      "source": [
        "배깅(bagging)은 앞에서 소개한 보팅과는 다르게, 같은 알고리즘으로 여러 개의 분류기를 만들어서 보팅으로 최종 결정하는 알고리즘이다. 배깅의 대표적인 알고리즘은 랜덤 포레스트이다. 랜덤 포레스트는 다재 다능한 알고리즘이다. 앙상블 알고리즘 중 비교적 빠른 수행 속도를 가지고 있으며, 다양한 영역에서 높은 예측 성능을 보이고 있다. 랜덤 포레스트의 기반 알고리즘은 결정 트리로서, 결정 트리의 쉽고 직관적인 장점을 그대로 가지고 있다(랜덤 포레스트뿐만 아니라 부스팅 기반의 다양한 앙상블 알고리즘 역시 대부분 결정 트리 알고리즘을 기반 알고리즘으로 채택하고 있다).\n",
        "\n",
        "랜덤 포레스트는 여러 개의 결정 트리 분류기가 전체 데이터에서 배깅 방식으로 각자의 데이터를 샘플링해 개별적으로 학습을 수행한 뒤 최종적으로 모든 분류기가 보팅을 통해 예측 결정을 하게 된다.\n",
        "\n",
        "랜덤 포레스트는 개별적인 분류기의 기반 알고리즘은 결정 트리이지만 개별 트리가 학습하는 데이터 세트는 전체 데이터에서 일부가 중첩되게 샘플링된 데이터 세트이다. 이렇게 여러 개의 데이터 세트를 중첩되게 분리하는 것을 부트스트래핑(bootstrapping) 분할 방식이라고 한다(그래서 배깅(Bagging)이 bootstrap aggregating의 줄임말이다). 원래 부트스트랩은 통계학에서 여러 개의 작은 데이터 세트를 임의로 만들어 개별 평균의 분포도를 측정하는 등의 목적을 위한 샘플링 방식을 지칭한다. 랜덤 포레스트의 서브세트(Subset) 데이터는 이러한 부트스트래핑으로 데이터가 임의로 만들어진다. 서브세트의 데이터 건수는 전체 데이터 건수와 동일하지만, 개별 데이터가 중첩되어 만들어진다. 원본 데이터의 건수가 10개인 학습 데이터 세트에 랜덤 포레스트를 3개의 결정 트리 기반으로 학습하려고 n_estimators=3으로 하이퍼 파라미터를 부여하면 다음과 같이 데이터 서브세트가 만들어 진다.\n",
        "\n",
        "이렇게 데이터가 중첩된 개별 데이터 세트에 결정 트리 분류기를 각각 적용하는 것이 랜덤 포레스트이다. 사이킷런은 RandomForestClassifier 클래스를 통해 랜덤 포레스트 기반의 분류를 지원한다. 앞의 사용자 행동 인식 데이터 세트를 RandomForestClassifier를 이용해 예측해 보겠다(재수행할 때마다 동일한 예측 결과를 출력하기 위해 RandomForestClassifier의 random_state를 0으로 설정하겠다). 새로운 주피터 노트북을 생성하되, 앞의 결정 트리를 이용한 사용자 행동 인식 예측에서 사용한 주피터 노트북과 같은 디렉터리에 생성하겠다. 사용자 행동 데이터 세트에 DataFrame을 반환하는 get_human_dataset()를 이용하기 위해서이다. get_human_dataset()를 이용해 학습/테스트용 DataFrame을 가져온다."
      ]
    },
    {
      "cell_type": "code",
      "execution_count": null,
      "metadata": {
        "id": "7g7QbqlVxLSY"
      },
      "outputs": [],
      "source": [
        "def get_new_feature_name_df(old_feature_name_df):\n",
        "    feature_dup_df=pd.DataFrame(data=old_feature_name_df.groupby('column_name').cumcount(),\n",
        "                                columns=['dup_cnt'])\n",
        "    feature_dup_df=feature_dup_df.reset_index()\n",
        "    new_feature_name_df=pd.merge(old_feature_name_df.reset_index(), feature_dup_df, how='outer')\n",
        "    new_feature_name_df['column_name']=new_feature_name_df[['column_name',\n",
        "                                                            'dup_cnt']].apply(lambda x : x[0]+'_'+str(x[1])\n",
        "                                                            if x[1]>0 else x[0], axis=1)\n",
        "\n",
        "    new_feature_name_df=new_feature_name_df.drop(['index'], axis=1)\n",
        "    return new_feature_name_df\n",
        "\n",
        "import pandas as pd\n",
        "\n",
        "def get_human_dataset():\n",
        "\n",
        "    # 각 데이터 파일은 공백으로 분리되어 있으므로 read_csv에서 공백 문자를 sep으로 할당\n",
        "    feature_name_df=pd.read_csv('/content/features.txt', sep='\\s+',\n",
        "                                header=None, names=['column_index', 'column_name'])\n",
        "\n",
        "    # 중복된 피처명을 수정하는 get_new_feature_name_df()를 이용, 신규 피처명 DataFrame 생성\n",
        "    new_feature_name_df=get_new_feature_name_df(feature_name_df)\n",
        "\n",
        "    # DataFrame에 피처명을 칼럼으로 부여하기 위해 리스트 객체로 다시 반환\n",
        "    feature_name=new_feature_name_df.iloc[:, 1].values.tolist()\n",
        "\n",
        "    # 학습 피처 데이터세트와 테스트 피처 데이터를 DataFrame으로 로딩. 칼럼명은 feature_name 적용\n",
        "    X_train=pd.read_csv('/content/X_train.txt', sep='\\s+', names=feature_name)\n",
        "    X_test=pd.read_csv('/content/X_test.txt', sep='\\s+', names=feature_name)\n",
        "\n",
        "    # 학습 레이블과 테스트 레이블 데이터를 DataFrame으로 로딩하고 칼럼명은 action으로 부여\n",
        "    y_train=pd.read_csv('/content/y_train.txt', sep='\\s+', header=None, names=['action'])\n",
        "    y_test=pd.read_csv('/content/y_test.txt', sep='\\s+', header=None, names=['action'])\n",
        "\n",
        "    # 로드된 학습/테스트용 DataFrame을 모두 반환\n",
        "    return X_train, X_test, y_train, y_test"
      ]
    },
    {
      "cell_type": "code",
      "execution_count": null,
      "metadata": {
        "colab": {
          "base_uri": "https://localhost:8080/"
        },
        "id": "RLf_M7bUwR9Y",
        "outputId": "2f6bc685-a4b6-4462-e36a-4814fa153d76"
      },
      "outputs": [
        {
          "output_type": "stream",
          "name": "stdout",
          "text": [
            "랜덤 포레스트 정확도 : 0.9253\n"
          ]
        }
      ],
      "source": [
        "from sklearn.ensemble import RandomForestClassifier\n",
        "from sklearn.metrics import accuracy_score\n",
        "import pandas as pd\n",
        "import warnings\n",
        "warnings.filterwarnings('ignore')\n",
        "\n",
        "# 결정 트리에서 사용한 get_human_dataset()를 이용해 학습/테스트용 DataFrame 반환\n",
        "X_train, X_test, y_train, y_test=get_human_dataset()\n",
        "\n",
        "# 랜덤 포레스트 학습 및 별도의 테스트 세트로 예측 성능 평가\n",
        "rf_clf=RandomForestClassifier(random_state=0)\n",
        "rf_clf.fit(X_train, y_train)\n",
        "pred=rf_clf.predict(X_test)\n",
        "accuracy=accuracy_score(y_test, pred)\n",
        "print('랜덤 포레스트 정확도 : {0:.4f}'.format(accuracy))"
      ]
    },
    {
      "cell_type": "markdown",
      "metadata": {
        "id": "USd8YNcOyEmJ"
      },
      "source": [
        "랜덤 포레스트는 사용자 행동 인식 데이터 세트에 대해 약 92.53%의 정확도를 보여준다."
      ]
    },
    {
      "cell_type": "markdown",
      "metadata": {
        "id": "-wi3271gyOaG"
      },
      "source": [
        "## 랜덤 포레스트 하이퍼 파라미터 및 튜닝"
      ]
    },
    {
      "cell_type": "markdown",
      "metadata": {
        "id": "oPQsVS-4yRHH"
      },
      "source": [
        "트리 기반의 앙상블 알고리즘의 단점을 굳이 뽑자면 하이퍼 파리미터가 너무 많고, 그로 인해서 튜닝을 위한 시간이 많이 소모된다는 것이다. 더구나 많은 시간을 소모했음에도 튜닝 후 예측 성능이 크게 향상되는 경우가 많지 않아서 더욱 아쉽다. 트리 기반 자체의 하이퍼 파라미터가 원래 많은데다 배깅, 부스팅, 학습, 정규화 등을 위한 하이퍼 파라미터까지 추가되므로 일반적으로 다른 ML 알고리즘에 비해 많을 수밖에 없다. 그나마 랜덤 포레스트가 적은 편에 속하는데, 결정 트리에서 사용되는 하이퍼 파라미터와 같은 파라미터가 대부분이기 때문이다.\n",
        "\n",
        "* n_estimators : 랜덤 포레스트에서 결정 트리의 개수를 지정한다. 디폴트는 10개이다. 많이 설정할수록 좋은 성능을 기대할 수 있지만 계속 증가시킨다고 성능이 무조건 향상되는 것은 아니다. 또한 늘릴수록 학습 수행 시간이 오래 걸리는 것도 감안해야 한다.\n",
        "* max_features는 결정 트리에 사용된 max_features 파라미터와 같다. 하지만 RandomForestClassifier의 기본 max_features는 'None'이 아니라 'auto', 즉 'sqrt'와 같다. 따라서 랜덤 포레스트의 트리를 분할하는 피처를 참조할 때 전체 피처가 아니라 sqrt(전체 피처 개수)만큼 참조한다(전체 피처가 16개라면 분할을 위해 4개 참조).\n",
        "* max_depth나 min_samples_leaf와 같이 결정 트리에서 과적합을 개선하기 위해 사용되는 파라미터가 랜덤 포레스트에도 똑같이 적용될 수 있다.\n",
        "\n",
        "이번에는 GridSearchCV를 이용해 랜덤 포레스트의 하이퍼 파라미터를 튜닝해 보겠다. 앞의 사용자 행동 데이터 세트를 그대로 이용하고, 튜닝 시간을 절약하기 위해 n_estimators는 100으로, CV를 2로만 설정해 최적 하이퍼 파라미터를 구해 보겠다. 다른 하이퍼 파라미터를 최적화한 뒤에 n_estimators는 나중에 300으로 증가시켜서 예측 성능을 평가하겠다.\n",
        "\n",
        "다음 예제는 저자의 노트북에서 5분 정도 수행 시간이 걸린다. 하지만 28 CPU Core 기반의 리눅스 서버에서는 약 6초가 걸린다. 그만큼 랜덤 포레스트는 CPU 병렬 처리도 효과적으로 수행되어 빠른 학습이 가능하기 때문에 뒤에 소개할 그래디언트 부스팅보다 예측 성능이 약간 떨어지더라도 랜덤 포레스트로 일단 기반 모델을 먼저 구축하는 경우가 많다. 멀티 코어 환경에서는 다음 예제에서 RandomForestClassifier 생성자와 GridSearchCV 생성 시 n_jobs=-1 파라미터를 추가하면 모든 CPU 코어를 이용해 학습할 수 있다."
      ]
    },
    {
      "cell_type": "code",
      "execution_count": null,
      "metadata": {
        "colab": {
          "base_uri": "https://localhost:8080/"
        },
        "id": "FA8JArmB0AkJ",
        "outputId": "24631e38-5769-46b7-ba13-3b500eea396e"
      },
      "outputs": [
        {
          "output_type": "stream",
          "name": "stdout",
          "text": [
            "최적 하이퍼 파라미터:\n",
            " {'max_depth': 10, 'min_samples_leaf': 8, 'min_samples_split': 8, 'n_estimators': 100}\n",
            "최고 예측 정확도 : 0.9180\n"
          ]
        }
      ],
      "source": [
        "from sklearn.model_selection import GridSearchCV\n",
        "\n",
        "params={\n",
        "    'n_estimators':[100],\n",
        "    'max_depth' : [6, 8, 10, 12],\n",
        "    'min_samples_leaf' : [8, 12, 18],\n",
        "    'min_samples_split' : [8, 16, 20]\n",
        "}\n",
        "\n",
        "# RandomForestClassifier 객체 생성 후 GridSearchCV 수행\n",
        "rf_clf=RandomForestClassifier(random_state=0, n_jobs=-1)\n",
        "grid_cv=GridSearchCV(rf_clf, param_grid=params, cv=2, n_jobs=-1)\n",
        "grid_cv.fit(X_train, y_train)\n",
        "\n",
        "print('최적 하이퍼 파라미터:\\n', grid_cv.best_params_)\n",
        "print('최고 예측 정확도 : {0:.4f}'.format(grid_cv.best_score_))"
      ]
    },
    {
      "cell_type": "markdown",
      "metadata": {
        "id": "0TcoiRDD0zGE"
      },
      "source": [
        "n_estimators가 100, max_depth:10, min_samples_leaf:8, min_samples_split:8일 때 약 91.80%의 평균 정확도가 측정됐다. n_estimators를 300으로 증가시키고, 최적화 하이퍼 파라미터로 다시 RandomForestClassifier를 학습시킨 뒤 이번에는 별도의 테스트 데이터 세트에서 예측 성능을 측정해 보겠다."
      ]
    },
    {
      "cell_type": "code",
      "execution_count": null,
      "metadata": {
        "colab": {
          "base_uri": "https://localhost:8080/"
        },
        "id": "0jg24pfr1EAb",
        "outputId": "4c0b51bc-9e97-4478-b7cc-308a764a4e20"
      },
      "outputs": [
        {
          "output_type": "stream",
          "name": "stdout",
          "text": [
            "예측 정확도 : 0.9165\n"
          ]
        }
      ],
      "source": [
        "rf_clf1=RandomForestClassifier(n_estimators=300, max_depth=10, min_samples_leaf=8,\n",
        "                               min_samples_split=8, random_state=0)\n",
        "rf_clf1.fit(X_train, y_train)\n",
        "pred=rf_clf1.predict(X_test)\n",
        "print('예측 정확도 : {0:.4f}'.format(accuracy_score(y_test, pred)))"
      ]
    },
    {
      "cell_type": "markdown",
      "metadata": {
        "id": "FHmDbUca1WQL"
      },
      "source": [
        "별도의 테스트 데이터 세트에서 수행한 예측 정확도 수치는 약 91.65%이다. RandomForestClassifier 역시 DecisionTreeClassifier와 똑같이 feature_importances_ 속성을 이용해 알고리즘이 선택한 피처의 중요도를 알 수 있다. 이 피처 중요도를 막대그래프로 시각화해 보겠다."
      ]
    },
    {
      "cell_type": "code",
      "execution_count": null,
      "metadata": {
        "colab": {
          "base_uri": "https://localhost:8080/",
          "height": 564
        },
        "id": "TwiVG8a41kYZ",
        "outputId": "13e648a9-2689-4883-8e10-47a4f6f729fa"
      },
      "outputs": [
        {
          "output_type": "display_data",
          "data": {
            "text/plain": [
              "<Figure size 800x600 with 1 Axes>"
            ],
            "image/png": "[encoded data removed]"
          },
          "metadata": {}
        }
      ],
      "source": [
        "import matplotlib.pyplot as plt\n",
        "import seaborn as sns\n",
        "%matplotlib inline\n",
        "\n",
        "ftr_importances_values=rf_clf1.feature_importances_\n",
        "ftr_importances=pd.Series(ftr_importances_values, index=X_train.columns)\n",
        "ftr_top20=ftr_importances.sort_values(ascending=False)[:20]\n",
        "\n",
        "plt.figure(figsize=(8, 6))\n",
        "plt.title('Feature importances Top 20')\n",
        "sns.barplot(x=ftr_top20, y=ftr_top20.index)\n",
        "\n",
        "plt.show()"
      ]
    },
    {
      "cell_type": "markdown",
      "metadata": {
        "id": "FPiAHObM2nwB"
      },
      "source": [
        "tGravityAcc-min()-X, tGravityAcc-mean()-X, tGravityAcc-min()-Y 등이 높은 피처 중요도를 가지고 있다."
      ]
    },
    {
      "cell_type": "markdown",
      "metadata": {
        "id": "-8yImjLe2-kq"
      },
      "source": [
        "# 05.GBM(Gradient Boosting Machine)"
      ]
    },
    {
      "cell_type": "markdown",
      "metadata": {
        "id": "iU0pMDjL3CAA"
      },
      "source": [
        "## GBM의 개요 및 실습"
      ]
    },
    {
      "cell_type": "markdown",
      "metadata": {
        "id": "m-zZ9Q-l3DtS"
      },
      "source": [
        "부스팅 알고리즘은 여러 개의 약한 학습기(weak learner)를 순차적으로 학습-예측하면서 잘못 예측한 데이터에 가중치 부여를 통해 오류를 개선해 나가면서 학습하는 방식이다. 부스팅의 대표적인 구현은 AdaBoost(Adaptive boosting)와 그래디언트 부스트가 있다. 에이다 부스트(AdaBoost)는 오류 데이터에 가중치를 부여하면서 부스팅을 수행하는 대표적인 알고리즘이다.\n",
        "\n",
        "GBM(Gradient Boost Machine)도 에이다부스트와 유사하나, 가중치 업데이트를 경사 하강법(Gradient Descent)을 이용하는 것이 큰 차이이다. 오류 값은 실제 값 - 예측값이다. 분류의 실제 결괏값을 y, 피처를 $x_{1}, x_{2}, ..., x_{n}$, 그리고 이 피처에 기반한 예측 함수를 F(x) 함수라고 하면 오류식 h(x)=y-F(x)이 된다. 이 오류식 h(x)=y-F(x)를 최소화하는 방향성을 가지고 반복적으로 가중치 값을 업데이트하는 것이 경사 하강법(Gradient Descent)이다. 이 경사 하강법은 머신러닝에서 중요한 기법 중 하나이다. 다음 장에서 '회귀'를 다룰 때 경사 하강법에 대해 더 알아보도록 하고, 여기서는 '반복 수행을 통해 오류를 최소화할 수 있도록 가중치의 업데이트 값을 도출하는 기법' 정도로만 이해해도 좋을 것 같다.\n",
        "\n",
        "GBM은 CART 기반의 다른 알고리즘과 마찬가지로 분류는 물론이고, 회귀도 가능하다. 사이킷런은 GBM 기반의 분류를 위해서 GradientBoostingClassifier 클래스를 제공한다. 사이킷런의 GBM을 이용해 사용자 행동 데이터 세트를 예측 분류해 보겠다. 또한 GBM으로 학습하는 시간이 얼마나 걸리는지 수행 시간도 같이 측정해 보겠다. 앞의 랜덤 포레스트의 예제에서 사용한 주피터 노트북에 이어서 예제 코드를 작성하며, get_human_dataset() 함수로 데이터 세트를 가져오겠다."
      ]
    },
    {
      "cell_type": "code",
      "execution_count": null,
      "metadata": {
        "colab": {
          "base_uri": "https://localhost:8080/",
          "height": 210
        },
        "id": "j1tFGeIG4r6m",
        "outputId": "35d7b90c-95d7-452c-e016-15971ffd8595"
      },
      "outputs": [
        {
          "output_type": "error",
          "ename": "NameError",
          "evalue": "name 'get_human_dataset' is not defined",
          "traceback": [
            "\u001b[0;31m---------------------------------------------------------------------------\u001b[0m",
            "\u001b[0;31mNameError\u001b[0m                                 Traceback (most recent call last)",
            "\u001b[0;32m<ipython-input-2-e29690224662>\u001b[0m in \u001b[0;36m<cell line: 6>\u001b[0;34m()\u001b[0m\n\u001b[1;32m      4\u001b[0m \u001b[0mwarnings\u001b[0m\u001b[0;34m.\u001b[0m\u001b[0mfilterwarnings\u001b[0m\u001b[0;34m(\u001b[0m\u001b[0;34m'ignore'\u001b[0m\u001b[0;34m)\u001b[0m\u001b[0;34m\u001b[0m\u001b[0;34m\u001b[0m\u001b[0m\n\u001b[1;32m      5\u001b[0m \u001b[0;34m\u001b[0m\u001b[0m\n\u001b[0;32m----> 6\u001b[0;31m \u001b[0mX_train\u001b[0m\u001b[0;34m,\u001b[0m \u001b[0mX_test\u001b[0m\u001b[0;34m,\u001b[0m \u001b[0my_train\u001b[0m\u001b[0;34m,\u001b[0m \u001b[0my_test\u001b[0m\u001b[0;34m=\u001b[0m\u001b[0mget_human_dataset\u001b[0m\u001b[0;34m(\u001b[0m\u001b[0;34m)\u001b[0m\u001b[0;34m\u001b[0m\u001b[0;34m\u001b[0m\u001b[0m\n\u001b[0m\u001b[1;32m      7\u001b[0m \u001b[0;34m\u001b[0m\u001b[0m\n\u001b[1;32m      8\u001b[0m \u001b[0;31m# GBM 수행 시간 측정을 위함. 시작 시간 설정.\u001b[0m\u001b[0;34m\u001b[0m\u001b[0;34m\u001b[0m\u001b[0m\n",
            "\u001b[0;31mNameError\u001b[0m: name 'get_human_dataset' is not defined"
          ]
        }
      ],
      "source": [
        "from sklearn.ensemble import GradientBoostingClassifier\n",
        "import time\n",
        "import warnings\n",
        "warnings.filterwarnings('ignore')\n",
        "\n",
        "X_train, X_test, y_train, y_test=get_human_dataset()\n",
        "\n",
        "# GBM 수행 시간 측정을 위함. 시작 시간 설정.\n",
        "start_time=time.time()\n",
        "\n",
        "gb_clf=GradientBoostingClassifier(random_state=0)\n",
        "gb_clf.fit(X_train, y_train)\n",
        "gb_pred=gb_clf.predict(X_test)\n",
        "gb_accuracy=accuracy_score(y_test, gb_pred)\n",
        "\n",
        "print('GBM 정확도 : {0:.4f}'.format(gb_accuracy))\n",
        "print('GBM 수행 시간 : {0:.1f}초'.format(time.time()-start_time))"
      ]
    },
    {
      "cell_type": "markdown",
      "metadata": {
        "id": "m5B9x43F6wmJ"
      },
      "source": [
        "기본 하이퍼 파라미터만으로 93.76%의 예측 정확도로 앞의 랜덤 포레스트보다 나은 예측 성능을 나타냈다. 그렇지 않은 경우도 있겠지만, 일반적으로 GBM이 랜덤 포레스트보다는 예측 성능이 조금 뛰어난 경우가 많다. 그러나 수행 시간이 오래 걸리고, 하이퍼 파라미터 튜닝 노력도 더 필요하다. 특히 수행 시간 문제는 GBM이 극복해야 할 중요한 과제이다. 위 코드는 필자의 노트북에서 약 176초, 즉 3분 정도의 수행 시간이 걸렸다. 사이킷런의 GradientBoostingClassifier는 약한 학습기의 순차적인 예측 오류 보정을 통해 학습을 수행하므로 멀티 CPU 코어 시스템을 사용하더라도 병렬 처리가 지원되지 않아서 대용량 데이터의 경우 학습에 매우 많은 시간이 필요하다. 반면에 랜덤 포레스트의 경우 상대적으로 빠른 수행 시간을 보장해주기 때문에 더 쉽게 예측 결과를 도출할 수 있다."
      ]
    },
    {
      "cell_type": "markdown",
      "metadata": {
        "id": "6X9wgwU67W3X"
      },
      "source": [
        "## GBM 하이퍼 파라미터 및 튜닝"
      ]
    },
    {
      "cell_type": "markdown",
      "metadata": {
        "id": "Gl_tCSxV7Y2k"
      },
      "source": [
        "n_estimators, max_depth, max_features와 같은 트리 기반 자체의 파라미터는 결정 트리, 랜덤 포레스트에서 이미 많이 소개했으므로 생략하겠다.\n",
        "* loss : 경사 하강법에서 사용할 비용 함수를 지정한다. 특별한 이유가 없으면 기본값인 'deviance'를 그대로 적용한다.\n",
        "* learning_rate : GBM이 학습을 진행할 때마다 적용하는 학습률이다. Weak learner가 순차적으로 오류 값을 보정해 나가는 데 적용하는 계수이다. 0~1 사이의 값을 지정할 수 있으며 기본값은 0.1이다. 너무 작은 값을 적용하면 업데이트되는 값이 작아져서 최소 오류 값을 찾아 예측 성능이 높아질 가능성이 높다. 하지만 많은 weak learner는 순차적인 반복이 필요해서 수행 시간이 오래 걸리고, 또 너무 작게 설정하면 모든 weak learner의 반복이 완료돼도 최소 오류 값을 찾지 못할 수 있다. 반대로 큰 값을 적용하면 최소 오류 값을 찾지 못하고 그냥 지나쳐 버려 예측 성능이 떨어질 가능성이 높아지지만, 빠른 수행이 가능하다.\n",
        "\n",
        "이러한 특성 때문에 learning_rate는 n_estimators와 상호 보완적으로 조합해 사용한다. learning_rate를 작게 하고 n_estimators를 크게 하면 더이상 성능이 좋아지지 않는 한계점까지는 예측 성능이 조금씩 좋아질 수 있다. 하지만 수행 시간이 오래 걸리는 단점이 있으며, 예측 성능 역시 현격히 좋아지지는 않는다.\n",
        "* n_estimators : weak learner의 개수이다. weak learner가 순차적으로 오류를 보정하므로 개수가 많을수록 예측 성능이 일정 수준까지는 좋아질 수 있다. 하지만 개수가 많을수록 수행 시간이 오래 걸린다. 기본값은 100이다.\n",
        "* subsample : weak learner가 학습에 사용하는 데이터의 샘플링 비율이다. 기본값은 1이며, 이는 전체 학습 데이터를 기반으로 학습한다는 의미이다(0.5이면 학습 데이터의 50%). 과적합이 염려되는 경우 subsample을 1보다 작은 값으로 설정한다.\n",
        "\n",
        "GridSearchCV를 이용해 하이퍼 파라미터를 최적화해 보겠다. 아마도 사용자 행동 데이터 세트 정도의 데이터 양에 많은 하이퍼 파라미터를 GBM으로 테스트하려면 많은 시간이 걸릴 것이다. 간략하게 n_estimators를 100, 500으로 learning_rate를 0.05, 0.1로만 제약하겠다. 그리고 교차 검증 세트도 2개로만 설정해서 GridSearchCV를 적용하겠다. 코드는 컴퓨터 사양에 따라 다를 수 있지만, PC에서 30분에서 1시간 정도 걸릴 수 있다."
      ]
    },
    {
      "cell_type": "code",
      "execution_count": null,
      "metadata": {
        "colab": {
          "base_uri": "https://localhost:8080/"
        },
        "id": "uEOqGtDL9EMQ",
        "outputId": "4d9e2f60-c356-4690-d85f-f3984ebb6f3c"
      },
      "outputs": [
        {
          "output_type": "stream",
          "name": "stdout",
          "text": [
            "Fitting 2 folds for each of 4 candidates, totalling 8 fits\n",
            "최적 하이퍼 파라미터 : \n",
            " {'learning_rate': 0.05, 'n_estimators': 500}\n",
            "최고 예측 정확도 : 0.9002\n"
          ]
        }
      ],
      "source": [
        "from sklearn.model_selection import GridSearchCV\n",
        "\n",
        "params={\n",
        "    'n_estimators' : [100, 500],\n",
        "    'learning_rate' : [0.05, 0.1]\n",
        "}\n",
        "grid_cv=GridSearchCV(gb_clf, param_grid=params, cv=2, verbose=1)\n",
        "grid_cv.fit(X_train, y_train)\n",
        "print('최적 하이퍼 파라미터 : \\n', grid_cv.best_params_)\n",
        "print('최고 예측 정확도 : {0:.4f}'.format(grid_cv.best_score_))"
      ]
    },
    {
      "cell_type": "markdown",
      "metadata": {
        "id": "gmIq7pEZ9mBg"
      },
      "source": [
        "learning_rate가 0.05, n_estimators가 500일 때 2개의 교차 검증 세트에서 90.1% 정확도가 최고로 도출됐다. 이 설정을 그대로 테스트 데이터 세트에 적용해 예측 정확도를 확인해 보겠다."
      ]
    },
    {
      "cell_type": "code",
      "execution_count": null,
      "metadata": {
        "id": "L7tK-Rsz9wzQ",
        "colab": {
          "base_uri": "https://localhost:8080/",
          "height": 193
        },
        "outputId": "74a314de-2105-4c9b-dc27-f093030064c0"
      },
      "outputs": [
        {
          "output_type": "error",
          "ename": "NameError",
          "evalue": "name 'grid_cv' is not defined",
          "traceback": [
            "\u001b[0;31m---------------------------------------------------------------------------\u001b[0m",
            "\u001b[0;31mNameError\u001b[0m                                 Traceback (most recent call last)",
            "\u001b[0;32m<ipython-input-1-8ee499cab35d>\u001b[0m in \u001b[0;36m<cell line: 2>\u001b[0;34m()\u001b[0m\n\u001b[1;32m      1\u001b[0m \u001b[0;31m# GridSearchCV를 이용해 최적으로 학습된 estimator로 예측 수행\u001b[0m\u001b[0;34m\u001b[0m\u001b[0;34m\u001b[0m\u001b[0m\n\u001b[0;32m----> 2\u001b[0;31m \u001b[0mgb_pred\u001b[0m\u001b[0;34m=\u001b[0m\u001b[0mgrid_cv\u001b[0m\u001b[0;34m.\u001b[0m\u001b[0mbest_estimator_\u001b[0m\u001b[0;34m.\u001b[0m\u001b[0mpredict\u001b[0m\u001b[0;34m(\u001b[0m\u001b[0mX_test\u001b[0m\u001b[0;34m)\u001b[0m\u001b[0;34m\u001b[0m\u001b[0;34m\u001b[0m\u001b[0m\n\u001b[0m\u001b[1;32m      3\u001b[0m \u001b[0mgb_accuracy\u001b[0m\u001b[0;34m=\u001b[0m\u001b[0maccuracy_score\u001b[0m\u001b[0;34m(\u001b[0m\u001b[0my_test\u001b[0m\u001b[0;34m,\u001b[0m \u001b[0mgb_pred\u001b[0m\u001b[0;34m)\u001b[0m\u001b[0;34m\u001b[0m\u001b[0;34m\u001b[0m\u001b[0m\n\u001b[1;32m      4\u001b[0m \u001b[0mprint\u001b[0m\u001b[0;34m(\u001b[0m\u001b[0;34m'GBM 정확도 : {0:.4f}'\u001b[0m\u001b[0;34m.\u001b[0m\u001b[0mformat\u001b[0m\u001b[0;34m(\u001b[0m\u001b[0mgb_accuracy\u001b[0m\u001b[0;34m)\u001b[0m\u001b[0;34m)\u001b[0m\u001b[0;34m\u001b[0m\u001b[0;34m\u001b[0m\u001b[0m\n",
            "\u001b[0;31mNameError\u001b[0m: name 'grid_cv' is not defined"
          ]
        }
      ],
      "source": [
        "# GridSearchCV를 이용해 최적으로 학습된 estimator로 예측 수행\n",
        "gb_pred=grid_cv.best_estimator_.predict(X_test)\n",
        "gb_accuracy=accuracy_score(y_test, gb_pred)\n",
        "print('GBM 정확도 : {0:.4f}'.format(gb_accuracy))"
      ]
    },
    {
      "cell_type": "markdown",
      "metadata": {
        "id": "m-UpXWTZ-V7B"
      },
      "source": [
        "테스트 데이터 세트에서 약 94.1%의 정확도이다. GBM은 과적합에도 강한 뛰어난 예측 성능을 가진 알고리즘이다. 하지만 수행 시간이 오래 걸린다는 단점이 있다. GBM이 처음 소개된 이후에 많은 알고리즘이 GBM을 기반으로 새롭게 만들어지고 있다. 이 중 머신러닝 세계에서 가장 각광을 받고 있는 두 개의 그래디언트 부스팅 기반 ML 패키지는 XGBoost와 LightGBM이다. 먼저 XGBoost부터 자세히 알아보겠다."
      ]
    },
    {
      "cell_type": "markdown",
      "metadata": {
        "id": "xZsKPIoj-r2D"
      },
      "source": [
        "# 06. XGBoost(eXtra Gradient Boost)"
      ]
    },
    {
      "cell_type": "markdown",
      "metadata": {
        "id": "F92BHUIx-vpf"
      },
      "source": [
        "## XGBoost 개요"
      ]
    },
    {
      "cell_type": "markdown",
      "metadata": {
        "id": "mEAcox9K-xi3"
      },
      "source": [
        "XGBoost는 트리 기반의 앙상블 학습에서 가장 각광받고 있는 알고리즘 중 하나이다. 유명한 캐글 경연 대회(Kaggle Contest)에서 상위를 차지한 많은 데이터 과학자가 XGBoost를 이용하면서 널리 알려졌다. 압도적인 수치의 차이는 아니지만, 분류에 있어서 일반적으로 다른 머신러닝보다 뛰어난 예측 성능을 나타낸다. XGBoost는 GBM에 기반하고 있지만, GBM의 단점인 느린 수행 시간 및 과적합 규제(Regulation) 부재 등의 문제를 해결해서 매우 각광을 받고 있다. 특히 XGBoost는 병렬 CPU 환경에서 병렬 학습이 가능해 기존 GBM보다 빠르게 학습을 완료할 수 있다. 다음은 XGBoost의 주요 장점이다.\n",
        "* 뛰어난 예측 성능 : 일반적으로 분류와 회귀 영역에서 뛰어난 예측 성능을 발휘한다.\n",
        "* GBM 대비 빠른 수행 시간 : 일반적인 GBM은 순차적으로 Weak learner가 가중치를 증감하는 방법으로 학습하기 때문에 전반적으로 속도가 느리다. 하지만 XGBoost는 병렬 수행 및 다양한 기능으로 GBM에 비해 빠른 수행 성능을 보장한다. 아쉽게도 XGBoost가 일반적인 GBM에 비해 수행 시간이 빠르다는 것이지, 다른 머신러닝 알고리즘(예를 들어 랜덤 포레스트)에 비해서 빠르다는 의미는 아니다.\n",
        "* 과적합 규제(Regularization) : 표준 GBM의 경우 과적합 규제 기능이 없으나 XGBoost는 자체에 과적합 규제 기능으로 과적합에 좀 더 강한 내구성을 가질 수 있다.\n",
        "* Tree pruning(나무 가지치기) : 일반적으로 GBM은 분할 시 부정 손실이 발생하면 분할을 더 이상 수행하지 않지만, 이러한 방식도 자칫 지나치게 많은 분할이 발생할 수 있다. 다른 GBM과 마찬가지로 XGBoost도 max_depth 파라미터로 분할 깊이를 조정하기도 하지만, tree pruning으로 더 이상 긍정 이득이 없는 분할을 가지치기해서 분할 수를 더 줄이는 추가적인 장점을 가지고 있다.\n",
        "* 자체 내장된 교차 검증 : XGBoost는 반복 수행 시마다 내부적으로 학습 데이터 세트와 평가 데이터 세트에 대한 교차 검증을 수행해 최적화된 반복 수행 횟수를 가질 수 있다. 지정된 반복 횟수가 아니라 교차 검증을 통해 평가 데이터 세트의 평가 값이 최적화되면 반복을 중간에 멈출 수 있는 조기 중단 기능이 있다.\n",
        "* 결손값 자체 처리 : XGBoost는 결손값을 자체 처리할 수 있는 기능을 가지고 있다.\n",
        "\n",
        "XGBoost의 핵심 라이브러리는 C/C++로 작성돼 있다. XGBoost 개발 그룹은 파이썬에서도 XGBoost를 구동할 수 있도록 파이썬 패키지를 제공한다. 이 파이썬 패키지의 역할은 대부분 C/C++ 핵심 라이브러리를 호출하는 것이다. XGBoost의 파이썬 패키지명은 \"xgboost\"이다. 이 xgboost 패키지 내에는 XGBoost 전용의 파이썬 패키지와 사이킷런과 호환되는 래퍼용 XGBoost가 함께 존재한다. xgboost 파이썬 패키지는 초기 출시에는 사이킷런과 호환되지 않는 독자적인 XGBoost 전용의 패키지였다. 즉, XGBoost 고유의 프레임워크를 파이썬 언어 기반에서 구현한 것으로 별도의 API 기반이었다. 즉, XGBoost 고유의 프레임워크를 파이썬 언어 기반에서 구현한 것으로 별도의 API 기반이었다. 사이킷런 프레임워크를 파이썬 언어 기반에서 구현한 것으로 별도의 API 기반이었다. 사이킷런 프레임워크를 기반으로 한 것이 아니기에 사이킷런의 fit(), predict() 메서드와 같은 사이킷런 고유의 아키텍처가 적용될 수 없으며, 다양한 유틸리티(cross_val_score, GridSearchCV, Pipeline 등)와 함께 사용될 수 없었다.\n",
        "\n",
        "워낙 파이썬 기반의 머신러닝 이용자들이 사이킷런을 많이 사용하고 있었기 때문에 XGBoost 개발 그룹은 사이킷런과 연동할 수 있는 래퍼 클래스(Wrapper class)를 제공하기로 했다. XGBoost 패키지의 사이킷런 래퍼 클래스는 XGBClassifier와 XGBRegressor이다. 이를 이용하면 사이킷런 estimator가 학습을 위해 사용하는 fit()과 prdict()와 같은 표준 사이킷런 개발 프로세스 및 다양한 유틸리티를 활용할 수 있다.\n",
        "\n",
        "구분을 위해서 초기의 독자적인 XGBoost 프레임워크 기반의 XGBoost를 파이썬 래퍼 XGBoost 모듈, 사이킷런과 연동되는 모듈을 사이킷런 래퍼 XGBoost 모듈이라고 지칭하겠다.\n",
        "\n",
        "사이킷런 래퍼 XGBoost 모듈은 사이킷런의 다른 Estimator와 사용법이 같은 데 반해 파이썬 네이티브 XGBoost는 고유의 API와 하이퍼 파라미터를 이용한다. 크게 다르지는 않지만, 몇 가지 주의할 점이 있다."
      ]
    },
    {
      "cell_type": "markdown",
      "metadata": {
        "id": "lhisYjbTC0nw"
      },
      "source": [
        "## XGBoost 설치하기"
      ]
    },
    {
      "cell_type": "markdown",
      "metadata": {
        "id": "S3OKfvimC3Ee"
      },
      "source": [
        "XGBoost 설치는 아나콘다를 이용하면 쉽게 할 수 있다. Windows 기반에서 설치하려면 아나콘다 Command 창을 연 뒤에(Windows 10에서는 '관리자 권한으로 실행'으로 command 창 생성) conda install -c anaconda py-xgboost 명령어를 입력한다.\n",
        "```\n",
        "conda install -c anaconda py-xgboost\n",
        "```\n",
        "명령어를 입력하고 Proceed([y]/n)?에서 y를 입력하면 다음과 같이 필요한 패키지가 같이 설치되면서 xgboost 설치가 시작된다.\n",
        "\n",
        "설치가 성공적으로 완료되면 새로운 주피터 노트북을 생성한 후 xgboost 모듈이 정상적으로 임포트됐는지 확인해 설치가 성공적으로 수행됐는지 검증한다."
      ]
    },
    {
      "cell_type": "code",
      "execution_count": null,
      "metadata": {
        "id": "2yqbraAaDlvy"
      },
      "outputs": [],
      "source": [
        "import xgboost as xgb\n",
        "from xgboost import XGBClassifier"
      ]
    },
    {
      "cell_type": "markdown",
      "metadata": {
        "id": "kP9C9qOADrDu"
      },
      "source": [
        "위 import 코드를 입력할 때 'no module named xgboost'와 같이 xgboost 모듈을 찾을 수 없다는 에러 메시지가 나오면 정상적으로 설치가 되지 않은 것이다. 아무런 오류 메시지가 없으면 정상저으로 설치가 완료된 것이다.\n",
        "\n",
        "리눅스에 설치하는 것도 아나콘다를 이용하면 간단하게 할 수 있다. 다음과 같이 OS 터미널에서 conda 명령어를 입력하면 xgboost 설치에 필요한 다른 라이브러리를 포함해 xgboost를 설치한다.\n",
        "```\n",
        "conda install -c conda-forge xgboost\n",
        "```"
      ]
    },
    {
      "cell_type": "markdown",
      "metadata": {
        "id": "eqwz3pWgEM4f"
      },
      "source": [
        "## 파이썬 래퍼 XGBoost 하이퍼 파라미터"
      ]
    },
    {
      "cell_type": "markdown",
      "metadata": {
        "id": "UtYV6kwREPiJ"
      },
      "source": [
        "GBM(Gradient Boosting Machine)의 하이퍼 파라미터를 어느 정도 이해했으면 XGBoost 하이퍼 파라미터도 이해하는 데 큰 어려움이 없을 것이다. XGBoost는 GBM과 유사한 하이퍼 파라미터를 동일하게 가지고 있으며, 여기에 조기 중단(early stopping), 과적합을 규제하기 위한 하이퍼 파라미터 등이 추가됐다.\n",
        "\n",
        "파이썬 래퍼 XGBoost 모듈과 사이킷런 래퍼 XGBoost 모듈의 일부 하이퍼 파라미터는 약간 다르므로 이에 대한 주의가 필요하다. 정확히 표현하자면 동일한 기능을 의미하는 하이퍼 파라미터이지만, 사이킷런 파라미터의 범용화된 이름 규칙(Naming Rule)에 따라 파라미터 명이 달라진다. 파이썬 래퍼 XGBoost의 하이퍼 파라미터를 알아보고 나서 사이킷런 래퍼 XGBoost 하이퍼 파라미터가 어떻게 다른지 알아보겠다.\n",
        "\n",
        "파이썬 래퍼 XGBoost 하이퍼 파라미터를 유형별로 나누면 다음과 같다.\n",
        "* 일반 파라미터 : 일반적으로 실행 시 스레드의 개수나 silent 모드 등의 선택을 위한 파라미터로서 디폴트 파라미터 값을 바꾸는 경우는 거의 없다.\n",
        "* 부스터 파라미터 : 트리 최적화, 부스팅, regularization 등과 관련 파라미터 등을 지칭한다.\n",
        "* 학습 태스크 파라미터 : 학습 수행 시의 객체 함수, 평가를 위한 지표 등을 설정하는 파라미터이다.\n",
        "\n",
        "대부분의 하이퍼 파라미터는 Booster 파라미터에 속한다."
      ]
    },
    {
      "cell_type": "markdown",
      "metadata": {
        "id": "yDLHWSOGFRv1"
      },
      "source": [
        "### 주요 일반 파라미터"
      ]
    },
    {
      "cell_type": "markdown",
      "metadata": {
        "id": "lq7MGjjzGVsp"
      },
      "source": [
        "* booster : gbtree(tree based model) 또는 gblinear(linear model) 선택, 디폴트는 gbtree이다.\n",
        "* silent : 디폴트는 0이며, 출력 메시지를 나타내고 싶지 않을 경우 1로 설정한다.\n",
        "* nthread : CPU의 실행 스레드 개수를 조정하며, 디폴트는 CPU의 전체 스레드를 다 사용하는 것이다. 멀티 코어/스레드 CPU 시스템에서 전체 CPU를 사용하지 않고 일부 CPU만 사용해 ML 애플리케이션을 구동하는 경우에 변경한다."
      ]
    },
    {
      "cell_type": "markdown",
      "metadata": {
        "id": "HHZ_dzNXHC86"
      },
      "source": [
        "### 주요 부스터 파라미터"
      ]
    },
    {
      "cell_type": "markdown",
      "metadata": {
        "id": "MpFltVmaHFBh"
      },
      "source": [
        "* eta [default=0.3, alias: learning_rate] : GBM의 학습률(learning rate)과 같은 파라미터이다. 0에서 1 사이의 값을 지정하며 부스팅 스텝을 반복적으로 수행할 때 업데이트되는 학습률 값, 파이썬 래퍼 기반의 xgboost를 이용할 경우 디폴트는 0.3. 사이킷런 래퍼 클래스를 이용할 경우 eta는 learning_rate 파라미터로 대체되며, 디폴트는 0.1이다. 보통은 0.01~0.2 사이의 값을 선호한다.\n",
        "* num_boost_rounds : GBM의 n_estimators와 같은 파라미터이다.\n",
        "* min_child_weight[default=1]: 트리에서 추가적으로 가지를 나눌지를 결정하기 위해 필요한 데이터들의 weight 총합, min_child_weight이 클수록 분할을 자제한다. 과적합을 조절하기 위해 사용된다.\n",
        "* gamma[default=0, alias:min_split_loss] : 트리의 리프 노드를 추가적으로 나눌지를 결정할 최소 손실 감소 값이다. 해당 값보다 큰 손실(loss)이 감소된 경우에 리프 노드를 분리한다. 값이 클수록 과적합 감소 효과가 있다.\n",
        "* max_depth[default=6] : 트리 기반 알고리즘의 max_depth와 같다. 0을 지정하면 깊이에 제한이 없다. Max_depth가 높으면 특정 피처 조건에 특화되어 룰 조건이 만들어지므로 과적합 가능성이 높아지며 보통은 3~10 사이의 값을 적용한다.\n",
        "* sub_sample[default=1] : GBM의 subsample과 동일하다. 트리가 커져서 과적합되는 것을 제어하기 위해 데이터를 샘플링하는 비율을 지정한다. sub_sample=0.5로 지정하면 전체 데이터의 절반의 트리를 생성하는 데 사용한다. 0에서 1사이의 값이 가능하나 일반적으로 0.5~1 사이의 값을 사용한다.\n",
        "* colsample_bytree[default=1] : GBM의 max_features와 유사하다. 트리 생성에 필요한 피처(칼럼)를 임의로 샘플링하는 데 사용된다. 매우 많은 피처가 있는 경우 과적합을 조정하는 데 적용한다.\n",
        "* lambda[default=1, alias : reg_lambda] : L2 Regulation 적용 값이다. 피처 개수가 많을 경우 적용을 검토하며 값이 클수록 과적합 감소 효과가 있다.\n",
        "* alpha[default=0, alias : reg_alpha] : L1 Regulation 적용 값이다. 피처 개수가 많을 경우 적용을 검토하며 값이 클수록 과적합 감소 효과가 있다.\n",
        "* scale_pos_weight[default=1] : 특정 값으로 치우친 비대칭한 클래스로 구성된 데이터 세트의 균형을 유지하기 위한 파라미터이다."
      ]
    },
    {
      "cell_type": "markdown",
      "metadata": {
        "id": "_ZiUORCaNJzU"
      },
      "source": [
        "### 학습 테스크 파라미터"
      ]
    },
    {
      "cell_type": "markdown",
      "metadata": {
        "id": "cDkJFNO5NLli"
      },
      "source": [
        "* objective : 최솟값을 가져야할 손실 함수를 정의한다. XGBoost는 많은 유형의 손실함수를 사용할 수 있다. 주로 사용되는 손실함수는 이진 분류인지 다중 분류인지에 따라 달라진다.\n",
        "* binary:logistic : 이진 분류일 때 적용한다.\n",
        "* multi:softmax : 다중 분류일 때 적용한다. 손실함수가 multi:softmax일 경우에는 레이블 클래스의 개수인 num_class 파라미터를 지정해야 한다.\n",
        "* multi:softprob : multi:softmax와 유사하나 개별 레이블 클래스의 해당되는 예측 확률을 반환한다.\n",
        "* eval_metric : 검증에 사용되는 함수를 정의한다. 기본값은 회귀인 경우는 rmse, 분류일 경우에는 error이다. 다음은 eval_metric의 값 유형이다.\n",
        "-- rmse : Root Mean Square Error\n",
        "-- mae : Mean Absolute Error\n",
        "-- logloss : Negative log-likelihood\n",
        "-- error : Binary classification error rate (0.5 threshold)\n",
        "-- merror : Multiclass classification error rate\n",
        "-- mlogloss : Multiclass logloss\n",
        "-- auc : Area under the curve\n",
        "\n",
        "뛰어난 알고리즘일수록 파라미터를 튜닝할 필요가 적다. 그리고 파라미터 튜닝에 들이는 공수 대비 성능 향상 표과가 높지 않는 경우가 대부분이다. 파라미터를 튜닝하는 경우의 수는 여러 가지 상황에 따라 달라진다. 피처의 수가 매우 많거나 피처 간 상관되는 정도가 많거나 데이터 세트에 따라 여러 가지 특성이 있을 수 있다.\n",
        "\n",
        "과적합 문제가 심하다면 다음과 같이 적용할 것을 고려할 수 있다.\n",
        "* eta 값을 낮춘다(0.01~0.1). eta 값을 낮출 경우 num_round(또는 n_estimators)는 반대로 높여줘야 한다.\n",
        "* max_depth 값을 낮춘다.\n",
        "* min_child_weight 값을 높인다.\n",
        "* gamma 값을 높인다.\n",
        "* 또한 subsample과 colsample_bytree를 조정하는 것도 트리가 너무 복잡하게 생성되는 것을 막아 과적합 문제에 도움이 될 수 있다.\n",
        "\n",
        "XGBoost 자체적으로 교차 검증, 성능 평가, 피처 중요도 등의 시각화 기능을 가지고 있다. 또한 XGBoost는 기본 GBM에서 부족한 다른 여러 가지 성능 향상 기능이 있다. 그중에 수행 속도를 향상시키기 위한 대표적인 기능으로 조기 중단(Early Stopping) 기능이 있다. 기본 GBM의 경우 n_estimators(또는 num_boost_rounds)에 지정된 횟수만큼 반복적으로 학습 오류를 감소시키며 학습을 진행하면서 중간에 반복을 멈출 수 없고 n_estimators에 지정된 횟수를 다 완료해야 한다. XGBoost, 그리고 뒤에서 소개할 LightGBM은 모두 조기 중단 기능이 있어서 n_estimators에 지정한 부스팅 반복 횟수에 도달하지 않더라도 예측 오류가 더이상 개선되지 않으면 반복을 끝까지 수행하지 않고 중지해 수행 시간을 개선할 수 있다.\n",
        "\n",
        "예를 들어 n_estimators를 200으로 설정하고 조기 중단 파라미터 값을 50으로 설정하면, 1부터 200회까지 부스팅을 반복하다가 50회를 반복하는 동안 학습 오류가 감소하지 않으면 더이상 부스팅을 진행하지 않고 종료한다(가령 100회에서 학습 오류 값이 0.8인데, 101~150회 반복하는 동안 예측 오류가 0.8보다 작은 값이 하나도 없으면 부스팅을 종료한다).\n",
        "\n",
        "이 책의 예제에 사용된 XGBoost 버전은 0.80이다. 다른 버전을 이용할 경우 책의 예제 결과와 조금 다른 결과가 출력될 수도 있음을 주지하기 바란다. XGBoost의 버전은 다음과 같이 확인할 수 있다."
      ]
    },
    {
      "cell_type": "code",
      "execution_count": null,
      "metadata": {
        "id": "l2dmbM5uPZiX"
      },
      "outputs": [],
      "source": [
        "import xgboost\n",
        "\n",
        "print(xgboost.__version__)"
      ]
    },
    {
      "cell_type": "markdown",
      "metadata": {
        "id": "jghyKzlXPdu7"
      },
      "source": [
        "## 파이썬 래퍼 XGBoost 적용 - 위스콘신 유방암 예측"
      ]
    },
    {
      "cell_type": "markdown",
      "metadata": {
        "id": "74t_zPfNPZRh"
      },
      "source": [
        "이번 절에서는 위스콘신 유방암 데이터 세트를 활용하여 파이썬 래퍼 XGBoost API의 사용법을 살펴보겠다. XGBoost의 파이썬 패키지인 xgboost는 자체적으로 교차 검증, 성능 평가, 피처 중요도 등의 시각화(plotting) 기능을 가지고 있다. 또한 조기 중단 기능이 있어서 num_rounds로 지정한 부스팅 반복 횟수에 도달하지 않더라도 더이상 예측 오류가 개선되지 않으면 반복을 끝까지 수행하지 않고 중지해 수행 시간을 개선하는 기능도 가지고 있다. 일반적으로 수행 성능 향상 XGBoost는 GBM과는 다르게 병렬 처리와 조기 중단 등으로 빠른 수행시간 처리가 가능하지만, CPU 코어가 많지 않은 개인용 PC에서는 수행시간 향상을 경험하기 어려울 수도 있다.\n",
        "\n",
        "위스콘신 유방암 데이터 세트는 종양의 크기, 모양 등의 다양한 속성값을 기반으로 악성 종양(malignant)인지 양성 종양(benign)인지를 분류한 데이터 세트이다. 종양은 양성 종양(benign tumor)과 악성 종양(malignant tumor)으로 구분할 수 있다. 양성 종양이 비교적 성장 속도가 느리고 전이되지 않는 것에 반해, 악성 종양은 주위 조직에 침입하면서 빠르게 성장하고 신체 각 부위에 확산되거나 전이되어 생명을 위협한다. 위스콘신 유방함 데이터 세트에 기반해 종양의 다양한 피처에 따라 악성종양(malignant)인지 일반 양성종양(benign)인지를 XGBoost를 이용해 예측해 보겠다.\n",
        "\n",
        "새로운 주피터 노트북을 생성한 뒤에 xgboost 모듈을 로딩하고 xgb로 명명하겠다. xgboost 패키지는 피처의 중요도를 시각화해주는 모듈인 plot_importance를 함께 제공한다. 이를 이용해 나중에 피처 중요도를 시각화해 보겠다. 위스콘신 유방암 데이터 세트는 사이킷런에도 내장돼 있으며 이를 위해 load_breast_cancer()를 호출하면 된다. 해당 데이터를 DataFrame으로 로드 후 일부를 살펴보겠다."
      ]
    },
    {
      "cell_type": "code",
      "execution_count": null,
      "metadata": {
        "id": "1cqUbMZDQoYI"
      },
      "outputs": [],
      "source": [
        "import xgboost as xgb\n",
        "from xgboost import plot_importance\n",
        "import pandas as pd\n",
        "import numpy as np\n",
        "from sklearn.datasets import load_breast_cancer\n",
        "from sklearn.model_selection import train_test_split\n",
        "import warnings\n",
        "warnings.filterwarnings('ignore')\n",
        "\n",
        "dataset=load_breast_cancer()\n",
        "X_features=dataset.data\n",
        "y_label=dataset.target\n",
        "\n",
        "cancer_df=pd.DataFrame(data=X_features, columns=dataset.feature_names)\n",
        "cancer_df['target']=y_label\n",
        "cancer_df.head(3)"
      ]
    },
    {
      "cell_type": "markdown",
      "metadata": {
        "id": "reFOzATDRJct"
      },
      "source": [
        "종양의 크기와 모양에 관련된 많은 속성이 숫자형 값으로 되어 있다. 타깃 레이블 값의 종류는 악성인 'malignant'가 0값으로, 양성인 'benign'이 1값으로 돼 있다. 레이블 값의 분포를 확인해 보겠다."
      ]
    },
    {
      "cell_type": "code",
      "execution_count": null,
      "metadata": {
        "id": "HpAiQTopRU7Q"
      },
      "outputs": [],
      "source": [
        "print(dataset.target_names)\n",
        "print(cancer_df['target'].value_counts())"
      ]
    },
    {
      "cell_type": "markdown",
      "metadata": {
        "id": "S-fS0hMZRozP"
      },
      "source": [
        "1값인 양성 benign이 357개, 0값인 악성 malignant가 212개로 구성돼 있다. 전체 데이터 세트 중 80%를 학습용으로, 20%를 테스트용으로 분할하겠다."
      ]
    },
    {
      "cell_type": "code",
      "execution_count": null,
      "metadata": {
        "id": "jvX-RJY-RwnW"
      },
      "outputs": [],
      "source": [
        "# 전체 데이터 중 80%는 학습용 데이터, 20%는 테스트용 데이터 추출\n",
        "X_train, X_test, y_train, y_test=train_test_split(X_features, y_label,\n",
        "                                                  test_size=0.2, random_state=156)\n",
        "print(X_train.shape, X_test.shape)"
      ]
    },
    {
      "cell_type": "markdown",
      "metadata": {
        "id": "fZIT6R9tR9mO"
      },
      "source": [
        "파이썬 래퍼 XGBoost는 사이킷런과 차이가 여러 가지 있지만, 먼저 눈에 띄는 차이는 학습용과 테스트용 데이터 세트를 위해 별도의 객체인 DMatrix를 생성한다는 점이다. DMatrix는 주로 넘파이 입력 파라미터를 받아서 만들어지는 XGBoost만의 전용 데이터 세트이다. DMatrix의 주요 입력 파라미터는 data와 label이다. data는 피처 데이터 세트이며, label은 분류의 경우에는 레이블 데이터 세트, 회귀의 경우는 숫자형인 종솟값 데이터 세트이다.\n",
        "\n",
        "DMatrix는 넘파이 외에 libsvm txt 포맷 파일, xgboost 이진 버퍼 파일을 파라미터로 입력받아 변환할 수 있다. 판다스의 DataFrame으로 데이터 인터페이스를 하기 위해서는 DataFrame.values를 이용해 넘파이로 일차 변환한 뒤에 이를 이용해 DMatrix 변환을 적용한다. 다음은 넘파이 형태의 학습 데이터 세트와 테스트 데이터 세트를 DMatrix로 변환하는 예제이다."
      ]
    },
    {
      "cell_type": "code",
      "execution_count": null,
      "metadata": {
        "id": "viowmiouShkY"
      },
      "outputs": [],
      "source": [
        "dtrain=xgb.DMatrix(data=X_train, label=y_train)\n",
        "dtest=xgb.DMatrix(data=X_test, label=y_test)"
      ]
    },
    {
      "cell_type": "markdown",
      "metadata": {
        "id": "BLWfOe3BSpwM"
      },
      "source": [
        "파이썬 래퍼 XGBoost 모듈인 xgboost를 이용해 학습을 수행하기 전에 먼저 XGBoost의 하이퍼 파라미터를 설정한다. XGBoost의 하이퍼 파라미터는 주로 딕셔너리 형태로 입력한다. 다음과 같은 하이퍼 파라미터 설정을 딕셔너리 형태로 만들어 보겠다.\n",
        "* max_depth(트리 최대 깊이)는 3.\n",
        "* 학습을 eta는 0.1(XGBClassifier를 사용할 경우 eta가 아니라 learning_rate이다).\n",
        "* 예제 데이터가 0 또는 1 이진 분류이므로 목적함수(objective)는 이진 로지스틱(binary:logistic).\n",
        "* 오류 함수의 평가 성능 지표는 logloss.\n",
        "* num_rounds(부스팅 반복 횟수)는 400회."
      ]
    },
    {
      "cell_type": "code",
      "execution_count": null,
      "metadata": {
        "id": "z-O09lpqTJ19"
      },
      "outputs": [],
      "source": [
        "params={'max_depth' : 3,\n",
        "        'eta' : 0.1,\n",
        "        'objective' : 'binary:logistic',\n",
        "        'eval_metric' : 'logloss',\n",
        "        'early_stoppings' : 100\n",
        "        }\n",
        "num_rounds=400"
      ]
    },
    {
      "cell_type": "markdown",
      "metadata": {
        "id": "xzvRdd29TaBZ"
      },
      "source": [
        "이제 위에 지정된 하이퍼 파라미터로 XGBoost 모델을 학습시켜보겠다. 파이썬 래퍼 XGBoost는 하이퍼 파라미터를 xgboost 모듈의 train() 함수에 파라미터로 전달한다(사이킷런의 경우는 Estimator의 생성자를 하이퍼 파라미터로 전달하는 데 반해 차이가 있다). 학습 시 XGBoost는 수행 속도를 개선하기 위해서 조기 중단 기능을 제공한다. 앞에서도 설명했듯이 조기 중단은 XGBoost가 수행 성능을 개선하기 위해서 더이상 지표 개선이 없을 경우에 num_boost_round 횟수를 모두 채우지 않고 중간에 반복을 빠져 나올 수 있도록 하는 것이다.\n",
        "\n",
        "조기 중단은 xgboost의 train() 함수에 early_stopping_rounds 파라미터를 입력하여 설정한다. 여기서는 조기 중단할 수 있는 최소 반복 횟수를 100으로 설정하겠다.\n",
        "\n",
        "early_stopping_rounds 파라미터를 설정해 조기 중단을 수행하기 위해서는 반드시 eval_set과 eval_metric이 함께 설정돼야 한다. Xgboost는 반복마다 eval_set으로 지정된 데이터 세트에서 eval_metric의 지정된 평가 지표로 예측 오류를 측정한다.\n",
        "* eval_set은 성능 평가를 수행할 평가용 데이터 세트를 설정\n",
        "* eval_metric은 평가 세트에 적용할 성능 평가 방법. 분류일 경우 주로 'error'(분류 오류), 'logloss'를 적용.\n",
        "eval 파라미터에 학습 데이터 세트와 eval 데이터 세트를 명기해주면 평가를 eval 데이터 세트에 수행하면서 조기 중단을 적용할 수 있다. 조기 중단을 수행하려면 반드시 evals 파라미터에 eval 데이터 세트를 명기해줘야 한다. 이제 xgboost 모듈의 train() 함수를 호출하면 학습을 수행한다. 이때 반복 시마다 evals에 표시된 데이터 세트에 대해 평가 지표 결과가 출력된다. train()은 학습이 완료된 모델 객체를 반환한다."
      ]
    },
    {
      "cell_type": "code",
      "execution_count": null,
      "metadata": {
        "id": "fW80GL4-Ud2_"
      },
      "outputs": [],
      "source": [
        "# train 데이터 세트는 'train', evaluation(test) 데이터 세트는 'eval'로 명기한다.\n",
        "wlist=[(dtrain, 'train'), (dtest, 'eval')]\n",
        "\n",
        "# 하이퍼 파라미터와 early stopping 파라미터를 train() 함수의 파라미터로 전달\n",
        "xgb_model=xgb.train(params=params, dtrain=dtrain, num_boost_round=num_rounds,\n",
        "                    early_stopping_rounds=100, evals=wlist)"
      ]
    },
    {
      "cell_type": "markdown",
      "metadata": {
        "id": "YDWC4Z9OU0VT"
      },
      "source": [
        "train()으로 학습을 수행하면 반복 시 train-error와 eval-logloss가 지속적으로 감소한다. xgboost를 이용해 모델의 학습이 완료됐으면 이를 이용해 테스트 데이터 세트에 예측을 수행해 보겠다. 파이썬 래퍼 XGBoost는 train() 함수를 호출해 학습이 완료된 모델 객체를 반환하게 되는데, 이 모델 객체는 예측을 위해 predict() 메서드를 이용한다. 한 가지 유의할 점은 사이킷런의 predict() 메서드는 예측 결과 클래스 값(즉, 0, 1)을 반환하는 데 반해 xgboost의 predict()는 예측 결괏값이 아닌 예측 결과를 추정할 수 있는 확률 값을 반환한다는 것이다. 본 예제는 암이 악성인지, 양성인지를 판단하는 이진 분류이므로 예측 확률이 0.5보다 크면 1, 그렇지 않으면 0으로 예측 값을 결정하는 로직을 추가하면 된다."
      ]
    },
    {
      "cell_type": "code",
      "execution_count": null,
      "metadata": {
        "id": "5rO4kfywVTb7"
      },
      "outputs": [],
      "source": [
        "pred_probs=xgb_model.predict(dtest)\n",
        "print('predict() 수행 결괏값을 10개만 표시, 예측 확률값으로 표시됨')\n",
        "print(np.round(pred_probs[:10], 3))\n",
        "\n",
        "# 예측 확률이 0.5보다 크면 1, 그렇지 않으면 0으로 예측값을 결정해 리스트 객체인 preds에 저장\n",
        "preds=[1 if x>0.5 else 0 for x in pred_probs]\n",
        "print('예측값 10개만 표시 :', preds[:10])"
      ]
    },
    {
      "cell_type": "markdown",
      "metadata": {
        "id": "sRw0MHLvVoJS"
      },
      "source": [
        "3장 평가에서 생성한 get_clf_eval() 함수를 적용해 XGBoost 모델의 예측 성능을 평가해 보겠다. 테스트 실제 레이블 값을 가지는 y_test와 예측 레이블인 preds를 인자로 입력한다."
      ]
    },
    {
      "cell_type": "code",
      "execution_count": null,
      "metadata": {
        "id": "KBasGBIAVwAl"
      },
      "outputs": [],
      "source": [
        "get_clf_eval(y_test, preds, pred_probs)"
      ]
    },
    {
      "cell_type": "markdown",
      "metadata": {
        "id": "t-D46v_vVzRY"
      },
      "source": [
        "정확도는 약 0.9737, 정밀도는 0.9744, 재현율은 0.9870, F1-스코어는 0.9806 그리고 ROC-AUC는 0.9951로 측정됐다.\n",
        "\n",
        "이번에는 xgboost 패키지에 내장된 시각화 기능을 수행해 보겠다. xgboost의 plot_importance() API는 피처의 중요도를 막대그래프 형식으로 나타낸다. 기본 평가 지표로 f1 스코어를 기반으로 해 각 피처의 중요도를 나타낸다. 사이킷런은 Estimator 객체의 feature_importances_ 속성을 이용해 직접 시각화 코드를 작성해야 하지만, xgboost 패키지는 plot_importance()를 이용해 바로 피처 중요도를 시각화할 수 있다. plot_importance() 호출 시 파라미터로 앞에서 학습이 완료된 모델 객체 및 맷플롯립의 ax 객체를 입력하기만 하면 된다.\n",
        "\n",
        "내장된 plot_importance() 이용 시 유의할 점은 xgboost 넘파이 기반의 피처 데이터로 학습 시에 피처명을 제대로 알 수가 없으므로 f0, f1와 같이 피처 순서별로 f자 뒤에 순서를 붙여서 X 축에 피처들로 나열한다(즉 f0은 첫 번째 피처, f1은 두 번째 피처를 의미한다)."
      ]
    },
    {
      "cell_type": "code",
      "execution_count": null,
      "metadata": {
        "id": "EmM6JMiXWggD"
      },
      "outputs": [],
      "source": [
        "from xgboost import plot_importance\n",
        "import matplotlib.pyplot as plt\n",
        "%matplotlib inline\n",
        "\n",
        "fig, ax=plt.subplots(figsize=(10, 12))\n",
        "plot_importance(xgb_model, ax=ax)"
      ]
    },
    {
      "cell_type": "markdown",
      "metadata": {
        "id": "Xw9j84zRW2JN"
      },
      "source": [
        "결정 트리에서 보여준 트리 기반 규칙 구조도 xgboost에서 시각화할 수 있다. xgboost 모듈의 to_graphviz() API를 이용하면 주피터 노트북에 바로 규칙 트리 구조를 그릴 수 있다. 단, 결정 트리에서와 마찬가지로 Graphviz 프로그램과 패키지가 설치돼 있어야 한다. xgboost.to_graphviz() 내에 파라미터로 학습이 완료된 모델 객체와 Graphviz가 참조할 파일명을 입력해주면 된다. Graphviz에 대한 설명은 앞 부분의 결정 트리 설명 부분을 참조하라.\n",
        "\n",
        "파이썬 래퍼 XGBoost는 사이킷런의 GridSearchCV와 유사하게 데이터 세트에 대한 교차 검증 수행 후 최적 파라미터를 구할 수 있는 방법을 cv() API로 제공한다. 다음은 cv() API와 파라미터에 대한 설명이다.\n",
        "```\n",
        "xgboost.cv(params, dtrain, num_boost_round=10, nfold=3, stratified=False, folds=None, metrics=(), obj=None, feval=None, maximize=False, early_stopping_rounds=None, fpreproc=None, as_pandas=True, verbose_eval=None, show_stdv=True, seed=0, callbacks=None, shuffle=True)\n",
        "```\n",
        "* params(dict) : 부스터 파라미터\n",
        "* dtrain(DMatrix) : 학습 데이터\n",
        "* num_boost_round(int) : 부스팅 반복 횟수\n",
        "* nfold(int) : CV 폴드 개수\n",
        "* stratified(bool) : CV 수행 시 층화 표본 추출(stratified sampling) 수행 여부\n",
        "* metrics(string or list of strings) : CV 수행 시 모니터링할 성능 평가 지표\n",
        "* early_stopping_rounds(int) : 조기 중단을 활성화시킴. 반복 횟수 지정.\n",
        "\n",
        "xgb.cv의 반환값은 DataFrame 형태이다. 이쯤에서 파이썬 래퍼 XGBoost 모듈에 대한 소개와 사용법을 마치겠다 XGBoost를 위한 사이킷런 래퍼는 사이킷런과 호환돼 편리하게 사용할 수 있기 때문에 앞으로는 예제 코드에 파이썬 래퍼 XGBoost가 아닌 사이킷런 래퍼 XGBoost를 사용하겠다."
      ]
    },
    {
      "cell_type": "markdown",
      "metadata": {
        "id": "IOgfIZpWYT9y"
      },
      "source": [
        "## 사이킷런 래퍼 XGBoost의 개요 및 적용"
      ]
    },
    {
      "cell_type": "markdown",
      "metadata": {
        "id": "IcPs7jg4YXJ-"
      },
      "source": [
        "앞에서 잠깐 설명했지만, XGBoost 개발 그룹은 사이킷런의 프레임워크와 연동하기 위해 사이킷런 전용의 XGBoost 래퍼 클래스를 개발했다. 사이킷런의 기본 Estimator를 그대로 상속해 만들었기 때문에 다른 Estimator와 동일하게 fit()과 predict()만으로 학습과 예측이 가능하고, GridSearchCV, Pipeline 등 사이킷런의 다른 유틸리티를 그대로 사용할 수 있기 때문에 기존의 다른 머신러닝 알고리즘으로 만들어 놓은 프로그램이 있더라도 알고리즘 클래스만 XGBoost 래퍼 클래스로 바꾸면 기존 프로그램을 그대로 사용할 수 있다. 사이킷런을 위한 래퍼 XGBoost는 크게 분류를 위한 래퍼 클래스인 XGBClassifier, 회귀를 위한 래퍼 클래스인 XGBRegressor이다.\n",
        "\n",
        "파이썬 래퍼 XGBoost와 사이킷런 래퍼 XGBoost의 하이퍼 파라미터에 약간의 차이가 있다고 앞에서 잠깐 언급했다. XGBClassifier는 기존 사이킷런에서 일반적으로 사용하는 하이퍼 파라미터와 호환성을 유지하기 위해 기존의 xgboost 모듈에서 사용하던 네이티브 하이퍼 파라미터 몇 개를 다음과 같이 변경했다.\n",
        "* eta -> learning_rate\n",
        "* sub_sample -> subsample\n",
        "* lambda -> reg_lambda\n",
        "* alpha -> reg_alpha\n",
        "\n",
        "또한 xgboost의 n_estimators와 num_boost_round 하이퍼 파라미터는 서로 동일한 파라미터이다. 만일 두 개가 동시에 사용되면 파이썬 래퍼 XGBoost API에서는 n_estimators 파라미터를 무시하고 num_boost_round 파라미터를 적용한다. 하지만 XGBClassifier와 같은 사이킷런 래퍼 XGBoost 클래스에서는 n_estimators 파라미터를 적용한다.\n",
        "\n",
        "위스콘신 대학병원의 유방암 데이터 세트를 분류를 위한 래퍼 클래스인 XGBClassifier를 이용해 예측해 보겠다. 모델의 하이퍼 파라미터는 앞의 파이썬 래퍼 XGBoost와 동일하게 n_estimators(num_rounds 대응)는 400, learning_rate(eta 대응)는 0.1, max_depth=3으로 설정하겠다. 앞 파이썬 래퍼 XGBoost 예제를 위해 사용한 주피터 노트북을 이어서 이용하고, 학습 데이터와 테스트 데이터는 앞 예제에서 사용한 X_train, X_test, y_train, y_test를 그대로 적용하겠다.\n",
        "\n",
        "XGBClassifier 클래스의 fit(), predict(), predict_proba()를 이용해 학습과 예측을 수행한다."
      ]
    },
    {
      "cell_type": "code",
      "execution_count": null,
      "metadata": {
        "id": "7WwFE8UAZ002"
      },
      "outputs": [],
      "source": [
        "# 사이킷런 래퍼 XGBoost 클래스인 XGBClassifier 임포트\n",
        "from xgboost import XGBRFClassifier\n",
        "\n",
        "xgb_wrapper=XGBClassifier(n_estimators=400, learning_rate=0.1, max_depth=3)\n",
        "xgb_wrapper.fit(X_train, y_train)\n",
        "w_preds=xgb_wrapper.predict(X_test)\n",
        "w_pred_proba=xgb_wrapper.predict_proba(X_test)[:, 1]"
      ]
    },
    {
      "cell_type": "markdown",
      "metadata": {
        "id": "ZNW-q295aTbm"
      },
      "source": [
        "get_clf_eval()를 이용해 사이킷런 래퍼 XGBoost로 만들어진 모델의 예측 성능 평가를 하겠다. 앞 절과 동일하게 테스트 실제 레이블 값을 가지는 y_test와 예측 레이블인 w_preds를 인자로 입력한다."
      ]
    },
    {
      "cell_type": "code",
      "execution_count": null,
      "metadata": {
        "id": "Iqmvg0n1abUp"
      },
      "outputs": [],
      "source": [
        "get_clf_eval(y_test, w_preds, w_pred_proba)"
      ]
    },
    {
      "cell_type": "markdown",
      "metadata": {
        "id": "U3mGryIMagKJ"
      },
      "source": [
        "앞 예제의 파이썬 래퍼 XGBoost와 동일한 평가 결과가 나옴을 알 수 있다. 사이킷런 래퍼 XGBoost에서도 조기 중단을 수행할 수 있다. 조기 중단 관련한 파라미터를 fit()에 입력하면 된다. 조기 중단 관련 파라미터는 평가 지표가 향상될 수 있는 반복 횟수를 정의하는 early_stopping_rounds, 조기 중단을 위한 평가 지표인 eval_metric, 그리고 성능 평가를 수행할 데이터 세트인 eval_set이다. 성능 평가를 수행할 데이터 세트는 학습 데이터가 아니라 별도의 데이터 세트여야 한다. early_stopping_rounds를 100, eval_metric은 logloss, eval_set는 테스트 데이터 세트를 설정하겠다.\n",
        "\n",
        "사실 다음 예제에서는 평가를 위한 데이터 세트로 테스트 데이터 세트를 사용했습니다만, 바람직한 부분은 아니다. 테스트 데이터 세트는 학습 시에는 완전히 알려지지 않은 데이터 세트를 사용해야 한다. 평가에 테스트 데이터 세트를 사용하면 학습 시에 미리 참고가 되어 과적합할 수 있기 때문이다. 단, 이 예제에서는 데이터 세트의 크기가 작아 테스트 데이터를 평가용으로 사용했으니, 이 부분을 주지하기 바란다."
      ]
    },
    {
      "cell_type": "code",
      "execution_count": null,
      "metadata": {
        "id": "OGb_TkEMbF6m"
      },
      "outputs": [],
      "source": [
        "from xgboost import XGBClassifier\n",
        "\n",
        "xgb_wrapper=XGBClassifier(n_estimators=400, learning_rate=0.1, max_depth=3)\n",
        "evals=[(X_test, y_test)]\n",
        "xgb_wrapper.fit(X_train, y_train, early_stopping_rounds=100, eval_metric='logloss',\n",
        "                eval_set=evals, verbose=True)\n",
        "ws100_preds=xgb_wrapper.predict(X_test)\n",
        "ws100_pred_proba=xgb_wrapper.predict_proba(X_test)[:, 1]"
      ]
    },
    {
      "cell_type": "markdown",
      "metadata": {
        "id": "zxfOUfU5bhZg"
      },
      "source": [
        "n_estimators를 400으로 설정해도 400번 반복을 수행하지 않고 311번 반복한 후 학습을 완료했음을 알 수 있다. 311번 반복한 후 멈춘 이유는 다음과 같다. 211번 반복 시 logloss가 0.085593이고 311번 반복 시 logloss가 0.085948인데, 211번에서 311번까지 early_stopping_rounds=100으로 지정된 100번의 반복 동안 성능 평가 지수가 향상되지 않았기 때문에 더이상 반복하지 않고 멈춘 것이다.\n",
        "\n",
        "조기 중단으로 학습된 XGBClassifier의 예측 성능을 살펴보겠다. 조기 중단이 적용되지 않은 결과보다 약간 저조한 성능을 나타냈지만, 큰 차이는 아니다."
      ]
    },
    {
      "cell_type": "code",
      "execution_count": null,
      "metadata": {
        "id": "IzgtIeErb8MJ"
      },
      "outputs": [],
      "source": [
        "get_clf_eval(y_test, ws100_preds, ws100_pred_proba)"
      ]
    },
    {
      "cell_type": "markdown",
      "metadata": {
        "id": "Nju85xqncANU"
      },
      "source": [
        "하지만 조기 중단값을 너무 급격하게 줄이면 예측 성능이 저하될 우려가 크다. 만일 early_stopping_rounds를 10으로 하면 아직 성능이 향상될 여지가 있음에도 불구하고 10번 반복하는 동안 성능 평가 지표가 향상되지 않으면 반복이 멈춰버려서 충분한 학습이 되지 않아 예측 성능이 나빠질 수 있다. early_stopping_rounds를 10으로 설정하고 예측 성능을 다시 측정해 보겠다."
      ]
    },
    {
      "cell_type": "code",
      "execution_count": null,
      "metadata": {
        "id": "8xQW4h1ycQC3"
      },
      "outputs": [],
      "source": [
        "# early_stopping_rounds를 10으로 설정하고 재학습\n",
        "xgb_wrapper.fit(X_train, y_train, early_stopping_rounds=10,\n",
        "                eval_metric='logloss', eval_set=evals, verbose=True)\n",
        "\n",
        "ws10_preds=xgb_wrapper.predict(X_test)\n",
        "ws10_pred_proba=xgb_wrapper.predict_proba(X_test)[:, 1]\n",
        "get_clf_eval(y_test, ws10_preds, ws10_pred_proba)"
      ]
    },
    {
      "cell_type": "markdown",
      "metadata": {
        "id": "RSsV2XeucmN9"
      },
      "source": [
        "62번 반복까지만 수행된 후 학습이 종료됐는데, 62번 반복의 logloss가 0.090311, 52번 반복의 logloss가 0.089577로서 10번의 반복 동안 성능 평가 지수가 향상되지 못해서 더이상의 반복을 수행하지 않고 학습이 종료됐다. 이렇게 학습된 모델로 예측한 결과 정확도는 약 0.9561로 early_stopping_rounds=100일 때의 약 0.9649보다 낮다.\n",
        "\n",
        "피처의 중요도를 시각화하는 모듈인 plot_importance() API에 사이킷런 래퍼 클래스를 입력해도 앞에서 파이썬 래퍼 클래스를 입력한 결과와 똑같이 시각화 결과를 도출해 준다. 다음 코드를 수행해보면 동일하게 피처 중요도가 시각화됨을 알 수 있다. 출력 결과는 책에 수록하지 않는다."
      ]
    },
    {
      "cell_type": "code",
      "execution_count": null,
      "metadata": {
        "id": "myCcFK_6dCrU"
      },
      "outputs": [],
      "source": [
        "from xgboost import plot_importance\n",
        "import matplotlib.pyplot as plt\n",
        "%matplotlib inline\n",
        "\n",
        "fig, ax=plt.subplots(figsize=(10, 12))\n",
        "\n",
        "# 사이킷런 Wrapper 클래스를 입력해도 무방\n",
        "plot_importance(xgb_wrapper, ax=ax)"
      ]
    }
  ],
  "metadata": {
    "colab": {
      "provenance": [],
      "authorship_tag": "ABX9TyNXMxpDzM5ASAQq2NgF3Jtc",
      "include_colab_link": true
    },
    "kernelspec": {
      "display_name": "Python 3",
      "name": "python3"
    },
    "language_info": {
      "name": "python"
    }
  },
  "nbformat": 4,
  "nbformat_minor": 0
}