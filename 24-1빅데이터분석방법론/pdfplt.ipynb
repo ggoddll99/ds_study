{
 "cells": [
  {
   "cell_type": "code",
   "execution_count": null,
   "id": "04471ac2-cc15-4391-b68c-9b518f9e5a05",
   "metadata": {},
   "outputs": [],
   "source": [
    "def gamplt(a, b):\n",
    "    import numpy as np\n",
    "    import matplotlib.pyplot as plt\n",
    "    from scipy.stats import gamma\n",
    "    \n",
    "    x=np.arange(0, a*b+6*a*b*b, 0.1) ## 감마 분포 식 찾아보기\n",
    "    plt.plot(x, gamma.pdf(x, a, b), 'b')\n",
    "    plt.title('Gamma(Alpha=' + str(a) + ', Beta=' + str(b) + ')PDF')\n",
    "    plt.show()\n",
    "    \n",
    "def normplt(m, s):\n",
    "    import numpy as np\n",
    "    import matplotlib.pyplot as plt\n",
    "    from scipy.stats import norm\n",
    "    \n",
    "    x=np.arange(m-3*s, m+3*s, 0.1)\n",
    "    plt.plot(x, norm.pdf(x, m, s), 'b')\n",
    "    plt.title('Normal(Mean=' + str(m) + ', STD=' + str(s)+')PDF')\n",
    "    plt.show()"
   ]
  }
 ],
 "metadata": {
  "kernelspec": {
   "display_name": "Python 3 (ipykernel)",
   "language": "python",
   "name": "python3"
  },
  "language_info": {
   "codemirror_mode": {
    "name": "ipython",
    "version": 3
   },
   "file_extension": ".py",
   "mimetype": "text/x-python",
   "name": "python",
   "nbconvert_exporter": "python",
   "pygments_lexer": "ipython3",
   "version": "3.10.9"
  }
 },
 "nbformat": 4,
 "nbformat_minor": 5
}
