{
 "cells": [
  {
   "cell_type": "markdown",
   "id": "a4e2eac9-eae1-4ef0-9b79-b265c7ab0043",
   "metadata": {},
   "source": [
    "# Chapter1"
   ]
  },
  {
   "cell_type": "markdown",
   "id": "7b0a9589-22d1-4a4f-97fb-3400df7324d1",
   "metadata": {},
   "source": [
    "## 1. Python Basics"
   ]
  },
  {
   "cell_type": "markdown",
   "id": "010e38f3-49ad-4669-afd2-b454560f9748",
   "metadata": {},
   "source": [
    "### 1) Variables"
   ]
  },
  {
   "cell_type": "markdown",
   "id": "8aa80553-9cbc-4c53-8d71-d8fcfd80157e",
   "metadata": {},
   "source": [
    "#### a) Strings(str)"
   ]
  },
  {
   "cell_type": "markdown",
   "id": "d7809e69-e073-47f3-8f09-7f05500483bb",
   "metadata": {},
   "source": [
    "작은 따옴표, 큰 따옴표\n",
    "\n",
    "cf) 주석 처리 : 따옴표 3번"
   ]
  },
  {
   "cell_type": "markdown",
   "id": "01314c6b-b76d-4a05-b7a5-5d0fc0315138",
   "metadata": {},
   "source": [
    "#### b) Integer and Float (int, float)"
   ]
  },
  {
   "cell_type": "markdown",
   "id": "e48cc825-f59e-4427-a462-58bf3ad63e28",
   "metadata": {},
   "source": [
    "소수점 이하의 값이 존재하지 않으면 정수형(int), 존재하면 실수형(float)"
   ]
  },
  {
   "cell_type": "code",
   "execution_count": 1,
   "id": "e7b48092-8cc9-4b88-81bc-b0433c9de59f",
   "metadata": {},
   "outputs": [
    {
     "name": "stdout",
     "output_type": "stream",
     "text": [
      "<class 'int'>\n"
     ]
    }
   ],
   "source": [
    "x=1\n",
    "print(type(x))"
   ]
  },
  {
   "cell_type": "code",
   "execution_count": 2,
   "id": "c8acc5ce-9fd8-49e8-9fa1-5658924a91e4",
   "metadata": {},
   "outputs": [
    {
     "name": "stdout",
     "output_type": "stream",
     "text": [
      "<class 'float'>\n"
     ]
    }
   ],
   "source": [
    "x=0.1\n",
    "print(type(x))"
   ]
  },
  {
   "cell_type": "markdown",
   "id": "fcb02b61-c796-477c-963a-549db43ef4eb",
   "metadata": {},
   "source": [
    "#### c) Boolean(bool)"
   ]
  },
  {
   "cell_type": "markdown",
   "id": "0b156242-db7f-424e-be57-c048e7aaeae2",
   "metadata": {},
   "source": [
    "참이면 True, 거짓이면 False"
   ]
  },
  {
   "cell_type": "markdown",
   "id": "34fd98dd-ef6e-4980-9ce7-54f21e6b4de3",
   "metadata": {},
   "source": [
    "### 2) Basic Arithmetic"
   ]
  },
  {
   "cell_type": "markdown",
   "id": "f21ad005-cce2-41c4-b4a0-a2c414004415",
   "metadata": {},
   "source": [
    "#### a) Math operation"
   ]
  },
  {
   "cell_type": "markdown",
   "id": "93dc091b-820a-468b-b9cf-65c09beff35e",
   "metadata": {},
   "source": [
    "integer형과 float형의 데이터에 대하여 사칙연산 가능\n",
    "\n",
    "+, -, *, **(exponentiation), /, //(floor division, 몫), %(modulus, 나머지)"
   ]
  },
  {
   "cell_type": "code",
   "execution_count": 3,
   "id": "088af813-fbac-4aff-8ed1-856c0128791b",
   "metadata": {},
   "outputs": [
    {
     "name": "stdout",
     "output_type": "stream",
     "text": [
      "1\n",
      "1\n"
     ]
    }
   ],
   "source": [
    "# floor division\n",
    "print(3//2)\n",
    "\n",
    "# modulus\n",
    "print(3//2)"
   ]
  },
  {
   "cell_type": "markdown",
   "id": "c4b726c2-531a-48fd-8773-1168ea607d57",
   "metadata": {},
   "source": [
    "#### b) Boolean expressions"
   ]
  },
  {
   "cell_type": "markdown",
   "id": "cf0fe236-19db-4421-9107-6ffe204f41fa",
   "metadata": {},
   "source": [
    "모델의 정의하는 과정에서 option에 True, False를 입력하는 경우 앞 글자만 대문자로 입력한다.\n",
    "\n",
    "==, !=, >, >=, <, <="
   ]
  },
  {
   "cell_type": "markdown",
   "id": "83d6a854-01d4-428b-ba9c-5cfbb4429135",
   "metadata": {},
   "source": [
    "#### c) Logical operations"
   ]
  },
  {
   "cell_type": "markdown",
   "id": "b61cca77-a036-4efb-a8b9-94f668c344b3",
   "metadata": {},
   "source": [
    "여러 가지 조건문을 연결하는 경우, 논리 연산자를 이용한다.\n",
    "\n",
    "and, or, not(값이 True인 경우 False를 값이 False인 경우 True를 출력)"
   ]
  },
  {
   "cell_type": "code",
   "execution_count": 4,
   "id": "e055faba-bcb7-4904-926c-649c5dcf4d4a",
   "metadata": {},
   "outputs": [
    {
     "name": "stdout",
     "output_type": "stream",
     "text": [
      "True\n",
      "False\n"
     ]
    }
   ],
   "source": [
    "print(5==5.0)\n",
    "print(not 5==5.0)"
   ]
  },
  {
   "cell_type": "markdown",
   "id": "ec0d8fbd-3477-41c1-91be-7be0c7981c1d",
   "metadata": {},
   "source": [
    "#### d) Strings"
   ]
  },
  {
   "cell_type": "markdown",
   "id": "3396cf6e-5e5d-4172-ab55-f89707895d3f",
   "metadata": {},
   "source": [
    "문자열을 출력하는 경우 + operation을 이용해 여러 개의 문자열을 연결할 수 있다."
   ]
  },
  {
   "cell_type": "code",
   "execution_count": 5,
   "id": "76a849f9-907a-4efc-a3cc-64be292cd204",
   "metadata": {},
   "outputs": [
    {
     "name": "stdout",
     "output_type": "stream",
     "text": [
      "HelloWorld\n",
      "Hello World\n"
     ]
    }
   ],
   "source": [
    "str1='Hello'\n",
    "str2='World'\n",
    "str3=str1+str2\n",
    "str4=str1+' '+str2\n",
    "print(str3)\n",
    "print(str4)"
   ]
  },
  {
   "cell_type": "markdown",
   "id": "229e9c20-7cfa-428c-a164-56345a9fc8e9",
   "metadata": {},
   "source": [
    " 또한, f-string을 이용하면 문자열을 편리하게 출력할 수 있다."
   ]
  },
  {
   "cell_type": "code",
   "execution_count": 6,
   "id": "d7febe98-c1b5-4c31-9f19-9c90ec415096",
   "metadata": {},
   "outputs": [
    {
     "data": {
      "text/plain": [
       "'Since 1886'"
      ]
     },
     "execution_count": 6,
     "metadata": {},
     "output_type": "execute_result"
    }
   ],
   "source": [
    "x=1886\n",
    "str5=f'Since {x}'\n",
    "str5"
   ]
  },
  {
   "cell_type": "markdown",
   "id": "323d7a64-3682-414c-8107-3caf6cce2e69",
   "metadata": {},
   "source": [
    "### 3) Control Flow"
   ]
  },
  {
   "cell_type": "markdown",
   "id": "2e8b72c9-269e-4e13-ae90-90ce7f5b5cee",
   "metadata": {},
   "source": [
    "#### a) if문"
   ]
  },
  {
   "cell_type": "code",
   "execution_count": 7,
   "id": "760ac1c1-c7a0-4104-9386-04b135aad73e",
   "metadata": {},
   "outputs": [
    {
     "name": "stdin",
     "output_type": "stream",
     "text": [
      "What is your age? : 26\n"
     ]
    },
    {
     "name": "stdout",
     "output_type": "stream",
     "text": [
      "You can drive\n"
     ]
    }
   ],
   "source": [
    "# EX1-1)\n",
    "\n",
    "# input으로 받은 값을 integer로 변환\n",
    "age=int(input('What is your age? :')) ## str 뒤에 자동으로 공백 추가됨\n",
    "\n",
    "if age>18:\n",
    "    print('You can drive')\n",
    "else:\n",
    "    print('''Sorry, you can't drive''') ## can't의 작은 따옴표 때문에 '''(작은 따옴표 3개) 사용, \" 사용해도 됨"
   ]
  },
  {
   "cell_type": "code",
   "execution_count": 8,
   "id": "604e6c01-ec98-4ca5-bac2-84caa7af996b",
   "metadata": {},
   "outputs": [
    {
     "name": "stdin",
     "output_type": "stream",
     "text": [
      "What is your age? : 14\n"
     ]
    },
    {
     "name": "stdout",
     "output_type": "stream",
     "text": [
      "Sorry, you can't drive\n"
     ]
    }
   ],
   "source": [
    "# EX1-2)\n",
    "\n",
    "# input으로 받은 값을 integer로 변환\n",
    "age=int(input('What is your age? :'))\n",
    "\n",
    "if age>18:\n",
    "    print('You can drive')\n",
    "else:\n",
    "    print('''Sorry, you can't drive''')"
   ]
  },
  {
   "cell_type": "markdown",
   "id": "8840d78a-35ea-44f6-a6d8-56c4b96df801",
   "metadata": {},
   "source": [
    "조건을 여러 개로 만들고 싶은 경우, elif를 추가한다. 이때 else는 생략 가능하다."
   ]
  },
  {
   "cell_type": "code",
   "execution_count": 9,
   "id": "55192c15-1d1e-41b3-955b-f33c768addf1",
   "metadata": {},
   "outputs": [
    {
     "name": "stdout",
     "output_type": "stream",
     "text": [
      "I am here\n",
      "x is 3\n",
      "Finished\n"
     ]
    }
   ],
   "source": [
    "# EX2-1)\n",
    "x=3\n",
    "y=2\n",
    "\n",
    "if x==y:\n",
    "    print('The value of x is the same as value of y')\n",
    "elif x==3:\n",
    "    print('I am here')\n",
    "    print('x is 3')\n",
    "else:\n",
    "    print('x is something else')\n",
    "print('Finished')"
   ]
  },
  {
   "cell_type": "code",
   "execution_count": 10,
   "id": "5f2005f7-bc4c-4460-af08-95ccefc9e74f",
   "metadata": {},
   "outputs": [
    {
     "name": "stdout",
     "output_type": "stream",
     "text": [
      "The value of x is the same as value of y\n",
      "Finished\n"
     ]
    }
   ],
   "source": [
    "# EX2-2)\n",
    "x=2\n",
    "y=2\n",
    "\n",
    "if x==y:\n",
    "    print('The value of x is the same as value of y')\n",
    "elif x==3:\n",
    "    print('I am here')\n",
    "    print('x is 3')\n",
    "else:\n",
    "    print('x is something else')\n",
    "print('Finished')"
   ]
  },
  {
   "cell_type": "code",
   "execution_count": 11,
   "id": "43e9d3ce-2f80-486f-8073-c73c5f624c72",
   "metadata": {},
   "outputs": [
    {
     "name": "stdout",
     "output_type": "stream",
     "text": [
      "x is something else\n",
      "Finished\n"
     ]
    }
   ],
   "source": [
    "# EX2-3)\n",
    "x=5\n",
    "y=2\n",
    "\n",
    "if x==y:\n",
    "    print('The value of x is the same as value of y')\n",
    "elif x==3:\n",
    "    print('I am here')\n",
    "    print('x is 3')\n",
    "else:\n",
    "    print('x is something else')\n",
    "print('Finished')"
   ]
  },
  {
   "cell_type": "code",
   "execution_count": 12,
   "id": "640377f2-9ef1-4bc3-b896-b2a529fc073e",
   "metadata": {},
   "outputs": [
    {
     "name": "stdin",
     "output_type": "stream",
     "text": [
      "입력하는 숫자는 6과 20 사이의 짝수인가? : 2\n"
     ]
    },
    {
     "name": "stdout",
     "output_type": "stream",
     "text": [
      "No\n"
     ]
    }
   ],
   "source": [
    "# EX3-1)\n",
    "N=int(input('입력하는 숫자는 6과 20 사이의 짝수인가? :'))\n",
    "\n",
    "if N%2==0:\n",
    "    if N>=2 and N<=5:\n",
    "        print('No')\n",
    "    elif N>=6 and N<=20:\n",
    "        print('Yes')\n",
    "    elif N>20:\n",
    "        print('No')\n",
    "else:\n",
    "    print('No')"
   ]
  },
  {
   "cell_type": "code",
   "execution_count": 13,
   "id": "c4b1ef36-191e-4cfa-8f2e-963a211f1b82",
   "metadata": {},
   "outputs": [
    {
     "name": "stdin",
     "output_type": "stream",
     "text": [
      "입력하는 숫자는 6과 20 사이의 짝수인가? : 8\n"
     ]
    },
    {
     "name": "stdout",
     "output_type": "stream",
     "text": [
      "Yes\n"
     ]
    }
   ],
   "source": [
    "# EX3-2)\n",
    "N=int(input('입력하는 숫자는 6과 20 사이의 짝수인가? :'))\n",
    "\n",
    "if N%2==0:\n",
    "    if N>=2 and N<=5:\n",
    "        print('No')\n",
    "    elif N>=6 and N<=20:\n",
    "        print('Yes')\n",
    "    elif N>20:\n",
    "        print('No')\n",
    "else:\n",
    "    print('No')"
   ]
  },
  {
   "cell_type": "markdown",
   "id": "f3bff4df-285d-4005-9904-909405e613aa",
   "metadata": {},
   "source": [
    "#### b) for문"
   ]
  },
  {
   "cell_type": "markdown",
   "id": "b9454029-b709-4f3c-b76b-a569b188d9b4",
   "metadata": {},
   "source": [
    "같은 계산을 반복해서 수행하는 경우 for문을 사용한다. 이때, 횟수 지정은 숫자 리스트를 자동으로 만들어주는 range 함수를 사용한다.\n",
    "\n",
    "range(0, n)으로 함수를 호출하면 0부터 시작해서 (n-1)까지 정수를 출력한다."
   ]
  },
  {
   "cell_type": "code",
   "execution_count": 14,
   "id": "6baa7379-ac66-461f-a0a0-6a0b480661e1",
   "metadata": {},
   "outputs": [
    {
     "data": {
      "text/plain": [
       "range(2, 8)"
      ]
     },
     "execution_count": 14,
     "metadata": {},
     "output_type": "execute_result"
    }
   ],
   "source": [
    "range(2, 8)"
   ]
  },
  {
   "cell_type": "code",
   "execution_count": 15,
   "id": "c19a3345-16dc-4a8b-bcf6-7725bd35f776",
   "metadata": {},
   "outputs": [
    {
     "data": {
      "text/plain": [
       "[2, 3, 4, 5, 6, 7]"
      ]
     },
     "execution_count": 15,
     "metadata": {},
     "output_type": "execute_result"
    }
   ],
   "source": [
    "list(range(2, 8))"
   ]
  },
  {
   "cell_type": "markdown",
   "id": "a4261b47-2d5b-452c-ac47-0904a93a4e3c",
   "metadata": {},
   "source": [
    "sequence에는 리스트나 튜플, 문자열이 올 수 있다."
   ]
  },
  {
   "cell_type": "code",
   "execution_count": 16,
   "id": "784fb099-e442-4c54-b096-5875f809b09a",
   "metadata": {},
   "outputs": [
    {
     "name": "stdout",
     "output_type": "stream",
     "text": [
      "0\n",
      "1\n",
      "4\n",
      "9\n",
      "16\n"
     ]
    }
   ],
   "source": [
    "for i in range(5):\n",
    "    print(i**2)"
   ]
  },
  {
   "cell_type": "code",
   "execution_count": 17,
   "id": "1d974fa5-93ba-437e-bddc-792e756f8120",
   "metadata": {},
   "outputs": [
    {
     "name": "stdin",
     "output_type": "stream",
     "text": [
      "정수를 입력하시오. : 5\n"
     ]
    },
    {
     "name": "stdout",
     "output_type": "stream",
     "text": [
      "15\n"
     ]
    }
   ],
   "source": [
    "# 알고리즘 써보기\n",
    "# 정수를 입력받은 후 1부터 입력값까지의 합 구하기\n",
    "n=int(input('정수를 입력하시오. :'))+1\n",
    "\n",
    "# set initial value\n",
    "mysum=0\n",
    "\n",
    "for i in range(0, n): ## 0, 1, 2, 3, 4, 5(n)\n",
    "    mysum=mysum+i\n",
    "print(mysum)"
   ]
  },
  {
   "cell_type": "markdown",
   "id": "298ac783-74d9-4c2c-b565-d7657cbd22bc",
   "metadata": {},
   "source": [
    "리스트 안에 for 문을 포함하는 것도 가능하다."
   ]
  },
  {
   "cell_type": "code",
   "execution_count": 18,
   "id": "582125b9-efc5-4600-8635-03acfad43ca1",
   "metadata": {},
   "outputs": [
    {
     "name": "stdout",
     "output_type": "stream",
     "text": [
      "[6, 12]\n"
     ]
    }
   ],
   "source": [
    "mylist=[1, 2, 3, 4]\n",
    "res=[num*3 for num in mylist if num%2==0] ## 2, 4\n",
    "print(res)"
   ]
  },
  {
   "cell_type": "markdown",
   "id": "ef877283-acab-40f2-b52e-78d455567c3d",
   "metadata": {},
   "source": [
    "여러 리스트에서 요소와 인덱스를 동시에 얻으려면 enumerate(), zip() 함수를 함께 사용한다.\n",
    "* enumerate() : for문 결과 출력시 인덱스를 출력해주는 함수\n",
    "* zip() : 여러 리스트를 함께 for문에 돌리는 경우 쓰는 함수"
   ]
  },
  {
   "cell_type": "code",
   "execution_count": 19,
   "id": "9f209404-18d4-4ff6-ad0e-86342afbc84a",
   "metadata": {},
   "outputs": [
    {
     "name": "stdout",
     "output_type": "stream",
     "text": [
      "0 Song 24\n",
      "1 Kim 50\n",
      "2 Lee 18\n"
     ]
    }
   ],
   "source": [
    "names=['Song', 'Kim', 'Lee']\n",
    "ages=[24, 50, 18]\n",
    "\n",
    "for i, (name, age) in enumerate(zip(names, ages)):\n",
    "    print(i, name, age)"
   ]
  },
  {
   "cell_type": "markdown",
   "id": "144b606d-0fd1-42b7-a7f2-3a87740e7f22",
   "metadata": {},
   "source": [
    "#### c) while문"
   ]
  },
  {
   "cell_type": "markdown",
   "id": "95213cb6-7e18-4e43-8b9c-6dbd96fe6811",
   "metadata": {},
   "source": [
    "일반적으로 반복문을 어느 정도 반복해야 하는지 알 수 없을 때 while문을 이용한다.\n",
    "* while문은 조건문이 참인 동안에 while문 아래의 문장이 반복해서 실행된다.\n",
    "* 루프가 break를 만나게 되면 해당 루프는 실행이 종료되고 while문 바로 뒤 코드를 실행한다.\n",
    "* 루프가 continue를 만나게 되면 해당 루프는 실행이 종료되고 루프가 시작된 지점부터 다시 루프를 실행한다. (if문, for문, while문 모두 해당)"
   ]
  },
  {
   "cell_type": "code",
   "execution_count": 20,
   "id": "5033c1d4-4cd0-4bc2-9027-bed4d3563c82",
   "metadata": {},
   "outputs": [
    {
     "name": "stdout",
     "output_type": "stream",
     "text": [
      "1\n",
      "4\n",
      "36\n",
      "1764\n"
     ]
    }
   ],
   "source": [
    "# 알고리즘 써보기\n",
    "i=1\n",
    "while i<100:\n",
    "    print(i**2)\n",
    "    i+=i**2"
   ]
  },
  {
   "cell_type": "markdown",
   "id": "b2fcd0d6-44b1-4ee9-9e05-91770be7b8ff",
   "metadata": {},
   "source": [
    "제어문에서 break와 continue 명령문을 이용하여 루프의 경로를 변경할 수 있다. break 바로 위의 명령문이 True일 경우 루프를 종료하고 continue 바로 위의 명령문이 True일 경우 루프의 시작 지점으로 이동한다."
   ]
  },
  {
   "cell_type": "code",
   "execution_count": 21,
   "id": "06a93788-35bb-44f9-8fbe-3812219b9e97",
   "metadata": {},
   "outputs": [
    {
     "name": "stdout",
     "output_type": "stream",
     "text": [
      "1\n",
      "2\n",
      "3\n",
      "4\n",
      "5\n"
     ]
    }
   ],
   "source": [
    "i=1\n",
    "while True:\n",
    "    print(i)\n",
    "    i=i+1\n",
    "    if(i>5):\n",
    "        break"
   ]
  },
  {
   "cell_type": "code",
   "execution_count": 22,
   "id": "d6e40e7d-153c-4675-bbd7-55de5b860aa2",
   "metadata": {},
   "outputs": [
    {
     "name": "stdout",
     "output_type": "stream",
     "text": [
      "2\n",
      "4\n",
      "5\n"
     ]
    }
   ],
   "source": [
    "# 알고리즘 써보기\n",
    "a=1\n",
    "while a<5:\n",
    "    a+=1\n",
    "    if a==3:\n",
    "        continue\n",
    "    print(a)"
   ]
  },
  {
   "cell_type": "markdown",
   "id": "d7893e6c-19d4-41ac-9ead-2726addaee5f",
   "metadata": {},
   "source": [
    "## 2. Packages"
   ]
  },
  {
   "cell_type": "markdown",
   "id": "d861c056-269c-4ea7-bc42-93f65a9b2e41",
   "metadata": {},
   "source": [
    "R의 패키지를 python에서는 module이라고 부른다."
   ]
  },
  {
   "cell_type": "markdown",
   "id": "d33186a4-071a-49ba-8cef-87bfc5ca04ff",
   "metadata": {},
   "source": [
    "### 1) Install package"
   ]
  },
  {
   "cell_type": "markdown",
   "id": "4b079aed-78b3-4caa-8184-6150f8c83e2e",
   "metadata": {},
   "source": [
    "관리자 프롬프트를 열고 다음을 실행한다.\n",
    "```\n",
    "pip install 패키지 이름\n",
    "```\n",
    "\n",
    "cmd에 들어가지 않고 Jupyter에서도 설치가 가능하다. '!' 이후에 나오는 내용들을 cmd 창에 입력하는 것과 동일하게 처리한다."
   ]
  },
  {
   "cell_type": "code",
   "execution_count": 23,
   "id": "123aed5b-c3cb-4759-ba71-30526a4a3c85",
   "metadata": {},
   "outputs": [
    {
     "name": "stdout",
     "output_type": "stream",
     "text": [
      "Requirement already satisfied: numpy in c:\\users\\user\\anaconda3\\lib\\site-packages (1.23.5)\n"
     ]
    }
   ],
   "source": [
    "!pip install numpy"
   ]
  },
  {
   "cell_type": "markdown",
   "id": "ec4b42da-d030-4684-a701-bf2fa81baf3f",
   "metadata": {},
   "source": [
    "설치된 패키지들을 보기 위해선 다음을 실행한다.\n",
    "```\n",
    "pip list\n",
    "```"
   ]
  },
  {
   "cell_type": "markdown",
   "id": "1c890940-ac07-47f8-b912-a114bf593afe",
   "metadata": {},
   "source": [
    "### 2) Some packages"
   ]
  },
  {
   "cell_type": "markdown",
   "id": "7a071440-a8c8-4fec-966c-7c57bfb4a59c",
   "metadata": {},
   "source": [
    "#### a) numpy, pandas"
   ]
  },
  {
   "cell_type": "markdown",
   "id": "9b580419-01d0-433d-bb7b-5508f81aa972",
   "metadata": {},
   "source": [
    "numpy와 pandas는 외부 패키지이다.\n",
    "* numpy는 배열(ndarray) 데이터를 다루는 클래스를 주로 사용하며 특히 행렬 연산에 강하다.\n",
    "* pandas는 데이터프레임(dataframe) 데이터 관리에 강한 클래스를 사용하기 때문에 통계 분석에서는 필수적인 패키지이다."
   ]
  },
  {
   "cell_type": "code",
   "execution_count": 24,
   "id": "5e47e22d-1414-40bc-9bde-912f9f3431b5",
   "metadata": {},
   "outputs": [],
   "source": [
    "import numpy as np\n",
    "import pandas as pd"
   ]
  },
  {
   "cell_type": "markdown",
   "id": "ad3ab59f-1f74-4f86-a086-2985fec4b68a",
   "metadata": {},
   "source": [
    "#### b) matplotlib, seaborn"
   ]
  },
  {
   "cell_type": "markdown",
   "id": "eeae0352-49c8-4c78-985f-ce6cf074ee78",
   "metadata": {},
   "source": [
    "matplotlib, seaborn은 데이터를 시각화하는데 사용되는 패키지이다."
   ]
  },
  {
   "cell_type": "code",
   "execution_count": 25,
   "id": "87e2ac08-e4c4-41dc-ac4f-edc266d00636",
   "metadata": {},
   "outputs": [],
   "source": [
    "import matplotlib.pyplot as plt\n",
    "import seaborn as sns"
   ]
  },
  {
   "cell_type": "markdown",
   "id": "8c968efa-5ff1-484d-aff0-dc82f62968e3",
   "metadata": {},
   "source": [
    "#### c) Sklearn, Tensorflow"
   ]
  },
  {
   "cell_type": "markdown",
   "id": "052b1742-6bf4-4695-95a2-41c1f56d173a",
   "metadata": {},
   "source": [
    "Sklearn, Tensorflow는 머신러닝을 위한 패키지이다.\n",
    "* Sklearn은 classification(분류), regression(회귀), clustering(클러스터링), sufficient dimension(차원 축소) 등 다양한 머신러닝 모델링을 지원한다.\n",
    "* Tensorflow는 구글에서 제공하는 머신러닝 및 딥러닝 개발을 위한 패키지이다."
   ]
  },
  {
   "cell_type": "code",
   "execution_count": 26,
   "id": "77eafce0-d3b4-474c-afbe-9602055dc4ba",
   "metadata": {},
   "outputs": [
    {
     "name": "stdout",
     "output_type": "stream",
     "text": [
      "Requirement already satisfied: tensorflow in c:\\users\\user\\anaconda3\\lib\\site-packages (2.16.1)\n",
      "Requirement already satisfied: tensorflow-intel==2.16.1 in c:\\users\\user\\anaconda3\\lib\\site-packages (from tensorflow) (2.16.1)\n",
      "Requirement already satisfied: numpy<2.0.0,>=1.23.5 in c:\\users\\user\\anaconda3\\lib\\site-packages (from tensorflow-intel==2.16.1->tensorflow) (1.23.5)\n",
      "Requirement already satisfied: h5py>=3.10.0 in c:\\users\\user\\anaconda3\\lib\\site-packages (from tensorflow-intel==2.16.1->tensorflow) (3.11.0)\n",
      "Requirement already satisfied: astunparse>=1.6.0 in c:\\users\\user\\anaconda3\\lib\\site-packages (from tensorflow-intel==2.16.1->tensorflow) (1.6.3)\n",
      "Requirement already satisfied: grpcio<2.0,>=1.24.3 in c:\\users\\user\\anaconda3\\lib\\site-packages (from tensorflow-intel==2.16.1->tensorflow) (1.62.1)\n",
      "Requirement already satisfied: tensorboard<2.17,>=2.16 in c:\\users\\user\\anaconda3\\lib\\site-packages (from tensorflow-intel==2.16.1->tensorflow) (2.16.2)\n",
      "Requirement already satisfied: keras>=3.0.0 in c:\\users\\user\\anaconda3\\lib\\site-packages (from tensorflow-intel==2.16.1->tensorflow) (3.2.1)\n",
      "Requirement already satisfied: absl-py>=1.0.0 in c:\\users\\user\\anaconda3\\lib\\site-packages (from tensorflow-intel==2.16.1->tensorflow) (2.1.0)\n",
      "Requirement already satisfied: termcolor>=1.1.0 in c:\\users\\user\\anaconda3\\lib\\site-packages (from tensorflow-intel==2.16.1->tensorflow) (2.4.0)\n",
      "Requirement already satisfied: google-pasta>=0.1.1 in c:\\users\\user\\anaconda3\\lib\\site-packages (from tensorflow-intel==2.16.1->tensorflow) (0.2.0)\n",
      "Requirement already satisfied: typing-extensions>=3.6.6 in c:\\users\\user\\anaconda3\\lib\\site-packages (from tensorflow-intel==2.16.1->tensorflow) (4.4.0)\n",
      "Requirement already satisfied: six>=1.12.0 in c:\\users\\user\\anaconda3\\lib\\site-packages (from tensorflow-intel==2.16.1->tensorflow) (1.16.0)\n",
      "Requirement already satisfied: gast!=0.5.0,!=0.5.1,!=0.5.2,>=0.2.1 in c:\\users\\user\\anaconda3\\lib\\site-packages (from tensorflow-intel==2.16.1->tensorflow) (0.5.4)\n",
      "Requirement already satisfied: flatbuffers>=23.5.26 in c:\\users\\user\\anaconda3\\lib\\site-packages (from tensorflow-intel==2.16.1->tensorflow) (24.3.25)\n",
      "Requirement already satisfied: opt-einsum>=2.3.2 in c:\\users\\user\\anaconda3\\lib\\site-packages (from tensorflow-intel==2.16.1->tensorflow) (3.3.0)\n",
      "Requirement already satisfied: protobuf!=4.21.0,!=4.21.1,!=4.21.2,!=4.21.3,!=4.21.4,!=4.21.5,<5.0.0dev,>=3.20.3 in c:\\users\\user\\anaconda3\\lib\\site-packages (from tensorflow-intel==2.16.1->tensorflow) (4.25.3)\n",
      "Requirement already satisfied: tensorflow-io-gcs-filesystem>=0.23.1 in c:\\users\\user\\anaconda3\\lib\\site-packages (from tensorflow-intel==2.16.1->tensorflow) (0.31.0)\n",
      "Requirement already satisfied: wrapt>=1.11.0 in c:\\users\\user\\anaconda3\\lib\\site-packages (from tensorflow-intel==2.16.1->tensorflow) (1.14.1)\n",
      "Requirement already satisfied: packaging in c:\\users\\user\\anaconda3\\lib\\site-packages (from tensorflow-intel==2.16.1->tensorflow) (22.0)\n",
      "Requirement already satisfied: setuptools in c:\\users\\user\\anaconda3\\lib\\site-packages (from tensorflow-intel==2.16.1->tensorflow) (65.6.3)\n",
      "Requirement already satisfied: requests<3,>=2.21.0 in c:\\users\\user\\anaconda3\\lib\\site-packages (from tensorflow-intel==2.16.1->tensorflow) (2.28.1)\n",
      "Requirement already satisfied: libclang>=13.0.0 in c:\\users\\user\\anaconda3\\lib\\site-packages (from tensorflow-intel==2.16.1->tensorflow) (18.1.1)\n",
      "Requirement already satisfied: ml-dtypes~=0.3.1 in c:\\users\\user\\anaconda3\\lib\\site-packages (from tensorflow-intel==2.16.1->tensorflow) (0.3.2)\n",
      "Requirement already satisfied: wheel<1.0,>=0.23.0 in c:\\users\\user\\anaconda3\\lib\\site-packages (from astunparse>=1.6.0->tensorflow-intel==2.16.1->tensorflow) (0.38.4)\n",
      "Requirement already satisfied: optree in c:\\users\\user\\anaconda3\\lib\\site-packages (from keras>=3.0.0->tensorflow-intel==2.16.1->tensorflow) (0.11.0)\n",
      "Requirement already satisfied: namex in c:\\users\\user\\anaconda3\\lib\\site-packages (from keras>=3.0.0->tensorflow-intel==2.16.1->tensorflow) (0.0.7)\n",
      "Requirement already satisfied: rich in c:\\users\\user\\anaconda3\\lib\\site-packages (from keras>=3.0.0->tensorflow-intel==2.16.1->tensorflow) (13.7.1)\n",
      "Requirement already satisfied: urllib3<1.27,>=1.21.1 in c:\\users\\user\\anaconda3\\lib\\site-packages (from requests<3,>=2.21.0->tensorflow-intel==2.16.1->tensorflow) (1.26.14)\n",
      "Requirement already satisfied: certifi>=2017.4.17 in c:\\users\\user\\anaconda3\\lib\\site-packages (from requests<3,>=2.21.0->tensorflow-intel==2.16.1->tensorflow) (2022.12.7)\n",
      "Requirement already satisfied: charset-normalizer<3,>=2 in c:\\users\\user\\anaconda3\\lib\\site-packages (from requests<3,>=2.21.0->tensorflow-intel==2.16.1->tensorflow) (2.0.4)\n",
      "Requirement already satisfied: idna<4,>=2.5 in c:\\users\\user\\anaconda3\\lib\\site-packages (from requests<3,>=2.21.0->tensorflow-intel==2.16.1->tensorflow) (3.4)\n",
      "Requirement already satisfied: werkzeug>=1.0.1 in c:\\users\\user\\anaconda3\\lib\\site-packages (from tensorboard<2.17,>=2.16->tensorflow-intel==2.16.1->tensorflow) (2.2.2)\n",
      "Requirement already satisfied: markdown>=2.6.8 in c:\\users\\user\\anaconda3\\lib\\site-packages (from tensorboard<2.17,>=2.16->tensorflow-intel==2.16.1->tensorflow) (3.4.1)\n",
      "Requirement already satisfied: tensorboard-data-server<0.8.0,>=0.7.0 in c:\\users\\user\\anaconda3\\lib\\site-packages (from tensorboard<2.17,>=2.16->tensorflow-intel==2.16.1->tensorflow) (0.7.2)\n",
      "Requirement already satisfied: MarkupSafe>=2.1.1 in c:\\users\\user\\anaconda3\\lib\\site-packages (from werkzeug>=1.0.1->tensorboard<2.17,>=2.16->tensorflow-intel==2.16.1->tensorflow) (2.1.1)\n",
      "Requirement already satisfied: pygments<3.0.0,>=2.13.0 in c:\\users\\user\\anaconda3\\lib\\site-packages (from rich->keras>=3.0.0->tensorflow-intel==2.16.1->tensorflow) (2.17.2)\n",
      "Requirement already satisfied: markdown-it-py>=2.2.0 in c:\\users\\user\\anaconda3\\lib\\site-packages (from rich->keras>=3.0.0->tensorflow-intel==2.16.1->tensorflow) (3.0.0)\n",
      "Requirement already satisfied: mdurl~=0.1 in c:\\users\\user\\anaconda3\\lib\\site-packages (from markdown-it-py>=2.2.0->rich->keras>=3.0.0->tensorflow-intel==2.16.1->tensorflow) (0.1.2)\n"
     ]
    }
   ],
   "source": [
    "!pip install tensorflow"
   ]
  },
  {
   "cell_type": "code",
   "execution_count": 27,
   "id": "e6992550-3a2b-47bf-bcfa-31328a3f2a87",
   "metadata": {},
   "outputs": [],
   "source": [
    "import tensorflow as tf\n",
    "from sklearn.linear_model import LogisticRegression\n",
    "from sklearn.datasets import load_iris\n",
    "from sklearn.model_selection import train_test_split"
   ]
  },
  {
   "cell_type": "markdown",
   "id": "f17014ba-56a0-4daa-9413-928fd24949f0",
   "metadata": {},
   "source": [
    "## 3. Objects"
   ]
  },
  {
   "cell_type": "markdown",
   "id": "371f9716-0abc-49b5-bc65-d4c25ff1be4c",
   "metadata": {},
   "source": [
    "파이썬에서 통계 분석을 하기 위해서 데이터를 불러들인 후 가공하거나 메모리를 위해 필요한 부분만을 추출하는 등 데이터를 다루는 데 익숙해질 필요가 있다. 데이터의 기본 형태를 만드는 방법과 슬라이싱 방법에 대해 소개한다."
   ]
  },
  {
   "cell_type": "markdown",
   "id": "ba6fde96-eca3-4108-81cd-64f7ac4b254a",
   "metadata": {},
   "source": [
    "### 1) List"
   ]
  },
  {
   "cell_type": "markdown",
   "id": "81819114-ff21-4734-8d50-ffa93c0d73c3",
   "metadata": {},
   "source": [
    "#### a) List"
   ]
  },
  {
   "cell_type": "markdown",
   "id": "a94b6968-47e9-49a1-8c66-8d5dbfd3061c",
   "metadata": {},
   "source": [
    "리스트는 복수의 데이터를 모아서 묶어둔 것으로 파이썬의 표준 데이터 형식이다. 데이터를 대괄호 []로 감싸주면 리스트를 만들 수 있으며, 리스트의 내용을 표시하기 위해선 아래처럼 변수명만 쓰면 된다."
   ]
  },
  {
   "cell_type": "code",
   "execution_count": 28,
   "id": "66a945c4-0599-467f-b9fa-42663bebe5aa",
   "metadata": {},
   "outputs": [
    {
     "data": {
      "text/plain": [
       "[1, 2, 3, 4, 5]"
      ]
     },
     "execution_count": 28,
     "metadata": {},
     "output_type": "execute_result"
    }
   ],
   "source": [
    "sample_list=[1, 2, 3, 4, 5]\n",
    "sample_list"
   ]
  },
  {
   "cell_type": "markdown",
   "id": "2ba53db6-a193-4a7b-b6ed-0ad87d229692",
   "metadata": {},
   "source": [
    "#### b) Indexing and Slicing"
   ]
  },
  {
   "cell_type": "markdown",
   "id": "ade372ad-252c-40e3-995d-173caa3096ed",
   "metadata": {},
   "source": [
    "##### b-1) Indexing"
   ]
  },
  {
   "cell_type": "markdown",
   "id": "70b0885b-d8f3-4ec0-8444-ff913731c608",
   "metadata": {},
   "source": [
    "파이썬에서 리스트의 인덱싱은 0부터 시작한다."
   ]
  },
  {
   "cell_type": "code",
   "execution_count": 29,
   "id": "fc30b8d0-fef6-4445-99d0-2896c3dd1d80",
   "metadata": {},
   "outputs": [
    {
     "data": {
      "text/plain": [
       "1"
      ]
     },
     "execution_count": 29,
     "metadata": {},
     "output_type": "execute_result"
    }
   ],
   "source": [
    "# sample_list=[1, 2, 3, 4, 5]\n",
    "sample_list[0]"
   ]
  },
  {
   "cell_type": "markdown",
   "id": "8bb53848-b652-44d7-b603-3ea98d916a66",
   "metadata": {},
   "source": [
    "sample_list[0]는 첫 번째 요소값이 출력되는 것을 확인할 수 있다. 따라서 인덱스는 0부터 시작해 '리스트의 길이-1'까지가 끝이다. 인덱스에는 양수뿐만 아니라 음수도 들어갈 수 있다."
   ]
  },
  {
   "cell_type": "code",
   "execution_count": 30,
   "id": "8be01f8d-8472-43d6-ac2e-2df66cf7e07d",
   "metadata": {},
   "outputs": [
    {
     "data": {
      "text/plain": [
       "(5, 4)"
      ]
     },
     "execution_count": 30,
     "metadata": {},
     "output_type": "execute_result"
    }
   ],
   "source": [
    "# sample_list=[1, 2, 3, 4, 5]\n",
    "sample_list[-1], sample_list[-2] ## 튜플로 출력"
   ]
  },
  {
   "cell_type": "code",
   "execution_count": 31,
   "id": "20b8e1b3-94d4-43ee-80d8-9b3293b7244f",
   "metadata": {},
   "outputs": [
    {
     "name": "stdout",
     "output_type": "stream",
     "text": [
      "5 4\n"
     ]
    }
   ],
   "source": [
    "# sample_list=[1, 2, 3, 4, 5]\n",
    "print(sample_list[-1], sample_list[-2])"
   ]
  },
  {
   "cell_type": "markdown",
   "id": "aae9a236-ee90-471b-b832-e04c4eb88032",
   "metadata": {},
   "source": [
    "음수로 인덱싱을 하는 경우 오른쪽에서부터 요소를 찾아감을 알 수 있다. 정리하자면, 길이가 N인 리스트의 인덱스의 범위는\n",
    "* 양수 : 0~N-1\n",
    "* 음수 : -N~-1"
   ]
  },
  {
   "cell_type": "markdown",
   "id": "2e9f100b-bdc4-4924-94ec-b2b6c1ac962f",
   "metadata": {},
   "source": [
    "##### b-2) Slicing"
   ]
  },
  {
   "cell_type": "markdown",
   "id": "007145b8-6b7b-4cba-85d0-581c73c80867",
   "metadata": {},
   "source": [
    "결과 보지 말고 유추해보기"
   ]
  },
  {
   "cell_type": "code",
   "execution_count": 32,
   "id": "3e0b1169-5ca0-4142-98b4-93d77a0e42c2",
   "metadata": {},
   "outputs": [
    {
     "data": {
      "text/plain": [
       "'sample_list[1:2] : [2]'"
      ]
     },
     "execution_count": 32,
     "metadata": {},
     "output_type": "execute_result"
    }
   ],
   "source": [
    "# sample_list=[1, 2, 3, 4, 5]\n",
    "a=sample_list[1:2]\n",
    "f'sample_list[1:2] : {a}'"
   ]
  },
  {
   "cell_type": "code",
   "execution_count": 33,
   "id": "5cc79574-d84b-4370-8ec8-31af8a52575e",
   "metadata": {},
   "outputs": [
    {
     "name": "stdout",
     "output_type": "stream",
     "text": [
      "sample_list[1:2] : [2]\n"
     ]
    }
   ],
   "source": [
    "# sample_list=[1, 2, 3, 4, 5]\n",
    "a=sample_list[1:2]\n",
    "print(f'sample_list[1:2] : {a}') ## print를 사용하면 ''가 출력되지 않는다."
   ]
  },
  {
   "cell_type": "code",
   "execution_count": 34,
   "id": "4d5becfb-ccfa-4f6d-af99-0c3142c597b7",
   "metadata": {},
   "outputs": [
    {
     "name": "stdout",
     "output_type": "stream",
     "text": [
      "sample_list[-4:] : [2, 3, 4, 5]\n"
     ]
    }
   ],
   "source": [
    "# sample_list=[1, 2, 3, 4, 5]\n",
    "a=sample_list[-4:] ## 마지막 인덱스가 -1\n",
    "print(f'sample_list[-4:] : {a}')"
   ]
  },
  {
   "cell_type": "code",
   "execution_count": 35,
   "id": "c1fb4418-f489-4112-a6c6-0325507ce0c3",
   "metadata": {},
   "outputs": [
    {
     "name": "stdout",
     "output_type": "stream",
     "text": [
      "sample_list[:-3] : [1, 2]\n"
     ]
    }
   ],
   "source": [
    "# sample_list=[1, 2, 3, 4, 5]\n",
    "a=sample_list[:-3] ## index가 -3이면 3인데 출력되는 건 인덱스-1이므로 2까지만 출력\n",
    "print(f'sample_list[:-3] : {a}')"
   ]
  },
  {
   "cell_type": "code",
   "execution_count": 36,
   "id": "04440290-66b5-4d63-a505-dfdbe24256c7",
   "metadata": {},
   "outputs": [
    {
     "name": "stdout",
     "output_type": "stream",
     "text": [
      "sample_list[0:5:2] : [1, 3, 5]\n"
     ]
    }
   ],
   "source": [
    "# sample_list=[1, 2, 3, 4, 5]\n",
    "a=sample_list[0:5:2]\n",
    "print(f'sample_list[0:5:2] : {a}')"
   ]
  },
  {
   "cell_type": "code",
   "execution_count": 37,
   "id": "6dd31fb8-2df1-4f66-8763-67b062575692",
   "metadata": {},
   "outputs": [
    {
     "name": "stdout",
     "output_type": "stream",
     "text": [
      "[sample_list[i] for i in [0, 2, 4]] : [1, 3, 5]\n"
     ]
    }
   ],
   "source": [
    "a=[sample_list[i] for i in [0, 2, 4]]\n",
    "print(f'[sample_list[i] for i in [0, 2, 4]] : {a}')"
   ]
  },
  {
   "cell_type": "code",
   "execution_count": 38,
   "id": "44ac668b-9ee4-4436-b18d-3bd26395380c",
   "metadata": {},
   "outputs": [
    {
     "name": "stdout",
     "output_type": "stream",
     "text": [
      "1\n",
      "3\n",
      "5\n"
     ]
    }
   ],
   "source": [
    "# sample_list=[1, 2, 3, 4, 5]\n",
    "for i in [0, 2, 4]:\n",
    "    print(sample_list[i]) ## print를 사용하지 않으면 아무것도 출력되지 않음, list로 출력되지 않음"
   ]
  },
  {
   "cell_type": "code",
   "execution_count": 39,
   "id": "4e82bd2e-6839-4449-8437-dee20ca7b114",
   "metadata": {},
   "outputs": [
    {
     "name": "stdout",
     "output_type": "stream",
     "text": [
      "sample_list[2::] : [3, 4, 5]\n"
     ]
    }
   ],
   "source": [
    "# sample_list=[1, 2, 3, 4, 5]\n",
    "a=sample_list[2::]\n",
    "print(f'sample_list[2::] : {a}')"
   ]
  },
  {
   "cell_type": "code",
   "execution_count": 40,
   "id": "cf742ccf-ce33-4a44-b110-a0ac3d0d506c",
   "metadata": {},
   "outputs": [
    {
     "name": "stdout",
     "output_type": "stream",
     "text": [
      "sample_list[2::-1] : [3, 2, 1]\n"
     ]
    }
   ],
   "source": [
    "# sample_list[2]를 기준으로 왼쪽의 모든 값의 순서를 뒤집어서 출력\n",
    "# sample_list=[1, 2, 3, 4, 5]\n",
    "a=sample_list[2::-1]\n",
    "print(f'sample_list[2::-1] : {a}') ## 마지막 인덱싱 자리에 -1이 들어가면 역방향으로 출력"
   ]
  },
  {
   "cell_type": "code",
   "execution_count": 41,
   "id": "d8d0df5e-63df-481c-9c70-5d5b5dd35e15",
   "metadata": {},
   "outputs": [
    {
     "name": "stdout",
     "output_type": "stream",
     "text": [
      "sample_list[:-3:] : [1, 2]\n"
     ]
    }
   ],
   "source": [
    "# sample_list=[1, 2, 3, 4, 5]\n",
    "a=sample_list[:-3:]\n",
    "print(f'sample_list[:-3:] : {a}')"
   ]
  },
  {
   "cell_type": "code",
   "execution_count": 42,
   "id": "b8f6b816-8ba6-4284-930d-13163f3e36e4",
   "metadata": {},
   "outputs": [
    {
     "name": "stdout",
     "output_type": "stream",
     "text": [
      "sample_list[:-3:-1] : [5, 4]\n"
     ]
    }
   ],
   "source": [
    "# sample_list[-2]를 기준으로 오른쪽의 모든 값들의 순서를 뒤집어서 출력한다.\n",
    "# sample_list=[1, 2, 3, 4, 5]\n",
    "a=sample_list[:-3:-1]\n",
    "print(f'sample_list[:-3:-1] : {a}') ## 역방향 출력이고 start를 따로 지정하지 않으면 -1부터 시작"
   ]
  },
  {
   "cell_type": "markdown",
   "id": "16334ff5-1478-4468-9c8c-d8ded8faba81",
   "metadata": {},
   "source": [
    "#### c) List operation"
   ]
  },
  {
   "cell_type": "markdown",
   "id": "21fbf588-8b75-4c96-a439-6dd9ed22f6d9",
   "metadata": {},
   "source": [
    "* len() : 리스트의 길이를 구하는 함수\n",
    "* del() : 리스트의 특정 요소 혹은 리스트의 특정 범위를 삭제하는 함수\n",
    "* $+$ : 리스트를 이어 붙임\n",
    "* $*$ : 리스트를 반복"
   ]
  },
  {
   "cell_type": "code",
   "execution_count": 43,
   "id": "68b782c6-7b11-447a-b35f-fc2e154373d2",
   "metadata": {},
   "outputs": [
    {
     "name": "stdout",
     "output_type": "stream",
     "text": [
      "5\n",
      "[1, 3, 4, 5]\n"
     ]
    }
   ],
   "source": [
    "# len()\n",
    "print(len(sample_list))\n",
    "\n",
    "# del()\n",
    "sample_list=[1, 2, 3, 4, 5]\n",
    "\n",
    "del(sample_list[1]) ## 변수 지정 불가, print 씌우기 불가\n",
    "print(sample_list)"
   ]
  },
  {
   "cell_type": "code",
   "execution_count": 44,
   "id": "9b706671-5380-4194-83ac-7491d0811345",
   "metadata": {},
   "outputs": [
    {
     "data": {
      "text/plain": [
       "[1, 2, 3, 4, 5]"
      ]
     },
     "execution_count": 44,
     "metadata": {},
     "output_type": "execute_result"
    }
   ],
   "source": [
    "list1=[1, 2, 3]\n",
    "list2=[4, 5]\n",
    "\n",
    "list3=list1+list2\n",
    "list3"
   ]
  },
  {
   "cell_type": "code",
   "execution_count": 45,
   "id": "9fd7b216-5798-4f2d-802e-ee701b1b0864",
   "metadata": {},
   "outputs": [
    {
     "data": {
      "text/plain": [
       "[1, 2, 3, 1, 2, 3]"
      ]
     },
     "execution_count": 45,
     "metadata": {},
     "output_type": "execute_result"
    }
   ],
   "source": [
    "list1=[1, 2, 3]\n",
    "\n",
    "list1*2"
   ]
  },
  {
   "cell_type": "markdown",
   "id": "4f90e036-1417-41df-8a1d-122b476a8fa6",
   "metadata": {},
   "source": [
    "#### d) List method"
   ]
  },
  {
   "cell_type": "code",
   "execution_count": 46,
   "id": "817f4669-bba2-457e-a727-dba08c61d999",
   "metadata": {},
   "outputs": [
    {
     "name": "stdout",
     "output_type": "stream",
     "text": [
      "append : [1, 2, 3, 4, 5, 9]\n"
     ]
    }
   ],
   "source": [
    "list1=[1, 2, 3, 4, 5]\n",
    "\n",
    "list1.append(9)\n",
    "print(f'append : {list1}')"
   ]
  },
  {
   "cell_type": "code",
   "execution_count": 47,
   "id": "6acf5aa2-c67e-465d-ae28-baf470148211",
   "metadata": {},
   "outputs": [
    {
     "name": "stdout",
     "output_type": "stream",
     "text": [
      "insert : [1, 1.5, 2, 3, 4, 5]\n"
     ]
    }
   ],
   "source": [
    "list1=[1, 2, 3, 4, 5]\n",
    "\n",
    "list1.insert(1, 1.5) ## insert(index, 값)\n",
    "print(f'insert : {list1}')"
   ]
  },
  {
   "cell_type": "code",
   "execution_count": 48,
   "id": "c5b7e152-a41c-4fb8-b200-fe691154ce98",
   "metadata": {},
   "outputs": [
    {
     "name": "stdout",
     "output_type": "stream",
     "text": [
      "remove : [1, 2, 3, 4, 5]\n"
     ]
    }
   ],
   "source": [
    "list2=[1, 2, 5, 3, 4, 5]\n",
    "\n",
    "list2.remove(5) ## 5가 여러 개 존재하므로 첫 번째 5를 제거한다.\n",
    "print(f'remove : {list2}')"
   ]
  },
  {
   "cell_type": "code",
   "execution_count": 49,
   "id": "cf5b38d6-65b5-4702-b36b-6f9e126ae9df",
   "metadata": {},
   "outputs": [
    {
     "name": "stdout",
     "output_type": "stream",
     "text": [
      "pop : [1, 2, 3, 4]\n"
     ]
    }
   ],
   "source": [
    "list1=[1, 2, 3, 4, 5]\n",
    "\n",
    "list1.pop() ## 마지막 값 뺀 나머지만 호출\n",
    "print(f'pop : {list1}')"
   ]
  },
  {
   "cell_type": "code",
   "execution_count": 50,
   "id": "2f4e361b-5199-4037-a97f-946885c81ccb",
   "metadata": {},
   "outputs": [
    {
     "name": "stdout",
     "output_type": "stream",
     "text": [
      "extend : [1, 2, 3, 4, 5, 6, 7, 8]\n"
     ]
    }
   ],
   "source": [
    "list1=[1, 2, 3, 4, 5]\n",
    "list3=[6, 7, 8]\n",
    "\n",
    "list1.extend(list3) ## list1에 list2 연결\n",
    "print(f'extend : {list1}')"
   ]
  },
  {
   "cell_type": "code",
   "execution_count": 51,
   "id": "f011a6e7-bd3e-4f6e-99a5-9e00d7d7ed42",
   "metadata": {},
   "outputs": [
    {
     "name": "stdout",
     "output_type": "stream",
     "text": [
      "append : [1, 2, 3, 4, 5, [6, 7, 8]]\n"
     ]
    }
   ],
   "source": [
    "list1=[1, 2, 3, 4, 5]\n",
    "list3=[6, 7, 8]\n",
    "\n",
    "list1.append(list3)\n",
    "print(f'append : {list1}') ## 리스트의 원소 개수는 6개이다."
   ]
  },
  {
   "cell_type": "code",
   "execution_count": 52,
   "id": "c0fd3328-f150-4851-90a2-2f88ed2a2e7b",
   "metadata": {},
   "outputs": [
    {
     "name": "stdout",
     "output_type": "stream",
     "text": [
      "copy : [1, 2, 3, 4, 5]\n"
     ]
    }
   ],
   "source": [
    "list1=[1, 2, 3, 4, 5]\n",
    "\n",
    "list4=list1.copy()\n",
    "print(f'copy : {list4}')"
   ]
  },
  {
   "cell_type": "code",
   "execution_count": 53,
   "id": "5c0c722f-810e-43ae-9397-ca38c24df3f3",
   "metadata": {},
   "outputs": [
    {
     "name": "stdout",
     "output_type": "stream",
     "text": [
      "reverse : [5, 4, 3, 2, 1]\n"
     ]
    }
   ],
   "source": [
    "list1=[1, 2, 3, 4, 5]\n",
    "\n",
    "list1.reverse()\n",
    "print(f'reverse : {list1}')"
   ]
  },
  {
   "cell_type": "code",
   "execution_count": 54,
   "id": "7ae48f69-c4de-45e5-bf5f-8f212ecdce25",
   "metadata": {},
   "outputs": [
    {
     "name": "stdout",
     "output_type": "stream",
     "text": [
      "[5, 4, 3, 2, 1]\n"
     ]
    }
   ],
   "source": [
    "list1=[1, 2, 3, 4, 5]\n",
    "\n",
    "list1.sort(reverse=True)\n",
    "print(list1) ## print하지 않으면 아무것도 출력되지 않음"
   ]
  },
  {
   "cell_type": "code",
   "execution_count": 55,
   "id": "f9909e80-2052-4cff-a7e3-3f8d88500cce",
   "metadata": {},
   "outputs": [
    {
     "name": "stdout",
     "output_type": "stream",
     "text": [
      "sort : [1, 2, 3, 4, 5]\n"
     ]
    }
   ],
   "source": [
    "list5=[1, 2, 4, 3, 5]\n",
    "\n",
    "list5.sort() ## 기본값은 오름차순 정렬이다.\n",
    "print(f'sort : {list5}')"
   ]
  },
  {
   "cell_type": "code",
   "execution_count": 56,
   "id": "eb37e919-8ea0-4720-afea-7e821dcaf584",
   "metadata": {},
   "outputs": [
    {
     "data": {
      "text/plain": [
       "2"
      ]
     },
     "execution_count": 56,
     "metadata": {},
     "output_type": "execute_result"
    }
   ],
   "source": [
    "list6=[1, 3, 1, 4, 5]\n",
    "\n",
    "list6.count(1)"
   ]
  },
  {
   "cell_type": "code",
   "execution_count": 57,
   "id": "5ffed0ac-dcb0-4a98-a3dd-cef95a64a531",
   "metadata": {},
   "outputs": [
    {
     "data": {
      "text/plain": [
       "2"
      ]
     },
     "execution_count": 57,
     "metadata": {},
     "output_type": "execute_result"
    }
   ],
   "source": [
    "list1=[1, 2, 3, 4, 5]\n",
    "\n",
    "list1.index(3)"
   ]
  },
  {
   "cell_type": "code",
   "execution_count": 58,
   "id": "e44652fe-3fed-4a0a-aad7-9d9d19ef846c",
   "metadata": {},
   "outputs": [
    {
     "name": "stdout",
     "output_type": "stream",
     "text": [
      "clear : []\n"
     ]
    }
   ],
   "source": [
    "list1.clear()\n",
    "print(f'clear : {list1}')"
   ]
  },
  {
   "cell_type": "markdown",
   "id": "a472873a-ae46-4add-a0ca-5fe6d9c5d889",
   "metadata": {},
   "source": [
    "### 2) Array"
   ]
  },
  {
   "cell_type": "markdown",
   "id": "077258b7-b25e-4a50-a08f-4785a9bdfda1",
   "metadata": {},
   "source": [
    "#### a) Array"
   ]
  },
  {
   "cell_type": "markdown",
   "id": "503235d1-becd-4cd9-8c5b-e48239948662",
   "metadata": {},
   "source": [
    "파이썬에서 많이 이용되는 object type 중 하나는 np.array이다. array를 만들기 위해서는 파이썬의 library인 numpy를 먼저 import해야 한다. 다음으로 list를 이용하여 array를 만들 수 있다."
   ]
  },
  {
   "cell_type": "code",
   "execution_count": 59,
   "id": "1b71c5b0-e91e-4af5-838c-05060d27f6c5",
   "metadata": {},
   "outputs": [
    {
     "name": "stdout",
     "output_type": "stream",
     "text": [
      "[1 2 3 4 5]\n",
      "[[ 1  2  3  4  5]\n",
      " [ 6  7  8  9 10]]\n"
     ]
    }
   ],
   "source": [
    "import numpy as np\n",
    "\n",
    "sample_array1=np.array([1, 2, 3, 4, 5])\n",
    "print(sample_array1)\n",
    "\n",
    "sample_array2=np.array([\n",
    "    [1, 2, 3, 4, 5],\n",
    "    [6, 7, 8, 9, 10]\n",
    "])\n",
    "print(sample_array2)"
   ]
  },
  {
   "cell_type": "markdown",
   "id": "5655f871-872d-41e0-9d2a-ad303244dc55",
   "metadata": {},
   "source": [
    "array의 차원 및 크기는 ndim과 shape으로 알 수 있다."
   ]
  },
  {
   "cell_type": "code",
   "execution_count": 60,
   "id": "828fdfd5-fb19-4fd9-95c2-d8f671e0d058",
   "metadata": {},
   "outputs": [
    {
     "name": "stdout",
     "output_type": "stream",
     "text": [
      "1\n",
      "2\n"
     ]
    }
   ],
   "source": [
    "print(sample_array1.ndim) ## 1차원\n",
    "print(sample_array2.ndim) ## 2차원"
   ]
  },
  {
   "cell_type": "code",
   "execution_count": 61,
   "id": "b3c7e35b-dfb0-4b9d-ac10-cacbbed34de5",
   "metadata": {},
   "outputs": [
    {
     "name": "stdout",
     "output_type": "stream",
     "text": [
      "(5,)\n",
      "(2, 5)\n"
     ]
    }
   ],
   "source": [
    "print(sample_array1.shape) ## (크기,)\n",
    "print(sample_array2.shape) ## (차원, 크기)"
   ]
  },
  {
   "cell_type": "markdown",
   "id": "50ab18d3-4ecd-41c8-9b55-d3b6838a9298",
   "metadata": {},
   "source": [
    "파이썬에서 np.array의 2D array는 R의 matrix와 비슷하게 다루어 진다. $A_{ij}=i \\times j$의 형태를 가지는 2D array를 만드는 방법은 다양하며 아래에서 몇 가지 예시를 소개하겠다."
   ]
  },
  {
   "cell_type": "code",
   "execution_count": 62,
   "id": "25f99cfe-2f2b-47e0-ab20-e598311f49b8",
   "metadata": {},
   "outputs": [
    {
     "data": {
      "text/plain": [
       "array([[ 0,  0,  0,  0,  0],\n",
       "       [ 0,  1,  2,  3,  4],\n",
       "       [ 0,  2,  4,  6,  8],\n",
       "       [ 0,  3,  6,  9, 12],\n",
       "       [ 0,  4,  8, 12, 16]])"
      ]
     },
     "execution_count": 62,
     "metadata": {},
     "output_type": "execute_result"
    }
   ],
   "source": [
    "import numpy as np\n",
    "\n",
    "# 알고리즘 써보기\n",
    "np.array([[i*j for i in range(5)] for j in range(5)])"
   ]
  },
  {
   "cell_type": "markdown",
   "id": "9ca80cbf-d1db-4bc9-8b3a-cd8361cb9bd3",
   "metadata": {},
   "source": [
    "initializing function을 이용하여 numpy array를 만드는 방법도 있다.\n",
    "* np.zeros\n",
    "* np.ones\n",
    "* no.arange\n",
    "\n",
    "이 함수들은 reshape을 이용하여 for loop 없이 array를 만들 수 있다. numpy에서 reshape 함수는 array의 차원과 모양을 바꿔준다."
   ]
  },
  {
   "cell_type": "code",
   "execution_count": 63,
   "id": "70a91f14-3c1d-4a3f-95fa-d359aa57b321",
   "metadata": {},
   "outputs": [
    {
     "name": "stdout",
     "output_type": "stream",
     "text": [
      "[0. 0. 0. 0. 0. 0. 0. 0. 0. 0.]\n",
      "[0. 0. 0. 0. 0. 0. 0. 0. 0. 0.]\n"
     ]
    }
   ],
   "source": [
    "## print를 붙이면 array()가 사라진다.\n",
    "print(np.zeros(10)) ## 1x10 matrix\n",
    "print(np.zeros((10))) ## 1x10 matrix"
   ]
  },
  {
   "cell_type": "code",
   "execution_count": 64,
   "id": "cd95118e-f734-4079-9516-60c209b52622",
   "metadata": {},
   "outputs": [
    {
     "data": {
      "text/plain": [
       "array([[0.],\n",
       "       [0.],\n",
       "       [0.],\n",
       "       [0.],\n",
       "       [0.],\n",
       "       [0.],\n",
       "       [0.],\n",
       "       [0.],\n",
       "       [0.],\n",
       "       [0.]])"
      ]
     },
     "execution_count": 64,
     "metadata": {},
     "output_type": "execute_result"
    }
   ],
   "source": [
    "np.zeros((10, 1)) ## 10x1 matrix"
   ]
  },
  {
   "cell_type": "markdown",
   "id": "6c7eaeb0-d0b0-411d-b24f-1c1ca05bdec4",
   "metadata": {},
   "source": [
    "reshape 함수를 이용하는 경우 reshape(n, -1)과 같은 예시를 많이 볼 수 있다. -1은 n의 크기에 맞춰 원본 데이터 개수가 유지되도록 차원을 정해주는 역할을 한다. 아래의 예시에서 arange를 이용하여 20개의 정수를 발생시킨 후 reshape(4, -1)을 이용하여 데이터의 차원을 변형하게 되면 20개의 데이터 개수가 유지되도록 -1은 5로 할당된다."
   ]
  },
  {
   "cell_type": "markdown",
   "id": "f55902e5-5daf-4965-98cc-7158a8894e97",
   "metadata": {},
   "source": [
    "결과 보지 말고 유추해보기"
   ]
  },
  {
   "cell_type": "code",
   "execution_count": 65,
   "id": "f71970d2-d5d7-4cde-ba29-22ebe13447c7",
   "metadata": {},
   "outputs": [
    {
     "name": "stdout",
     "output_type": "stream",
     "text": [
      "[ 0  1  2  3  4  5  6  7  8  9 10 11 12 13 14 15 16 17 18 19]\n"
     ]
    }
   ],
   "source": [
    "a=np.arange(20)\n",
    "print(a)"
   ]
  },
  {
   "cell_type": "code",
   "execution_count": 66,
   "id": "5a70296a-bf6a-4592-a5cd-d0634cbb2baa",
   "metadata": {},
   "outputs": [
    {
     "name": "stdout",
     "output_type": "stream",
     "text": [
      "[[ 0  1  2  3  4]\n",
      " [ 5  6  7  8  9]\n",
      " [10 11 12 13 14]\n",
      " [15 16 17 18 19]]\n"
     ]
    }
   ],
   "source": [
    "print(a.reshape(4, -1)) ## 4x5"
   ]
  },
  {
   "cell_type": "code",
   "execution_count": 67,
   "id": "3e4e3289-a4c9-46c8-a28e-93e2eb027bfb",
   "metadata": {},
   "outputs": [
    {
     "name": "stdout",
     "output_type": "stream",
     "text": [
      "[[[ 0  1]\n",
      "  [ 2  3]\n",
      "  [ 4  5]\n",
      "  [ 6  7]\n",
      "  [ 8  9]]\n",
      "\n",
      " [[10 11]\n",
      "  [12 13]\n",
      "  [14 15]\n",
      "  [16 17]\n",
      "  [18 19]]]\n"
     ]
    }
   ],
   "source": [
    "print(a.reshape(2, 5, -1)) ## 2x5x2"
   ]
  },
  {
   "cell_type": "markdown",
   "id": "1ac045e3-7255-4c3e-a306-ca82e2a60148",
   "metadata": {},
   "source": [
    "#### b) Indexing and Slicing"
   ]
  },
  {
   "cell_type": "markdown",
   "id": "bf014e1a-8a62-4736-98f8-d7d1eed73712",
   "metadata": {},
   "source": [
    "array의 인덱싱과 슬라이싱은 list와 동일하다. 단, array의 차원에 따라서 인덱싱의 의미가 달라진다."
   ]
  },
  {
   "cell_type": "code",
   "execution_count": 68,
   "id": "bece2e74-5721-4d09-aaa3-279e821f4695",
   "metadata": {},
   "outputs": [
    {
     "name": "stdout",
     "output_type": "stream",
     "text": [
      "[1 2]\n"
     ]
    }
   ],
   "source": [
    "sample_array1=np.array([1, 2, 3, 4, 5])\n",
    "\n",
    "print(sample_array1[0:2])"
   ]
  },
  {
   "cell_type": "code",
   "execution_count": 69,
   "id": "0ab43ffb-26a8-4269-8287-bf571896e77c",
   "metadata": {},
   "outputs": [
    {
     "name": "stdout",
     "output_type": "stream",
     "text": [
      "[[ 1  2  3  4  5]\n",
      " [ 6  7  8  9 10]]\n"
     ]
    }
   ],
   "source": [
    "sample_array2=np.array([\n",
    "    [1, 2, 3, 4, 5],\n",
    "    [6, 7, 8, 9, 10]\n",
    "])\n",
    "\n",
    "print(sample_array2[0:2]) ## 1, 2행"
   ]
  },
  {
   "cell_type": "code",
   "execution_count": 70,
   "id": "5da3fe60-23a0-4213-8f57-a0ddc503ee87",
   "metadata": {},
   "outputs": [
    {
     "name": "stdout",
     "output_type": "stream",
     "text": [
      "[[ 6  7  8  9 10]]\n"
     ]
    }
   ],
   "source": [
    "sample_array2=np.array([\n",
    "    [1, 2, 3, 4, 5],\n",
    "    [6, 7, 8, 9, 10]\n",
    "])\n",
    "\n",
    "print(sample_array2[1:2]) ## 2행"
   ]
  },
  {
   "cell_type": "markdown",
   "id": "882d90dc-8262-4010-b57d-4887036a9874",
   "metadata": {},
   "source": [
    "1차원 array인 sample_array의 경우 인덱스는 원소들에 부여가 되지만, 2차원 이상인 경우 인덱스는 1차원 벡터를 의미함을 알 수 있다. 2차원 이상의 경우 각 열마다 인덱싱이나 슬라이싱 지정이 가능하다."
   ]
  },
  {
   "cell_type": "code",
   "execution_count": 71,
   "id": "385a8f3b-5fd8-4445-905e-7a322e636878",
   "metadata": {},
   "outputs": [
    {
     "name": "stdout",
     "output_type": "stream",
     "text": [
      "1\n",
      "[[2 3]\n",
      " [7 8]]\n"
     ]
    }
   ],
   "source": [
    "print(sample_array2[0, 0]) ## 1행 1열\n",
    "print(sample_array2[0:2, 1:3])"
   ]
  },
  {
   "cell_type": "markdown",
   "id": "498009ac-53dd-4c8f-ba5d-f7137ce549f5",
   "metadata": {},
   "source": [
    "#### c) Vectorization and Broadcasting"
   ]
  },
  {
   "cell_type": "markdown",
   "id": "5fe946d3-ede8-42c5-a8ce-0a4fa99599bf",
   "metadata": {},
   "source": [
    "ndarray(N-dimensional Array) 클래스는 list와 비슷한 구조처럼 보이지만 많은 차이가 있다. list의 경우 여러 가지 타입의 원소들이 들어갈 수 있는 반면, array의 경우 모든 원소들이 같은 자료형이어야 한다. 이런 제약을 가지는 대신 반복문을 사용하지 않고 벡터화(vectorization) 연산이 가능하며 계산 속도가 향상된다."
   ]
  },
  {
   "cell_type": "code",
   "execution_count": 72,
   "id": "dcc1f32e-8c65-47f2-813e-45d6be5ce88c",
   "metadata": {},
   "outputs": [
    {
     "data": {
      "text/plain": [
       "array([[1., 2., 3.],\n",
       "       [4., 5., 6.]])"
      ]
     },
     "execution_count": 72,
     "metadata": {},
     "output_type": "execute_result"
    }
   ],
   "source": [
    "arr=np.array([[1., 2., 3.], [4., 5., 6.]])\n",
    "arr"
   ]
  },
  {
   "cell_type": "code",
   "execution_count": 73,
   "id": "4622991a-f57f-49c9-826b-ce8108e836a9",
   "metadata": {},
   "outputs": [
    {
     "name": "stdout",
     "output_type": "stream",
     "text": [
      "float64\n",
      "[[ 1.  4.  9.]\n",
      " [16. 25. 36.]]\n",
      "[[0. 0. 0.]\n",
      " [0. 0. 0.]]\n",
      "[[1.         0.5        0.33333333]\n",
      " [0.25       0.2        0.16666667]]\n"
     ]
    }
   ],
   "source": [
    "print(arr.dtype)\n",
    "print(arr*arr)\n",
    "print(arr-arr)\n",
    "print(1/arr)"
   ]
  },
  {
   "cell_type": "markdown",
   "id": "ed9d2bf3-96ec-477b-ae48-44ad940c2869",
   "metadata": {},
   "source": [
    "크기가 다른 배열 간에도 연산이 가능하다. 이러한 연산을 브로드캐스팅(broadcasting)이라고 한다. 단, 차원의 길이가 같은 경우만 가능하다."
   ]
  },
  {
   "cell_type": "code",
   "execution_count": 74,
   "id": "605c9a6d-5a8e-45c4-b3ca-b3202c783052",
   "metadata": {},
   "outputs": [
    {
     "name": "stdout",
     "output_type": "stream",
     "text": [
      "[[ 5  7  9]\n",
      " [ 8 10 12]]\n"
     ]
    }
   ],
   "source": [
    "arr1=np.array([1, 2, 3]) ## 1x3\n",
    "arr2=np.array([[4, 5, 6],\n",
    "               [7, 8, 9]]) ## 2x3\n",
    "arr3=np.array([1, 2, 3, 4]) ## 1x4\n",
    "\n",
    "print(arr1+arr2)\n",
    "# print(arr1+arr3)"
   ]
  },
  {
   "cell_type": "markdown",
   "id": "62a25b50-5182-4f36-807e-9882a4378525",
   "metadata": {},
   "source": [
    "1차원 벡터의 길이가 다른 경우는 배열 간 연산이 불가능하다."
   ]
  },
  {
   "cell_type": "markdown",
   "id": "0a734ae6-eaa6-4ef9-ad67-accc12402274",
   "metadata": {},
   "source": [
    "## 3) DataFrame"
   ]
  },
  {
   "cell_type": "markdown",
   "id": "bfcd8030-b92f-426e-ad5f-6e0f1ec2bcb5",
   "metadata": {},
   "source": [
    "### a) Series and DataFrame"
   ]
  },
  {
   "cell_type": "markdown",
   "id": "503d362b-5962-4d83-bbb9-6932bde6efd9",
   "metadata": {},
   "source": [
    "Pandas는 파이썬에서 tabular data를 다루기 위한 패키지이다. Pandas의 dataframe과 numpy의 array는 파이썬에서 기본적으로 제공하는 데이터형인 list와 비슷하지만, array는 integer과 float 같은 숫자형 타입만 원소로 정의할 수 있는 반면 dataframe은 숫자형과 string 등 다른 형태의 타입도 정의할 수 있다. 따라서, pandas의 dataframe을 통해 missing data를 찾아내거나 데이터를 가공하는 작업을 할 수 있다. 마지막으로 pandas의 가장 중요한 특징 중 하나는 데이터를 프로그램으로 불러들이는 작업을 가능하게 한다는 것이다.\n",
    "\n",
    "Pandas에서 다루는 두 가지 object로 series와 DataFrame이 있다.\n",
    "\n",
    "* Series : vector와 label이 합쳐진 개념. Series는 vector와 index가 항상 함께 출력되는데 index는 자료형에 관계 없이 자유롭게 지정이 가능하기 때문에 label처럼 이용된다."
   ]
  },
  {
   "cell_type": "code",
   "execution_count": 75,
   "id": "7cdd01b2-6585-4fb8-93bb-c29283e0d163",
   "metadata": {},
   "outputs": [],
   "source": [
    "import pandas as pd\n",
    "import numpy as np"
   ]
  },
  {
   "cell_type": "code",
   "execution_count": 76,
   "id": "d619312e-832f-41b1-845a-991742c3a943",
   "metadata": {},
   "outputs": [
    {
     "data": {
      "text/plain": [
       "0     1\n",
       "1     2\n",
       "2     4\n",
       "3     8\n",
       "4    16\n",
       "5    32\n",
       "6    64\n",
       "dtype: int64"
      ]
     },
     "execution_count": 76,
     "metadata": {},
     "output_type": "execute_result"
    }
   ],
   "source": [
    "mys=pd.Series([1, 2, 4, 8, 16, 32, 64])\n",
    "mys"
   ]
  },
  {
   "cell_type": "markdown",
   "id": "4e032fae-4907-4ebf-b9a0-a1de394a8c2f",
   "metadata": {},
   "source": [
    "index를 지정하지 않으면 default로 0부터 시작하는 정수형 index가 출력된다."
   ]
  },
  {
   "cell_type": "code",
   "execution_count": 77,
   "id": "9e68e193-ab0e-4c5e-8205-9aea45e09493",
   "metadata": {},
   "outputs": [
    {
     "data": {
      "text/plain": [
       "a   -0.898080\n",
       "b   -0.637884\n",
       "c   -0.584973\n",
       "d   -0.840921\n",
       "e    1.744644\n",
       "dtype: float64"
      ]
     },
     "execution_count": 77,
     "metadata": {},
     "output_type": "execute_result"
    }
   ],
   "source": [
    "s=pd.Series(np.random.randn(5), index=['a', 'b', 'c', 'd', 'e'])\n",
    "s"
   ]
  },
  {
   "cell_type": "markdown",
   "id": "41e8ea88-d724-4b12-a05c-97851e4e757c",
   "metadata": {},
   "source": [
    "DataFrame을 정의하는 방법"
   ]
  },
  {
   "cell_type": "code",
   "execution_count": 78,
   "id": "9d790bb3-9862-4d50-9b17-20cb07c17067",
   "metadata": {},
   "outputs": [
    {
     "data": {
      "text/html": [
       "<div>\n",
       "<style scoped>\n",
       "    .dataframe tbody tr th:only-of-type {\n",
       "        vertical-align: middle;\n",
       "    }\n",
       "\n",
       "    .dataframe tbody tr th {\n",
       "        vertical-align: top;\n",
       "    }\n",
       "\n",
       "    .dataframe thead th {\n",
       "        text-align: right;\n",
       "    }\n",
       "</style>\n",
       "<table border=\"1\" class=\"dataframe\">\n",
       "  <thead>\n",
       "    <tr style=\"text-align: right;\">\n",
       "      <th></th>\n",
       "      <th>0</th>\n",
       "      <th>1</th>\n",
       "      <th>2</th>\n",
       "    </tr>\n",
       "  </thead>\n",
       "  <tbody>\n",
       "    <tr>\n",
       "      <th>0</th>\n",
       "      <td>1</td>\n",
       "      <td>2</td>\n",
       "      <td>3</td>\n",
       "    </tr>\n",
       "    <tr>\n",
       "      <th>1</th>\n",
       "      <td>4</td>\n",
       "      <td>5</td>\n",
       "      <td>6</td>\n",
       "    </tr>\n",
       "    <tr>\n",
       "      <th>2</th>\n",
       "      <td>7</td>\n",
       "      <td>8</td>\n",
       "      <td>9</td>\n",
       "    </tr>\n",
       "  </tbody>\n",
       "</table>\n",
       "</div>"
      ],
      "text/plain": [
       "   0  1  2\n",
       "0  1  2  3\n",
       "1  4  5  6\n",
       "2  7  8  9"
      ]
     },
     "execution_count": 78,
     "metadata": {},
     "output_type": "execute_result"
    }
   ],
   "source": [
    "# list 이용\n",
    "df1=pd.DataFrame([[1, 2, 3], [4, 5, 6], [7, 8, 9]])\n",
    "df1"
   ]
  },
  {
   "cell_type": "code",
   "execution_count": 79,
   "id": "cdc51e0e-99ba-47ba-bf50-9d87da657c45",
   "metadata": {},
   "outputs": [
    {
     "data": {
      "text/html": [
       "<div>\n",
       "<style scoped>\n",
       "    .dataframe tbody tr th:only-of-type {\n",
       "        vertical-align: middle;\n",
       "    }\n",
       "\n",
       "    .dataframe tbody tr th {\n",
       "        vertical-align: top;\n",
       "    }\n",
       "\n",
       "    .dataframe thead th {\n",
       "        text-align: right;\n",
       "    }\n",
       "</style>\n",
       "<table border=\"1\" class=\"dataframe\">\n",
       "  <thead>\n",
       "    <tr style=\"text-align: right;\">\n",
       "      <th></th>\n",
       "      <th>age</th>\n",
       "      <th>height</th>\n",
       "      <th>weight</th>\n",
       "      <th>gender</th>\n",
       "    </tr>\n",
       "  </thead>\n",
       "  <tbody>\n",
       "    <tr>\n",
       "      <th>A</th>\n",
       "      <td>20</td>\n",
       "      <td>183</td>\n",
       "      <td>77</td>\n",
       "      <td>M</td>\n",
       "    </tr>\n",
       "    <tr>\n",
       "      <th>B</th>\n",
       "      <td>23</td>\n",
       "      <td>192</td>\n",
       "      <td>83</td>\n",
       "      <td>M</td>\n",
       "    </tr>\n",
       "    <tr>\n",
       "      <th>C</th>\n",
       "      <td>48</td>\n",
       "      <td>175</td>\n",
       "      <td>65</td>\n",
       "      <td>F</td>\n",
       "    </tr>\n",
       "  </tbody>\n",
       "</table>\n",
       "</div>"
      ],
      "text/plain": [
       "   age  height  weight gender\n",
       "A   20     183      77      M\n",
       "B   23     192      83      M\n",
       "C   48     175      65      F"
      ]
     },
     "execution_count": 79,
     "metadata": {},
     "output_type": "execute_result"
    }
   ],
   "source": [
    "# dictionary 이용\n",
    "data={\n",
    "    'age' : [20, 23, 48],\n",
    "    'height' : [183, 192, 175],\n",
    "    'weight' : [77, 83, 65],\n",
    "    'gender' : ['M', 'M', 'F']\n",
    "}\n",
    "indexName=['A', 'B', 'C']\n",
    "\n",
    "df2=pd.DataFrame(data, index=indexName)\n",
    "df2"
   ]
  },
  {
   "cell_type": "code",
   "execution_count": 80,
   "id": "d7b8c88d-45d5-46f6-9920-e689615717e7",
   "metadata": {},
   "outputs": [
    {
     "data": {
      "text/html": [
       "<div>\n",
       "<style scoped>\n",
       "    .dataframe tbody tr th:only-of-type {\n",
       "        vertical-align: middle;\n",
       "    }\n",
       "\n",
       "    .dataframe tbody tr th {\n",
       "        vertical-align: top;\n",
       "    }\n",
       "\n",
       "    .dataframe thead th {\n",
       "        text-align: right;\n",
       "    }\n",
       "</style>\n",
       "<table border=\"1\" class=\"dataframe\">\n",
       "  <thead>\n",
       "    <tr style=\"text-align: right;\">\n",
       "      <th></th>\n",
       "      <th>col1</th>\n",
       "      <th>col2</th>\n",
       "      <th>col3</th>\n",
       "    </tr>\n",
       "  </thead>\n",
       "  <tbody>\n",
       "    <tr>\n",
       "      <th>0</th>\n",
       "      <td>1</td>\n",
       "      <td>2</td>\n",
       "      <td>A</td>\n",
       "    </tr>\n",
       "    <tr>\n",
       "      <th>1</th>\n",
       "      <td>2</td>\n",
       "      <td>4</td>\n",
       "      <td>B</td>\n",
       "    </tr>\n",
       "    <tr>\n",
       "      <th>2</th>\n",
       "      <td>3</td>\n",
       "      <td>6</td>\n",
       "      <td>C</td>\n",
       "    </tr>\n",
       "    <tr>\n",
       "      <th>3</th>\n",
       "      <td>4</td>\n",
       "      <td>8</td>\n",
       "      <td>D</td>\n",
       "    </tr>\n",
       "    <tr>\n",
       "      <th>4</th>\n",
       "      <td>5</td>\n",
       "      <td>10</td>\n",
       "      <td>E</td>\n",
       "    </tr>\n",
       "  </tbody>\n",
       "</table>\n",
       "</div>"
      ],
      "text/plain": [
       "   col1  col2 col3\n",
       "0     1     2    A\n",
       "1     2     4    B\n",
       "2     3     6    C\n",
       "3     4     8    D\n",
       "4     5    10    E"
      ]
     },
     "execution_count": 80,
     "metadata": {},
     "output_type": "execute_result"
    }
   ],
   "source": [
    "# array 이용\n",
    "sample_array=np.array([1, 2, 3, 4, 5])\n",
    "\n",
    "df3=pd.DataFrame({\n",
    "    'col1' : sample_array,\n",
    "    'col2' : sample_array*2,\n",
    "    'col3' : ['A', 'B', 'C', 'D', 'E']\n",
    "})\n",
    "df3"
   ]
  },
  {
   "cell_type": "markdown",
   "id": "5fff8234-9767-4cae-ba51-a99e47790c3c",
   "metadata": {},
   "source": [
    "데이터프레임을 출력할 때 print() 메서드를 이용하지 않으면 표 형태로 출력된다.\n",
    "\n",
    "다음으로 난수(random number)를 발생하여 DataFrame을 생성해보자. 이를 numpy에서 제공하는 np.random 모듈의 기능을 이용한다."
   ]
  },
  {
   "cell_type": "code",
   "execution_count": 81,
   "id": "8c261c87-47cf-4697-8238-9c1dbc407787",
   "metadata": {},
   "outputs": [
    {
     "data": {
      "text/html": [
       "<div>\n",
       "<style scoped>\n",
       "    .dataframe tbody tr th:only-of-type {\n",
       "        vertical-align: middle;\n",
       "    }\n",
       "\n",
       "    .dataframe tbody tr th {\n",
       "        vertical-align: top;\n",
       "    }\n",
       "\n",
       "    .dataframe thead th {\n",
       "        text-align: right;\n",
       "    }\n",
       "</style>\n",
       "<table border=\"1\" class=\"dataframe\">\n",
       "  <thead>\n",
       "    <tr style=\"text-align: right;\">\n",
       "      <th></th>\n",
       "      <th>0</th>\n",
       "      <th>1</th>\n",
       "      <th>2</th>\n",
       "      <th>3</th>\n",
       "      <th>4</th>\n",
       "    </tr>\n",
       "  </thead>\n",
       "  <tbody>\n",
       "    <tr>\n",
       "      <th>0</th>\n",
       "      <td>6</td>\n",
       "      <td>5</td>\n",
       "      <td>1</td>\n",
       "      <td>5</td>\n",
       "      <td>7</td>\n",
       "    </tr>\n",
       "    <tr>\n",
       "      <th>1</th>\n",
       "      <td>7</td>\n",
       "      <td>5</td>\n",
       "      <td>9</td>\n",
       "      <td>5</td>\n",
       "      <td>3</td>\n",
       "    </tr>\n",
       "    <tr>\n",
       "      <th>2</th>\n",
       "      <td>9</td>\n",
       "      <td>8</td>\n",
       "      <td>3</td>\n",
       "      <td>9</td>\n",
       "      <td>9</td>\n",
       "    </tr>\n",
       "  </tbody>\n",
       "</table>\n",
       "</div>"
      ],
      "text/plain": [
       "   0  1  2  3  4\n",
       "0  6  5  1  5  7\n",
       "1  7  5  9  5  3\n",
       "2  9  8  3  9  9"
      ]
     },
     "execution_count": 81,
     "metadata": {},
     "output_type": "execute_result"
    }
   ],
   "source": [
    "import numpy as np\n",
    "import pandas as pd\n",
    "\n",
    "np.random.seed(22)\n",
    "\n",
    "## np.random.randint(low, high, size))\n",
    "df=pd.DataFrame(np.random.randint(1, 10, size=(3, 5))) ## 3x5\n",
    "df"
   ]
  },
  {
   "cell_type": "markdown",
   "id": "77ec6134-4a3d-4f85-aad7-4e08454c2e37",
   "metadata": {},
   "source": [
    "#### b) Indexing"
   ]
  },
  {
   "cell_type": "markdown",
   "id": "a4319fcd-bfbd-4a17-94f3-01c7786d40ca",
   "metadata": {},
   "source": [
    "데이터프레임의 크기가 커질 경우 원하는 조건에 해당하는 데이터만을 추출하고 가공하는 과정이 필요하다. 데이터프레임에서 특정한 데이터만을 골라내는 인덱싱에 대해 소개한다.\n",
    "\n",
    "우선 사용할 데이터프레임을 만들어보자."
   ]
  },
  {
   "cell_type": "code",
   "execution_count": 82,
   "id": "086ea573-b734-4bb9-9a39-22a25cb52394",
   "metadata": {},
   "outputs": [
    {
     "data": {
      "text/html": [
       "<div>\n",
       "<style scoped>\n",
       "    .dataframe tbody tr th:only-of-type {\n",
       "        vertical-align: middle;\n",
       "    }\n",
       "\n",
       "    .dataframe tbody tr th {\n",
       "        vertical-align: top;\n",
       "    }\n",
       "\n",
       "    .dataframe thead th {\n",
       "        text-align: right;\n",
       "    }\n",
       "</style>\n",
       "<table border=\"1\" class=\"dataframe\">\n",
       "  <thead>\n",
       "    <tr style=\"text-align: right;\">\n",
       "      <th></th>\n",
       "      <th>A</th>\n",
       "      <th>B</th>\n",
       "      <th>C</th>\n",
       "      <th>D</th>\n",
       "      <th>E</th>\n",
       "    </tr>\n",
       "  </thead>\n",
       "  <tbody>\n",
       "    <tr>\n",
       "      <th>a</th>\n",
       "      <td>16</td>\n",
       "      <td>13</td>\n",
       "      <td>11</td>\n",
       "      <td>19</td>\n",
       "      <td>18</td>\n",
       "    </tr>\n",
       "    <tr>\n",
       "      <th>b</th>\n",
       "      <td>14</td>\n",
       "      <td>14</td>\n",
       "      <td>13</td>\n",
       "      <td>15</td>\n",
       "      <td>17</td>\n",
       "    </tr>\n",
       "    <tr>\n",
       "      <th>c</th>\n",
       "      <td>20</td>\n",
       "      <td>13</td>\n",
       "      <td>18</td>\n",
       "      <td>20</td>\n",
       "      <td>16</td>\n",
       "    </tr>\n",
       "    <tr>\n",
       "      <th>d</th>\n",
       "      <td>18</td>\n",
       "      <td>21</td>\n",
       "      <td>16</td>\n",
       "      <td>13</td>\n",
       "      <td>21</td>\n",
       "    </tr>\n",
       "  </tbody>\n",
       "</table>\n",
       "</div>"
      ],
      "text/plain": [
       "    A   B   C   D   E\n",
       "a  16  13  11  19  18\n",
       "b  14  14  13  15  17\n",
       "c  20  13  18  20  16\n",
       "d  18  21  16  13  21"
      ]
     },
     "execution_count": 82,
     "metadata": {},
     "output_type": "execute_result"
    }
   ],
   "source": [
    "import numpy as np\n",
    "import pandas as pd\n",
    "\n",
    "np.random.seed(1886)\n",
    "\n",
    "df=pd.DataFrame(np.random.randint(10, 22, (4, 5)), ## 4x5\n",
    "               index=['a', 'b', 'c', 'd'],\n",
    "               columns=['A', 'B', 'C', 'D', 'E'])\n",
    "df"
   ]
  },
  {
   "cell_type": "markdown",
   "id": "c38124e1-4535-49e4-a058-34bbfc546b58",
   "metadata": {},
   "source": [
    "데이터에 대한 기본 정보"
   ]
  },
  {
   "cell_type": "code",
   "execution_count": 83,
   "id": "36340a28-38b3-44d7-8a8a-08908ff5393f",
   "metadata": {},
   "outputs": [
    {
     "name": "stdout",
     "output_type": "stream",
     "text": [
      "<class 'pandas.core.frame.DataFrame'>\n",
      "Index: 4 entries, a to d\n",
      "Data columns (total 5 columns):\n",
      " #   Column  Non-Null Count  Dtype\n",
      "---  ------  --------------  -----\n",
      " 0   A       4 non-null      int32\n",
      " 1   B       4 non-null      int32\n",
      " 2   C       4 non-null      int32\n",
      " 3   D       4 non-null      int32\n",
      " 4   E       4 non-null      int32\n",
      "dtypes: int32(5)\n",
      "memory usage: 112.0+ bytes\n"
     ]
    }
   ],
   "source": [
    "df.info()"
   ]
  },
  {
   "cell_type": "markdown",
   "id": "9b104f51-a574-4dd7-955b-337475a49b70",
   "metadata": {},
   "source": [
    "데이터프레임의 구조를 살펴보자."
   ]
  },
  {
   "cell_type": "code",
   "execution_count": 84,
   "id": "f164f6cf-bc85-4ce3-b120-f3e382cc9b7b",
   "metadata": {},
   "outputs": [
    {
     "data": {
      "text/plain": [
       "(4, 5)"
      ]
     },
     "execution_count": 84,
     "metadata": {},
     "output_type": "execute_result"
    }
   ],
   "source": [
    "df.shape ## 괄호 없음 주의"
   ]
  },
  {
   "cell_type": "markdown",
   "id": "04b10f09-97da-476d-8f1b-653c395a4772",
   "metadata": {},
   "source": [
    "이 데이터프레임에서 행 기준 인덱스는 0부터 3까지이며, 열 기준 인덱스는 0부터 4까지이다."
   ]
  },
  {
   "cell_type": "markdown",
   "id": "cafd4224-7845-4019-828c-208e9a429913",
   "metadata": {},
   "source": [
    "#### b-1) df[[]"
   ]
  },
  {
   "cell_type": "markdown",
   "id": "65cfafed-b582-43e6-a615-249c051e9fc6",
   "metadata": {},
   "source": [
    "다음으로 대괄호 []를 이용하여 데이터프레임의 데이터를 추출하는 방법에 대해 알아보자. 대괄호를 이용하여 열을 추출하기 위해선 [] 안에 추출하고자 하는 컬럼 명을 입력한다."
   ]
  },
  {
   "cell_type": "code",
   "execution_count": 85,
   "id": "746a9c15-9410-4819-aab9-7c8d094cc836",
   "metadata": {},
   "outputs": [
    {
     "data": {
      "text/html": [
       "<div>\n",
       "<style scoped>\n",
       "    .dataframe tbody tr th:only-of-type {\n",
       "        vertical-align: middle;\n",
       "    }\n",
       "\n",
       "    .dataframe tbody tr th {\n",
       "        vertical-align: top;\n",
       "    }\n",
       "\n",
       "    .dataframe thead th {\n",
       "        text-align: right;\n",
       "    }\n",
       "</style>\n",
       "<table border=\"1\" class=\"dataframe\">\n",
       "  <thead>\n",
       "    <tr style=\"text-align: right;\">\n",
       "      <th></th>\n",
       "      <th>A</th>\n",
       "      <th>B</th>\n",
       "      <th>C</th>\n",
       "      <th>D</th>\n",
       "      <th>E</th>\n",
       "    </tr>\n",
       "  </thead>\n",
       "  <tbody>\n",
       "    <tr>\n",
       "      <th>a</th>\n",
       "      <td>16</td>\n",
       "      <td>13</td>\n",
       "      <td>11</td>\n",
       "      <td>19</td>\n",
       "      <td>18</td>\n",
       "    </tr>\n",
       "    <tr>\n",
       "      <th>b</th>\n",
       "      <td>14</td>\n",
       "      <td>14</td>\n",
       "      <td>13</td>\n",
       "      <td>15</td>\n",
       "      <td>17</td>\n",
       "    </tr>\n",
       "    <tr>\n",
       "      <th>c</th>\n",
       "      <td>20</td>\n",
       "      <td>13</td>\n",
       "      <td>18</td>\n",
       "      <td>20</td>\n",
       "      <td>16</td>\n",
       "    </tr>\n",
       "    <tr>\n",
       "      <th>d</th>\n",
       "      <td>18</td>\n",
       "      <td>21</td>\n",
       "      <td>16</td>\n",
       "      <td>13</td>\n",
       "      <td>21</td>\n",
       "    </tr>\n",
       "  </tbody>\n",
       "</table>\n",
       "</div>"
      ],
      "text/plain": [
       "    A   B   C   D   E\n",
       "a  16  13  11  19  18\n",
       "b  14  14  13  15  17\n",
       "c  20  13  18  20  16\n",
       "d  18  21  16  13  21"
      ]
     },
     "execution_count": 85,
     "metadata": {},
     "output_type": "execute_result"
    }
   ],
   "source": [
    "df"
   ]
  },
  {
   "cell_type": "code",
   "execution_count": 86,
   "id": "d5de7b14-6f43-49b0-bb24-314ec993786b",
   "metadata": {},
   "outputs": [
    {
     "data": {
      "text/plain": [
       "a    16\n",
       "b    14\n",
       "c    20\n",
       "d    18\n",
       "Name: A, dtype: int32"
      ]
     },
     "execution_count": 86,
     "metadata": {},
     "output_type": "execute_result"
    }
   ],
   "source": [
    "df['A']"
   ]
  },
  {
   "cell_type": "markdown",
   "id": "60792819-20e5-4a7b-bd03-7cd5c944cc7e",
   "metadata": {},
   "source": [
    "복수의 열을 추출하는 것도 가능하다. 이때, 컬럼 명을 리스트 형식으로 넣어준다."
   ]
  },
  {
   "cell_type": "code",
   "execution_count": 87,
   "id": "dfd4775a-f767-4cda-ae4f-a5696377374b",
   "metadata": {},
   "outputs": [
    {
     "data": {
      "text/html": [
       "<div>\n",
       "<style scoped>\n",
       "    .dataframe tbody tr th:only-of-type {\n",
       "        vertical-align: middle;\n",
       "    }\n",
       "\n",
       "    .dataframe tbody tr th {\n",
       "        vertical-align: top;\n",
       "    }\n",
       "\n",
       "    .dataframe thead th {\n",
       "        text-align: right;\n",
       "    }\n",
       "</style>\n",
       "<table border=\"1\" class=\"dataframe\">\n",
       "  <thead>\n",
       "    <tr style=\"text-align: right;\">\n",
       "      <th></th>\n",
       "      <th>A</th>\n",
       "      <th>B</th>\n",
       "      <th>C</th>\n",
       "      <th>D</th>\n",
       "      <th>E</th>\n",
       "    </tr>\n",
       "  </thead>\n",
       "  <tbody>\n",
       "    <tr>\n",
       "      <th>a</th>\n",
       "      <td>16</td>\n",
       "      <td>13</td>\n",
       "      <td>11</td>\n",
       "      <td>19</td>\n",
       "      <td>18</td>\n",
       "    </tr>\n",
       "    <tr>\n",
       "      <th>b</th>\n",
       "      <td>14</td>\n",
       "      <td>14</td>\n",
       "      <td>13</td>\n",
       "      <td>15</td>\n",
       "      <td>17</td>\n",
       "    </tr>\n",
       "    <tr>\n",
       "      <th>c</th>\n",
       "      <td>20</td>\n",
       "      <td>13</td>\n",
       "      <td>18</td>\n",
       "      <td>20</td>\n",
       "      <td>16</td>\n",
       "    </tr>\n",
       "    <tr>\n",
       "      <th>d</th>\n",
       "      <td>18</td>\n",
       "      <td>21</td>\n",
       "      <td>16</td>\n",
       "      <td>13</td>\n",
       "      <td>21</td>\n",
       "    </tr>\n",
       "  </tbody>\n",
       "</table>\n",
       "</div>"
      ],
      "text/plain": [
       "    A   B   C   D   E\n",
       "a  16  13  11  19  18\n",
       "b  14  14  13  15  17\n",
       "c  20  13  18  20  16\n",
       "d  18  21  16  13  21"
      ]
     },
     "execution_count": 87,
     "metadata": {},
     "output_type": "execute_result"
    }
   ],
   "source": [
    "df"
   ]
  },
  {
   "cell_type": "code",
   "execution_count": 88,
   "id": "6032a8fb-9abb-4e42-b187-f47173d7f460",
   "metadata": {},
   "outputs": [
    {
     "data": {
      "text/html": [
       "<div>\n",
       "<style scoped>\n",
       "    .dataframe tbody tr th:only-of-type {\n",
       "        vertical-align: middle;\n",
       "    }\n",
       "\n",
       "    .dataframe tbody tr th {\n",
       "        vertical-align: top;\n",
       "    }\n",
       "\n",
       "    .dataframe thead th {\n",
       "        text-align: right;\n",
       "    }\n",
       "</style>\n",
       "<table border=\"1\" class=\"dataframe\">\n",
       "  <thead>\n",
       "    <tr style=\"text-align: right;\">\n",
       "      <th></th>\n",
       "      <th>A</th>\n",
       "      <th>C</th>\n",
       "    </tr>\n",
       "  </thead>\n",
       "  <tbody>\n",
       "    <tr>\n",
       "      <th>a</th>\n",
       "      <td>16</td>\n",
       "      <td>11</td>\n",
       "    </tr>\n",
       "    <tr>\n",
       "      <th>b</th>\n",
       "      <td>14</td>\n",
       "      <td>13</td>\n",
       "    </tr>\n",
       "    <tr>\n",
       "      <th>c</th>\n",
       "      <td>20</td>\n",
       "      <td>18</td>\n",
       "    </tr>\n",
       "    <tr>\n",
       "      <th>d</th>\n",
       "      <td>18</td>\n",
       "      <td>16</td>\n",
       "    </tr>\n",
       "  </tbody>\n",
       "</table>\n",
       "</div>"
      ],
      "text/plain": [
       "    A   C\n",
       "a  16  11\n",
       "b  14  13\n",
       "c  20  18\n",
       "d  18  16"
      ]
     },
     "execution_count": 88,
     "metadata": {},
     "output_type": "execute_result"
    }
   ],
   "source": [
    "df[['A', 'C']]"
   ]
  },
  {
   "cell_type": "markdown",
   "id": "4616f039-6c39-4c12-b2f5-b9d261a143e5",
   "metadata": {},
   "source": [
    "열을 추출하기 위해선 점(.)을 이용하는 방법도 가능하다."
   ]
  },
  {
   "cell_type": "code",
   "execution_count": 89,
   "id": "ec512853-d766-4b02-8d33-0b0455f535ab",
   "metadata": {},
   "outputs": [
    {
     "data": {
      "text/html": [
       "<div>\n",
       "<style scoped>\n",
       "    .dataframe tbody tr th:only-of-type {\n",
       "        vertical-align: middle;\n",
       "    }\n",
       "\n",
       "    .dataframe tbody tr th {\n",
       "        vertical-align: top;\n",
       "    }\n",
       "\n",
       "    .dataframe thead th {\n",
       "        text-align: right;\n",
       "    }\n",
       "</style>\n",
       "<table border=\"1\" class=\"dataframe\">\n",
       "  <thead>\n",
       "    <tr style=\"text-align: right;\">\n",
       "      <th></th>\n",
       "      <th>A</th>\n",
       "      <th>B</th>\n",
       "      <th>C</th>\n",
       "      <th>D</th>\n",
       "      <th>E</th>\n",
       "    </tr>\n",
       "  </thead>\n",
       "  <tbody>\n",
       "    <tr>\n",
       "      <th>a</th>\n",
       "      <td>16</td>\n",
       "      <td>13</td>\n",
       "      <td>11</td>\n",
       "      <td>19</td>\n",
       "      <td>18</td>\n",
       "    </tr>\n",
       "    <tr>\n",
       "      <th>b</th>\n",
       "      <td>14</td>\n",
       "      <td>14</td>\n",
       "      <td>13</td>\n",
       "      <td>15</td>\n",
       "      <td>17</td>\n",
       "    </tr>\n",
       "    <tr>\n",
       "      <th>c</th>\n",
       "      <td>20</td>\n",
       "      <td>13</td>\n",
       "      <td>18</td>\n",
       "      <td>20</td>\n",
       "      <td>16</td>\n",
       "    </tr>\n",
       "    <tr>\n",
       "      <th>d</th>\n",
       "      <td>18</td>\n",
       "      <td>21</td>\n",
       "      <td>16</td>\n",
       "      <td>13</td>\n",
       "      <td>21</td>\n",
       "    </tr>\n",
       "  </tbody>\n",
       "</table>\n",
       "</div>"
      ],
      "text/plain": [
       "    A   B   C   D   E\n",
       "a  16  13  11  19  18\n",
       "b  14  14  13  15  17\n",
       "c  20  13  18  20  16\n",
       "d  18  21  16  13  21"
      ]
     },
     "execution_count": 89,
     "metadata": {},
     "output_type": "execute_result"
    }
   ],
   "source": [
    "df"
   ]
  },
  {
   "cell_type": "code",
   "execution_count": 90,
   "id": "b5d06c12-03b1-4cce-a2b9-8e015917dbfc",
   "metadata": {},
   "outputs": [
    {
     "data": {
      "text/plain": [
       "a    13\n",
       "b    14\n",
       "c    13\n",
       "d    21\n",
       "Name: B, dtype: int32"
      ]
     },
     "execution_count": 90,
     "metadata": {},
     "output_type": "execute_result"
    }
   ],
   "source": [
    "df.B"
   ]
  },
  {
   "cell_type": "markdown",
   "id": "a282cfe4-355e-4757-935e-8fcbee073172",
   "metadata": {},
   "source": [
    "지정한 열만 빼고 데이터를 추출하는 방법도 있다."
   ]
  },
  {
   "cell_type": "code",
   "execution_count": 91,
   "id": "3be2c206-2744-454c-a06e-9ee14d1ef4c0",
   "metadata": {},
   "outputs": [
    {
     "data": {
      "text/html": [
       "<div>\n",
       "<style scoped>\n",
       "    .dataframe tbody tr th:only-of-type {\n",
       "        vertical-align: middle;\n",
       "    }\n",
       "\n",
       "    .dataframe tbody tr th {\n",
       "        vertical-align: top;\n",
       "    }\n",
       "\n",
       "    .dataframe thead th {\n",
       "        text-align: right;\n",
       "    }\n",
       "</style>\n",
       "<table border=\"1\" class=\"dataframe\">\n",
       "  <thead>\n",
       "    <tr style=\"text-align: right;\">\n",
       "      <th></th>\n",
       "      <th>A</th>\n",
       "      <th>B</th>\n",
       "      <th>C</th>\n",
       "      <th>D</th>\n",
       "      <th>E</th>\n",
       "    </tr>\n",
       "  </thead>\n",
       "  <tbody>\n",
       "    <tr>\n",
       "      <th>a</th>\n",
       "      <td>16</td>\n",
       "      <td>13</td>\n",
       "      <td>11</td>\n",
       "      <td>19</td>\n",
       "      <td>18</td>\n",
       "    </tr>\n",
       "    <tr>\n",
       "      <th>b</th>\n",
       "      <td>14</td>\n",
       "      <td>14</td>\n",
       "      <td>13</td>\n",
       "      <td>15</td>\n",
       "      <td>17</td>\n",
       "    </tr>\n",
       "    <tr>\n",
       "      <th>c</th>\n",
       "      <td>20</td>\n",
       "      <td>13</td>\n",
       "      <td>18</td>\n",
       "      <td>20</td>\n",
       "      <td>16</td>\n",
       "    </tr>\n",
       "    <tr>\n",
       "      <th>d</th>\n",
       "      <td>18</td>\n",
       "      <td>21</td>\n",
       "      <td>16</td>\n",
       "      <td>13</td>\n",
       "      <td>21</td>\n",
       "    </tr>\n",
       "  </tbody>\n",
       "</table>\n",
       "</div>"
      ],
      "text/plain": [
       "    A   B   C   D   E\n",
       "a  16  13  11  19  18\n",
       "b  14  14  13  15  17\n",
       "c  20  13  18  20  16\n",
       "d  18  21  16  13  21"
      ]
     },
     "execution_count": 91,
     "metadata": {},
     "output_type": "execute_result"
    }
   ],
   "source": [
    "df"
   ]
  },
  {
   "cell_type": "code",
   "execution_count": 92,
   "id": "fc6045d1-d1ff-4403-9050-d41dec985dd1",
   "metadata": {},
   "outputs": [
    {
     "data": {
      "text/html": [
       "<div>\n",
       "<style scoped>\n",
       "    .dataframe tbody tr th:only-of-type {\n",
       "        vertical-align: middle;\n",
       "    }\n",
       "\n",
       "    .dataframe tbody tr th {\n",
       "        vertical-align: top;\n",
       "    }\n",
       "\n",
       "    .dataframe thead th {\n",
       "        text-align: right;\n",
       "    }\n",
       "</style>\n",
       "<table border=\"1\" class=\"dataframe\">\n",
       "  <thead>\n",
       "    <tr style=\"text-align: right;\">\n",
       "      <th></th>\n",
       "      <th>B</th>\n",
       "      <th>C</th>\n",
       "      <th>D</th>\n",
       "      <th>E</th>\n",
       "    </tr>\n",
       "  </thead>\n",
       "  <tbody>\n",
       "    <tr>\n",
       "      <th>a</th>\n",
       "      <td>13</td>\n",
       "      <td>11</td>\n",
       "      <td>19</td>\n",
       "      <td>18</td>\n",
       "    </tr>\n",
       "    <tr>\n",
       "      <th>b</th>\n",
       "      <td>14</td>\n",
       "      <td>13</td>\n",
       "      <td>15</td>\n",
       "      <td>17</td>\n",
       "    </tr>\n",
       "    <tr>\n",
       "      <th>c</th>\n",
       "      <td>13</td>\n",
       "      <td>18</td>\n",
       "      <td>20</td>\n",
       "      <td>16</td>\n",
       "    </tr>\n",
       "    <tr>\n",
       "      <th>d</th>\n",
       "      <td>21</td>\n",
       "      <td>16</td>\n",
       "      <td>13</td>\n",
       "      <td>21</td>\n",
       "    </tr>\n",
       "  </tbody>\n",
       "</table>\n",
       "</div>"
      ],
      "text/plain": [
       "    B   C   D   E\n",
       "a  13  11  19  18\n",
       "b  14  13  15  17\n",
       "c  13  18  20  16\n",
       "d  21  16  13  21"
      ]
     },
     "execution_count": 92,
     "metadata": {},
     "output_type": "execute_result"
    }
   ],
   "source": [
    "df.drop('A', axis=1) ## axis=1 (열), 아예 없어지는 것은 아님"
   ]
  },
  {
   "cell_type": "markdown",
   "id": "7a370afe-12f1-420c-8933-d8308dfb4c31",
   "metadata": {},
   "source": [
    "조건문을 이용하여 데이터를 추출해보자."
   ]
  },
  {
   "cell_type": "code",
   "execution_count": 93,
   "id": "da13b83a-8478-4d10-9917-8d9411a23d9b",
   "metadata": {},
   "outputs": [
    {
     "data": {
      "text/html": [
       "<div>\n",
       "<style scoped>\n",
       "    .dataframe tbody tr th:only-of-type {\n",
       "        vertical-align: middle;\n",
       "    }\n",
       "\n",
       "    .dataframe tbody tr th {\n",
       "        vertical-align: top;\n",
       "    }\n",
       "\n",
       "    .dataframe thead th {\n",
       "        text-align: right;\n",
       "    }\n",
       "</style>\n",
       "<table border=\"1\" class=\"dataframe\">\n",
       "  <thead>\n",
       "    <tr style=\"text-align: right;\">\n",
       "      <th></th>\n",
       "      <th>A</th>\n",
       "      <th>B</th>\n",
       "      <th>C</th>\n",
       "      <th>D</th>\n",
       "      <th>E</th>\n",
       "    </tr>\n",
       "  </thead>\n",
       "  <tbody>\n",
       "    <tr>\n",
       "      <th>a</th>\n",
       "      <td>16</td>\n",
       "      <td>13</td>\n",
       "      <td>11</td>\n",
       "      <td>19</td>\n",
       "      <td>18</td>\n",
       "    </tr>\n",
       "    <tr>\n",
       "      <th>b</th>\n",
       "      <td>14</td>\n",
       "      <td>14</td>\n",
       "      <td>13</td>\n",
       "      <td>15</td>\n",
       "      <td>17</td>\n",
       "    </tr>\n",
       "    <tr>\n",
       "      <th>c</th>\n",
       "      <td>20</td>\n",
       "      <td>13</td>\n",
       "      <td>18</td>\n",
       "      <td>20</td>\n",
       "      <td>16</td>\n",
       "    </tr>\n",
       "    <tr>\n",
       "      <th>d</th>\n",
       "      <td>18</td>\n",
       "      <td>21</td>\n",
       "      <td>16</td>\n",
       "      <td>13</td>\n",
       "      <td>21</td>\n",
       "    </tr>\n",
       "  </tbody>\n",
       "</table>\n",
       "</div>"
      ],
      "text/plain": [
       "    A   B   C   D   E\n",
       "a  16  13  11  19  18\n",
       "b  14  14  13  15  17\n",
       "c  20  13  18  20  16\n",
       "d  18  21  16  13  21"
      ]
     },
     "execution_count": 93,
     "metadata": {},
     "output_type": "execute_result"
    }
   ],
   "source": [
    "df"
   ]
  },
  {
   "cell_type": "code",
   "execution_count": 94,
   "id": "acec3f3c-5ed3-405e-aaea-4b1251adc042",
   "metadata": {},
   "outputs": [
    {
     "data": {
      "text/html": [
       "<div>\n",
       "<style scoped>\n",
       "    .dataframe tbody tr th:only-of-type {\n",
       "        vertical-align: middle;\n",
       "    }\n",
       "\n",
       "    .dataframe tbody tr th {\n",
       "        vertical-align: top;\n",
       "    }\n",
       "\n",
       "    .dataframe thead th {\n",
       "        text-align: right;\n",
       "    }\n",
       "</style>\n",
       "<table border=\"1\" class=\"dataframe\">\n",
       "  <thead>\n",
       "    <tr style=\"text-align: right;\">\n",
       "      <th></th>\n",
       "      <th>A</th>\n",
       "      <th>B</th>\n",
       "      <th>C</th>\n",
       "      <th>D</th>\n",
       "      <th>E</th>\n",
       "    </tr>\n",
       "  </thead>\n",
       "  <tbody>\n",
       "    <tr>\n",
       "      <th>a</th>\n",
       "      <td>16</td>\n",
       "      <td>13</td>\n",
       "      <td>11</td>\n",
       "      <td>19</td>\n",
       "      <td>18</td>\n",
       "    </tr>\n",
       "    <tr>\n",
       "      <th>c</th>\n",
       "      <td>20</td>\n",
       "      <td>13</td>\n",
       "      <td>18</td>\n",
       "      <td>20</td>\n",
       "      <td>16</td>\n",
       "    </tr>\n",
       "    <tr>\n",
       "      <th>d</th>\n",
       "      <td>18</td>\n",
       "      <td>21</td>\n",
       "      <td>16</td>\n",
       "      <td>13</td>\n",
       "      <td>21</td>\n",
       "    </tr>\n",
       "  </tbody>\n",
       "</table>\n",
       "</div>"
      ],
      "text/plain": [
       "    A   B   C   D   E\n",
       "a  16  13  11  19  18\n",
       "c  20  13  18  20  16\n",
       "d  18  21  16  13  21"
      ]
     },
     "execution_count": 94,
     "metadata": {},
     "output_type": "execute_result"
    }
   ],
   "source": [
    "df[df['A']>15]"
   ]
  },
  {
   "cell_type": "code",
   "execution_count": 95,
   "id": "d4a1fd7e-dea9-44ce-b094-2f2318502b9a",
   "metadata": {},
   "outputs": [
    {
     "data": {
      "text/html": [
       "<div>\n",
       "<style scoped>\n",
       "    .dataframe tbody tr th:only-of-type {\n",
       "        vertical-align: middle;\n",
       "    }\n",
       "\n",
       "    .dataframe tbody tr th {\n",
       "        vertical-align: top;\n",
       "    }\n",
       "\n",
       "    .dataframe thead th {\n",
       "        text-align: right;\n",
       "    }\n",
       "</style>\n",
       "<table border=\"1\" class=\"dataframe\">\n",
       "  <thead>\n",
       "    <tr style=\"text-align: right;\">\n",
       "      <th></th>\n",
       "      <th>A</th>\n",
       "      <th>B</th>\n",
       "      <th>C</th>\n",
       "      <th>D</th>\n",
       "      <th>E</th>\n",
       "    </tr>\n",
       "  </thead>\n",
       "  <tbody>\n",
       "    <tr>\n",
       "      <th>a</th>\n",
       "      <td>16</td>\n",
       "      <td>13</td>\n",
       "      <td>11</td>\n",
       "      <td>19</td>\n",
       "      <td>18</td>\n",
       "    </tr>\n",
       "    <tr>\n",
       "      <th>b</th>\n",
       "      <td>14</td>\n",
       "      <td>14</td>\n",
       "      <td>13</td>\n",
       "      <td>15</td>\n",
       "      <td>17</td>\n",
       "    </tr>\n",
       "    <tr>\n",
       "      <th>c</th>\n",
       "      <td>20</td>\n",
       "      <td>13</td>\n",
       "      <td>18</td>\n",
       "      <td>20</td>\n",
       "      <td>16</td>\n",
       "    </tr>\n",
       "    <tr>\n",
       "      <th>d</th>\n",
       "      <td>18</td>\n",
       "      <td>21</td>\n",
       "      <td>16</td>\n",
       "      <td>13</td>\n",
       "      <td>21</td>\n",
       "    </tr>\n",
       "  </tbody>\n",
       "</table>\n",
       "</div>"
      ],
      "text/plain": [
       "    A   B   C   D   E\n",
       "a  16  13  11  19  18\n",
       "b  14  14  13  15  17\n",
       "c  20  13  18  20  16\n",
       "d  18  21  16  13  21"
      ]
     },
     "execution_count": 95,
     "metadata": {},
     "output_type": "execute_result"
    }
   ],
   "source": [
    "df"
   ]
  },
  {
   "cell_type": "code",
   "execution_count": 96,
   "id": "d01e580f-ca04-4929-a80d-fd52f5b02ea8",
   "metadata": {},
   "outputs": [
    {
     "data": {
      "text/html": [
       "<div>\n",
       "<style scoped>\n",
       "    .dataframe tbody tr th:only-of-type {\n",
       "        vertical-align: middle;\n",
       "    }\n",
       "\n",
       "    .dataframe tbody tr th {\n",
       "        vertical-align: top;\n",
       "    }\n",
       "\n",
       "    .dataframe thead th {\n",
       "        text-align: right;\n",
       "    }\n",
       "</style>\n",
       "<table border=\"1\" class=\"dataframe\">\n",
       "  <thead>\n",
       "    <tr style=\"text-align: right;\">\n",
       "      <th></th>\n",
       "      <th>A</th>\n",
       "      <th>B</th>\n",
       "      <th>C</th>\n",
       "      <th>D</th>\n",
       "      <th>E</th>\n",
       "    </tr>\n",
       "  </thead>\n",
       "  <tbody>\n",
       "    <tr>\n",
       "      <th>a</th>\n",
       "      <td>16</td>\n",
       "      <td>13</td>\n",
       "      <td>11</td>\n",
       "      <td>19</td>\n",
       "      <td>18</td>\n",
       "    </tr>\n",
       "    <tr>\n",
       "      <th>c</th>\n",
       "      <td>20</td>\n",
       "      <td>13</td>\n",
       "      <td>18</td>\n",
       "      <td>20</td>\n",
       "      <td>16</td>\n",
       "    </tr>\n",
       "    <tr>\n",
       "      <th>d</th>\n",
       "      <td>18</td>\n",
       "      <td>21</td>\n",
       "      <td>16</td>\n",
       "      <td>13</td>\n",
       "      <td>21</td>\n",
       "    </tr>\n",
       "  </tbody>\n",
       "</table>\n",
       "</div>"
      ],
      "text/plain": [
       "    A   B   C   D   E\n",
       "a  16  13  11  19  18\n",
       "c  20  13  18  20  16\n",
       "d  18  21  16  13  21"
      ]
     },
     "execution_count": 96,
     "metadata": {},
     "output_type": "execute_result"
    }
   ],
   "source": [
    "df[(df['A']>15)|(df['B']>17)]"
   ]
  },
  {
   "cell_type": "markdown",
   "id": "3eee4599-8e0d-458c-a418-ea191fa10a2a",
   "metadata": {},
   "source": [
    "#### b-2) df.query()"
   ]
  },
  {
   "cell_type": "markdown",
   "id": "a2689fe5-3181-4e0f-998c-838f7cc8f75f",
   "metadata": {},
   "source": [
    "query method를 이용하여 데이터를 추출하는 방법도 있다. 첫 번째 행을 추출한다."
   ]
  },
  {
   "cell_type": "code",
   "execution_count": 97,
   "id": "5c955cf4-fe3c-4d52-9b7c-b7f7478d0314",
   "metadata": {},
   "outputs": [
    {
     "data": {
      "text/html": [
       "<div>\n",
       "<style scoped>\n",
       "    .dataframe tbody tr th:only-of-type {\n",
       "        vertical-align: middle;\n",
       "    }\n",
       "\n",
       "    .dataframe tbody tr th {\n",
       "        vertical-align: top;\n",
       "    }\n",
       "\n",
       "    .dataframe thead th {\n",
       "        text-align: right;\n",
       "    }\n",
       "</style>\n",
       "<table border=\"1\" class=\"dataframe\">\n",
       "  <thead>\n",
       "    <tr style=\"text-align: right;\">\n",
       "      <th></th>\n",
       "      <th>A</th>\n",
       "      <th>B</th>\n",
       "      <th>C</th>\n",
       "      <th>D</th>\n",
       "      <th>E</th>\n",
       "    </tr>\n",
       "  </thead>\n",
       "  <tbody>\n",
       "    <tr>\n",
       "      <th>a</th>\n",
       "      <td>16</td>\n",
       "      <td>13</td>\n",
       "      <td>11</td>\n",
       "      <td>19</td>\n",
       "      <td>18</td>\n",
       "    </tr>\n",
       "    <tr>\n",
       "      <th>b</th>\n",
       "      <td>14</td>\n",
       "      <td>14</td>\n",
       "      <td>13</td>\n",
       "      <td>15</td>\n",
       "      <td>17</td>\n",
       "    </tr>\n",
       "    <tr>\n",
       "      <th>c</th>\n",
       "      <td>20</td>\n",
       "      <td>13</td>\n",
       "      <td>18</td>\n",
       "      <td>20</td>\n",
       "      <td>16</td>\n",
       "    </tr>\n",
       "    <tr>\n",
       "      <th>d</th>\n",
       "      <td>18</td>\n",
       "      <td>21</td>\n",
       "      <td>16</td>\n",
       "      <td>13</td>\n",
       "      <td>21</td>\n",
       "    </tr>\n",
       "  </tbody>\n",
       "</table>\n",
       "</div>"
      ],
      "text/plain": [
       "    A   B   C   D   E\n",
       "a  16  13  11  19  18\n",
       "b  14  14  13  15  17\n",
       "c  20  13  18  20  16\n",
       "d  18  21  16  13  21"
      ]
     },
     "execution_count": 97,
     "metadata": {},
     "output_type": "execute_result"
    }
   ],
   "source": [
    "df"
   ]
  },
  {
   "cell_type": "code",
   "execution_count": 98,
   "id": "55e82a12-8a16-4c85-84d0-698b8a9ab84c",
   "metadata": {},
   "outputs": [
    {
     "data": {
      "text/html": [
       "<div>\n",
       "<style scoped>\n",
       "    .dataframe tbody tr th:only-of-type {\n",
       "        vertical-align: middle;\n",
       "    }\n",
       "\n",
       "    .dataframe tbody tr th {\n",
       "        vertical-align: top;\n",
       "    }\n",
       "\n",
       "    .dataframe thead th {\n",
       "        text-align: right;\n",
       "    }\n",
       "</style>\n",
       "<table border=\"1\" class=\"dataframe\">\n",
       "  <thead>\n",
       "    <tr style=\"text-align: right;\">\n",
       "      <th></th>\n",
       "      <th>A</th>\n",
       "      <th>B</th>\n",
       "      <th>C</th>\n",
       "      <th>D</th>\n",
       "      <th>E</th>\n",
       "    </tr>\n",
       "  </thead>\n",
       "  <tbody>\n",
       "    <tr>\n",
       "      <th>a</th>\n",
       "      <td>16</td>\n",
       "      <td>13</td>\n",
       "      <td>11</td>\n",
       "      <td>19</td>\n",
       "      <td>18</td>\n",
       "    </tr>\n",
       "  </tbody>\n",
       "</table>\n",
       "</div>"
      ],
      "text/plain": [
       "    A   B   C   D   E\n",
       "a  16  13  11  19  18"
      ]
     },
     "execution_count": 98,
     "metadata": {},
     "output_type": "execute_result"
    }
   ],
   "source": [
    "df.query('index==\"a\"') ## 따옴표 주의"
   ]
  },
  {
   "cell_type": "markdown",
   "id": "32bd314b-52d0-464b-8939-d340b5666f15",
   "metadata": {},
   "source": [
    "query 함수는 여러 가지 조건을 지정해서 데이터를 꺼내오는 게 가능하다. 예를 들어, C 열에서 값이 13인 행을 찾고 싶다면 아래와 같이 코드를 작성한다."
   ]
  },
  {
   "cell_type": "code",
   "execution_count": 99,
   "id": "f6a25153-414c-4b14-8631-cae57d87cae8",
   "metadata": {},
   "outputs": [
    {
     "data": {
      "text/html": [
       "<div>\n",
       "<style scoped>\n",
       "    .dataframe tbody tr th:only-of-type {\n",
       "        vertical-align: middle;\n",
       "    }\n",
       "\n",
       "    .dataframe tbody tr th {\n",
       "        vertical-align: top;\n",
       "    }\n",
       "\n",
       "    .dataframe thead th {\n",
       "        text-align: right;\n",
       "    }\n",
       "</style>\n",
       "<table border=\"1\" class=\"dataframe\">\n",
       "  <thead>\n",
       "    <tr style=\"text-align: right;\">\n",
       "      <th></th>\n",
       "      <th>A</th>\n",
       "      <th>B</th>\n",
       "      <th>C</th>\n",
       "      <th>D</th>\n",
       "      <th>E</th>\n",
       "    </tr>\n",
       "  </thead>\n",
       "  <tbody>\n",
       "    <tr>\n",
       "      <th>a</th>\n",
       "      <td>16</td>\n",
       "      <td>13</td>\n",
       "      <td>11</td>\n",
       "      <td>19</td>\n",
       "      <td>18</td>\n",
       "    </tr>\n",
       "    <tr>\n",
       "      <th>b</th>\n",
       "      <td>14</td>\n",
       "      <td>14</td>\n",
       "      <td>13</td>\n",
       "      <td>15</td>\n",
       "      <td>17</td>\n",
       "    </tr>\n",
       "    <tr>\n",
       "      <th>c</th>\n",
       "      <td>20</td>\n",
       "      <td>13</td>\n",
       "      <td>18</td>\n",
       "      <td>20</td>\n",
       "      <td>16</td>\n",
       "    </tr>\n",
       "    <tr>\n",
       "      <th>d</th>\n",
       "      <td>18</td>\n",
       "      <td>21</td>\n",
       "      <td>16</td>\n",
       "      <td>13</td>\n",
       "      <td>21</td>\n",
       "    </tr>\n",
       "  </tbody>\n",
       "</table>\n",
       "</div>"
      ],
      "text/plain": [
       "    A   B   C   D   E\n",
       "a  16  13  11  19  18\n",
       "b  14  14  13  15  17\n",
       "c  20  13  18  20  16\n",
       "d  18  21  16  13  21"
      ]
     },
     "execution_count": 99,
     "metadata": {},
     "output_type": "execute_result"
    }
   ],
   "source": [
    "df"
   ]
  },
  {
   "cell_type": "code",
   "execution_count": 100,
   "id": "14dd8b13-8fef-4d98-8d03-cc144db20ad8",
   "metadata": {},
   "outputs": [
    {
     "data": {
      "text/html": [
       "<div>\n",
       "<style scoped>\n",
       "    .dataframe tbody tr th:only-of-type {\n",
       "        vertical-align: middle;\n",
       "    }\n",
       "\n",
       "    .dataframe tbody tr th {\n",
       "        vertical-align: top;\n",
       "    }\n",
       "\n",
       "    .dataframe thead th {\n",
       "        text-align: right;\n",
       "    }\n",
       "</style>\n",
       "<table border=\"1\" class=\"dataframe\">\n",
       "  <thead>\n",
       "    <tr style=\"text-align: right;\">\n",
       "      <th></th>\n",
       "      <th>A</th>\n",
       "      <th>B</th>\n",
       "      <th>C</th>\n",
       "      <th>D</th>\n",
       "      <th>E</th>\n",
       "    </tr>\n",
       "  </thead>\n",
       "  <tbody>\n",
       "    <tr>\n",
       "      <th>b</th>\n",
       "      <td>14</td>\n",
       "      <td>14</td>\n",
       "      <td>13</td>\n",
       "      <td>15</td>\n",
       "      <td>17</td>\n",
       "    </tr>\n",
       "  </tbody>\n",
       "</table>\n",
       "</div>"
      ],
      "text/plain": [
       "    A   B   C   D   E\n",
       "b  14  14  13  15  17"
      ]
     },
     "execution_count": 100,
     "metadata": {},
     "output_type": "execute_result"
    }
   ],
   "source": [
    "df.query('C==13')"
   ]
  },
  {
   "cell_type": "code",
   "execution_count": 101,
   "id": "7531051b-71c6-466d-90da-b70fd3eb17a1",
   "metadata": {},
   "outputs": [
    {
     "data": {
      "text/html": [
       "<div>\n",
       "<style scoped>\n",
       "    .dataframe tbody tr th:only-of-type {\n",
       "        vertical-align: middle;\n",
       "    }\n",
       "\n",
       "    .dataframe tbody tr th {\n",
       "        vertical-align: top;\n",
       "    }\n",
       "\n",
       "    .dataframe thead th {\n",
       "        text-align: right;\n",
       "    }\n",
       "</style>\n",
       "<table border=\"1\" class=\"dataframe\">\n",
       "  <thead>\n",
       "    <tr style=\"text-align: right;\">\n",
       "      <th></th>\n",
       "      <th>A</th>\n",
       "      <th>B</th>\n",
       "      <th>C</th>\n",
       "      <th>D</th>\n",
       "      <th>E</th>\n",
       "    </tr>\n",
       "  </thead>\n",
       "  <tbody>\n",
       "    <tr>\n",
       "      <th>a</th>\n",
       "      <td>16</td>\n",
       "      <td>13</td>\n",
       "      <td>11</td>\n",
       "      <td>19</td>\n",
       "      <td>18</td>\n",
       "    </tr>\n",
       "    <tr>\n",
       "      <th>b</th>\n",
       "      <td>14</td>\n",
       "      <td>14</td>\n",
       "      <td>13</td>\n",
       "      <td>15</td>\n",
       "      <td>17</td>\n",
       "    </tr>\n",
       "    <tr>\n",
       "      <th>c</th>\n",
       "      <td>20</td>\n",
       "      <td>13</td>\n",
       "      <td>18</td>\n",
       "      <td>20</td>\n",
       "      <td>16</td>\n",
       "    </tr>\n",
       "    <tr>\n",
       "      <th>d</th>\n",
       "      <td>18</td>\n",
       "      <td>21</td>\n",
       "      <td>16</td>\n",
       "      <td>13</td>\n",
       "      <td>21</td>\n",
       "    </tr>\n",
       "  </tbody>\n",
       "</table>\n",
       "</div>"
      ],
      "text/plain": [
       "    A   B   C   D   E\n",
       "a  16  13  11  19  18\n",
       "b  14  14  13  15  17\n",
       "c  20  13  18  20  16\n",
       "d  18  21  16  13  21"
      ]
     },
     "execution_count": 101,
     "metadata": {},
     "output_type": "execute_result"
    }
   ],
   "source": [
    "df"
   ]
  },
  {
   "cell_type": "code",
   "execution_count": 102,
   "id": "d998cbef-dfd4-460d-9a2f-6200a1daa098",
   "metadata": {},
   "outputs": [
    {
     "data": {
      "text/html": [
       "<div>\n",
       "<style scoped>\n",
       "    .dataframe tbody tr th:only-of-type {\n",
       "        vertical-align: middle;\n",
       "    }\n",
       "\n",
       "    .dataframe tbody tr th {\n",
       "        vertical-align: top;\n",
       "    }\n",
       "\n",
       "    .dataframe thead th {\n",
       "        text-align: right;\n",
       "    }\n",
       "</style>\n",
       "<table border=\"1\" class=\"dataframe\">\n",
       "  <thead>\n",
       "    <tr style=\"text-align: right;\">\n",
       "      <th></th>\n",
       "      <th>A</th>\n",
       "      <th>B</th>\n",
       "      <th>C</th>\n",
       "      <th>D</th>\n",
       "      <th>E</th>\n",
       "    </tr>\n",
       "  </thead>\n",
       "  <tbody>\n",
       "    <tr>\n",
       "      <th>b</th>\n",
       "      <td>14</td>\n",
       "      <td>14</td>\n",
       "      <td>13</td>\n",
       "      <td>15</td>\n",
       "      <td>17</td>\n",
       "    </tr>\n",
       "    <tr>\n",
       "      <th>c</th>\n",
       "      <td>20</td>\n",
       "      <td>13</td>\n",
       "      <td>18</td>\n",
       "      <td>20</td>\n",
       "      <td>16</td>\n",
       "    </tr>\n",
       "  </tbody>\n",
       "</table>\n",
       "</div>"
      ],
      "text/plain": [
       "    A   B   C   D   E\n",
       "b  14  14  13  15  17\n",
       "c  20  13  18  20  16"
      ]
     },
     "execution_count": 102,
     "metadata": {},
     "output_type": "execute_result"
    }
   ],
   "source": [
    "df.query('A==14|D==20')"
   ]
  },
  {
   "cell_type": "code",
   "execution_count": 103,
   "id": "d96770c0-bbd0-4dd4-8b2a-0fc568744db6",
   "metadata": {},
   "outputs": [
    {
     "data": {
      "text/html": [
       "<div>\n",
       "<style scoped>\n",
       "    .dataframe tbody tr th:only-of-type {\n",
       "        vertical-align: middle;\n",
       "    }\n",
       "\n",
       "    .dataframe tbody tr th {\n",
       "        vertical-align: top;\n",
       "    }\n",
       "\n",
       "    .dataframe thead th {\n",
       "        text-align: right;\n",
       "    }\n",
       "</style>\n",
       "<table border=\"1\" class=\"dataframe\">\n",
       "  <thead>\n",
       "    <tr style=\"text-align: right;\">\n",
       "      <th></th>\n",
       "      <th>A</th>\n",
       "      <th>B</th>\n",
       "      <th>C</th>\n",
       "      <th>D</th>\n",
       "      <th>E</th>\n",
       "    </tr>\n",
       "  </thead>\n",
       "  <tbody>\n",
       "    <tr>\n",
       "      <th>a</th>\n",
       "      <td>16</td>\n",
       "      <td>13</td>\n",
       "      <td>11</td>\n",
       "      <td>19</td>\n",
       "      <td>18</td>\n",
       "    </tr>\n",
       "    <tr>\n",
       "      <th>b</th>\n",
       "      <td>14</td>\n",
       "      <td>14</td>\n",
       "      <td>13</td>\n",
       "      <td>15</td>\n",
       "      <td>17</td>\n",
       "    </tr>\n",
       "    <tr>\n",
       "      <th>c</th>\n",
       "      <td>20</td>\n",
       "      <td>13</td>\n",
       "      <td>18</td>\n",
       "      <td>20</td>\n",
       "      <td>16</td>\n",
       "    </tr>\n",
       "    <tr>\n",
       "      <th>d</th>\n",
       "      <td>18</td>\n",
       "      <td>21</td>\n",
       "      <td>16</td>\n",
       "      <td>13</td>\n",
       "      <td>21</td>\n",
       "    </tr>\n",
       "  </tbody>\n",
       "</table>\n",
       "</div>"
      ],
      "text/plain": [
       "    A   B   C   D   E\n",
       "a  16  13  11  19  18\n",
       "b  14  14  13  15  17\n",
       "c  20  13  18  20  16\n",
       "d  18  21  16  13  21"
      ]
     },
     "execution_count": 103,
     "metadata": {},
     "output_type": "execute_result"
    }
   ],
   "source": [
    "df"
   ]
  },
  {
   "cell_type": "code",
   "execution_count": 104,
   "id": "38da5b96-7040-441c-8474-8f600e9f2051",
   "metadata": {},
   "outputs": [
    {
     "data": {
      "text/html": [
       "<div>\n",
       "<style scoped>\n",
       "    .dataframe tbody tr th:only-of-type {\n",
       "        vertical-align: middle;\n",
       "    }\n",
       "\n",
       "    .dataframe tbody tr th {\n",
       "        vertical-align: top;\n",
       "    }\n",
       "\n",
       "    .dataframe thead th {\n",
       "        text-align: right;\n",
       "    }\n",
       "</style>\n",
       "<table border=\"1\" class=\"dataframe\">\n",
       "  <thead>\n",
       "    <tr style=\"text-align: right;\">\n",
       "      <th></th>\n",
       "      <th>A</th>\n",
       "      <th>B</th>\n",
       "      <th>C</th>\n",
       "      <th>D</th>\n",
       "      <th>E</th>\n",
       "    </tr>\n",
       "  </thead>\n",
       "  <tbody>\n",
       "    <tr>\n",
       "      <th>c</th>\n",
       "      <td>20</td>\n",
       "      <td>13</td>\n",
       "      <td>18</td>\n",
       "      <td>20</td>\n",
       "      <td>16</td>\n",
       "    </tr>\n",
       "  </tbody>\n",
       "</table>\n",
       "</div>"
      ],
      "text/plain": [
       "    A   B   C   D   E\n",
       "c  20  13  18  20  16"
      ]
     },
     "execution_count": 104,
     "metadata": {},
     "output_type": "execute_result"
    }
   ],
   "source": [
    "df.query('B==13&index==\"c\"')"
   ]
  },
  {
   "cell_type": "markdown",
   "id": "efd08853-b59a-4d78-a1c2-bb90177a5832",
   "metadata": {},
   "source": [
    "##### b-3) df.loc"
   ]
  },
  {
   "cell_type": "markdown",
   "id": "c5b0023c-fafb-4bb1-9be1-0034fdea2579",
   "metadata": {},
   "source": [
    "loc은 주로 label을 기반으로 이용하며 허용되는 input은 다음과 같다.\n",
    "* A single label\n",
    "* A list of labels\n",
    "* A boolean array\n",
    "\n",
    "만약 loc을 사용하면서 인덱스를 하나만 넣으면 행(row)을 선택한다."
   ]
  },
  {
   "cell_type": "code",
   "execution_count": 105,
   "id": "7d0f90d2-dc1a-4c9a-9e0b-5805fe159e73",
   "metadata": {},
   "outputs": [
    {
     "data": {
      "text/html": [
       "<div>\n",
       "<style scoped>\n",
       "    .dataframe tbody tr th:only-of-type {\n",
       "        vertical-align: middle;\n",
       "    }\n",
       "\n",
       "    .dataframe tbody tr th {\n",
       "        vertical-align: top;\n",
       "    }\n",
       "\n",
       "    .dataframe thead th {\n",
       "        text-align: right;\n",
       "    }\n",
       "</style>\n",
       "<table border=\"1\" class=\"dataframe\">\n",
       "  <thead>\n",
       "    <tr style=\"text-align: right;\">\n",
       "      <th></th>\n",
       "      <th>A</th>\n",
       "      <th>B</th>\n",
       "      <th>C</th>\n",
       "      <th>D</th>\n",
       "      <th>E</th>\n",
       "    </tr>\n",
       "  </thead>\n",
       "  <tbody>\n",
       "    <tr>\n",
       "      <th>a</th>\n",
       "      <td>16</td>\n",
       "      <td>13</td>\n",
       "      <td>11</td>\n",
       "      <td>19</td>\n",
       "      <td>18</td>\n",
       "    </tr>\n",
       "    <tr>\n",
       "      <th>b</th>\n",
       "      <td>14</td>\n",
       "      <td>14</td>\n",
       "      <td>13</td>\n",
       "      <td>15</td>\n",
       "      <td>17</td>\n",
       "    </tr>\n",
       "    <tr>\n",
       "      <th>c</th>\n",
       "      <td>20</td>\n",
       "      <td>13</td>\n",
       "      <td>18</td>\n",
       "      <td>20</td>\n",
       "      <td>16</td>\n",
       "    </tr>\n",
       "    <tr>\n",
       "      <th>d</th>\n",
       "      <td>18</td>\n",
       "      <td>21</td>\n",
       "      <td>16</td>\n",
       "      <td>13</td>\n",
       "      <td>21</td>\n",
       "    </tr>\n",
       "  </tbody>\n",
       "</table>\n",
       "</div>"
      ],
      "text/plain": [
       "    A   B   C   D   E\n",
       "a  16  13  11  19  18\n",
       "b  14  14  13  15  17\n",
       "c  20  13  18  20  16\n",
       "d  18  21  16  13  21"
      ]
     },
     "execution_count": 105,
     "metadata": {},
     "output_type": "execute_result"
    }
   ],
   "source": [
    "df"
   ]
  },
  {
   "cell_type": "code",
   "execution_count": 106,
   "id": "80bad954-2aea-4170-9a9b-08e51d48f027",
   "metadata": {},
   "outputs": [
    {
     "data": {
      "text/plain": [
       "A    16\n",
       "B    13\n",
       "C    11\n",
       "D    19\n",
       "E    18\n",
       "Name: a, dtype: int32"
      ]
     },
     "execution_count": 106,
     "metadata": {},
     "output_type": "execute_result"
    }
   ],
   "source": [
    "df.loc['a']"
   ]
  },
  {
   "cell_type": "markdown",
   "id": "b7ae90d6-a130-4f83-a1a7-e5891891fe8f",
   "metadata": {},
   "source": [
    "슬라이스 형식도 가능하다."
   ]
  },
  {
   "cell_type": "code",
   "execution_count": 107,
   "id": "f562b71f-f54b-4052-bc44-914f5ddd23b5",
   "metadata": {},
   "outputs": [
    {
     "data": {
      "text/html": [
       "<div>\n",
       "<style scoped>\n",
       "    .dataframe tbody tr th:only-of-type {\n",
       "        vertical-align: middle;\n",
       "    }\n",
       "\n",
       "    .dataframe tbody tr th {\n",
       "        vertical-align: top;\n",
       "    }\n",
       "\n",
       "    .dataframe thead th {\n",
       "        text-align: right;\n",
       "    }\n",
       "</style>\n",
       "<table border=\"1\" class=\"dataframe\">\n",
       "  <thead>\n",
       "    <tr style=\"text-align: right;\">\n",
       "      <th></th>\n",
       "      <th>A</th>\n",
       "      <th>B</th>\n",
       "      <th>C</th>\n",
       "      <th>D</th>\n",
       "      <th>E</th>\n",
       "    </tr>\n",
       "  </thead>\n",
       "  <tbody>\n",
       "    <tr>\n",
       "      <th>a</th>\n",
       "      <td>16</td>\n",
       "      <td>13</td>\n",
       "      <td>11</td>\n",
       "      <td>19</td>\n",
       "      <td>18</td>\n",
       "    </tr>\n",
       "    <tr>\n",
       "      <th>b</th>\n",
       "      <td>14</td>\n",
       "      <td>14</td>\n",
       "      <td>13</td>\n",
       "      <td>15</td>\n",
       "      <td>17</td>\n",
       "    </tr>\n",
       "    <tr>\n",
       "      <th>c</th>\n",
       "      <td>20</td>\n",
       "      <td>13</td>\n",
       "      <td>18</td>\n",
       "      <td>20</td>\n",
       "      <td>16</td>\n",
       "    </tr>\n",
       "    <tr>\n",
       "      <th>d</th>\n",
       "      <td>18</td>\n",
       "      <td>21</td>\n",
       "      <td>16</td>\n",
       "      <td>13</td>\n",
       "      <td>21</td>\n",
       "    </tr>\n",
       "  </tbody>\n",
       "</table>\n",
       "</div>"
      ],
      "text/plain": [
       "    A   B   C   D   E\n",
       "a  16  13  11  19  18\n",
       "b  14  14  13  15  17\n",
       "c  20  13  18  20  16\n",
       "d  18  21  16  13  21"
      ]
     },
     "execution_count": 107,
     "metadata": {},
     "output_type": "execute_result"
    }
   ],
   "source": [
    "df"
   ]
  },
  {
   "cell_type": "code",
   "execution_count": 108,
   "id": "fc0f8fe5-a195-4b10-b99b-852bd56d6345",
   "metadata": {},
   "outputs": [
    {
     "data": {
      "text/html": [
       "<div>\n",
       "<style scoped>\n",
       "    .dataframe tbody tr th:only-of-type {\n",
       "        vertical-align: middle;\n",
       "    }\n",
       "\n",
       "    .dataframe tbody tr th {\n",
       "        vertical-align: top;\n",
       "    }\n",
       "\n",
       "    .dataframe thead th {\n",
       "        text-align: right;\n",
       "    }\n",
       "</style>\n",
       "<table border=\"1\" class=\"dataframe\">\n",
       "  <thead>\n",
       "    <tr style=\"text-align: right;\">\n",
       "      <th></th>\n",
       "      <th>A</th>\n",
       "      <th>B</th>\n",
       "      <th>C</th>\n",
       "      <th>D</th>\n",
       "      <th>E</th>\n",
       "    </tr>\n",
       "  </thead>\n",
       "  <tbody>\n",
       "    <tr>\n",
       "      <th>b</th>\n",
       "      <td>14</td>\n",
       "      <td>14</td>\n",
       "      <td>13</td>\n",
       "      <td>15</td>\n",
       "      <td>17</td>\n",
       "    </tr>\n",
       "    <tr>\n",
       "      <th>c</th>\n",
       "      <td>20</td>\n",
       "      <td>13</td>\n",
       "      <td>18</td>\n",
       "      <td>20</td>\n",
       "      <td>16</td>\n",
       "    </tr>\n",
       "  </tbody>\n",
       "</table>\n",
       "</div>"
      ],
      "text/plain": [
       "    A   B   C   D   E\n",
       "b  14  14  13  15  17\n",
       "c  20  13  18  20  16"
      ]
     },
     "execution_count": 108,
     "metadata": {},
     "output_type": "execute_result"
    }
   ],
   "source": [
    "df.loc['b':'c']"
   ]
  },
  {
   "cell_type": "code",
   "execution_count": 109,
   "id": "84968ffb-3e65-4aae-8624-a8d1aceee440",
   "metadata": {},
   "outputs": [
    {
     "data": {
      "text/html": [
       "<div>\n",
       "<style scoped>\n",
       "    .dataframe tbody tr th:only-of-type {\n",
       "        vertical-align: middle;\n",
       "    }\n",
       "\n",
       "    .dataframe tbody tr th {\n",
       "        vertical-align: top;\n",
       "    }\n",
       "\n",
       "    .dataframe thead th {\n",
       "        text-align: right;\n",
       "    }\n",
       "</style>\n",
       "<table border=\"1\" class=\"dataframe\">\n",
       "  <thead>\n",
       "    <tr style=\"text-align: right;\">\n",
       "      <th></th>\n",
       "      <th>A</th>\n",
       "      <th>B</th>\n",
       "      <th>C</th>\n",
       "      <th>D</th>\n",
       "      <th>E</th>\n",
       "    </tr>\n",
       "  </thead>\n",
       "  <tbody>\n",
       "    <tr>\n",
       "      <th>b</th>\n",
       "      <td>14</td>\n",
       "      <td>14</td>\n",
       "      <td>13</td>\n",
       "      <td>15</td>\n",
       "      <td>17</td>\n",
       "    </tr>\n",
       "    <tr>\n",
       "      <th>c</th>\n",
       "      <td>20</td>\n",
       "      <td>13</td>\n",
       "      <td>18</td>\n",
       "      <td>20</td>\n",
       "      <td>16</td>\n",
       "    </tr>\n",
       "  </tbody>\n",
       "</table>\n",
       "</div>"
      ],
      "text/plain": [
       "    A   B   C   D   E\n",
       "b  14  14  13  15  17\n",
       "c  20  13  18  20  16"
      ]
     },
     "execution_count": 109,
     "metadata": {},
     "output_type": "execute_result"
    }
   ],
   "source": [
    "df['b':'c'] ## loc을 사용하지 않아도 됨"
   ]
  },
  {
   "cell_type": "markdown",
   "id": "76b0f957-96f0-4adb-a8e7-7a2aefdfe05e",
   "metadata": {},
   "source": [
    "리스트 형태를 이용하여 원하는 행만을 추출하는 것도 가능하다.\n",
    "\n",
    "loc을 쓰지 않으면 KeyError 오류가 발생한다."
   ]
  },
  {
   "cell_type": "code",
   "execution_count": 110,
   "id": "b486eeca-12fa-4fee-8a91-d7b470e9c4ad",
   "metadata": {},
   "outputs": [
    {
     "data": {
      "text/html": [
       "<div>\n",
       "<style scoped>\n",
       "    .dataframe tbody tr th:only-of-type {\n",
       "        vertical-align: middle;\n",
       "    }\n",
       "\n",
       "    .dataframe tbody tr th {\n",
       "        vertical-align: top;\n",
       "    }\n",
       "\n",
       "    .dataframe thead th {\n",
       "        text-align: right;\n",
       "    }\n",
       "</style>\n",
       "<table border=\"1\" class=\"dataframe\">\n",
       "  <thead>\n",
       "    <tr style=\"text-align: right;\">\n",
       "      <th></th>\n",
       "      <th>A</th>\n",
       "      <th>B</th>\n",
       "      <th>C</th>\n",
       "      <th>D</th>\n",
       "      <th>E</th>\n",
       "    </tr>\n",
       "  </thead>\n",
       "  <tbody>\n",
       "    <tr>\n",
       "      <th>a</th>\n",
       "      <td>16</td>\n",
       "      <td>13</td>\n",
       "      <td>11</td>\n",
       "      <td>19</td>\n",
       "      <td>18</td>\n",
       "    </tr>\n",
       "    <tr>\n",
       "      <th>b</th>\n",
       "      <td>14</td>\n",
       "      <td>14</td>\n",
       "      <td>13</td>\n",
       "      <td>15</td>\n",
       "      <td>17</td>\n",
       "    </tr>\n",
       "    <tr>\n",
       "      <th>c</th>\n",
       "      <td>20</td>\n",
       "      <td>13</td>\n",
       "      <td>18</td>\n",
       "      <td>20</td>\n",
       "      <td>16</td>\n",
       "    </tr>\n",
       "    <tr>\n",
       "      <th>d</th>\n",
       "      <td>18</td>\n",
       "      <td>21</td>\n",
       "      <td>16</td>\n",
       "      <td>13</td>\n",
       "      <td>21</td>\n",
       "    </tr>\n",
       "  </tbody>\n",
       "</table>\n",
       "</div>"
      ],
      "text/plain": [
       "    A   B   C   D   E\n",
       "a  16  13  11  19  18\n",
       "b  14  14  13  15  17\n",
       "c  20  13  18  20  16\n",
       "d  18  21  16  13  21"
      ]
     },
     "execution_count": 110,
     "metadata": {},
     "output_type": "execute_result"
    }
   ],
   "source": [
    "df"
   ]
  },
  {
   "cell_type": "code",
   "execution_count": 111,
   "id": "01698371-eb43-4355-9f83-4f6cbc9129f0",
   "metadata": {},
   "outputs": [
    {
     "data": {
      "text/html": [
       "<div>\n",
       "<style scoped>\n",
       "    .dataframe tbody tr th:only-of-type {\n",
       "        vertical-align: middle;\n",
       "    }\n",
       "\n",
       "    .dataframe tbody tr th {\n",
       "        vertical-align: top;\n",
       "    }\n",
       "\n",
       "    .dataframe thead th {\n",
       "        text-align: right;\n",
       "    }\n",
       "</style>\n",
       "<table border=\"1\" class=\"dataframe\">\n",
       "  <thead>\n",
       "    <tr style=\"text-align: right;\">\n",
       "      <th></th>\n",
       "      <th>A</th>\n",
       "      <th>B</th>\n",
       "      <th>C</th>\n",
       "      <th>D</th>\n",
       "      <th>E</th>\n",
       "    </tr>\n",
       "  </thead>\n",
       "  <tbody>\n",
       "    <tr>\n",
       "      <th>a</th>\n",
       "      <td>16</td>\n",
       "      <td>13</td>\n",
       "      <td>11</td>\n",
       "      <td>19</td>\n",
       "      <td>18</td>\n",
       "    </tr>\n",
       "    <tr>\n",
       "      <th>d</th>\n",
       "      <td>18</td>\n",
       "      <td>21</td>\n",
       "      <td>16</td>\n",
       "      <td>13</td>\n",
       "      <td>21</td>\n",
       "    </tr>\n",
       "  </tbody>\n",
       "</table>\n",
       "</div>"
      ],
      "text/plain": [
       "    A   B   C   D   E\n",
       "a  16  13  11  19  18\n",
       "d  18  21  16  13  21"
      ]
     },
     "execution_count": 111,
     "metadata": {},
     "output_type": "execute_result"
    }
   ],
   "source": [
    "df.loc[['a', 'd']]"
   ]
  },
  {
   "cell_type": "code",
   "execution_count": 112,
   "id": "f4d00491-b2be-44ac-8886-79ea13029f39",
   "metadata": {},
   "outputs": [],
   "source": [
    "# df[['a', 'd']]"
   ]
  },
  {
   "cell_type": "code",
   "execution_count": 113,
   "id": "394b9c10-46f3-4b3a-b928-368cf1819516",
   "metadata": {},
   "outputs": [
    {
     "data": {
      "text/html": [
       "<div>\n",
       "<style scoped>\n",
       "    .dataframe tbody tr th:only-of-type {\n",
       "        vertical-align: middle;\n",
       "    }\n",
       "\n",
       "    .dataframe tbody tr th {\n",
       "        vertical-align: top;\n",
       "    }\n",
       "\n",
       "    .dataframe thead th {\n",
       "        text-align: right;\n",
       "    }\n",
       "</style>\n",
       "<table border=\"1\" class=\"dataframe\">\n",
       "  <thead>\n",
       "    <tr style=\"text-align: right;\">\n",
       "      <th></th>\n",
       "      <th>A</th>\n",
       "      <th>B</th>\n",
       "      <th>C</th>\n",
       "      <th>D</th>\n",
       "      <th>E</th>\n",
       "    </tr>\n",
       "  </thead>\n",
       "  <tbody>\n",
       "    <tr>\n",
       "      <th>a</th>\n",
       "      <td>16</td>\n",
       "      <td>13</td>\n",
       "      <td>11</td>\n",
       "      <td>19</td>\n",
       "      <td>18</td>\n",
       "    </tr>\n",
       "    <tr>\n",
       "      <th>b</th>\n",
       "      <td>14</td>\n",
       "      <td>14</td>\n",
       "      <td>13</td>\n",
       "      <td>15</td>\n",
       "      <td>17</td>\n",
       "    </tr>\n",
       "    <tr>\n",
       "      <th>c</th>\n",
       "      <td>20</td>\n",
       "      <td>13</td>\n",
       "      <td>18</td>\n",
       "      <td>20</td>\n",
       "      <td>16</td>\n",
       "    </tr>\n",
       "    <tr>\n",
       "      <th>d</th>\n",
       "      <td>18</td>\n",
       "      <td>21</td>\n",
       "      <td>16</td>\n",
       "      <td>13</td>\n",
       "      <td>21</td>\n",
       "    </tr>\n",
       "  </tbody>\n",
       "</table>\n",
       "</div>"
      ],
      "text/plain": [
       "    A   B   C   D   E\n",
       "a  16  13  11  19  18\n",
       "b  14  14  13  15  17\n",
       "c  20  13  18  20  16\n",
       "d  18  21  16  13  21"
      ]
     },
     "execution_count": 113,
     "metadata": {},
     "output_type": "execute_result"
    }
   ],
   "source": [
    "df"
   ]
  },
  {
   "cell_type": "code",
   "execution_count": 114,
   "id": "0616aabb-e8b1-4e13-a588-547aa3edd66a",
   "metadata": {},
   "outputs": [
    {
     "data": {
      "text/html": [
       "<div>\n",
       "<style scoped>\n",
       "    .dataframe tbody tr th:only-of-type {\n",
       "        vertical-align: middle;\n",
       "    }\n",
       "\n",
       "    .dataframe tbody tr th {\n",
       "        vertical-align: top;\n",
       "    }\n",
       "\n",
       "    .dataframe thead th {\n",
       "        text-align: right;\n",
       "    }\n",
       "</style>\n",
       "<table border=\"1\" class=\"dataframe\">\n",
       "  <thead>\n",
       "    <tr style=\"text-align: right;\">\n",
       "      <th></th>\n",
       "      <th>A</th>\n",
       "      <th>B</th>\n",
       "      <th>C</th>\n",
       "      <th>D</th>\n",
       "      <th>E</th>\n",
       "    </tr>\n",
       "  </thead>\n",
       "  <tbody>\n",
       "    <tr>\n",
       "      <th>a</th>\n",
       "      <td>16</td>\n",
       "      <td>13</td>\n",
       "      <td>11</td>\n",
       "      <td>19</td>\n",
       "      <td>18</td>\n",
       "    </tr>\n",
       "    <tr>\n",
       "      <th>c</th>\n",
       "      <td>20</td>\n",
       "      <td>13</td>\n",
       "      <td>18</td>\n",
       "      <td>20</td>\n",
       "      <td>16</td>\n",
       "    </tr>\n",
       "    <tr>\n",
       "      <th>d</th>\n",
       "      <td>18</td>\n",
       "      <td>21</td>\n",
       "      <td>16</td>\n",
       "      <td>13</td>\n",
       "      <td>21</td>\n",
       "    </tr>\n",
       "  </tbody>\n",
       "</table>\n",
       "</div>"
      ],
      "text/plain": [
       "    A   B   C   D   E\n",
       "a  16  13  11  19  18\n",
       "c  20  13  18  20  16\n",
       "d  18  21  16  13  21"
      ]
     },
     "execution_count": 114,
     "metadata": {},
     "output_type": "execute_result"
    }
   ],
   "source": [
    "df.loc[df.A>15]"
   ]
  },
  {
   "cell_type": "markdown",
   "id": "378f82d9-f124-4af7-8d5e-54dea3eaf5e4",
   "metadata": {},
   "source": [
    "행과 열 모두 지정하고 싶다면 df.loc[행 인덱스, 열 인덱스]와 같은 형태로 사용한다."
   ]
  },
  {
   "cell_type": "code",
   "execution_count": 115,
   "id": "321c5172-fba7-4da3-b60a-4630dbfa9ef0",
   "metadata": {},
   "outputs": [
    {
     "data": {
      "text/html": [
       "<div>\n",
       "<style scoped>\n",
       "    .dataframe tbody tr th:only-of-type {\n",
       "        vertical-align: middle;\n",
       "    }\n",
       "\n",
       "    .dataframe tbody tr th {\n",
       "        vertical-align: top;\n",
       "    }\n",
       "\n",
       "    .dataframe thead th {\n",
       "        text-align: right;\n",
       "    }\n",
       "</style>\n",
       "<table border=\"1\" class=\"dataframe\">\n",
       "  <thead>\n",
       "    <tr style=\"text-align: right;\">\n",
       "      <th></th>\n",
       "      <th>A</th>\n",
       "      <th>B</th>\n",
       "      <th>C</th>\n",
       "      <th>D</th>\n",
       "      <th>E</th>\n",
       "    </tr>\n",
       "  </thead>\n",
       "  <tbody>\n",
       "    <tr>\n",
       "      <th>a</th>\n",
       "      <td>16</td>\n",
       "      <td>13</td>\n",
       "      <td>11</td>\n",
       "      <td>19</td>\n",
       "      <td>18</td>\n",
       "    </tr>\n",
       "    <tr>\n",
       "      <th>b</th>\n",
       "      <td>14</td>\n",
       "      <td>14</td>\n",
       "      <td>13</td>\n",
       "      <td>15</td>\n",
       "      <td>17</td>\n",
       "    </tr>\n",
       "    <tr>\n",
       "      <th>c</th>\n",
       "      <td>20</td>\n",
       "      <td>13</td>\n",
       "      <td>18</td>\n",
       "      <td>20</td>\n",
       "      <td>16</td>\n",
       "    </tr>\n",
       "    <tr>\n",
       "      <th>d</th>\n",
       "      <td>18</td>\n",
       "      <td>21</td>\n",
       "      <td>16</td>\n",
       "      <td>13</td>\n",
       "      <td>21</td>\n",
       "    </tr>\n",
       "  </tbody>\n",
       "</table>\n",
       "</div>"
      ],
      "text/plain": [
       "    A   B   C   D   E\n",
       "a  16  13  11  19  18\n",
       "b  14  14  13  15  17\n",
       "c  20  13  18  20  16\n",
       "d  18  21  16  13  21"
      ]
     },
     "execution_count": 115,
     "metadata": {},
     "output_type": "execute_result"
    }
   ],
   "source": [
    "df"
   ]
  },
  {
   "cell_type": "code",
   "execution_count": 116,
   "id": "859c5ddd-13fb-467c-9914-56d47679d359",
   "metadata": {},
   "outputs": [
    {
     "data": {
      "text/plain": [
       "16"
      ]
     },
     "execution_count": 116,
     "metadata": {},
     "output_type": "execute_result"
    }
   ],
   "source": [
    "df.loc['a', 'A']"
   ]
  },
  {
   "cell_type": "markdown",
   "id": "3a61d989-edd6-4450-a43b-d4226beabc3a",
   "metadata": {},
   "source": [
    "인덱싱 값으로 슬라이싱 또는 리스트를 이용할 수 있다."
   ]
  },
  {
   "cell_type": "code",
   "execution_count": 117,
   "id": "f925e99b-4c55-49c3-8c46-643876edffbe",
   "metadata": {},
   "outputs": [
    {
     "data": {
      "text/html": [
       "<div>\n",
       "<style scoped>\n",
       "    .dataframe tbody tr th:only-of-type {\n",
       "        vertical-align: middle;\n",
       "    }\n",
       "\n",
       "    .dataframe tbody tr th {\n",
       "        vertical-align: top;\n",
       "    }\n",
       "\n",
       "    .dataframe thead th {\n",
       "        text-align: right;\n",
       "    }\n",
       "</style>\n",
       "<table border=\"1\" class=\"dataframe\">\n",
       "  <thead>\n",
       "    <tr style=\"text-align: right;\">\n",
       "      <th></th>\n",
       "      <th>A</th>\n",
       "      <th>B</th>\n",
       "      <th>C</th>\n",
       "      <th>D</th>\n",
       "      <th>E</th>\n",
       "    </tr>\n",
       "  </thead>\n",
       "  <tbody>\n",
       "    <tr>\n",
       "      <th>a</th>\n",
       "      <td>16</td>\n",
       "      <td>13</td>\n",
       "      <td>11</td>\n",
       "      <td>19</td>\n",
       "      <td>18</td>\n",
       "    </tr>\n",
       "    <tr>\n",
       "      <th>b</th>\n",
       "      <td>14</td>\n",
       "      <td>14</td>\n",
       "      <td>13</td>\n",
       "      <td>15</td>\n",
       "      <td>17</td>\n",
       "    </tr>\n",
       "    <tr>\n",
       "      <th>c</th>\n",
       "      <td>20</td>\n",
       "      <td>13</td>\n",
       "      <td>18</td>\n",
       "      <td>20</td>\n",
       "      <td>16</td>\n",
       "    </tr>\n",
       "    <tr>\n",
       "      <th>d</th>\n",
       "      <td>18</td>\n",
       "      <td>21</td>\n",
       "      <td>16</td>\n",
       "      <td>13</td>\n",
       "      <td>21</td>\n",
       "    </tr>\n",
       "  </tbody>\n",
       "</table>\n",
       "</div>"
      ],
      "text/plain": [
       "    A   B   C   D   E\n",
       "a  16  13  11  19  18\n",
       "b  14  14  13  15  17\n",
       "c  20  13  18  20  16\n",
       "d  18  21  16  13  21"
      ]
     },
     "execution_count": 117,
     "metadata": {},
     "output_type": "execute_result"
    }
   ],
   "source": [
    "df"
   ]
  },
  {
   "cell_type": "code",
   "execution_count": 118,
   "id": "63067fa7-9664-4086-a04f-9d5ee3632d86",
   "metadata": {},
   "outputs": [
    {
     "data": {
      "text/html": [
       "<div>\n",
       "<style scoped>\n",
       "    .dataframe tbody tr th:only-of-type {\n",
       "        vertical-align: middle;\n",
       "    }\n",
       "\n",
       "    .dataframe tbody tr th {\n",
       "        vertical-align: top;\n",
       "    }\n",
       "\n",
       "    .dataframe thead th {\n",
       "        text-align: right;\n",
       "    }\n",
       "</style>\n",
       "<table border=\"1\" class=\"dataframe\">\n",
       "  <thead>\n",
       "    <tr style=\"text-align: right;\">\n",
       "      <th></th>\n",
       "      <th>C</th>\n",
       "      <th>D</th>\n",
       "      <th>E</th>\n",
       "    </tr>\n",
       "  </thead>\n",
       "  <tbody>\n",
       "    <tr>\n",
       "      <th>a</th>\n",
       "      <td>11</td>\n",
       "      <td>19</td>\n",
       "      <td>18</td>\n",
       "    </tr>\n",
       "    <tr>\n",
       "      <th>b</th>\n",
       "      <td>13</td>\n",
       "      <td>15</td>\n",
       "      <td>17</td>\n",
       "    </tr>\n",
       "  </tbody>\n",
       "</table>\n",
       "</div>"
      ],
      "text/plain": [
       "    C   D   E\n",
       "a  11  19  18\n",
       "b  13  15  17"
      ]
     },
     "execution_count": 118,
     "metadata": {},
     "output_type": "execute_result"
    }
   ],
   "source": [
    "df.loc[['a', 'b'], 'C':'E']"
   ]
  },
  {
   "cell_type": "markdown",
   "id": "799efa1c-1f75-47d9-a2b2-84d45bc58945",
   "metadata": {},
   "source": [
    "조건문도 가능하다."
   ]
  },
  {
   "cell_type": "code",
   "execution_count": 119,
   "id": "057cd6af-b7b6-4ac9-858e-fea403dbed53",
   "metadata": {},
   "outputs": [
    {
     "data": {
      "text/html": [
       "<div>\n",
       "<style scoped>\n",
       "    .dataframe tbody tr th:only-of-type {\n",
       "        vertical-align: middle;\n",
       "    }\n",
       "\n",
       "    .dataframe tbody tr th {\n",
       "        vertical-align: top;\n",
       "    }\n",
       "\n",
       "    .dataframe thead th {\n",
       "        text-align: right;\n",
       "    }\n",
       "</style>\n",
       "<table border=\"1\" class=\"dataframe\">\n",
       "  <thead>\n",
       "    <tr style=\"text-align: right;\">\n",
       "      <th></th>\n",
       "      <th>A</th>\n",
       "      <th>B</th>\n",
       "      <th>C</th>\n",
       "      <th>D</th>\n",
       "      <th>E</th>\n",
       "    </tr>\n",
       "  </thead>\n",
       "  <tbody>\n",
       "    <tr>\n",
       "      <th>a</th>\n",
       "      <td>16</td>\n",
       "      <td>13</td>\n",
       "      <td>11</td>\n",
       "      <td>19</td>\n",
       "      <td>18</td>\n",
       "    </tr>\n",
       "    <tr>\n",
       "      <th>b</th>\n",
       "      <td>14</td>\n",
       "      <td>14</td>\n",
       "      <td>13</td>\n",
       "      <td>15</td>\n",
       "      <td>17</td>\n",
       "    </tr>\n",
       "    <tr>\n",
       "      <th>c</th>\n",
       "      <td>20</td>\n",
       "      <td>13</td>\n",
       "      <td>18</td>\n",
       "      <td>20</td>\n",
       "      <td>16</td>\n",
       "    </tr>\n",
       "    <tr>\n",
       "      <th>d</th>\n",
       "      <td>18</td>\n",
       "      <td>21</td>\n",
       "      <td>16</td>\n",
       "      <td>13</td>\n",
       "      <td>21</td>\n",
       "    </tr>\n",
       "  </tbody>\n",
       "</table>\n",
       "</div>"
      ],
      "text/plain": [
       "    A   B   C   D   E\n",
       "a  16  13  11  19  18\n",
       "b  14  14  13  15  17\n",
       "c  20  13  18  20  16\n",
       "d  18  21  16  13  21"
      ]
     },
     "execution_count": 119,
     "metadata": {},
     "output_type": "execute_result"
    }
   ],
   "source": [
    "df"
   ]
  },
  {
   "cell_type": "code",
   "execution_count": 120,
   "id": "c779183a-2bfa-4e07-aa81-7b79682b0634",
   "metadata": {},
   "outputs": [
    {
     "data": {
      "text/html": [
       "<div>\n",
       "<style scoped>\n",
       "    .dataframe tbody tr th:only-of-type {\n",
       "        vertical-align: middle;\n",
       "    }\n",
       "\n",
       "    .dataframe tbody tr th {\n",
       "        vertical-align: top;\n",
       "    }\n",
       "\n",
       "    .dataframe thead th {\n",
       "        text-align: right;\n",
       "    }\n",
       "</style>\n",
       "<table border=\"1\" class=\"dataframe\">\n",
       "  <thead>\n",
       "    <tr style=\"text-align: right;\">\n",
       "      <th></th>\n",
       "      <th>C</th>\n",
       "      <th>D</th>\n",
       "    </tr>\n",
       "  </thead>\n",
       "  <tbody>\n",
       "    <tr>\n",
       "      <th>a</th>\n",
       "      <td>11</td>\n",
       "      <td>19</td>\n",
       "    </tr>\n",
       "    <tr>\n",
       "      <th>b</th>\n",
       "      <td>13</td>\n",
       "      <td>15</td>\n",
       "    </tr>\n",
       "    <tr>\n",
       "      <th>c</th>\n",
       "      <td>18</td>\n",
       "      <td>20</td>\n",
       "    </tr>\n",
       "    <tr>\n",
       "      <th>d</th>\n",
       "      <td>16</td>\n",
       "      <td>13</td>\n",
       "    </tr>\n",
       "  </tbody>\n",
       "</table>\n",
       "</div>"
      ],
      "text/plain": [
       "    C   D\n",
       "a  11  19\n",
       "b  13  15\n",
       "c  18  20\n",
       "d  16  13"
      ]
     },
     "execution_count": 120,
     "metadata": {},
     "output_type": "execute_result"
    }
   ],
   "source": [
    "df.loc[df.A>10, ['C', 'D']]"
   ]
  },
  {
   "cell_type": "markdown",
   "id": "e51624b7-7ff3-49fb-ae7e-5288510d3ca4",
   "metadata": {},
   "source": [
    "##### b-4) df.iloc"
   ]
  },
  {
   "cell_type": "markdown",
   "id": "b4e902d0-901c-413e-9d34-07a4950479fb",
   "metadata": {},
   "source": [
    "iloc은 loc과 다르게 정수(integer)만 입력할 수 있다. 허용되는 input은 다음과 같다.\n",
    "* An integer\n",
    "* A list of integers\n",
    "* A slice\n",
    "* A boolean array\n",
    "\n",
    "loc과 마찬가지로 인덱스가 하나만 들어가면 행을 선택한다."
   ]
  },
  {
   "cell_type": "code",
   "execution_count": 121,
   "id": "65d0f07f-547b-4635-98f0-1021540e27c8",
   "metadata": {},
   "outputs": [
    {
     "data": {
      "text/html": [
       "<div>\n",
       "<style scoped>\n",
       "    .dataframe tbody tr th:only-of-type {\n",
       "        vertical-align: middle;\n",
       "    }\n",
       "\n",
       "    .dataframe tbody tr th {\n",
       "        vertical-align: top;\n",
       "    }\n",
       "\n",
       "    .dataframe thead th {\n",
       "        text-align: right;\n",
       "    }\n",
       "</style>\n",
       "<table border=\"1\" class=\"dataframe\">\n",
       "  <thead>\n",
       "    <tr style=\"text-align: right;\">\n",
       "      <th></th>\n",
       "      <th>A</th>\n",
       "      <th>B</th>\n",
       "      <th>C</th>\n",
       "      <th>D</th>\n",
       "      <th>E</th>\n",
       "    </tr>\n",
       "  </thead>\n",
       "  <tbody>\n",
       "    <tr>\n",
       "      <th>a</th>\n",
       "      <td>16</td>\n",
       "      <td>13</td>\n",
       "      <td>11</td>\n",
       "      <td>19</td>\n",
       "      <td>18</td>\n",
       "    </tr>\n",
       "    <tr>\n",
       "      <th>b</th>\n",
       "      <td>14</td>\n",
       "      <td>14</td>\n",
       "      <td>13</td>\n",
       "      <td>15</td>\n",
       "      <td>17</td>\n",
       "    </tr>\n",
       "    <tr>\n",
       "      <th>c</th>\n",
       "      <td>20</td>\n",
       "      <td>13</td>\n",
       "      <td>18</td>\n",
       "      <td>20</td>\n",
       "      <td>16</td>\n",
       "    </tr>\n",
       "    <tr>\n",
       "      <th>d</th>\n",
       "      <td>18</td>\n",
       "      <td>21</td>\n",
       "      <td>16</td>\n",
       "      <td>13</td>\n",
       "      <td>21</td>\n",
       "    </tr>\n",
       "  </tbody>\n",
       "</table>\n",
       "</div>"
      ],
      "text/plain": [
       "    A   B   C   D   E\n",
       "a  16  13  11  19  18\n",
       "b  14  14  13  15  17\n",
       "c  20  13  18  20  16\n",
       "d  18  21  16  13  21"
      ]
     },
     "execution_count": 121,
     "metadata": {},
     "output_type": "execute_result"
    }
   ],
   "source": [
    "df"
   ]
  },
  {
   "cell_type": "code",
   "execution_count": 122,
   "id": "85b370e2-2628-410b-a0d2-c56c5feff255",
   "metadata": {},
   "outputs": [
    {
     "data": {
      "text/plain": [
       "A    14\n",
       "B    14\n",
       "C    13\n",
       "D    15\n",
       "E    17\n",
       "Name: b, dtype: int32"
      ]
     },
     "execution_count": 122,
     "metadata": {},
     "output_type": "execute_result"
    }
   ],
   "source": [
    "df.iloc[1]"
   ]
  },
  {
   "cell_type": "code",
   "execution_count": 123,
   "id": "f5fb0a54-ac24-467c-b772-47d17bf5446a",
   "metadata": {},
   "outputs": [
    {
     "data": {
      "text/html": [
       "<div>\n",
       "<style scoped>\n",
       "    .dataframe tbody tr th:only-of-type {\n",
       "        vertical-align: middle;\n",
       "    }\n",
       "\n",
       "    .dataframe tbody tr th {\n",
       "        vertical-align: top;\n",
       "    }\n",
       "\n",
       "    .dataframe thead th {\n",
       "        text-align: right;\n",
       "    }\n",
       "</style>\n",
       "<table border=\"1\" class=\"dataframe\">\n",
       "  <thead>\n",
       "    <tr style=\"text-align: right;\">\n",
       "      <th></th>\n",
       "      <th>A</th>\n",
       "      <th>B</th>\n",
       "      <th>C</th>\n",
       "      <th>D</th>\n",
       "      <th>E</th>\n",
       "    </tr>\n",
       "  </thead>\n",
       "  <tbody>\n",
       "    <tr>\n",
       "      <th>a</th>\n",
       "      <td>16</td>\n",
       "      <td>13</td>\n",
       "      <td>11</td>\n",
       "      <td>19</td>\n",
       "      <td>18</td>\n",
       "    </tr>\n",
       "    <tr>\n",
       "      <th>b</th>\n",
       "      <td>14</td>\n",
       "      <td>14</td>\n",
       "      <td>13</td>\n",
       "      <td>15</td>\n",
       "      <td>17</td>\n",
       "    </tr>\n",
       "    <tr>\n",
       "      <th>c</th>\n",
       "      <td>20</td>\n",
       "      <td>13</td>\n",
       "      <td>18</td>\n",
       "      <td>20</td>\n",
       "      <td>16</td>\n",
       "    </tr>\n",
       "    <tr>\n",
       "      <th>d</th>\n",
       "      <td>18</td>\n",
       "      <td>21</td>\n",
       "      <td>16</td>\n",
       "      <td>13</td>\n",
       "      <td>21</td>\n",
       "    </tr>\n",
       "  </tbody>\n",
       "</table>\n",
       "</div>"
      ],
      "text/plain": [
       "    A   B   C   D   E\n",
       "a  16  13  11  19  18\n",
       "b  14  14  13  15  17\n",
       "c  20  13  18  20  16\n",
       "d  18  21  16  13  21"
      ]
     },
     "execution_count": 123,
     "metadata": {},
     "output_type": "execute_result"
    }
   ],
   "source": [
    "df"
   ]
  },
  {
   "cell_type": "code",
   "execution_count": 124,
   "id": "a0398a27-3766-47fa-842b-785f21d01cdc",
   "metadata": {},
   "outputs": [
    {
     "data": {
      "text/plain": [
       "a    11\n",
       "b    13\n",
       "Name: C, dtype: int32"
      ]
     },
     "execution_count": 124,
     "metadata": {},
     "output_type": "execute_result"
    }
   ],
   "source": [
    "df.iloc[:2, 2]"
   ]
  },
  {
   "cell_type": "markdown",
   "id": "6fec3c6f-7a24-4cff-81c9-803f86a287bd",
   "metadata": {},
   "source": [
    "#### c) DataFrame method"
   ]
  },
  {
   "cell_type": "code",
   "execution_count": 125,
   "id": "a9ddb457-730c-4eff-8fcf-9e0f592a9577",
   "metadata": {},
   "outputs": [
    {
     "name": "stdout",
     "output_type": "stream",
     "text": [
      "A    4\n",
      "B    4\n",
      "C    4\n",
      "D    4\n",
      "E    4\n",
      "dtype: int64\n",
      "a    5\n",
      "b    5\n",
      "c    5\n",
      "d    5\n",
      "dtype: int64\n"
     ]
    }
   ],
   "source": [
    "print(df.count(axis=0)) ## 각 열의 행 개수\n",
    "print(df.count(axis=1)) ## 각 행의 열 개수"
   ]
  },
  {
   "cell_type": "code",
   "execution_count": 126,
   "id": "4c393c99-0f3d-4c1b-ae47-5d7b13094f94",
   "metadata": {},
   "outputs": [
    {
     "data": {
      "text/plain": [
       "(4, 5)"
      ]
     },
     "execution_count": 126,
     "metadata": {},
     "output_type": "execute_result"
    }
   ],
   "source": [
    "df.shape"
   ]
  },
  {
   "cell_type": "markdown",
   "id": "89407b09-0cd6-416f-b568-d3f561c774f9",
   "metadata": {},
   "source": [
    "R에서의 summary 함수는 컬럼 별 통계량을 반환하여 데이터의 구조를 파악하는 데 유용하다. 파이썬에서의 동일한 함수는 pandas의 describe 함수이다."
   ]
  },
  {
   "cell_type": "code",
   "execution_count": 127,
   "id": "467912b1-6969-4471-a09a-faf4bb5f3d50",
   "metadata": {},
   "outputs": [
    {
     "data": {
      "text/html": [
       "<div>\n",
       "<style scoped>\n",
       "    .dataframe tbody tr th:only-of-type {\n",
       "        vertical-align: middle;\n",
       "    }\n",
       "\n",
       "    .dataframe tbody tr th {\n",
       "        vertical-align: top;\n",
       "    }\n",
       "\n",
       "    .dataframe thead th {\n",
       "        text-align: right;\n",
       "    }\n",
       "</style>\n",
       "<table border=\"1\" class=\"dataframe\">\n",
       "  <thead>\n",
       "    <tr style=\"text-align: right;\">\n",
       "      <th></th>\n",
       "      <th>A</th>\n",
       "      <th>B</th>\n",
       "      <th>C</th>\n",
       "      <th>D</th>\n",
       "      <th>E</th>\n",
       "    </tr>\n",
       "  </thead>\n",
       "  <tbody>\n",
       "    <tr>\n",
       "      <th>count</th>\n",
       "      <td>4.000000</td>\n",
       "      <td>4.00000</td>\n",
       "      <td>4.000000</td>\n",
       "      <td>4.000000</td>\n",
       "      <td>4.000000</td>\n",
       "    </tr>\n",
       "    <tr>\n",
       "      <th>mean</th>\n",
       "      <td>17.000000</td>\n",
       "      <td>15.25000</td>\n",
       "      <td>14.500000</td>\n",
       "      <td>16.750000</td>\n",
       "      <td>18.000000</td>\n",
       "    </tr>\n",
       "    <tr>\n",
       "      <th>std</th>\n",
       "      <td>2.581989</td>\n",
       "      <td>3.86221</td>\n",
       "      <td>3.109126</td>\n",
       "      <td>3.304038</td>\n",
       "      <td>2.160247</td>\n",
       "    </tr>\n",
       "    <tr>\n",
       "      <th>min</th>\n",
       "      <td>14.000000</td>\n",
       "      <td>13.00000</td>\n",
       "      <td>11.000000</td>\n",
       "      <td>13.000000</td>\n",
       "      <td>16.000000</td>\n",
       "    </tr>\n",
       "    <tr>\n",
       "      <th>25%</th>\n",
       "      <td>15.500000</td>\n",
       "      <td>13.00000</td>\n",
       "      <td>12.500000</td>\n",
       "      <td>14.500000</td>\n",
       "      <td>16.750000</td>\n",
       "    </tr>\n",
       "    <tr>\n",
       "      <th>50%</th>\n",
       "      <td>17.000000</td>\n",
       "      <td>13.50000</td>\n",
       "      <td>14.500000</td>\n",
       "      <td>17.000000</td>\n",
       "      <td>17.500000</td>\n",
       "    </tr>\n",
       "    <tr>\n",
       "      <th>75%</th>\n",
       "      <td>18.500000</td>\n",
       "      <td>15.75000</td>\n",
       "      <td>16.500000</td>\n",
       "      <td>19.250000</td>\n",
       "      <td>18.750000</td>\n",
       "    </tr>\n",
       "    <tr>\n",
       "      <th>max</th>\n",
       "      <td>20.000000</td>\n",
       "      <td>21.00000</td>\n",
       "      <td>18.000000</td>\n",
       "      <td>20.000000</td>\n",
       "      <td>21.000000</td>\n",
       "    </tr>\n",
       "  </tbody>\n",
       "</table>\n",
       "</div>"
      ],
      "text/plain": [
       "               A         B          C          D          E\n",
       "count   4.000000   4.00000   4.000000   4.000000   4.000000\n",
       "mean   17.000000  15.25000  14.500000  16.750000  18.000000\n",
       "std     2.581989   3.86221   3.109126   3.304038   2.160247\n",
       "min    14.000000  13.00000  11.000000  13.000000  16.000000\n",
       "25%    15.500000  13.00000  12.500000  14.500000  16.750000\n",
       "50%    17.000000  13.50000  14.500000  17.000000  17.500000\n",
       "75%    18.500000  15.75000  16.500000  19.250000  18.750000\n",
       "max    20.000000  21.00000  18.000000  20.000000  21.000000"
      ]
     },
     "execution_count": 127,
     "metadata": {},
     "output_type": "execute_result"
    }
   ],
   "source": [
    "df.describe()"
   ]
  },
  {
   "cell_type": "markdown",
   "id": "d6997f26-b7fa-447b-b471-ddef8db03490",
   "metadata": {},
   "source": [
    "## 4. File I/O"
   ]
  },
  {
   "cell_type": "markdown",
   "id": "f84bd4b6-a19c-4157-a385-26ecf83bb933",
   "metadata": {},
   "source": [
    "Pandas는 데이터 파일을 읽어 데이터프레임을 만들 수 있다. 다음처럼 여러 가지 포맷을 지원한다.\n",
    "* CSV\n",
    "* Excel\n",
    "* HTML\n",
    "* JSOON\n",
    "* HDF5\n",
    "* SAS\n",
    "* STATA\n",
    "* SQSL\n",
    "\n",
    "널리 사용되는 파일 형식은 CSV(Comma Separated Value), excel, sql 등이 있으며 import-output function은 다음과 같다.\n",
    "* pd.read_csv/pd.read_csv\n",
    "* pd.read_excel/pd.to_excel\n",
    "* pd.read_sql/pd.ro_sql\n",
    "\n",
    "다음은 셀에 서술한 내용대로 텍스트 파일을 만드는 명령어이다."
   ]
  },
  {
   "cell_type": "code",
   "execution_count": 128,
   "id": "8a811be6-67c3-4a9f-8b94-bf30b347c6a0",
   "metadata": {},
   "outputs": [
    {
     "name": "stdout",
     "output_type": "stream",
     "text": [
      "Overwriting sample1.csv\n"
     ]
    }
   ],
   "source": [
    "%%writefile sample1.csv\n",
    "c1, c2, c3\n",
    "1, 1.11, one\n",
    "2, 2.22, two\n",
    "3, 3.33, three"
   ]
  },
  {
   "cell_type": "markdown",
   "id": "12caccf4-acd2-4e3d-abd7-3ff65fa19eb4",
   "metadata": {},
   "source": [
    "### 1) File import"
   ]
  },
  {
   "cell_type": "markdown",
   "id": "2702e78a-0d07-4b36-a8df-9a73796e83a6",
   "metadata": {},
   "source": [
    "CSV 파일로부터 데이터를 읽어 데이터프레임을 만들 때는 pandas.read_csv 함수를 사용한다. 이때, 작업 중인 폴더에 파일을 복사해두고 함수의 입력값으로 파일 이름을 넣는다."
   ]
  },
  {
   "cell_type": "code",
   "execution_count": 129,
   "id": "18308a3a-0c83-4297-b350-9b6c8715658a",
   "metadata": {},
   "outputs": [
    {
     "data": {
      "text/html": [
       "<div>\n",
       "<style scoped>\n",
       "    .dataframe tbody tr th:only-of-type {\n",
       "        vertical-align: middle;\n",
       "    }\n",
       "\n",
       "    .dataframe tbody tr th {\n",
       "        vertical-align: top;\n",
       "    }\n",
       "\n",
       "    .dataframe thead th {\n",
       "        text-align: right;\n",
       "    }\n",
       "</style>\n",
       "<table border=\"1\" class=\"dataframe\">\n",
       "  <thead>\n",
       "    <tr style=\"text-align: right;\">\n",
       "      <th></th>\n",
       "      <th>c1</th>\n",
       "      <th>c2</th>\n",
       "      <th>c3</th>\n",
       "    </tr>\n",
       "  </thead>\n",
       "  <tbody>\n",
       "    <tr>\n",
       "      <th>0</th>\n",
       "      <td>1</td>\n",
       "      <td>1.11</td>\n",
       "      <td>one</td>\n",
       "    </tr>\n",
       "    <tr>\n",
       "      <th>1</th>\n",
       "      <td>2</td>\n",
       "      <td>2.22</td>\n",
       "      <td>two</td>\n",
       "    </tr>\n",
       "    <tr>\n",
       "      <th>2</th>\n",
       "      <td>3</td>\n",
       "      <td>3.33</td>\n",
       "      <td>three</td>\n",
       "    </tr>\n",
       "  </tbody>\n",
       "</table>\n",
       "</div>"
      ],
      "text/plain": [
       "   c1    c2      c3\n",
       "0   1  1.11     one\n",
       "1   2  2.22     two\n",
       "2   3  3.33   three"
      ]
     },
     "execution_count": 129,
     "metadata": {},
     "output_type": "execute_result"
    }
   ],
   "source": [
    "import pandas as pd\n",
    "\n",
    "pd.read_csv('sample1.csv')"
   ]
  },
  {
   "cell_type": "markdown",
   "id": "2bfbecbd-66cb-436f-8569-c217a62f5131",
   "metadata": {},
   "source": [
    "파일 경로를 입력하여 파일을 불러올 수 있다."
   ]
  },
  {
   "cell_type": "code",
   "execution_count": 130,
   "id": "d7e16e4f-7fa4-40d9-bf37-69412247b05e",
   "metadata": {},
   "outputs": [
    {
     "data": {
      "text/html": [
       "<div>\n",
       "<style scoped>\n",
       "    .dataframe tbody tr th:only-of-type {\n",
       "        vertical-align: middle;\n",
       "    }\n",
       "\n",
       "    .dataframe tbody tr th {\n",
       "        vertical-align: top;\n",
       "    }\n",
       "\n",
       "    .dataframe thead th {\n",
       "        text-align: right;\n",
       "    }\n",
       "</style>\n",
       "<table border=\"1\" class=\"dataframe\">\n",
       "  <thead>\n",
       "    <tr style=\"text-align: right;\">\n",
       "      <th></th>\n",
       "      <th>c1</th>\n",
       "      <th>c2</th>\n",
       "      <th>c3</th>\n",
       "    </tr>\n",
       "  </thead>\n",
       "  <tbody>\n",
       "    <tr>\n",
       "      <th>0</th>\n",
       "      <td>1</td>\n",
       "      <td>1.11</td>\n",
       "      <td>one</td>\n",
       "    </tr>\n",
       "    <tr>\n",
       "      <th>1</th>\n",
       "      <td>2</td>\n",
       "      <td>2.22</td>\n",
       "      <td>two</td>\n",
       "    </tr>\n",
       "    <tr>\n",
       "      <th>2</th>\n",
       "      <td>3</td>\n",
       "      <td>3.33</td>\n",
       "      <td>three</td>\n",
       "    </tr>\n",
       "  </tbody>\n",
       "</table>\n",
       "</div>"
      ],
      "text/plain": [
       "   c1    c2      c3\n",
       "0   1  1.11     one\n",
       "1   2  2.22     two\n",
       "2   3  3.33   three"
      ]
     },
     "execution_count": 130,
     "metadata": {},
     "output_type": "execute_result"
    }
   ],
   "source": [
    "data=pd.read_csv('sample1.csv')\n",
    "data"
   ]
  },
  {
   "cell_type": "markdown",
   "id": "4d691a54-c1a4-4fc4-adb3-5920cae50a6b",
   "metadata": {},
   "source": [
    "확장자가 CSV가 아닌 파일 즉, 데이터를 구분하는 구분자가 쉼표가 아닌 예시를 보자. 길이가 정해지지 않은 공백이 구분자인 경우, sep='\\s+' 정규식(regular expression) 문자열을 사용한다."
   ]
  },
  {
   "cell_type": "code",
   "execution_count": 131,
   "id": "37e39cfc-2fe6-41e4-bc47-69af552dfed6",
   "metadata": {},
   "outputs": [
    {
     "name": "stdout",
     "output_type": "stream",
     "text": [
      "Overwriting sample2.txt\n"
     ]
    }
   ],
   "source": [
    "%%writefile sample2.txt\n",
    "c1     c2     c3     c4\n",
    "0.179181  -1.538472  1.347553  0.43381\n",
    "1.024209 0.087307  -1.281997 0.49265\n",
    "0.417899  -2.002308 0.255245  -1.10515"
   ]
  },
  {
   "cell_type": "code",
   "execution_count": 132,
   "id": "f0b0fc46-a218-4233-8c3a-330bb3ad404f",
   "metadata": {},
   "outputs": [
    {
     "data": {
      "text/html": [
       "<div>\n",
       "<style scoped>\n",
       "    .dataframe tbody tr th:only-of-type {\n",
       "        vertical-align: middle;\n",
       "    }\n",
       "\n",
       "    .dataframe tbody tr th {\n",
       "        vertical-align: top;\n",
       "    }\n",
       "\n",
       "    .dataframe thead th {\n",
       "        text-align: right;\n",
       "    }\n",
       "</style>\n",
       "<table border=\"1\" class=\"dataframe\">\n",
       "  <thead>\n",
       "    <tr style=\"text-align: right;\">\n",
       "      <th></th>\n",
       "      <th>c1</th>\n",
       "      <th>c2</th>\n",
       "      <th>c3</th>\n",
       "      <th>c4</th>\n",
       "    </tr>\n",
       "  </thead>\n",
       "  <tbody>\n",
       "    <tr>\n",
       "      <th>0</th>\n",
       "      <td>0.179181</td>\n",
       "      <td>-1.538472</td>\n",
       "      <td>1.347553</td>\n",
       "      <td>0.43381</td>\n",
       "    </tr>\n",
       "    <tr>\n",
       "      <th>1</th>\n",
       "      <td>1.024209</td>\n",
       "      <td>0.087307</td>\n",
       "      <td>-1.281997</td>\n",
       "      <td>0.49265</td>\n",
       "    </tr>\n",
       "    <tr>\n",
       "      <th>2</th>\n",
       "      <td>0.417899</td>\n",
       "      <td>-2.002308</td>\n",
       "      <td>0.255245</td>\n",
       "      <td>-1.10515</td>\n",
       "    </tr>\n",
       "  </tbody>\n",
       "</table>\n",
       "</div>"
      ],
      "text/plain": [
       "         c1        c2        c3       c4\n",
       "0  0.179181 -1.538472  1.347553  0.43381\n",
       "1  1.024209  0.087307 -1.281997  0.49265\n",
       "2  0.417899 -2.002308  0.255245 -1.10515"
      ]
     },
     "execution_count": 132,
     "metadata": {},
     "output_type": "execute_result"
    }
   ],
   "source": [
    "pd.read_csv('sample2.txt', sep='\\s+')"
   ]
  },
  {
   "cell_type": "markdown",
   "id": "c23f5fb8-2dc5-4f47-b2b0-4fae98eac264",
   "metadata": {},
   "source": [
    "### 2) File output"
   ]
  },
  {
   "cell_type": "markdown",
   "id": "030dc370-4a0b-4109-bfc5-b273b6d74303",
   "metadata": {},
   "source": [
    "지금까지와 반대로 파이썬의 데이터프레임 값을 CSV 파일로 출력하고 싶으면 to_csv 메서드를 사용한다."
   ]
  },
  {
   "cell_type": "code",
   "execution_count": 133,
   "id": "6323c65e-eceb-4a87-9c35-64c4b3453e22",
   "metadata": {},
   "outputs": [
    {
     "data": {
      "text/html": [
       "<div>\n",
       "<style scoped>\n",
       "    .dataframe tbody tr th:only-of-type {\n",
       "        vertical-align: middle;\n",
       "    }\n",
       "\n",
       "    .dataframe tbody tr th {\n",
       "        vertical-align: top;\n",
       "    }\n",
       "\n",
       "    .dataframe thead th {\n",
       "        text-align: right;\n",
       "    }\n",
       "</style>\n",
       "<table border=\"1\" class=\"dataframe\">\n",
       "  <thead>\n",
       "    <tr style=\"text-align: right;\">\n",
       "      <th></th>\n",
       "      <th>A</th>\n",
       "      <th>B</th>\n",
       "      <th>C</th>\n",
       "      <th>D</th>\n",
       "      <th>E</th>\n",
       "    </tr>\n",
       "  </thead>\n",
       "  <tbody>\n",
       "    <tr>\n",
       "      <th>a</th>\n",
       "      <td>16</td>\n",
       "      <td>13</td>\n",
       "      <td>11</td>\n",
       "      <td>19</td>\n",
       "      <td>18</td>\n",
       "    </tr>\n",
       "    <tr>\n",
       "      <th>b</th>\n",
       "      <td>14</td>\n",
       "      <td>14</td>\n",
       "      <td>13</td>\n",
       "      <td>15</td>\n",
       "      <td>17</td>\n",
       "    </tr>\n",
       "    <tr>\n",
       "      <th>c</th>\n",
       "      <td>20</td>\n",
       "      <td>13</td>\n",
       "      <td>18</td>\n",
       "      <td>20</td>\n",
       "      <td>16</td>\n",
       "    </tr>\n",
       "    <tr>\n",
       "      <th>d</th>\n",
       "      <td>18</td>\n",
       "      <td>21</td>\n",
       "      <td>16</td>\n",
       "      <td>13</td>\n",
       "      <td>21</td>\n",
       "    </tr>\n",
       "  </tbody>\n",
       "</table>\n",
       "</div>"
      ],
      "text/plain": [
       "    A   B   C   D   E\n",
       "a  16  13  11  19  18\n",
       "b  14  14  13  15  17\n",
       "c  20  13  18  20  16\n",
       "d  18  21  16  13  21"
      ]
     },
     "execution_count": 133,
     "metadata": {},
     "output_type": "execute_result"
    }
   ],
   "source": [
    "df"
   ]
  },
  {
   "cell_type": "code",
   "execution_count": 134,
   "id": "91a9f5af-b595-4789-9e67-f0b05902489c",
   "metadata": {},
   "outputs": [],
   "source": [
    "df.to_csv('sample3.csv')"
   ]
  },
  {
   "cell_type": "code",
   "execution_count": 135,
   "id": "a2b26d88-7d1b-4b5d-80bb-0d7eeba5d431",
   "metadata": {},
   "outputs": [
    {
     "name": "stdout",
     "output_type": "stream",
     "text": [
      ",A,B,C,D,E\n",
      "a,16,13,11,19,18\n",
      "b,14,14,13,15,17\n",
      "c,20,13,18,20,16\n",
      "d,18,21,16,13,21\n"
     ]
    }
   ],
   "source": [
    "!type sample3.csv"
   ]
  },
  {
   "cell_type": "markdown",
   "id": "c547d44d-cff4-4109-b4a0-6a1e7cc34325",
   "metadata": {},
   "source": [
    "파일을 읽을 때와 마찬가지로 출력할 때도 sep 인수로 구분자를 바꿀 수 있다."
   ]
  },
  {
   "cell_type": "code",
   "execution_count": 136,
   "id": "5d1f079a-ae90-452b-adbf-a24c31c8d44a",
   "metadata": {},
   "outputs": [],
   "source": [
    "df.to_csv('sample4.txt', sep='|')"
   ]
  },
  {
   "cell_type": "code",
   "execution_count": 137,
   "id": "8e21da08-5282-4e4e-a37d-50df3e5701d5",
   "metadata": {},
   "outputs": [
    {
     "name": "stdout",
     "output_type": "stream",
     "text": [
      "|A|B|C|D|E\n",
      "a|16|13|11|19|18\n",
      "b|14|14|13|15|17\n",
      "c|20|13|18|20|16\n",
      "d|18|21|16|13|21\n"
     ]
    }
   ],
   "source": [
    "!type sample4.txt"
   ]
  },
  {
   "cell_type": "markdown",
   "id": "c279a722-1073-451a-9807-84175bb4b9c9",
   "metadata": {},
   "source": [
    "### 3) Load data from url"
   ]
  },
  {
   "cell_type": "markdown",
   "id": "6b1f2b9a-37be-49d6-bae6-4bfde7721c84",
   "metadata": {},
   "source": [
    "웹 상에는 다양한 파일이 CSV 파일 형태로 제공된다. read_csv 명령 사용 시 파일 패스 대신 URL을 지정하면 Pandas가 직접 해당 파일을 다운로드하여 읽어들인다."
   ]
  },
  {
   "cell_type": "code",
   "execution_count": 138,
   "id": "5cd301d2-996f-4c25-a5d8-b0d173bd985a",
   "metadata": {},
   "outputs": [
    {
     "data": {
      "text/html": [
       "<div>\n",
       "<style scoped>\n",
       "    .dataframe tbody tr th:only-of-type {\n",
       "        vertical-align: middle;\n",
       "    }\n",
       "\n",
       "    .dataframe tbody tr th {\n",
       "        vertical-align: top;\n",
       "    }\n",
       "\n",
       "    .dataframe thead th {\n",
       "        text-align: right;\n",
       "    }\n",
       "</style>\n",
       "<table border=\"1\" class=\"dataframe\">\n",
       "  <thead>\n",
       "    <tr style=\"text-align: right;\">\n",
       "      <th></th>\n",
       "      <th>hsgpa</th>\n",
       "      <th>hsengl</th>\n",
       "      <th>hscalc</th>\n",
       "      <th>course</th>\n",
       "      <th>passed</th>\n",
       "      <th>outcome</th>\n",
       "    </tr>\n",
       "  </thead>\n",
       "  <tbody>\n",
       "    <tr>\n",
       "      <th>1</th>\n",
       "      <td>78.0</td>\n",
       "      <td>80</td>\n",
       "      <td>Yes</td>\n",
       "      <td>Mainstrm</td>\n",
       "      <td>No</td>\n",
       "      <td>Failed</td>\n",
       "    </tr>\n",
       "    <tr>\n",
       "      <th>2</th>\n",
       "      <td>66.0</td>\n",
       "      <td>75</td>\n",
       "      <td>Yes</td>\n",
       "      <td>Mainstrm</td>\n",
       "      <td>Yes</td>\n",
       "      <td>Passed</td>\n",
       "    </tr>\n",
       "    <tr>\n",
       "      <th>3</th>\n",
       "      <td>80.2</td>\n",
       "      <td>70</td>\n",
       "      <td>Yes</td>\n",
       "      <td>Mainstrm</td>\n",
       "      <td>Yes</td>\n",
       "      <td>Passed</td>\n",
       "    </tr>\n",
       "    <tr>\n",
       "      <th>4</th>\n",
       "      <td>81.7</td>\n",
       "      <td>67</td>\n",
       "      <td>Yes</td>\n",
       "      <td>Mainstrm</td>\n",
       "      <td>Yes</td>\n",
       "      <td>Passed</td>\n",
       "    </tr>\n",
       "    <tr>\n",
       "      <th>5</th>\n",
       "      <td>86.8</td>\n",
       "      <td>80</td>\n",
       "      <td>Yes</td>\n",
       "      <td>Mainstrm</td>\n",
       "      <td>Yes</td>\n",
       "      <td>Passed</td>\n",
       "    </tr>\n",
       "    <tr>\n",
       "      <th>...</th>\n",
       "      <td>...</td>\n",
       "      <td>...</td>\n",
       "      <td>...</td>\n",
       "      <td>...</td>\n",
       "      <td>...</td>\n",
       "      <td>...</td>\n",
       "    </tr>\n",
       "    <tr>\n",
       "      <th>390</th>\n",
       "      <td>88.3</td>\n",
       "      <td>90</td>\n",
       "      <td>Yes</td>\n",
       "      <td>Mainstrm</td>\n",
       "      <td>Yes</td>\n",
       "      <td>Passed</td>\n",
       "    </tr>\n",
       "    <tr>\n",
       "      <th>391</th>\n",
       "      <td>77.0</td>\n",
       "      <td>79</td>\n",
       "      <td>Yes</td>\n",
       "      <td>Mainstrm</td>\n",
       "      <td>Yes</td>\n",
       "      <td>Passed</td>\n",
       "    </tr>\n",
       "    <tr>\n",
       "      <th>392</th>\n",
       "      <td>80.7</td>\n",
       "      <td>70</td>\n",
       "      <td>Yes</td>\n",
       "      <td>Mainstrm</td>\n",
       "      <td>Yes</td>\n",
       "      <td>Passed</td>\n",
       "    </tr>\n",
       "    <tr>\n",
       "      <th>393</th>\n",
       "      <td>80.7</td>\n",
       "      <td>81</td>\n",
       "      <td>Yes</td>\n",
       "      <td>Mainstrm</td>\n",
       "      <td>Yes</td>\n",
       "      <td>Passed</td>\n",
       "    </tr>\n",
       "    <tr>\n",
       "      <th>394</th>\n",
       "      <td>82.2</td>\n",
       "      <td>86</td>\n",
       "      <td>Yes</td>\n",
       "      <td>Catch-up</td>\n",
       "      <td>Yes</td>\n",
       "      <td>Passed</td>\n",
       "    </tr>\n",
       "  </tbody>\n",
       "</table>\n",
       "<p>394 rows × 6 columns</p>\n",
       "</div>"
      ],
      "text/plain": [
       "     hsgpa  hsengl hscalc    course passed outcome\n",
       "1     78.0      80    Yes  Mainstrm     No  Failed\n",
       "2     66.0      75    Yes  Mainstrm    Yes  Passed\n",
       "3     80.2      70    Yes  Mainstrm    Yes  Passed\n",
       "4     81.7      67    Yes  Mainstrm    Yes  Passed\n",
       "5     86.8      80    Yes  Mainstrm    Yes  Passed\n",
       "..     ...     ...    ...       ...    ...     ...\n",
       "390   88.3      90    Yes  Mainstrm    Yes  Passed\n",
       "391   77.0      79    Yes  Mainstrm    Yes  Passed\n",
       "392   80.7      70    Yes  Mainstrm    Yes  Passed\n",
       "393   80.7      81    Yes  Mainstrm    Yes  Passed\n",
       "394   82.2      86    Yes  Catch-up    Yes  Passed\n",
       "\n",
       "[394 rows x 6 columns]"
      ]
     },
     "execution_count": 138,
     "metadata": {},
     "output_type": "execute_result"
    }
   ],
   "source": [
    "math=pd.read_csv('http://home.ewha.ac.kr/~josong/dm/mathcat.data', sep='\\s+')\n",
    "math"
   ]
  },
  {
   "cell_type": "markdown",
   "id": "0dfcc56f-28f0-4f3f-9d0a-5e371312dd1b",
   "metadata": {},
   "source": [
    "### 4) Check data"
   ]
  },
  {
   "cell_type": "markdown",
   "id": "b185bf15-3f80-4278-9e88-7680a6582458",
   "metadata": {},
   "source": [
    "데이터의 수가 많을 경우, 데이터프레임을 보여줄 행과 열의 수를 지정할 수 있다."
   ]
  },
  {
   "cell_type": "code",
   "execution_count": 139,
   "id": "a99270f4-8ed1-4e32-a3b3-fcf97a61edc3",
   "metadata": {},
   "outputs": [
    {
     "data": {
      "text/plain": [
       "(394, 6)"
      ]
     },
     "execution_count": 139,
     "metadata": {},
     "output_type": "execute_result"
    }
   ],
   "source": [
    "math.shape ## 394개 데이터(행 수), 변수 6개(열 수)"
   ]
  },
  {
   "cell_type": "code",
   "execution_count": 140,
   "id": "fa4ebd49-92bf-42f2-b5ee-96f20610d6ef",
   "metadata": {},
   "outputs": [
    {
     "data": {
      "text/html": [
       "<div>\n",
       "<style scoped>\n",
       "    .dataframe tbody tr th:only-of-type {\n",
       "        vertical-align: middle;\n",
       "    }\n",
       "\n",
       "    .dataframe tbody tr th {\n",
       "        vertical-align: top;\n",
       "    }\n",
       "\n",
       "    .dataframe thead th {\n",
       "        text-align: right;\n",
       "    }\n",
       "</style>\n",
       "<table border=\"1\" class=\"dataframe\">\n",
       "  <thead>\n",
       "    <tr style=\"text-align: right;\">\n",
       "      <th></th>\n",
       "      <th>hsgpa</th>\n",
       "      <th>hsengl</th>\n",
       "      <th>hscalc</th>\n",
       "      <th>course</th>\n",
       "      <th>passed</th>\n",
       "      <th>outcome</th>\n",
       "    </tr>\n",
       "  </thead>\n",
       "  <tbody>\n",
       "    <tr>\n",
       "      <th>1</th>\n",
       "      <td>78.0</td>\n",
       "      <td>80</td>\n",
       "      <td>Yes</td>\n",
       "      <td>Mainstrm</td>\n",
       "      <td>No</td>\n",
       "      <td>Failed</td>\n",
       "    </tr>\n",
       "    <tr>\n",
       "      <th>2</th>\n",
       "      <td>66.0</td>\n",
       "      <td>75</td>\n",
       "      <td>Yes</td>\n",
       "      <td>Mainstrm</td>\n",
       "      <td>Yes</td>\n",
       "      <td>Passed</td>\n",
       "    </tr>\n",
       "    <tr>\n",
       "      <th>3</th>\n",
       "      <td>80.2</td>\n",
       "      <td>70</td>\n",
       "      <td>Yes</td>\n",
       "      <td>Mainstrm</td>\n",
       "      <td>Yes</td>\n",
       "      <td>Passed</td>\n",
       "    </tr>\n",
       "    <tr>\n",
       "      <th>4</th>\n",
       "      <td>81.7</td>\n",
       "      <td>67</td>\n",
       "      <td>Yes</td>\n",
       "      <td>Mainstrm</td>\n",
       "      <td>Yes</td>\n",
       "      <td>Passed</td>\n",
       "    </tr>\n",
       "  </tbody>\n",
       "</table>\n",
       "</div>"
      ],
      "text/plain": [
       "   hsgpa  hsengl hscalc    course passed outcome\n",
       "1   78.0      80    Yes  Mainstrm     No  Failed\n",
       "2   66.0      75    Yes  Mainstrm    Yes  Passed\n",
       "3   80.2      70    Yes  Mainstrm    Yes  Passed\n",
       "4   81.7      67    Yes  Mainstrm    Yes  Passed"
      ]
     },
     "execution_count": 140,
     "metadata": {},
     "output_type": "execute_result"
    }
   ],
   "source": [
    "math.head(n=4) ## 기본값은 5"
   ]
  },
  {
   "cell_type": "code",
   "execution_count": 141,
   "id": "194fe1d2-789a-479b-a585-b2fba41b88b8",
   "metadata": {},
   "outputs": [
    {
     "data": {
      "text/html": [
       "<div>\n",
       "<style scoped>\n",
       "    .dataframe tbody tr th:only-of-type {\n",
       "        vertical-align: middle;\n",
       "    }\n",
       "\n",
       "    .dataframe tbody tr th {\n",
       "        vertical-align: top;\n",
       "    }\n",
       "\n",
       "    .dataframe thead th {\n",
       "        text-align: right;\n",
       "    }\n",
       "</style>\n",
       "<table border=\"1\" class=\"dataframe\">\n",
       "  <thead>\n",
       "    <tr style=\"text-align: right;\">\n",
       "      <th></th>\n",
       "      <th>hsgpa</th>\n",
       "      <th>hsengl</th>\n",
       "      <th>hscalc</th>\n",
       "      <th>course</th>\n",
       "      <th>passed</th>\n",
       "      <th>outcome</th>\n",
       "    </tr>\n",
       "  </thead>\n",
       "  <tbody>\n",
       "    <tr>\n",
       "      <th>391</th>\n",
       "      <td>77.0</td>\n",
       "      <td>79</td>\n",
       "      <td>Yes</td>\n",
       "      <td>Mainstrm</td>\n",
       "      <td>Yes</td>\n",
       "      <td>Passed</td>\n",
       "    </tr>\n",
       "    <tr>\n",
       "      <th>392</th>\n",
       "      <td>80.7</td>\n",
       "      <td>70</td>\n",
       "      <td>Yes</td>\n",
       "      <td>Mainstrm</td>\n",
       "      <td>Yes</td>\n",
       "      <td>Passed</td>\n",
       "    </tr>\n",
       "    <tr>\n",
       "      <th>393</th>\n",
       "      <td>80.7</td>\n",
       "      <td>81</td>\n",
       "      <td>Yes</td>\n",
       "      <td>Mainstrm</td>\n",
       "      <td>Yes</td>\n",
       "      <td>Passed</td>\n",
       "    </tr>\n",
       "    <tr>\n",
       "      <th>394</th>\n",
       "      <td>82.2</td>\n",
       "      <td>86</td>\n",
       "      <td>Yes</td>\n",
       "      <td>Catch-up</td>\n",
       "      <td>Yes</td>\n",
       "      <td>Passed</td>\n",
       "    </tr>\n",
       "  </tbody>\n",
       "</table>\n",
       "</div>"
      ],
      "text/plain": [
       "     hsgpa  hsengl hscalc    course passed outcome\n",
       "391   77.0      79    Yes  Mainstrm    Yes  Passed\n",
       "392   80.7      70    Yes  Mainstrm    Yes  Passed\n",
       "393   80.7      81    Yes  Mainstrm    Yes  Passed\n",
       "394   82.2      86    Yes  Catch-up    Yes  Passed"
      ]
     },
     "execution_count": 141,
     "metadata": {},
     "output_type": "execute_result"
    }
   ],
   "source": [
    "math.tail(n=4)"
   ]
  },
  {
   "cell_type": "markdown",
   "id": "84af53d6-4cff-4234-89c5-1578f607be9d",
   "metadata": {},
   "source": [
    "Pandas를 이용하여 앞, 뒤의 일부분만 보여주는 방법도 있다. 보여줄 행의 수는 display.max_rows 옵션으로 정할 수 있다."
   ]
  },
  {
   "cell_type": "code",
   "execution_count": 142,
   "id": "94ab7136-5dce-4bb1-a443-2fe87fee8c86",
   "metadata": {},
   "outputs": [
    {
     "data": {
      "text/html": [
       "<div>\n",
       "<style scoped>\n",
       "    .dataframe tbody tr th:only-of-type {\n",
       "        vertical-align: middle;\n",
       "    }\n",
       "\n",
       "    .dataframe tbody tr th {\n",
       "        vertical-align: top;\n",
       "    }\n",
       "\n",
       "    .dataframe thead th {\n",
       "        text-align: right;\n",
       "    }\n",
       "</style>\n",
       "<table border=\"1\" class=\"dataframe\">\n",
       "  <thead>\n",
       "    <tr style=\"text-align: right;\">\n",
       "      <th></th>\n",
       "      <th>hsgpa</th>\n",
       "      <th>hsengl</th>\n",
       "      <th>hscalc</th>\n",
       "      <th>course</th>\n",
       "      <th>passed</th>\n",
       "      <th>outcome</th>\n",
       "    </tr>\n",
       "  </thead>\n",
       "  <tbody>\n",
       "    <tr>\n",
       "      <th>1</th>\n",
       "      <td>78.0</td>\n",
       "      <td>80</td>\n",
       "      <td>Yes</td>\n",
       "      <td>Mainstrm</td>\n",
       "      <td>No</td>\n",
       "      <td>Failed</td>\n",
       "    </tr>\n",
       "    <tr>\n",
       "      <th>2</th>\n",
       "      <td>66.0</td>\n",
       "      <td>75</td>\n",
       "      <td>Yes</td>\n",
       "      <td>Mainstrm</td>\n",
       "      <td>Yes</td>\n",
       "      <td>Passed</td>\n",
       "    </tr>\n",
       "    <tr>\n",
       "      <th>3</th>\n",
       "      <td>80.2</td>\n",
       "      <td>70</td>\n",
       "      <td>Yes</td>\n",
       "      <td>Mainstrm</td>\n",
       "      <td>Yes</td>\n",
       "      <td>Passed</td>\n",
       "    </tr>\n",
       "    <tr>\n",
       "      <th>...</th>\n",
       "      <td>...</td>\n",
       "      <td>...</td>\n",
       "      <td>...</td>\n",
       "      <td>...</td>\n",
       "      <td>...</td>\n",
       "      <td>...</td>\n",
       "    </tr>\n",
       "    <tr>\n",
       "      <th>392</th>\n",
       "      <td>80.7</td>\n",
       "      <td>70</td>\n",
       "      <td>Yes</td>\n",
       "      <td>Mainstrm</td>\n",
       "      <td>Yes</td>\n",
       "      <td>Passed</td>\n",
       "    </tr>\n",
       "    <tr>\n",
       "      <th>393</th>\n",
       "      <td>80.7</td>\n",
       "      <td>81</td>\n",
       "      <td>Yes</td>\n",
       "      <td>Mainstrm</td>\n",
       "      <td>Yes</td>\n",
       "      <td>Passed</td>\n",
       "    </tr>\n",
       "    <tr>\n",
       "      <th>394</th>\n",
       "      <td>82.2</td>\n",
       "      <td>86</td>\n",
       "      <td>Yes</td>\n",
       "      <td>Catch-up</td>\n",
       "      <td>Yes</td>\n",
       "      <td>Passed</td>\n",
       "    </tr>\n",
       "  </tbody>\n",
       "</table>\n",
       "<p>394 rows × 6 columns</p>\n",
       "</div>"
      ],
      "text/plain": [
       "     hsgpa  hsengl hscalc    course passed outcome\n",
       "1     78.0      80    Yes  Mainstrm     No  Failed\n",
       "2     66.0      75    Yes  Mainstrm    Yes  Passed\n",
       "3     80.2      70    Yes  Mainstrm    Yes  Passed\n",
       "..     ...     ...    ...       ...    ...     ...\n",
       "392   80.7      70    Yes  Mainstrm    Yes  Passed\n",
       "393   80.7      81    Yes  Mainstrm    Yes  Passed\n",
       "394   82.2      86    Yes  Catch-up    Yes  Passed\n",
       "\n",
       "[394 rows x 6 columns]"
      ]
     },
     "execution_count": 142,
     "metadata": {},
     "output_type": "execute_result"
    }
   ],
   "source": [
    "pd.set_option('display.max_rows', 6)\n",
    "math ## 앞 뒤로 모두 6개의 행만 보여준다. 1, 2, 3, 392, 393, 394 행만 보임"
   ]
  },
  {
   "cell_type": "code",
   "execution_count": 143,
   "id": "32135087-d402-4fb0-99b8-56a4f743bf3b",
   "metadata": {},
   "outputs": [],
   "source": [
    "pd.set_option('display.max_rows', None)\n",
    "# math ## 모든 컬럼을 다 보여줌, 너무 길어서 주석 처리함"
   ]
  },
  {
   "cell_type": "markdown",
   "id": "b6280758-36ca-4aa2-8df0-47ec320a27f1",
   "metadata": {},
   "source": [
    "## 5. Function"
   ]
  },
  {
   "cell_type": "markdown",
   "id": "298f1dcd-cf74-4419-ab7b-50fb926b78e2",
   "metadata": {},
   "source": [
    "함수는 하나의 관련 작업을 수행하는 데 사용되고 체계적이고 재사용 가능한 코드 블록이다. 함수는 응용 프로그램의 모듈성을 높이고 코드 재사용 수준을 높인다. 파이썬은 print() 등과 같은 많은 내장 built-in 함수를 제공하지만 사용자가 직접 함수를 만들 수도 있는데, 이를 사용자 정의 user-defined 함수라고 한다.\n",
    "\n",
    "모듈을 사용하면 논리적으로 파이썬 코드를 구성할 수 있다. 관련 코드를 모듈로 그룹화하면 코드를 더 쉽게 이해하고 사용할 수 있다. 모듈(.py)은 파이썬 코드로 구성된 파일이며 함수, 클래스 및 변수를 정의할 수 있다.\n",
    "\n",
    "함수<모듈<패키지\n",
    "\n",
    "클래스는 프로그램의 원형으로 변수 정의, 함수 등으로 구성되어 있고 함수는 원하는 반복 작업을 위한 입력, 실행, 외부 출력으로 이루어진 코드 묶음으로 생각할 수 있다.\n",
    "\n",
    "* 시작은 define의 약어인 def로 시작하고 함수명(입력값 지정, 생략 가능), 그리고 콜론(:)으로 끝난다.\n",
    "* 원하는 작업 실행이 가능한 코드를 적는다.\n",
    "* 출력되는 함수 결과값을 지정한다."
   ]
  },
  {
   "cell_type": "code",
   "execution_count": 144,
   "id": "1f928bad-cf5c-431d-8a97-e8b781d82d85",
   "metadata": {},
   "outputs": [
    {
     "data": {
      "text/plain": [
       "3"
      ]
     },
     "execution_count": 144,
     "metadata": {},
     "output_type": "execute_result"
    }
   ],
   "source": [
    "def mysum1(a, b):\n",
    "    res=a+b\n",
    "    return res\n",
    "\n",
    "mysum1(1, 2)"
   ]
  },
  {
   "cell_type": "code",
   "execution_count": 145,
   "id": "fe09ea87-a841-46e4-8d88-6bc85d1d41ce",
   "metadata": {},
   "outputs": [
    {
     "data": {
      "text/plain": [
       "55"
      ]
     },
     "execution_count": 145,
     "metadata": {},
     "output_type": "execute_result"
    }
   ],
   "source": [
    "# 알고리즘 써보기\n",
    "def mysum(n):\n",
    "    res=0 ## 함수 작성 시 함수 안에 지정해주어야 함\n",
    "    for i in range(1, n+1):\n",
    "        res=res+i\n",
    "    return res\n",
    "\n",
    "mysum(10)"
   ]
  },
  {
   "cell_type": "markdown",
   "id": "88e132c1-e822-49f5-9653-cdf4e890cf8f",
   "metadata": {},
   "source": [
    "여러 개의 입력 값을 받는 함수를 만드는 경우 매개변수 이름 앞에 *를 붙이면 입력 값을 전부 모아서 튜플로 만들어 준다."
   ]
  },
  {
   "cell_type": "code",
   "execution_count": 146,
   "id": "0fde7845-a5ed-400e-a616-321926d93d03",
   "metadata": {},
   "outputs": [
    {
     "data": {
      "text/plain": [
       "16"
      ]
     },
     "execution_count": 146,
     "metadata": {},
     "output_type": "execute_result"
    }
   ],
   "source": [
    "def mysum3(*args):\n",
    "    res=0\n",
    "    for i in args:\n",
    "        res=res+i\n",
    "    return res\n",
    "\n",
    "mysum3(1, 3, 5, 7)"
   ]
  },
  {
   "cell_type": "markdown",
   "id": "5ee31216-4fdc-4392-93cb-32880bb0c7b3",
   "metadata": {},
   "source": [
    "파이썬에서는 람다 함수를 통해 이름이 없는 함수를 만들 수 있다. 람다 함수를 통해 코드를 간결하게 쓸 수 있으며 메모리를 절약할 수 있다.\n",
    "* 람다 함수는 lambda라는 키워드를 통해 생성할 수 있다. 익명 함수라는 이름처럼 lambda 함수는 함수의 이름을 지정하지 않는다.\n",
    "* 함수에 이름이 없고, 저장된 변수가 없기 때문에 다시 사용할 수는 없다."
   ]
  },
  {
   "cell_type": "code",
   "execution_count": 147,
   "id": "5d85295a-9b16-4f04-a2a3-a58d8e0afe92",
   "metadata": {},
   "outputs": [
    {
     "name": "stdout",
     "output_type": "stream",
     "text": [
      "64\n"
     ]
    }
   ],
   "source": [
    "cube=lambda x:x**3\n",
    "print(cube(4))"
   ]
  },
  {
   "cell_type": "markdown",
   "id": "f022f07f-e66c-4e42-afc0-3d6bea740882",
   "metadata": {},
   "source": [
    "map() 함수와 lambda 함수를 동시에 이용할 수 있다."
   ]
  },
  {
   "cell_type": "code",
   "execution_count": 148,
   "id": "10ab5351-cfb7-42e7-b2f8-0fcc936eeacf",
   "metadata": {},
   "outputs": [
    {
     "data": {
      "text/plain": [
       "[3, 7, 11, 15]"
      ]
     },
     "execution_count": 148,
     "metadata": {},
     "output_type": "execute_result"
    }
   ],
   "source": [
    "in1=[1, 3, 5, 7]\n",
    "in2=[2, 4, 6, 8]\n",
    "list(map(lambda x, y:x+y, in1, in2))"
   ]
  },
  {
   "cell_type": "markdown",
   "id": "77e1ca92-cb5a-429e-a643-ff93a97d10da",
   "metadata": {},
   "source": [
    "## 6. Plotting data"
   ]
  },
  {
   "cell_type": "markdown",
   "id": "97e57d55-2742-45cc-9fe6-155ad51e24ab",
   "metadata": {},
   "source": [
    "데이터 분석에서 데이터의 시각화(visualization)는 필수적인 단계이다. 시각화를 통해 data에 대한 insight를 발견하거나 분석의 결과를 직관적으로 나타내는데 효과적이기 때문이다. Python에서 데이터의 시각화를 제공하는 대표적인 package는 matplotlib이다.\n",
    "\n",
    "우선, 가장 기본적인 scatter plot을 그려보자. Scatter plot은 입력된 x, y 값을 2차원 평면에 점으로 나타내는 그림이다. 그림을 그리기 위한 데이터 중 x 값은 1부터 10까지의 정수이며 y 값은 10부터 30까지 정수 중 10개를 임의로 추출한 뒤 오름차순으로 정렬하였다."
   ]
  },
  {
   "cell_type": "code",
   "execution_count": 149,
   "id": "2462d8d9-03a6-46f6-8821-6746f651479c",
   "metadata": {},
   "outputs": [
    {
     "data": {
      "image/png": "[encoded data removed]",
      "text/plain": [
       "<Figure size 640x480 with 1 Axes>"
      ]
     },
     "metadata": {},
     "output_type": "display_data"
    }
   ],
   "source": [
    "import numpy as np\n",
    "import matplotlib.pyplot as plt\n",
    "\n",
    "np.random.seed(123)\n",
    "\n",
    "x=np.array([1, 2, 3, 4, 5, 6, 7, 8, 9, 10])\n",
    "y=np.random.randint(10, 30, 10)\n",
    "\n",
    "plt.scatter(x, np.sort(y))\n",
    "plt.show()"
   ]
  },
  {
   "cell_type": "markdown",
   "id": "42c83b83-f2ee-4ff0-814f-6d373f3de175",
   "metadata": {},
   "source": [
    "선으로 연결된 interpolation function을 그리기 위해선 .plot() 함수를 사용한다.\n",
    "* interpolation function : 실변수 x의 함수 f(x)의 모양은 미지이나, 어떤 간격을 가지는 2개 이상인 변수의 값 xi (i=1,2,… ,n)에 대한 함수값 f(xi)가 알려져 있을 경우, 그 사이의 임의의 x에 대한 함수값을 추정하는 것을 말한다."
   ]
  },
  {
   "cell_type": "code",
   "execution_count": 150,
   "id": "d4b91769-fdac-4d14-aac6-adf3b4d07cab",
   "metadata": {},
   "outputs": [
    {
     "data": {
      "image/png": "[encoded data removed]",
      "text/plain": [
       "<Figure size 640x480 with 1 Axes>"
      ]
     },
     "metadata": {},
     "output_type": "display_data"
    }
   ],
   "source": [
    "plt.plot(x, np.sort(y))\n",
    "plt.show()"
   ]
  },
  {
   "cell_type": "markdown",
   "id": "b6c6b49a-b5f3-4163-95b4-286e11d9f072",
   "metadata": {},
   "source": [
    "마지막으로 두 함수를 겹쳐 그리기 위해선 scatter plot을 먼저 정의한 후 interpolation function을 정의한다."
   ]
  },
  {
   "cell_type": "code",
   "execution_count": 151,
   "id": "8c3d20a8-d1ad-46cf-a277-ca87753caf06",
   "metadata": {},
   "outputs": [
    {
     "data": {
      "image/png": "[encoded data removed]",
      "text/plain": [
       "<Figure size 640x480 with 1 Axes>"
      ]
     },
     "metadata": {},
     "output_type": "display_data"
    }
   ],
   "source": [
    "plt.scatter(x, np.sort(y))\n",
    "plt.plot(x, np.sort(y))\n",
    "plt.show()"
   ]
  },
  {
   "cell_type": "markdown",
   "id": "4bc58660-8e31-4b87-9827-db24f4a66831",
   "metadata": {},
   "source": [
    "plot을 그리는 경우 그림의 title, x와 y label, 범례, 선 종류와 색상 지정은 반드시 알아둬야 할 옵션들이다. 그림의 title은 plt.title()을 이용하여 설정한다. 다음으로, plt.xlabel(), plt.ylabel()을 이용하여, x, y축의 레이블을 설정할 수 있다. 선 종류는 solid, dashed, dotted, dashdot 총 4가지 종류가 있다. 이 중 solid(실선)는 default로 다른 종류로 변경하는 방법은 아래의 예제를 참고하면 된다. 마지막으로 범례를 설정하기 위해선 plt.plot()에 keyword로 'label='을 설정한 후 plt.legend() 함수를 추가하면 된다. 범례 위치를 변경하기 위해선 'loc=' keyword로 설정하면 된다."
   ]
  },
  {
   "cell_type": "code",
   "execution_count": 152,
   "id": "43ac060f-a60e-484b-a049-bb620d366eca",
   "metadata": {},
   "outputs": [
    {
     "data": {
      "image/png": "[encoded data removed]",
      "text/plain": [
       "<Figure size 640x480 with 1 Axes>"
      ]
     },
     "metadata": {},
     "output_type": "display_data"
    }
   ],
   "source": [
    "x=np.array([1, 2, 3, 4, 5])\n",
    "y=np.array([0.1, 0.2, 0.4, 0.6, 0.8])\n",
    "\n",
    "plt.plot(x, y, 'r--', label='A')\n",
    "plt.plot(x, y**2, 'bo', label='B')\n",
    "plt.plot(x, y**3, 'g-.', label='C')\n",
    "plt.title('Plot example')\n",
    "plt.xlabel('x')\n",
    "plt.ylabel('y')\n",
    "plt.legend()\n",
    "plt.show()"
   ]
  },
  {
   "cell_type": "markdown",
   "id": "a15f0f1a-0cc8-4f3d-96d3-5243db0ab8c6",
   "metadata": {},
   "source": [
    "plot()의 keyword인 'marker='을 이용하여 scatter plot과 interpolation plot을 겹쳐그릴 수도 있다."
   ]
  },
  {
   "cell_type": "code",
   "execution_count": 153,
   "id": "4e8569bd-b840-4764-8f01-86a120961b0d",
   "metadata": {},
   "outputs": [
    {
     "data": {
      "image/png": "[encoded data removed]",
      "text/plain": [
       "<Figure size 640x480 with 1 Axes>"
      ]
     },
     "metadata": {},
     "output_type": "display_data"
    }
   ],
   "source": [
    "x=np.array([1, 2, 3, 4, 5])\n",
    "y=np.array([2, 4, 6, 8, 10])\n",
    "\n",
    "plt.plot(x, y, color='black', marker='o', label='$y=2x$')\n",
    "plt.xlabel('x')\n",
    "plt.ylabel('y')\n",
    "plt.legend()\n",
    "plt.title('Basic function')\n",
    "plt.show()"
   ]
  },
  {
   "cell_type": "markdown",
   "id": "f89de86c-2eac-4d6b-81a1-1f4e9de4c2d3",
   "metadata": {},
   "source": [
    "matplotlib.pyplot 모듈의 subplot() 함수를 이용하여 여러 개의 그래프를 겹치지 않게 그릴 수 있다.\n",
    "\n",
    "plt.subplot(row, column, index->0부터 시작하는 게 아니라 몇 번째인지)"
   ]
  },
  {
   "cell_type": "code",
   "execution_count": 154,
   "id": "eb250f88-6ae9-47be-b384-f1f5ceb266a8",
   "metadata": {},
   "outputs": [
    {
     "data": {
      "image/png": "[encoded data removed]",
      "text/plain": [
       "<Figure size 640x480 with 2 Axes>"
      ]
     },
     "metadata": {},
     "output_type": "display_data"
    }
   ],
   "source": [
    "myx=np.array([1, 2, 3, 4])\n",
    "\n",
    "plt.subplot(2, 1, 1)\n",
    "plt.plot(myx, myx, 'o-')\n",
    "\n",
    "plt.subplot(2, 1, 2)\n",
    "plt.plot(myx, np.sqrt(-myx+5), 'go-')\n",
    "plt.show()"
   ]
  },
  {
   "cell_type": "markdown",
   "id": "f5e79a0e-7bc4-4e2d-8d7d-93c25e13db24",
   "metadata": {},
   "source": [
    "## 7. module(.py)"
   ]
  },
  {
   "cell_type": "markdown",
   "id": "9e5190d9-80c8-4cbb-8134-05804d3841de",
   "metadata": {},
   "source": [
    "### 1) module?"
   ]
  },
  {
   "cell_type": "markdown",
   "id": "6008a1a6-4ce9-4aae-8313-541f6ea5b8ab",
   "metadata": {},
   "source": [
    "프로그램이 길어짐에 따라 디버깅과 유지를 쉽게 하려고 여러 개의 파일로 나누어 코딩하거나 각 프로그램에서 씻던 편리한 함수를 각 프로그램에 정의를 복사하지 않고도 사용하고 싶을 때 사용한다.\n",
    "\n",
    "파이썬은 정의들을 파일에 넣고 스크립트나 인터프리터의 대화형 모드에서 사용할 수 있는 방법을 제공하는데 그런 파일을 모듈이라고 한다. 모듈은 파이썬 정의와 문장을 담고 있는 파일로 확장자 .py를 붙인다."
   ]
  },
  {
   "cell_type": "markdown",
   "id": "98c2f2e1-335d-42ce-ad28-9fe62945c3f1",
   "metadata": {},
   "source": [
    "### 2) creating module"
   ]
  },
  {
   "cell_type": "markdown",
   "id": "77e98236-2651-4a82-bd5a-1b4d9a6ef7ff",
   "metadata": {},
   "source": [
    "정규분포와 감마분포의 PDF를 그리는 모듈을 작성해 보자. 새로운 주피터 노트북을 열고 코드를 입력한다.\n",
    "\n",
    "1. 주피터 노트북에서 File=>Save Notebook as 메뉴를 선택하여 폴더 지정 없이 바로 파일 이름을 적는다.\n",
    "2. 탭 이름이 'untitled'에서 저장된 이름 'pdfplt'으로 바뀌고 Home 폴더에는 pdfplt.ipynb 파일이 저장된다. (확장자 *.ipynb는 자동으로 부여된다.)\n",
    "3. 주피터 노트북 실행 후 in 라인에 아래의 코드를 입력하면 Home 폴더에 pdfplt.py 모듈이 만들어진다."
   ]
  },
  {
   "cell_type": "code",
   "execution_count": 155,
   "id": "af02bcf5-07cf-4ea6-b2ce-bdf7d4a13bb7",
   "metadata": {},
   "outputs": [
    {
     "data": {
      "text/plain": [
       "\"\\ndef gamplt(a, b):\\n    import numpy as np\\n    import matplotlib.pyplot as plt\\n    from scipy.stats import gamma\\n    \\n    x=np.arange(0, a*b+6*a*b*b, 0.1) ## 감마 분포 식 찾아보기\\n    plt.plot(x, gamma.pdf(x, a, b), 'b')\\n    plt.title('Gamma(Alpha=' + str(a) + ', Beta=' + str(b) + ')PDF')\\n    plt.show()\\n    \\ndef normplt(m, s):\\n    import numpy as np\\n    import matplotlib.pyplot as plt\\n    from scipy.stats import norm\\n    \\n    x=np.arange(m-3*s, m+3*s, 0.1)\\n    plt.plot(x, norm.pdf(x, m, s), 'b')\\n    plt.title('Normal(Mean=' + str(m) + ', STD=' + str(s)+')PDF')\\n    plt.show()\\n\""
      ]
     },
     "execution_count": 155,
     "metadata": {},
     "output_type": "execute_result"
    }
   ],
   "source": [
    "'''\n",
    "def gamplt(a, b):\n",
    "    import numpy as np\n",
    "    import matplotlib.pyplot as plt\n",
    "    from scipy.stats import gamma\n",
    "    \n",
    "    x=np.arange(0, a*b+6*a*b*b, 0.1) ## 감마 분포 식 찾아보기\n",
    "    plt.plot(x, gamma.pdf(x, a, b), 'b')\n",
    "    plt.title('Gamma(Alpha=' + str(a) + ', Beta=' + str(b) + ')PDF')\n",
    "    plt.show()\n",
    "    \n",
    "def normplt(m, s):\n",
    "    import numpy as np\n",
    "    import matplotlib.pyplot as plt\n",
    "    from scipy.stats import norm\n",
    "    \n",
    "    x=np.arange(m-3*s, m+3*s, 0.1)\n",
    "    plt.plot(x, norm.pdf(x, m, s), 'b')\n",
    "    plt.title('Normal(Mean=' + str(m) + ', STD=' + str(s)+')PDF')\n",
    "    plt.show()\n",
    "'''"
   ]
  },
  {
   "cell_type": "code",
   "execution_count": 156,
   "id": "7f3f010d-4661-4d68-b803-fa0a00c7d833",
   "metadata": {},
   "outputs": [
    {
     "name": "stderr",
     "output_type": "stream",
     "text": [
      "[NbConvertApp] Converting notebook pdfplt.ipynb to python\n",
      "[NbConvertApp] Writing 622 bytes to pdfplt.py\n"
     ]
    }
   ],
   "source": [
    "!jupyter nbconvert --to python pdfplt.ipynb"
   ]
  },
  {
   "cell_type": "markdown",
   "id": "af24cf50-19bb-4664-b7fe-298f7a27f0ad",
   "metadata": {},
   "source": [
    "### 3) using module"
   ]
  },
  {
   "cell_type": "markdown",
   "id": "7e702084-96fe-4c9c-803e-205e5722193d",
   "metadata": {},
   "source": [
    "pdfplt.py를 이용하여 정규분포와 감마분포를 그려본다."
   ]
  },
  {
   "cell_type": "code",
   "execution_count": 157,
   "id": "fb793d14-8eeb-4f95-9603-478ee974b079",
   "metadata": {},
   "outputs": [
    {
     "data": {
      "image/png": "[encoded data removed]",
      "text/plain": [
       "<Figure size 640x480 with 1 Axes>"
      ]
     },
     "metadata": {},
     "output_type": "display_data"
    },
    {
     "data": {
      "image/png": "[encoded data removed]",
      "text/plain": [
       "<Figure size 640x480 with 1 Axes>"
      ]
     },
     "metadata": {},
     "output_type": "display_data"
    }
   ],
   "source": [
    "from pdfplt import gamplt, normplt\n",
    "import matplotlib.pyplot as plt\n",
    "\n",
    "plt.subplot(2, 1, 1)\n",
    "gamplt(2, 1)\n",
    "plt.subplot(2, 1, 2)\n",
    "normplt(0, 1)"
   ]
  },
  {
   "cell_type": "code",
   "execution_count": 158,
   "id": "c47fe06d-bfb2-418c-9d15-aeade3bf3d60",
   "metadata": {},
   "outputs": [
    {
     "name": "stderr",
     "output_type": "stream",
     "text": [
      "[NbConvertApp] Converting notebook chapter1.ipynb to html\n",
      "[NbConvertApp] Writing 1078963 bytes to chapter1.html\n"
     ]
    }
   ],
   "source": [
    "!jupyter nbconvert --to html \"chapter1.ipynb\""
   ]
  }
 ],
 "metadata": {
  "kernelspec": {
   "display_name": "Python 3 (ipykernel)",
   "language": "python",
   "name": "python3"
  },
  "language_info": {
   "codemirror_mode": {
    "name": "ipython",
    "version": 3
   },
   "file_extension": ".py",
   "mimetype": "text/x-python",
   "name": "python",
   "nbconvert_exporter": "python",
   "pygments_lexer": "ipython3",
   "version": "3.10.9"
  }
 },
 "nbformat": 4,
 "nbformat_minor": 5
}
